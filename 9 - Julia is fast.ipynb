{
 "cells": [
  {
   "cell_type": "markdown",
   "metadata": {},
   "source": [
    "# Julia is fast\n",
    "\n",
    "Very often, benchmarks are used to compare languages.  These benchmarks can lead to long discussions, first as to exactly what is being benchmarked and secondly what explains the differences.  These simple questions can sometimes get more complicated than you at first might imagine.\n",
    "\n",
    "The purpose of this notebook is for you to see a simple benchmark for yourself.  One can read the notebook and see what happened on the author's Macbook Pro with a 4-core Intel Core I7, or run the notebook yourself.\n",
    "\n",
    "(This material began life as a wonderful lecture by Steven Johnson at MIT: https://github.com/stevengj/18S096/blob/master/lectures/lecture1/Boxes-and-registers.ipynb.)"
   ]
  },
  {
   "cell_type": "markdown",
   "metadata": {},
   "source": [
    "# Outline of this notebook\n",
    "\n",
    "- Define the sum function\n",
    "- Implementations & benchmarking of sum in...\n",
    "    - C (hand-written)\n",
    "    - C (hand-written with -ffast-math)\n",
    "    - python (built-in)\n",
    "    - python (numpy)\n",
    "    - python (hand-written)\n",
    "    - Julia (built-in)\n",
    "    - Julia (hand-written)\n",
    "    - Julia (hand-written with SIMD)\n",
    "- Summary of benchmarks"
   ]
  },
  {
   "cell_type": "markdown",
   "metadata": {},
   "source": [
    "# `sum`: An easy enough function to understand"
   ]
  },
  {
   "cell_type": "markdown",
   "metadata": {},
   "source": [
    "Consider the  **sum** function `sum(a)`, which computes\n",
    "$$\n",
    "\\mathrm{sum}(a) = \\sum_{i=1}^n a_i,\n",
    "$$\n",
    "where $n$ is the length of `a`."
   ]
  },
  {
   "cell_type": "code",
   "execution_count": 1,
   "metadata": {},
   "outputs": [
    {
     "data": {
      "text/plain": [
       "10000000-element Vector{Float64}:\n",
       " 0.0576827195017523\n",
       " 0.15621747963523958\n",
       " 0.7972379071395588\n",
       " 0.5041717748804457\n",
       " 0.9788369873307704\n",
       " 0.32857760946046255\n",
       " 0.19080995975564863\n",
       " 0.6245537670607352\n",
       " 0.41956722828674753\n",
       " 0.36221451519254166\n",
       " ⋮\n",
       " 0.6059005044736661\n",
       " 0.47348561083883467\n",
       " 0.5580729156974058\n",
       " 0.8083787784688289\n",
       " 0.4108986595838584\n",
       " 0.031265099708610244\n",
       " 0.999053567968582\n",
       " 0.7012376427036304\n",
       " 0.39110190974041836"
      ]
     },
     "metadata": {},
     "output_type": "display_data"
    }
   ],
   "source": [
    "a = rand(10^7) # 1D vector of random numbers, uniform on [0,1)"
   ]
  },
  {
   "cell_type": "code",
   "execution_count": 2,
   "metadata": {},
   "outputs": [
    {
     "data": {
      "text/plain": [
       "5.001585375763136e6"
      ]
     },
     "metadata": {},
     "output_type": "display_data"
    }
   ],
   "source": [
    "sum(a)"
   ]
  },
  {
   "cell_type": "markdown",
   "metadata": {},
   "source": [
    "The expected result is 0.5 * 10^7, since the mean of each entry is 0.5"
   ]
  },
  {
   "cell_type": "markdown",
   "metadata": {},
   "source": [
    "# Benchmarking a few ways in a few languages"
   ]
  },
  {
   "cell_type": "code",
   "execution_count": 3,
   "metadata": {},
   "outputs": [
    {
     "name": "stdout",
     "output_type": "stream",
     "text": [
      "  0.001432 seconds (1 allocation: 16 bytes)\n"
     ]
    },
    {
     "data": {
      "text/plain": [
       "5.001585375763136e6"
      ]
     },
     "metadata": {},
     "output_type": "display_data"
    }
   ],
   "source": [
    "@time sum(a)"
   ]
  },
  {
   "cell_type": "code",
   "execution_count": 4,
   "metadata": {},
   "outputs": [
    {
     "name": "stdout",
     "output_type": "stream",
     "text": [
      "  0.001709 seconds (1 allocation: 16 bytes)\n"
     ]
    },
    {
     "data": {
      "text/plain": [
       "5.001585375763136e6"
      ]
     },
     "metadata": {},
     "output_type": "display_data"
    }
   ],
   "source": [
    "@time sum(a)"
   ]
  },
  {
   "cell_type": "code",
   "execution_count": 5,
   "metadata": {},
   "outputs": [
    {
     "name": "stdout",
     "output_type": "stream",
     "text": [
      "  0.001386 seconds (1 allocation: 16 bytes)\n"
     ]
    },
    {
     "data": {
      "text/plain": [
       "5.001585375763136e6"
      ]
     },
     "metadata": {},
     "output_type": "display_data"
    }
   ],
   "source": [
    "@time sum(a)"
   ]
  },
  {
   "cell_type": "markdown",
   "metadata": {},
   "source": [
    "The `@time` macro can yield noisy results, so it's not our best choice for benchmarking!\n",
    "\n",
    "Luckily, Julia has a `BenchmarkTools.jl` package to make benchmarking easy and accurate:"
   ]
  },
  {
   "cell_type": "code",
   "execution_count": 6,
   "metadata": {},
   "outputs": [
    {
     "name": "stderr",
     "output_type": "stream",
     "text": [
      "\u001b[32m\u001b[1m   Resolving\u001b[22m\u001b[39m package versions...\n",
      "\u001b[32m\u001b[1m    Updating\u001b[22m\u001b[39m `~/.julia/environments/v1.11/Project.toml`\n",
      "  \u001b[90m[6e4b80f9] \u001b[39m\u001b[92m+ BenchmarkTools v1.6.0\u001b[39m\n",
      "\u001b[32m\u001b[1m    Updating\u001b[22m\u001b[39m `~/.julia/environments/v1.11/Manifest.toml`\n",
      "  \u001b[90m[6e4b80f9] \u001b[39m\u001b[92m+ BenchmarkTools v1.6.0\u001b[39m\n",
      "  \u001b[90m[9abbd945] \u001b[39m\u001b[92m+ Profile v1.11.0\u001b[39m\n",
      "\u001b[92m\u001b[1mPrecompiling\u001b[22m\u001b[39m project...\n",
      "    731.0 ms\u001b[32m  ✓ \u001b[39mBenchmarkTools\n",
      "  1 dependency successfully precompiled in 2 seconds. 220 already precompiled.\n"
     ]
    }
   ],
   "source": [
    "using Pkg\n",
    "Pkg.add(\"BenchmarkTools\")"
   ]
  },
  {
   "cell_type": "code",
   "execution_count": 7,
   "metadata": {},
   "outputs": [],
   "source": [
    "using BenchmarkTools  "
   ]
  },
  {
   "cell_type": "markdown",
   "metadata": {},
   "source": [
    "#  1. The C language\n",
    "\n",
    "C is often considered the gold standard: difficult on the human, nice for the machine. Getting within a factor of 2 of C is often satisfying. Nonetheless, even within C, there are many kinds of optimizations possible that a naive C writer may or may not get the advantage of.\n",
    "\n",
    "The current author does not speak C, so he does not read the cell below, but is happy to know that you can put C code in a Julia session, compile it, and run it. Note that the `\"\"\"` wrap a multi-line string."
   ]
  },
  {
   "cell_type": "code",
   "execution_count": 15,
   "metadata": {},
   "outputs": [
    {
     "name": "stderr",
     "output_type": "stream",
     "text": [
      "WARNING: redefinition of constant Main.Clib. This may fail, cause incorrect answers, or produce other errors.\n"
     ]
    },
    {
     "data": {
      "text/plain": [
       "c_sum (generic function with 1 method)"
      ]
     },
     "metadata": {},
     "output_type": "display_data"
    }
   ],
   "source": [
    "using Libdl\n",
    "C_code = \"\"\"\n",
    "#include <stddef.h>\n",
    "double c_sum(size_t n, double *X) {\n",
    "    double s = 0.0;\n",
    "    for (size_t i = 0; i < n; ++i) {\n",
    "        s += X[i];\n",
    "    }\n",
    "    return s;\n",
    "}\n",
    "\"\"\"\n",
    "\n",
    "const Clib = tempname()   # make a temporary file\n",
    "\n",
    "\n",
    "# compile to a shared library by piping C_code to gcc\n",
    "# (works only if you have gcc installed):\n",
    "\n",
    "# deleted -msse3\n",
    "open(`gcc -fPIC -O3 -xc -shared -o $(Clib * \".\" * Libdl.dlext) -`, \"w\") do f\n",
    "    print(f, C_code) \n",
    "end\n",
    "\n",
    "# define a Julia function that calls the C function:\n",
    "c_sum(X::Array{Float64}) = ccall((\"c_sum\", Clib), Float64, (Csize_t, Ptr{Float64}), length(X), X)"
   ]
  },
  {
   "cell_type": "code",
   "execution_count": 16,
   "metadata": {},
   "outputs": [
    {
     "data": {
      "text/plain": [
       "5.001585375763377e6"
      ]
     },
     "metadata": {},
     "output_type": "display_data"
    }
   ],
   "source": [
    "c_sum(a)"
   ]
  },
  {
   "cell_type": "code",
   "execution_count": 17,
   "metadata": {},
   "outputs": [
    {
     "data": {
      "text/plain": [
       "true"
      ]
     },
     "metadata": {},
     "output_type": "display_data"
    }
   ],
   "source": [
    "c_sum(a) ≈ sum(a) # type \\approx and then <TAB> to get the ≈ symbolb"
   ]
  },
  {
   "cell_type": "code",
   "execution_count": 18,
   "metadata": {},
   "outputs": [
    {
     "data": {
      "text/plain": [
       "2.4121254682540894e-7"
      ]
     },
     "metadata": {},
     "output_type": "display_data"
    }
   ],
   "source": [
    "c_sum(a) - sum(a)  "
   ]
  },
  {
   "cell_type": "code",
   "execution_count": 19,
   "metadata": {
    "scrolled": true
   },
   "outputs": [
    {
     "data": {
      "text/plain": [
       "isapprox (generic function with 13 methods)"
      ]
     },
     "metadata": {},
     "output_type": "display_data"
    }
   ],
   "source": [
    "≈  # alias for the `isapprox` function"
   ]
  },
  {
   "cell_type": "code",
   "execution_count": 20,
   "metadata": {
    "scrolled": true
   },
   "outputs": [
    {
     "ename": "Base.Meta.ParseError",
     "evalue": "ParseError:\n# Error @ /Users/junchichen/Courses/Julia/Introduction-to-Julia/jl_notebook_cell_df34fa98e69747e1a8f8a730347b8e2f_X26sZmlsZQ==.jl:1:1\n?isapprox\n╙ ── not a unary operator",
     "output_type": "error",
     "traceback": [
      "ParseError:\n",
      "# Error @ /Users/junchichen/Courses/Julia/Introduction-to-Julia/jl_notebook_cell_df34fa98e69747e1a8f8a730347b8e2f_X26sZmlsZQ==.jl:1:1\n",
      "?isapprox\n",
      "╙ ── not a unary operator\n",
      "\n",
      "Stacktrace:\n",
      " [1] top-level scope\n",
      "   @ ~/Courses/Julia/Introduction-to-Julia/jl_notebook_cell_df34fa98e69747e1a8f8a730347b8e2f_X26sZmlsZQ==.jl:1"
     ]
    }
   ],
   "source": [
    "?isapprox"
   ]
  },
  {
   "cell_type": "markdown",
   "metadata": {},
   "source": [
    "We can now benchmark the C code directly from Julia:"
   ]
  },
  {
   "cell_type": "code",
   "execution_count": 21,
   "metadata": {},
   "outputs": [
    {
     "data": {
      "text/plain": [
       "BenchmarkTools.Trial: 567 samples with 1 evaluation per sample.\n",
       " Range \u001b[90m(\u001b[39m\u001b[36m\u001b[1mmin\u001b[22m\u001b[39m … \u001b[35mmax\u001b[39m\u001b[90m):  \u001b[39m\u001b[36m\u001b[1m8.569 ms\u001b[22m\u001b[39m … \u001b[35m 29.136 ms\u001b[39m  \u001b[90m┊\u001b[39m GC \u001b[90m(\u001b[39mmin … max\u001b[90m): \u001b[39m0.00% … 0.00%\n",
       " Time  \u001b[90m(\u001b[39m\u001b[34m\u001b[1mmedian\u001b[22m\u001b[39m\u001b[90m):     \u001b[39m\u001b[34m\u001b[1m8.692 ms               \u001b[22m\u001b[39m\u001b[90m┊\u001b[39m GC \u001b[90m(\u001b[39mmedian\u001b[90m):    \u001b[39m0.00%\n",
       " Time  \u001b[90m(\u001b[39m\u001b[32m\u001b[1mmean\u001b[22m\u001b[39m ± \u001b[32mσ\u001b[39m\u001b[90m):   \u001b[39m\u001b[32m\u001b[1m8.797 ms\u001b[22m\u001b[39m ± \u001b[32m957.874 μs\u001b[39m  \u001b[90m┊\u001b[39m GC \u001b[90m(\u001b[39mmean ± σ\u001b[90m):  \u001b[39m0.00% ± 0.00%\n",
       "\n",
       "  \u001b[39m \u001b[39m \u001b[39m▂\u001b[39m▂\u001b[39m▇\u001b[39m▅\u001b[39m█\u001b[34m▅\u001b[39m\u001b[39m▂\u001b[39m▁\u001b[39m \u001b[39m \u001b[32m \u001b[39m\u001b[39m \u001b[39m \u001b[39m \u001b[39m \u001b[39m \u001b[39m \u001b[39m \u001b[39m \u001b[39m \u001b[39m \u001b[39m \u001b[39m \u001b[39m \u001b[39m \u001b[39m \u001b[39m \u001b[39m \u001b[39m \u001b[39m \u001b[39m \u001b[39m \u001b[39m \u001b[39m \u001b[39m \u001b[39m \u001b[39m \u001b[39m \u001b[39m \u001b[39m \u001b[39m \u001b[39m \u001b[39m \u001b[39m \u001b[39m \u001b[39m \u001b[39m \u001b[39m \u001b[39m \u001b[39m \u001b[39m \u001b[39m \u001b[39m \u001b[39m \u001b[39m \u001b[39m \u001b[39m \u001b[39m \u001b[39m \n",
       "  \u001b[39m▄\u001b[39m▆\u001b[39m█\u001b[39m█\u001b[39m█\u001b[39m█\u001b[39m█\u001b[34m█\u001b[39m\u001b[39m█\u001b[39m█\u001b[39m▆\u001b[39m▄\u001b[32m▃\u001b[39m\u001b[39m▄\u001b[39m▄\u001b[39m▅\u001b[39m▄\u001b[39m▄\u001b[39m▅\u001b[39m▃\u001b[39m▃\u001b[39m▂\u001b[39m▁\u001b[39m▂\u001b[39m▃\u001b[39m▃\u001b[39m▁\u001b[39m▂\u001b[39m▂\u001b[39m▂\u001b[39m▂\u001b[39m▁\u001b[39m▂\u001b[39m▂\u001b[39m▁\u001b[39m▁\u001b[39m▂\u001b[39m▂\u001b[39m▁\u001b[39m▁\u001b[39m▁\u001b[39m▁\u001b[39m▁\u001b[39m▁\u001b[39m▁\u001b[39m▁\u001b[39m▁\u001b[39m▁\u001b[39m▁\u001b[39m▁\u001b[39m▁\u001b[39m▂\u001b[39m▁\u001b[39m▁\u001b[39m▁\u001b[39m▁\u001b[39m▂\u001b[39m▂\u001b[39m▂\u001b[39m \u001b[39m▃\n",
       "  8.57 ms\u001b[90m         Histogram: frequency by time\u001b[39m        9.67 ms \u001b[0m\u001b[1m<\u001b[22m\n",
       "\n",
       " Memory estimate\u001b[90m: \u001b[39m\u001b[33m0 bytes\u001b[39m, allocs estimate\u001b[90m: \u001b[39m\u001b[33m0\u001b[39m."
      ]
     },
     "metadata": {},
     "output_type": "display_data"
    }
   ],
   "source": [
    "c_bench = @benchmark c_sum($a)"
   ]
  },
  {
   "cell_type": "code",
   "execution_count": 22,
   "metadata": {},
   "outputs": [
    {
     "name": "stdout",
     "output_type": "stream",
     "text": [
      "C: Fastest time was 8.568583 msec\n"
     ]
    }
   ],
   "source": [
    "println(\"C: Fastest time was $(minimum(c_bench.times) / 1e6) msec\")"
   ]
  },
  {
   "cell_type": "code",
   "execution_count": 23,
   "metadata": {
    "scrolled": true
   },
   "outputs": [
    {
     "data": {
      "text/plain": [
       "Dict{Any, Any} with 1 entry:\n",
       "  \"C\" => 8.56858"
      ]
     },
     "metadata": {},
     "output_type": "display_data"
    }
   ],
   "source": [
    "d = Dict()  # a \"dictionary\", i.e. an associative array\n",
    "d[\"C\"] = minimum(c_bench.times) / 1e6  # in milliseconds\n",
    "d"
   ]
  },
  {
   "cell_type": "code",
   "execution_count": 24,
   "metadata": {
    "scrolled": true
   },
   "outputs": [
    {
     "data": {
      "text/plain": [
       "Plots.GRBackend()"
      ]
     },
     "metadata": {},
     "output_type": "display_data"
    }
   ],
   "source": [
    "using Plots\n",
    "gr()"
   ]
  },
  {
   "cell_type": "code",
   "execution_count": 25,
   "metadata": {},
   "outputs": [
    {
     "data": {
      "image/png": "[encoded data removed]",
      "image/svg+xml": [
       "<?xml version=\"1.0\" encoding=\"utf-8\"?>\n",
       "<svg xmlns=\"http://www.w3.org/2000/svg\" xmlns:xlink=\"http://www.w3.org/1999/xlink\" width=\"600\" height=\"400\" viewBox=\"0 0 2400 1600\">\n",
       "<defs>\n",
       "  <clipPath id=\"clip080\">\n",
       "    <rect x=\"0\" y=\"0\" width=\"2400\" height=\"1600\"/>\n",
       "  </clipPath>\n",
       "</defs>\n",
       "<path clip-path=\"url(#clip080)\" d=\"M0 1600 L2400 1600 L2400 8.88178e-14 L0 8.88178e-14  Z\" fill=\"#ffffff\" fill-rule=\"evenodd\" fill-opacity=\"1\"/>\n",
       "<defs>\n",
       "  <clipPath id=\"clip081\">\n",
       "    <rect x=\"480\" y=\"0\" width=\"1681\" height=\"1600\"/>\n",
       "  </clipPath>\n",
       "</defs>\n",
       "<path clip-path=\"url(#clip080)\" d=\"M232.389 1423.18 L2352.76 1423.18 L2352.76 47.2441 L232.389 47.2441  Z\" fill=\"#ffffff\" fill-rule=\"evenodd\" fill-opacity=\"1\"/>\n",
       "<defs>\n",
       "  <clipPath id=\"clip082\">\n",
       "    <rect x=\"232\" y=\"47\" width=\"2121\" height=\"1377\"/>\n",
       "  </clipPath>\n",
       "</defs>\n",
       "<polyline clip-path=\"url(#clip082)\" style=\"stroke:#000000; stroke-linecap:round; stroke-linejoin:round; stroke-width:2; stroke-opacity:0.1; fill:none\" points=\"323.123,1423.18 323.123,47.2441 \"/>\n",
       "<polyline clip-path=\"url(#clip082)\" style=\"stroke:#000000; stroke-linecap:round; stroke-linejoin:round; stroke-width:2; stroke-opacity:0.1; fill:none\" points=\"761.273,1423.18 761.273,47.2441 \"/>\n",
       "<polyline clip-path=\"url(#clip082)\" style=\"stroke:#000000; stroke-linecap:round; stroke-linejoin:round; stroke-width:2; stroke-opacity:0.1; fill:none\" points=\"1199.42,1423.18 1199.42,47.2441 \"/>\n",
       "<polyline clip-path=\"url(#clip082)\" style=\"stroke:#000000; stroke-linecap:round; stroke-linejoin:round; stroke-width:2; stroke-opacity:0.1; fill:none\" points=\"1637.57,1423.18 1637.57,47.2441 \"/>\n",
       "<polyline clip-path=\"url(#clip082)\" style=\"stroke:#000000; stroke-linecap:round; stroke-linejoin:round; stroke-width:2; stroke-opacity:0.1; fill:none\" points=\"2075.72,1423.18 2075.72,47.2441 \"/>\n",
       "<polyline clip-path=\"url(#clip082)\" style=\"stroke:#000000; stroke-linecap:round; stroke-linejoin:round; stroke-width:2; stroke-opacity:0.1; fill:none\" points=\"232.389,1423.18 2352.76,1423.18 \"/>\n",
       "<polyline clip-path=\"url(#clip082)\" style=\"stroke:#000000; stroke-linecap:round; stroke-linejoin:round; stroke-width:2; stroke-opacity:0.1; fill:none\" points=\"232.389,1023.2 2352.76,1023.2 \"/>\n",
       "<polyline clip-path=\"url(#clip082)\" style=\"stroke:#000000; stroke-linecap:round; stroke-linejoin:round; stroke-width:2; stroke-opacity:0.1; fill:none\" points=\"232.389,623.217 2352.76,623.217 \"/>\n",
       "<polyline clip-path=\"url(#clip082)\" style=\"stroke:#000000; stroke-linecap:round; stroke-linejoin:round; stroke-width:2; stroke-opacity:0.1; fill:none\" points=\"232.389,223.236 2352.76,223.236 \"/>\n",
       "<polyline clip-path=\"url(#clip080)\" style=\"stroke:#000000; stroke-linecap:round; stroke-linejoin:round; stroke-width:4; stroke-opacity:1; fill:none\" points=\"232.389,1423.18 2352.76,1423.18 \"/>\n",
       "<polyline clip-path=\"url(#clip080)\" style=\"stroke:#000000; stroke-linecap:round; stroke-linejoin:round; stroke-width:4; stroke-opacity:1; fill:none\" points=\"323.123,1423.18 323.123,1404.28 \"/>\n",
       "<polyline clip-path=\"url(#clip080)\" style=\"stroke:#000000; stroke-linecap:round; stroke-linejoin:round; stroke-width:4; stroke-opacity:1; fill:none\" points=\"761.273,1423.18 761.273,1404.28 \"/>\n",
       "<polyline clip-path=\"url(#clip080)\" style=\"stroke:#000000; stroke-linecap:round; stroke-linejoin:round; stroke-width:4; stroke-opacity:1; fill:none\" points=\"1199.42,1423.18 1199.42,1404.28 \"/>\n",
       "<polyline clip-path=\"url(#clip080)\" style=\"stroke:#000000; stroke-linecap:round; stroke-linejoin:round; stroke-width:4; stroke-opacity:1; fill:none\" points=\"1637.57,1423.18 1637.57,1404.28 \"/>\n",
       "<polyline clip-path=\"url(#clip080)\" style=\"stroke:#000000; stroke-linecap:round; stroke-linejoin:round; stroke-width:4; stroke-opacity:1; fill:none\" points=\"2075.72,1423.18 2075.72,1404.28 \"/>\n",
       "<path clip-path=\"url(#clip080)\" d=\"M300.381 1469.17 Q297.047 1469.17 295.126 1470.95 Q293.228 1472.73 293.228 1475.86 Q293.228 1478.98 295.126 1480.77 Q297.047 1482.55 300.381 1482.55 Q303.714 1482.55 305.635 1480.77 Q307.556 1478.96 307.556 1475.86 Q307.556 1472.73 305.635 1470.95 Q303.737 1469.17 300.381 1469.17 M295.705 1467.18 Q292.695 1466.44 291.006 1464.38 Q289.339 1462.32 289.339 1459.35 Q289.339 1455.21 292.279 1452.8 Q295.242 1450.39 300.381 1450.39 Q305.543 1450.39 308.482 1452.8 Q311.422 1455.21 311.422 1459.35 Q311.422 1462.32 309.732 1464.38 Q308.066 1466.44 305.08 1467.18 Q308.459 1467.96 310.334 1470.26 Q312.232 1472.55 312.232 1475.86 Q312.232 1480.88 309.154 1483.57 Q306.098 1486.25 300.381 1486.25 Q294.663 1486.25 291.584 1483.57 Q288.529 1480.88 288.529 1475.86 Q288.529 1472.55 290.427 1470.26 Q292.325 1467.96 295.705 1467.18 M293.992 1459.79 Q293.992 1462.48 295.658 1463.98 Q297.348 1465.49 300.381 1465.49 Q303.39 1465.49 305.08 1463.98 Q306.793 1462.48 306.793 1459.79 Q306.793 1457.11 305.08 1455.6 Q303.39 1454.1 300.381 1454.1 Q297.348 1454.1 295.658 1455.6 Q293.992 1457.11 293.992 1459.79 Z\" fill=\"#000000\" fill-rule=\"nonzero\" fill-opacity=\"1\" /><path clip-path=\"url(#clip080)\" d=\"M320.542 1479.7 L325.427 1479.7 L325.427 1485.58 L320.542 1485.58 L320.542 1479.7 Z\" fill=\"#000000\" fill-rule=\"nonzero\" fill-opacity=\"1\" /><path clip-path=\"url(#clip080)\" d=\"M346.19 1466.44 Q343.042 1466.44 341.191 1468.59 Q339.362 1470.74 339.362 1474.49 Q339.362 1478.22 341.191 1480.39 Q343.042 1482.55 346.19 1482.55 Q349.339 1482.55 351.167 1480.39 Q353.019 1478.22 353.019 1474.49 Q353.019 1470.74 351.167 1468.59 Q349.339 1466.44 346.19 1466.44 M355.473 1451.78 L355.473 1456.04 Q353.714 1455.21 351.908 1454.77 Q350.126 1454.33 348.366 1454.33 Q343.737 1454.33 341.283 1457.45 Q338.853 1460.58 338.505 1466.9 Q339.871 1464.89 341.931 1463.82 Q343.991 1462.73 346.468 1462.73 Q351.677 1462.73 354.686 1465.9 Q357.718 1469.05 357.718 1474.49 Q357.718 1479.82 354.57 1483.03 Q351.422 1486.25 346.19 1486.25 Q340.195 1486.25 337.024 1481.67 Q333.853 1477.06 333.853 1468.33 Q333.853 1460.14 337.741 1455.28 Q341.63 1450.39 348.181 1450.39 Q349.94 1450.39 351.723 1450.74 Q353.528 1451.09 355.473 1451.78 Z\" fill=\"#000000\" fill-rule=\"nonzero\" fill-opacity=\"1\" /><path clip-path=\"url(#clip080)\" d=\"M738.657 1469.17 Q735.324 1469.17 733.403 1470.95 Q731.504 1472.73 731.504 1475.86 Q731.504 1478.98 733.403 1480.77 Q735.324 1482.55 738.657 1482.55 Q741.99 1482.55 743.912 1480.77 Q745.833 1478.96 745.833 1475.86 Q745.833 1472.73 743.912 1470.95 Q742.014 1469.17 738.657 1469.17 M733.981 1467.18 Q730.972 1466.44 729.282 1464.38 Q727.615 1462.32 727.615 1459.35 Q727.615 1455.21 730.555 1452.8 Q733.518 1450.39 738.657 1450.39 Q743.819 1450.39 746.759 1452.8 Q749.699 1455.21 749.699 1459.35 Q749.699 1462.32 748.009 1464.38 Q746.342 1466.44 743.356 1467.18 Q746.736 1467.96 748.611 1470.26 Q750.509 1472.55 750.509 1475.86 Q750.509 1480.88 747.43 1483.57 Q744.375 1486.25 738.657 1486.25 Q732.94 1486.25 729.861 1483.57 Q726.805 1480.88 726.805 1475.86 Q726.805 1472.55 728.703 1470.26 Q730.602 1467.96 733.981 1467.18 M732.268 1459.79 Q732.268 1462.48 733.935 1463.98 Q735.625 1465.49 738.657 1465.49 Q741.666 1465.49 743.356 1463.98 Q745.069 1462.48 745.069 1459.79 Q745.069 1457.11 743.356 1455.6 Q741.666 1454.1 738.657 1454.1 Q735.625 1454.1 733.935 1455.6 Q732.268 1457.11 732.268 1459.79 Z\" fill=\"#000000\" fill-rule=\"nonzero\" fill-opacity=\"1\" /><path clip-path=\"url(#clip080)\" d=\"M758.819 1479.7 L763.703 1479.7 L763.703 1485.58 L758.819 1485.58 L758.819 1479.7 Z\" fill=\"#000000\" fill-rule=\"nonzero\" fill-opacity=\"1\" /><path clip-path=\"url(#clip080)\" d=\"M783.888 1469.17 Q780.555 1469.17 778.634 1470.95 Q776.736 1472.73 776.736 1475.86 Q776.736 1478.98 778.634 1480.77 Q780.555 1482.55 783.888 1482.55 Q787.222 1482.55 789.143 1480.77 Q791.064 1478.96 791.064 1475.86 Q791.064 1472.73 789.143 1470.95 Q787.245 1469.17 783.888 1469.17 M779.212 1467.18 Q776.203 1466.44 774.513 1464.38 Q772.847 1462.32 772.847 1459.35 Q772.847 1455.21 775.787 1452.8 Q778.749 1450.39 783.888 1450.39 Q789.05 1450.39 791.99 1452.8 Q794.93 1455.21 794.93 1459.35 Q794.93 1462.32 793.24 1464.38 Q791.573 1466.44 788.587 1467.18 Q791.967 1467.96 793.842 1470.26 Q795.74 1472.55 795.74 1475.86 Q795.74 1480.88 792.661 1483.57 Q789.606 1486.25 783.888 1486.25 Q778.171 1486.25 775.092 1483.57 Q772.037 1480.88 772.037 1475.86 Q772.037 1472.55 773.935 1470.26 Q775.833 1467.96 779.212 1467.18 M777.499 1459.79 Q777.499 1462.48 779.166 1463.98 Q780.856 1465.49 783.888 1465.49 Q786.898 1465.49 788.587 1463.98 Q790.3 1462.48 790.3 1459.79 Q790.3 1457.11 788.587 1455.6 Q786.898 1454.1 783.888 1454.1 Q780.856 1454.1 779.166 1455.6 Q777.499 1457.11 777.499 1459.79 Z\" fill=\"#000000\" fill-rule=\"nonzero\" fill-opacity=\"1\" /><path clip-path=\"url(#clip080)\" d=\"M1167.01 1484.86 L1167.01 1480.6 Q1168.77 1481.44 1170.58 1481.88 Q1172.39 1482.32 1174.12 1482.32 Q1178.75 1482.32 1181.18 1479.21 Q1183.64 1476.09 1183.98 1469.75 Q1182.64 1471.74 1180.58 1472.8 Q1178.52 1473.87 1176.02 1473.87 Q1170.83 1473.87 1167.8 1470.74 Q1164.79 1467.59 1164.79 1462.15 Q1164.79 1456.83 1167.94 1453.61 Q1171.09 1450.39 1176.32 1450.39 Q1182.32 1450.39 1185.46 1455 Q1188.63 1459.58 1188.63 1468.33 Q1188.63 1476.51 1184.75 1481.39 Q1180.88 1486.25 1174.33 1486.25 Q1172.57 1486.25 1170.76 1485.9 Q1168.96 1485.56 1167.01 1484.86 M1176.32 1470.21 Q1179.47 1470.21 1181.3 1468.06 Q1183.15 1465.9 1183.15 1462.15 Q1183.15 1458.43 1181.3 1456.27 Q1179.47 1454.1 1176.32 1454.1 Q1173.17 1454.1 1171.32 1456.27 Q1169.49 1458.43 1169.49 1462.15 Q1169.49 1465.9 1171.32 1468.06 Q1173.17 1470.21 1176.32 1470.21 Z\" fill=\"#000000\" fill-rule=\"nonzero\" fill-opacity=\"1\" /><path clip-path=\"url(#clip080)\" d=\"M1197.04 1479.7 L1201.92 1479.7 L1201.92 1485.58 L1197.04 1485.58 L1197.04 1479.7 Z\" fill=\"#000000\" fill-rule=\"nonzero\" fill-opacity=\"1\" /><path clip-path=\"url(#clip080)\" d=\"M1222.11 1454.1 Q1218.5 1454.1 1216.67 1457.66 Q1214.86 1461.2 1214.86 1468.33 Q1214.86 1475.44 1216.67 1479.01 Q1218.5 1482.55 1222.11 1482.55 Q1225.74 1482.55 1227.55 1479.01 Q1229.38 1475.44 1229.38 1468.33 Q1229.38 1461.2 1227.55 1457.66 Q1225.74 1454.1 1222.11 1454.1 M1222.11 1450.39 Q1227.92 1450.39 1230.97 1455 Q1234.05 1459.58 1234.05 1468.33 Q1234.05 1477.06 1230.97 1481.67 Q1227.92 1486.25 1222.11 1486.25 Q1216.3 1486.25 1213.22 1481.67 Q1210.16 1477.06 1210.16 1468.33 Q1210.16 1459.58 1213.22 1455 Q1216.3 1450.39 1222.11 1450.39 Z\" fill=\"#000000\" fill-rule=\"nonzero\" fill-opacity=\"1\" /><path clip-path=\"url(#clip080)\" d=\"M1605.96 1484.86 L1605.96 1480.6 Q1607.72 1481.44 1609.53 1481.88 Q1611.33 1482.32 1613.07 1482.32 Q1617.7 1482.32 1620.13 1479.21 Q1622.58 1476.09 1622.93 1469.75 Q1621.59 1471.74 1619.53 1472.8 Q1617.47 1473.87 1614.97 1473.87 Q1609.78 1473.87 1606.75 1470.74 Q1603.74 1467.59 1603.74 1462.15 Q1603.74 1456.83 1606.89 1453.61 Q1610.04 1450.39 1615.27 1450.39 Q1621.26 1450.39 1624.41 1455 Q1627.58 1459.58 1627.58 1468.33 Q1627.58 1476.51 1623.69 1481.39 Q1619.83 1486.25 1613.28 1486.25 Q1611.52 1486.25 1609.71 1485.9 Q1607.91 1485.56 1605.96 1484.86 M1615.27 1470.21 Q1618.42 1470.21 1620.24 1468.06 Q1622.1 1465.9 1622.1 1462.15 Q1622.1 1458.43 1620.24 1456.27 Q1618.42 1454.1 1615.27 1454.1 Q1612.12 1454.1 1610.27 1456.27 Q1608.44 1458.43 1608.44 1462.15 Q1608.44 1465.9 1610.27 1468.06 Q1612.12 1470.21 1615.27 1470.21 Z\" fill=\"#000000\" fill-rule=\"nonzero\" fill-opacity=\"1\" /><path clip-path=\"url(#clip080)\" d=\"M1635.99 1479.7 L1640.87 1479.7 L1640.87 1485.58 L1635.99 1485.58 L1635.99 1479.7 Z\" fill=\"#000000\" fill-rule=\"nonzero\" fill-opacity=\"1\" /><path clip-path=\"url(#clip080)\" d=\"M1655.08 1481.64 L1671.4 1481.64 L1671.4 1485.58 L1649.46 1485.58 L1649.46 1481.64 Q1652.12 1478.89 1656.7 1474.26 Q1661.31 1469.61 1662.49 1468.27 Q1664.74 1465.74 1665.62 1464.01 Q1666.52 1462.25 1666.52 1460.56 Q1666.52 1457.8 1664.57 1456.07 Q1662.65 1454.33 1659.55 1454.33 Q1657.35 1454.33 1654.9 1455.09 Q1652.47 1455.86 1649.69 1457.41 L1649.69 1452.69 Q1652.51 1451.55 1654.97 1450.97 Q1657.42 1450.39 1659.46 1450.39 Q1664.83 1450.39 1668.02 1453.08 Q1671.22 1455.77 1671.22 1460.26 Q1671.22 1462.39 1670.41 1464.31 Q1669.62 1466.2 1667.51 1468.8 Q1666.93 1469.47 1663.83 1472.69 Q1660.73 1475.88 1655.08 1481.64 Z\" fill=\"#000000\" fill-rule=\"nonzero\" fill-opacity=\"1\" /><path clip-path=\"url(#clip080)\" d=\"M2043.07 1484.86 L2043.07 1480.6 Q2044.83 1481.44 2046.63 1481.88 Q2048.44 1482.32 2050.18 1482.32 Q2054.81 1482.32 2057.24 1479.21 Q2059.69 1476.09 2060.04 1469.75 Q2058.7 1471.74 2056.63 1472.8 Q2054.57 1473.87 2052.07 1473.87 Q2046.89 1473.87 2043.86 1470.74 Q2040.85 1467.59 2040.85 1462.15 Q2040.85 1456.83 2044 1453.61 Q2047.14 1450.39 2052.38 1450.39 Q2058.37 1450.39 2061.52 1455 Q2064.69 1459.58 2064.69 1468.33 Q2064.69 1476.51 2060.8 1481.39 Q2056.94 1486.25 2050.38 1486.25 Q2048.63 1486.25 2046.82 1485.9 Q2045.01 1485.56 2043.07 1484.86 M2052.38 1470.21 Q2055.52 1470.21 2057.35 1468.06 Q2059.2 1465.9 2059.2 1462.15 Q2059.2 1458.43 2057.35 1456.27 Q2055.52 1454.1 2052.38 1454.1 Q2049.23 1454.1 2047.38 1456.27 Q2045.55 1458.43 2045.55 1462.15 Q2045.55 1465.9 2047.38 1468.06 Q2049.23 1470.21 2052.38 1470.21 Z\" fill=\"#000000\" fill-rule=\"nonzero\" fill-opacity=\"1\" /><path clip-path=\"url(#clip080)\" d=\"M2073.09 1479.7 L2077.98 1479.7 L2077.98 1485.58 L2073.09 1485.58 L2073.09 1479.7 Z\" fill=\"#000000\" fill-rule=\"nonzero\" fill-opacity=\"1\" /><path clip-path=\"url(#clip080)\" d=\"M2101.01 1455.09 L2089.2 1473.54 L2101.01 1473.54 L2101.01 1455.09 M2099.78 1451.02 L2105.66 1451.02 L2105.66 1473.54 L2110.59 1473.54 L2110.59 1477.43 L2105.66 1477.43 L2105.66 1485.58 L2101.01 1485.58 L2101.01 1477.43 L2085.41 1477.43 L2085.41 1472.92 L2099.78 1451.02 Z\" fill=\"#000000\" fill-rule=\"nonzero\" fill-opacity=\"1\" /><path clip-path=\"url(#clip080)\" d=\"M1123.91 1539.24 Q1126.11 1535.29 1129.16 1533.41 Q1132.22 1531.54 1136.36 1531.54 Q1141.93 1531.54 1144.95 1535.45 Q1147.98 1539.33 1147.98 1546.53 L1147.98 1568.04 L1142.09 1568.04 L1142.09 1546.72 Q1142.09 1541.59 1140.27 1539.11 Q1138.46 1536.63 1134.73 1536.63 Q1130.18 1536.63 1127.54 1539.65 Q1124.9 1542.68 1124.9 1547.9 L1124.9 1568.04 L1119.01 1568.04 L1119.01 1546.72 Q1119.01 1541.56 1117.2 1539.11 Q1115.38 1536.63 1111.6 1536.63 Q1107.11 1536.63 1104.47 1539.68 Q1101.82 1542.71 1101.82 1547.9 L1101.82 1568.04 L1095.94 1568.04 L1095.94 1532.4 L1101.82 1532.4 L1101.82 1537.93 Q1103.83 1534.66 1106.63 1533.1 Q1109.43 1531.54 1113.28 1531.54 Q1117.17 1531.54 1119.87 1533.51 Q1122.61 1535.48 1123.91 1539.24 Z\" fill=\"#000000\" fill-rule=\"nonzero\" fill-opacity=\"1\" /><path clip-path=\"url(#clip080)\" d=\"M1159.66 1532.4 L1165.51 1532.4 L1165.51 1568.04 L1159.66 1568.04 L1159.66 1532.4 M1159.66 1518.52 L1165.51 1518.52 L1165.51 1525.93 L1159.66 1525.93 L1159.66 1518.52 Z\" fill=\"#000000\" fill-rule=\"nonzero\" fill-opacity=\"1\" /><path clip-path=\"url(#clip080)\" d=\"M1177.77 1518.52 L1183.62 1518.52 L1183.62 1568.04 L1177.77 1568.04 L1177.77 1518.52 Z\" fill=\"#000000\" fill-rule=\"nonzero\" fill-opacity=\"1\" /><path clip-path=\"url(#clip080)\" d=\"M1195.88 1518.52 L1201.73 1518.52 L1201.73 1568.04 L1195.88 1568.04 L1195.88 1518.52 Z\" fill=\"#000000\" fill-rule=\"nonzero\" fill-opacity=\"1\" /><path clip-path=\"url(#clip080)\" d=\"M1213.99 1532.4 L1219.84 1532.4 L1219.84 1568.04 L1213.99 1568.04 L1213.99 1532.4 M1213.99 1518.52 L1219.84 1518.52 L1219.84 1525.93 L1213.99 1525.93 L1213.99 1518.52 Z\" fill=\"#000000\" fill-rule=\"nonzero\" fill-opacity=\"1\" /><path clip-path=\"url(#clip080)\" d=\"M1254.82 1533.45 L1254.82 1538.98 Q1252.34 1537.71 1249.67 1537.07 Q1246.99 1536.44 1244.13 1536.44 Q1239.77 1536.44 1237.57 1537.77 Q1235.41 1539.11 1235.41 1541.79 Q1235.41 1543.82 1236.97 1545 Q1238.53 1546.15 1243.24 1547.2 L1245.24 1547.64 Q1251.48 1548.98 1254.09 1551.43 Q1256.73 1553.85 1256.73 1558.21 Q1256.73 1563.17 1252.79 1566.07 Q1248.87 1568.97 1242 1568.97 Q1239.13 1568.97 1236.01 1568.39 Q1232.93 1567.85 1229.49 1566.74 L1229.49 1560.69 Q1232.73 1562.38 1235.89 1563.24 Q1239.04 1564.07 1242.12 1564.07 Q1246.26 1564.07 1248.49 1562.66 Q1250.72 1561.23 1250.72 1558.65 Q1250.72 1556.27 1249.09 1554.99 Q1247.5 1553.72 1242.06 1552.54 L1240.02 1552.07 Q1234.58 1550.92 1232.16 1548.56 Q1229.74 1546.18 1229.74 1542.04 Q1229.74 1537.01 1233.31 1534.27 Q1236.87 1531.54 1243.43 1531.54 Q1246.68 1531.54 1249.54 1532.01 Q1252.41 1532.49 1254.82 1533.45 Z\" fill=\"#000000\" fill-rule=\"nonzero\" fill-opacity=\"1\" /><path clip-path=\"url(#clip080)\" d=\"M1296.55 1548.76 L1296.55 1551.62 L1269.62 1551.62 Q1270.01 1557.67 1273.25 1560.85 Q1276.53 1564 1282.36 1564 Q1285.73 1564 1288.88 1563.17 Q1292.06 1562.35 1295.18 1560.69 L1295.18 1566.23 Q1292.03 1567.57 1288.72 1568.27 Q1285.41 1568.97 1282.01 1568.97 Q1273.48 1568.97 1268.48 1564 Q1263.51 1559.04 1263.51 1550.57 Q1263.51 1541.82 1268.22 1536.69 Q1272.97 1531.54 1280.99 1531.54 Q1288.18 1531.54 1292.35 1536.18 Q1296.55 1540.8 1296.55 1548.76 M1290.69 1547.04 Q1290.63 1542.23 1287.99 1539.37 Q1285.38 1536.5 1281.05 1536.5 Q1276.15 1536.5 1273.19 1539.27 Q1270.26 1542.04 1269.82 1547.07 L1290.69 1547.04 Z\" fill=\"#000000\" fill-rule=\"nonzero\" fill-opacity=\"1\" /><path clip-path=\"url(#clip080)\" d=\"M1331.82 1533.76 L1331.82 1539.24 Q1329.33 1537.87 1326.82 1537.2 Q1324.34 1536.5 1321.79 1536.5 Q1316.09 1536.5 1312.94 1540.13 Q1309.79 1543.73 1309.79 1550.25 Q1309.79 1556.78 1312.94 1560.4 Q1316.09 1564 1321.79 1564 Q1324.34 1564 1326.82 1563.33 Q1329.33 1562.63 1331.82 1561.26 L1331.82 1566.68 Q1329.37 1567.82 1326.72 1568.39 Q1324.11 1568.97 1321.15 1568.97 Q1313.1 1568.97 1308.36 1563.91 Q1303.62 1558.85 1303.62 1550.25 Q1303.62 1541.53 1308.39 1536.53 Q1313.2 1531.54 1321.54 1531.54 Q1324.24 1531.54 1326.82 1532.11 Q1329.4 1532.65 1331.82 1533.76 Z\" fill=\"#000000\" fill-rule=\"nonzero\" fill-opacity=\"1\" /><path clip-path=\"url(#clip080)\" d=\"M1355.82 1536.5 Q1351.11 1536.5 1348.37 1540.19 Q1345.63 1543.85 1345.63 1550.25 Q1345.63 1556.65 1348.34 1560.34 Q1351.07 1564 1355.82 1564 Q1360.49 1564 1363.23 1560.31 Q1365.97 1556.62 1365.97 1550.25 Q1365.97 1543.92 1363.23 1540.23 Q1360.49 1536.5 1355.82 1536.5 M1355.82 1531.54 Q1363.45 1531.54 1367.82 1536.5 Q1372.18 1541.47 1372.18 1550.25 Q1372.18 1559 1367.82 1564 Q1363.45 1568.97 1355.82 1568.97 Q1348.15 1568.97 1343.78 1564 Q1339.46 1559 1339.46 1550.25 Q1339.46 1541.47 1343.78 1536.5 Q1348.15 1531.54 1355.82 1531.54 Z\" fill=\"#000000\" fill-rule=\"nonzero\" fill-opacity=\"1\" /><path clip-path=\"url(#clip080)\" d=\"M1411.52 1546.53 L1411.52 1568.04 L1405.66 1568.04 L1405.66 1546.72 Q1405.66 1541.66 1403.69 1539.14 Q1401.71 1536.63 1397.77 1536.63 Q1393.02 1536.63 1390.29 1539.65 Q1387.55 1542.68 1387.55 1547.9 L1387.55 1568.04 L1381.66 1568.04 L1381.66 1532.4 L1387.55 1532.4 L1387.55 1537.93 Q1389.65 1534.72 1392.48 1533.13 Q1395.35 1531.54 1399.07 1531.54 Q1405.21 1531.54 1408.36 1535.36 Q1411.52 1539.14 1411.52 1546.53 Z\" fill=\"#000000\" fill-rule=\"nonzero\" fill-opacity=\"1\" /><path clip-path=\"url(#clip080)\" d=\"M1446.65 1537.81 L1446.65 1518.52 L1452.51 1518.52 L1452.51 1568.04 L1446.65 1568.04 L1446.65 1562.7 Q1444.81 1565.88 1441.98 1567.44 Q1439.17 1568.97 1435.23 1568.97 Q1428.77 1568.97 1424.69 1563.81 Q1420.65 1558.65 1420.65 1550.25 Q1420.65 1541.85 1424.69 1536.69 Q1428.77 1531.54 1435.23 1531.54 Q1439.17 1531.54 1441.98 1533.1 Q1444.81 1534.62 1446.65 1537.81 M1426.7 1550.25 Q1426.7 1556.71 1429.34 1560.4 Q1432.01 1564.07 1436.66 1564.07 Q1441.31 1564.07 1443.98 1560.4 Q1446.65 1556.71 1446.65 1550.25 Q1446.65 1543.79 1443.98 1540.13 Q1441.31 1536.44 1436.66 1536.44 Q1432.01 1536.44 1429.34 1540.13 Q1426.7 1543.79 1426.7 1550.25 Z\" fill=\"#000000\" fill-rule=\"nonzero\" fill-opacity=\"1\" /><path clip-path=\"url(#clip080)\" d=\"M1487.3 1533.45 L1487.3 1538.98 Q1484.82 1537.71 1482.14 1537.07 Q1479.47 1536.44 1476.61 1536.44 Q1472.24 1536.44 1470.05 1537.77 Q1467.88 1539.11 1467.88 1541.79 Q1467.88 1543.82 1469.44 1545 Q1471 1546.15 1475.71 1547.2 L1477.72 1547.64 Q1483.96 1548.98 1486.57 1551.43 Q1489.21 1553.85 1489.21 1558.21 Q1489.21 1563.17 1485.26 1566.07 Q1481.35 1568.97 1474.47 1568.97 Q1471.61 1568.97 1468.49 1568.39 Q1465.4 1567.85 1461.96 1566.74 L1461.96 1560.69 Q1465.21 1562.38 1468.36 1563.24 Q1471.51 1564.07 1474.6 1564.07 Q1478.74 1564.07 1480.97 1562.66 Q1483.19 1561.23 1483.19 1558.65 Q1483.19 1556.27 1481.57 1554.99 Q1479.98 1553.72 1474.54 1552.54 L1472.5 1552.07 Q1467.06 1550.92 1464.64 1548.56 Q1462.22 1546.18 1462.22 1542.04 Q1462.22 1537.01 1465.78 1534.27 Q1469.35 1531.54 1475.9 1531.54 Q1479.15 1531.54 1482.02 1532.01 Q1484.88 1532.49 1487.3 1533.45 Z\" fill=\"#000000\" fill-rule=\"nonzero\" fill-opacity=\"1\" /><polyline clip-path=\"url(#clip080)\" style=\"stroke:#000000; stroke-linecap:round; stroke-linejoin:round; stroke-width:4; stroke-opacity:1; fill:none\" points=\"232.389,1423.18 232.389,47.2441 \"/>\n",
       "<polyline clip-path=\"url(#clip080)\" style=\"stroke:#000000; stroke-linecap:round; stroke-linejoin:round; stroke-width:4; stroke-opacity:1; fill:none\" points=\"232.389,1423.18 251.287,1423.18 \"/>\n",
       "<polyline clip-path=\"url(#clip080)\" style=\"stroke:#000000; stroke-linecap:round; stroke-linejoin:round; stroke-width:4; stroke-opacity:1; fill:none\" points=\"232.389,1023.2 251.287,1023.2 \"/>\n",
       "<polyline clip-path=\"url(#clip080)\" style=\"stroke:#000000; stroke-linecap:round; stroke-linejoin:round; stroke-width:4; stroke-opacity:1; fill:none\" points=\"232.389,623.217 251.287,623.217 \"/>\n",
       "<polyline clip-path=\"url(#clip080)\" style=\"stroke:#000000; stroke-linecap:round; stroke-linejoin:round; stroke-width:4; stroke-opacity:1; fill:none\" points=\"232.389,223.236 251.287,223.236 \"/>\n",
       "<path clip-path=\"url(#clip080)\" d=\"M184.445 1408.98 Q180.834 1408.98 179.005 1412.54 Q177.2 1416.08 177.2 1423.21 Q177.2 1430.32 179.005 1433.89 Q180.834 1437.43 184.445 1437.43 Q188.079 1437.43 189.885 1433.89 Q191.713 1430.32 191.713 1423.21 Q191.713 1416.08 189.885 1412.54 Q188.079 1408.98 184.445 1408.98 M184.445 1405.27 Q190.255 1405.27 193.311 1409.88 Q196.389 1414.46 196.389 1423.21 Q196.389 1431.94 193.311 1436.55 Q190.255 1441.13 184.445 1441.13 Q178.635 1441.13 175.556 1436.55 Q172.501 1431.94 172.501 1423.21 Q172.501 1414.46 175.556 1409.88 Q178.635 1405.27 184.445 1405.27 Z\" fill=\"#000000\" fill-rule=\"nonzero\" fill-opacity=\"1\" /><path clip-path=\"url(#clip080)\" d=\"M144.329 1005.92 L162.686 1005.92 L162.686 1009.85 L148.612 1009.85 L148.612 1018.33 Q149.63 1017.98 150.649 1017.82 Q151.667 1017.63 152.686 1017.63 Q158.473 1017.63 161.852 1020.8 Q165.232 1023.97 165.232 1029.39 Q165.232 1034.97 161.76 1038.07 Q158.288 1041.15 151.968 1041.15 Q149.792 1041.15 147.524 1040.78 Q145.279 1040.41 142.871 1039.67 L142.871 1034.97 Q144.954 1036.1 147.177 1036.66 Q149.399 1037.21 151.876 1037.21 Q155.88 1037.21 158.218 1035.11 Q160.556 1033 160.556 1029.39 Q160.556 1025.78 158.218 1023.67 Q155.88 1021.57 151.876 1021.57 Q150.001 1021.57 148.126 1021.98 Q146.274 1022.4 144.329 1023.28 L144.329 1005.92 Z\" fill=\"#000000\" fill-rule=\"nonzero\" fill-opacity=\"1\" /><path clip-path=\"url(#clip080)\" d=\"M184.445 1009 Q180.834 1009 179.005 1012.56 Q177.2 1016.1 177.2 1023.23 Q177.2 1030.34 179.005 1033.9 Q180.834 1037.45 184.445 1037.45 Q188.079 1037.45 189.885 1033.9 Q191.713 1030.34 191.713 1023.23 Q191.713 1016.1 189.885 1012.56 Q188.079 1009 184.445 1009 M184.445 1005.29 Q190.255 1005.29 193.311 1009.9 Q196.389 1014.48 196.389 1023.23 Q196.389 1031.96 193.311 1036.57 Q190.255 1041.15 184.445 1041.15 Q178.635 1041.15 175.556 1036.57 Q172.501 1031.96 172.501 1023.23 Q172.501 1014.48 175.556 1009.9 Q178.635 1005.29 184.445 1005.29 Z\" fill=\"#000000\" fill-rule=\"nonzero\" fill-opacity=\"1\" /><path clip-path=\"url(#clip080)\" d=\"M114.931 636.562 L122.57 636.562 L122.57 610.196 L114.26 611.863 L114.26 607.604 L122.524 605.937 L127.2 605.937 L127.2 636.562 L134.839 636.562 L134.839 640.497 L114.931 640.497 L114.931 636.562 Z\" fill=\"#000000\" fill-rule=\"nonzero\" fill-opacity=\"1\" /><path clip-path=\"url(#clip080)\" d=\"M154.283 609.016 Q150.672 609.016 148.843 612.581 Q147.038 616.122 147.038 623.252 Q147.038 630.358 148.843 633.923 Q150.672 637.465 154.283 637.465 Q157.917 637.465 159.723 633.923 Q161.552 630.358 161.552 623.252 Q161.552 616.122 159.723 612.581 Q157.917 609.016 154.283 609.016 M154.283 605.312 Q160.093 605.312 163.149 609.919 Q166.227 614.502 166.227 623.252 Q166.227 631.979 163.149 636.585 Q160.093 641.168 154.283 641.168 Q148.473 641.168 145.394 636.585 Q142.339 631.979 142.339 623.252 Q142.339 614.502 145.394 609.919 Q148.473 605.312 154.283 605.312 Z\" fill=\"#000000\" fill-rule=\"nonzero\" fill-opacity=\"1\" /><path clip-path=\"url(#clip080)\" d=\"M184.445 609.016 Q180.834 609.016 179.005 612.581 Q177.2 616.122 177.2 623.252 Q177.2 630.358 179.005 633.923 Q180.834 637.465 184.445 637.465 Q188.079 637.465 189.885 633.923 Q191.713 630.358 191.713 623.252 Q191.713 616.122 189.885 612.581 Q188.079 609.016 184.445 609.016 M184.445 605.312 Q190.255 605.312 193.311 609.919 Q196.389 614.502 196.389 623.252 Q196.389 631.979 193.311 636.585 Q190.255 641.168 184.445 641.168 Q178.635 641.168 175.556 636.585 Q172.501 631.979 172.501 623.252 Q172.501 614.502 175.556 609.919 Q178.635 605.312 184.445 605.312 Z\" fill=\"#000000\" fill-rule=\"nonzero\" fill-opacity=\"1\" /><path clip-path=\"url(#clip080)\" d=\"M114.931 236.581 L122.57 236.581 L122.57 210.215 L114.26 211.882 L114.26 207.623 L122.524 205.956 L127.2 205.956 L127.2 236.581 L134.839 236.581 L134.839 240.516 L114.931 240.516 L114.931 236.581 Z\" fill=\"#000000\" fill-rule=\"nonzero\" fill-opacity=\"1\" /><path clip-path=\"url(#clip080)\" d=\"M144.329 205.956 L162.686 205.956 L162.686 209.891 L148.612 209.891 L148.612 218.363 Q149.63 218.016 150.649 217.854 Q151.667 217.669 152.686 217.669 Q158.473 217.669 161.852 220.84 Q165.232 224.011 165.232 229.428 Q165.232 235.007 161.76 238.108 Q158.288 241.187 151.968 241.187 Q149.792 241.187 147.524 240.817 Q145.279 240.446 142.871 239.706 L142.871 235.007 Q144.954 236.141 147.177 236.696 Q149.399 237.252 151.876 237.252 Q155.88 237.252 158.218 235.146 Q160.556 233.039 160.556 229.428 Q160.556 225.817 158.218 223.71 Q155.88 221.604 151.876 221.604 Q150.001 221.604 148.126 222.021 Q146.274 222.437 144.329 223.317 L144.329 205.956 Z\" fill=\"#000000\" fill-rule=\"nonzero\" fill-opacity=\"1\" /><path clip-path=\"url(#clip080)\" d=\"M184.445 209.035 Q180.834 209.035 179.005 212.599 Q177.2 216.141 177.2 223.271 Q177.2 230.377 179.005 233.942 Q180.834 237.483 184.445 237.483 Q188.079 237.483 189.885 233.942 Q191.713 230.377 191.713 223.271 Q191.713 216.141 189.885 212.599 Q188.079 209.035 184.445 209.035 M184.445 205.331 Q190.255 205.331 193.311 209.937 Q196.389 214.521 196.389 223.271 Q196.389 231.997 193.311 236.604 Q190.255 241.187 184.445 241.187 Q178.635 241.187 175.556 236.604 Q172.501 231.997 172.501 223.271 Q172.501 214.521 175.556 209.937 Q178.635 205.331 184.445 205.331 Z\" fill=\"#000000\" fill-rule=\"nonzero\" fill-opacity=\"1\" /><path clip-path=\"url(#clip080)\" d=\"M29.7248 796.386 L35.1993 796.386 Q33.8307 798.869 33.1623 801.383 Q32.4621 803.866 32.4621 806.412 Q32.4621 812.11 36.0905 815.261 Q39.6872 818.412 46.212 818.412 Q52.7369 818.412 56.3653 815.261 Q59.9619 812.11 59.9619 806.412 Q59.9619 803.866 59.2935 801.383 Q58.5933 798.869 57.2247 796.386 L62.6355 796.386 Q63.7814 798.837 64.3543 801.479 Q64.9272 804.089 64.9272 807.049 Q64.9272 815.102 59.8664 819.844 Q54.8057 824.586 46.212 824.586 Q37.491 824.586 32.4939 819.812 Q27.4968 815.006 27.4968 806.667 Q27.4968 803.962 28.0697 801.383 Q28.6108 798.805 29.7248 796.386 Z\" fill=\"#000000\" fill-rule=\"nonzero\" fill-opacity=\"1\" /><path clip-path=\"url(#clip080)\" d=\"M32.4621 772.388 Q32.4621 777.098 36.1542 779.836 Q39.8145 782.573 46.212 782.573 Q52.6095 782.573 56.3017 779.867 Q59.9619 777.13 59.9619 772.388 Q59.9619 767.709 56.2698 764.972 Q52.5777 762.234 46.212 762.234 Q39.8781 762.234 36.186 764.972 Q32.4621 767.709 32.4621 772.388 M27.4968 772.388 Q27.4968 764.749 32.4621 760.388 Q37.4273 756.028 46.212 756.028 Q54.9649 756.028 59.9619 760.388 Q64.9272 764.749 64.9272 772.388 Q64.9272 780.058 59.9619 784.419 Q54.9649 788.748 46.212 788.748 Q37.4273 788.748 32.4621 784.419 Q27.4968 780.058 27.4968 772.388 Z\" fill=\"#000000\" fill-rule=\"nonzero\" fill-opacity=\"1\" /><path clip-path=\"url(#clip080)\" d=\"M49.9359 746.925 L28.3562 746.925 L28.3562 741.068 L49.7131 741.068 Q54.7739 741.068 57.3202 739.095 Q59.8346 737.122 59.8346 733.175 Q59.8346 728.432 56.8109 725.695 Q53.7872 722.926 48.5673 722.926 L28.3562 722.926 L28.3562 717.07 L64.0042 717.07 L64.0042 722.926 L58.5296 722.926 Q61.7762 725.059 63.3676 727.891 Q64.9272 730.692 64.9272 734.416 Q64.9272 740.559 61.1078 743.742 Q57.2883 746.925 49.9359 746.925 M27.4968 732.188 L27.4968 732.188 Z\" fill=\"#000000\" fill-rule=\"nonzero\" fill-opacity=\"1\" /><path clip-path=\"url(#clip080)\" d=\"M42.4881 675.374 L64.0042 675.374 L64.0042 681.231 L42.679 681.231 Q37.6183 681.231 35.1038 683.204 Q32.5894 685.178 32.5894 689.124 Q32.5894 693.867 35.6131 696.604 Q38.6368 699.341 43.8567 699.341 L64.0042 699.341 L64.0042 705.229 L28.3562 705.229 L28.3562 699.341 L33.8944 699.341 Q30.6797 697.241 29.0883 694.408 Q27.4968 691.543 27.4968 687.819 Q27.4968 681.676 31.3163 678.525 Q35.1038 675.374 42.4881 675.374 Z\" fill=\"#000000\" fill-rule=\"nonzero\" fill-opacity=\"1\" /><path clip-path=\"url(#clip080)\" d=\"M18.2347 657.9 L28.3562 657.9 L28.3562 645.837 L32.9077 645.837 L32.9077 657.9 L52.2594 657.9 Q56.6199 657.9 57.8613 656.723 Q59.1026 655.513 59.1026 651.853 L59.1026 645.837 L64.0042 645.837 L64.0042 651.853 Q64.0042 658.633 61.4897 661.211 Q58.9434 663.789 52.2594 663.789 L32.9077 663.789 L32.9077 668.086 L28.3562 668.086 L28.3562 663.789 L18.2347 663.789 L18.2347 657.9 Z\" fill=\"#000000\" fill-rule=\"nonzero\" fill-opacity=\"1\" /><path clip-path=\"url(#clip082)\" d=\"M213.586 1223.19 L213.586 1423.18 L323.123 1423.18 L323.123 1223.19 L213.586 1223.19 L213.586 1223.19  Z\" fill=\"#009af9\" fill-rule=\"evenodd\" fill-opacity=\"1\"/>\n",
       "<polyline clip-path=\"url(#clip082)\" style=\"stroke:#000000; stroke-linecap:round; stroke-linejoin:round; stroke-width:4; stroke-opacity:1; fill:none\" points=\"213.586,1223.19 213.586,1423.18 323.123,1423.18 323.123,1223.19 213.586,1223.19 \"/>\n",
       "<path clip-path=\"url(#clip082)\" d=\"M323.123 559.22 L323.123 1423.18 L432.661 1423.18 L432.661 559.22 L323.123 559.22 L323.123 559.22  Z\" fill=\"#009af9\" fill-rule=\"evenodd\" fill-opacity=\"1\"/>\n",
       "<polyline clip-path=\"url(#clip082)\" style=\"stroke:#000000; stroke-linecap:round; stroke-linejoin:round; stroke-width:4; stroke-opacity:1; fill:none\" points=\"323.123,559.22 323.123,1423.18 432.661,1423.18 432.661,559.22 323.123,559.22 \"/>\n",
       "<path clip-path=\"url(#clip082)\" d=\"M432.661 47.2441 L432.661 1423.18 L542.198 1423.18 L542.198 47.2441 L432.661 47.2441 L432.661 47.2441  Z\" fill=\"#009af9\" fill-rule=\"evenodd\" fill-opacity=\"1\"/>\n",
       "<polyline clip-path=\"url(#clip082)\" style=\"stroke:#000000; stroke-linecap:round; stroke-linejoin:round; stroke-width:4; stroke-opacity:1; fill:none\" points=\"432.661,47.2441 432.661,1423.18 542.198,1423.18 542.198,47.2441 432.661,47.2441 \"/>\n",
       "<path clip-path=\"url(#clip082)\" d=\"M542.198 455.225 L542.198 1423.18 L651.735 1423.18 L651.735 455.225 L542.198 455.225 L542.198 455.225  Z\" fill=\"#009af9\" fill-rule=\"evenodd\" fill-opacity=\"1\"/>\n",
       "<polyline clip-path=\"url(#clip082)\" style=\"stroke:#000000; stroke-linecap:round; stroke-linejoin:round; stroke-width:4; stroke-opacity:1; fill:none\" points=\"542.198,455.225 542.198,1423.18 651.735,1423.18 651.735,455.225 542.198,455.225 \"/>\n",
       "<path clip-path=\"url(#clip082)\" d=\"M651.735 1143.19 L651.735 1423.18 L761.273 1423.18 L761.273 1143.19 L651.735 1143.19 L651.735 1143.19  Z\" fill=\"#009af9\" fill-rule=\"evenodd\" fill-opacity=\"1\"/>\n",
       "<polyline clip-path=\"url(#clip082)\" style=\"stroke:#000000; stroke-linecap:round; stroke-linejoin:round; stroke-width:4; stroke-opacity:1; fill:none\" points=\"651.735,1143.19 651.735,1423.18 761.273,1423.18 761.273,1143.19 651.735,1143.19 \"/>\n",
       "<path clip-path=\"url(#clip082)\" d=\"M761.273 1247.19 L761.273 1423.18 L870.81 1423.18 L870.81 1247.19 L761.273 1247.19 L761.273 1247.19  Z\" fill=\"#009af9\" fill-rule=\"evenodd\" fill-opacity=\"1\"/>\n",
       "<polyline clip-path=\"url(#clip082)\" style=\"stroke:#000000; stroke-linecap:round; stroke-linejoin:round; stroke-width:4; stroke-opacity:1; fill:none\" points=\"761.273,1247.19 761.273,1423.18 870.81,1423.18 870.81,1247.19 761.273,1247.19 \"/>\n",
       "<path clip-path=\"url(#clip082)\" d=\"M870.81 1183.19 L870.81 1423.18 L980.347 1423.18 L980.347 1183.19 L870.81 1183.19 L870.81 1183.19  Z\" fill=\"#009af9\" fill-rule=\"evenodd\" fill-opacity=\"1\"/>\n",
       "<polyline clip-path=\"url(#clip082)\" style=\"stroke:#000000; stroke-linecap:round; stroke-linejoin:round; stroke-width:4; stroke-opacity:1; fill:none\" points=\"870.81,1183.19 870.81,1423.18 980.347,1423.18 980.347,1183.19 870.81,1183.19 \"/>\n",
       "<path clip-path=\"url(#clip082)\" d=\"M980.347 1263.19 L980.347 1423.18 L1089.88 1423.18 L1089.88 1263.19 L980.347 1263.19 L980.347 1263.19  Z\" fill=\"#009af9\" fill-rule=\"evenodd\" fill-opacity=\"1\"/>\n",
       "<polyline clip-path=\"url(#clip082)\" style=\"stroke:#000000; stroke-linecap:round; stroke-linejoin:round; stroke-width:4; stroke-opacity:1; fill:none\" points=\"980.347,1263.19 980.347,1423.18 1089.88,1423.18 1089.88,1263.19 980.347,1263.19 \"/>\n",
       "<path clip-path=\"url(#clip082)\" d=\"M1089.88 1383.18 L1089.88 1423.18 L1199.42 1423.18 L1199.42 1383.18 L1089.88 1383.18 L1089.88 1383.18  Z\" fill=\"#009af9\" fill-rule=\"evenodd\" fill-opacity=\"1\"/>\n",
       "<polyline clip-path=\"url(#clip082)\" style=\"stroke:#000000; stroke-linecap:round; stroke-linejoin:round; stroke-width:4; stroke-opacity:1; fill:none\" points=\"1089.88,1383.18 1089.88,1423.18 1199.42,1423.18 1199.42,1383.18 1089.88,1383.18 \"/>\n",
       "<path clip-path=\"url(#clip082)\" d=\"M1199.42 1367.18 L1199.42 1423.18 L1308.96 1423.18 L1308.96 1367.18 L1199.42 1367.18 L1199.42 1367.18  Z\" fill=\"#009af9\" fill-rule=\"evenodd\" fill-opacity=\"1\"/>\n",
       "<polyline clip-path=\"url(#clip082)\" style=\"stroke:#000000; stroke-linecap:round; stroke-linejoin:round; stroke-width:4; stroke-opacity:1; fill:none\" points=\"1199.42,1367.18 1199.42,1423.18 1308.96,1423.18 1308.96,1367.18 1199.42,1367.18 \"/>\n",
       "<path clip-path=\"url(#clip082)\" d=\"M1308.96 1399.18 L1308.96 1423.18 L1418.5 1423.18 L1418.5 1399.18 L1308.96 1399.18 L1308.96 1399.18  Z\" fill=\"#009af9\" fill-rule=\"evenodd\" fill-opacity=\"1\"/>\n",
       "<polyline clip-path=\"url(#clip082)\" style=\"stroke:#000000; stroke-linecap:round; stroke-linejoin:round; stroke-width:4; stroke-opacity:1; fill:none\" points=\"1308.96,1399.18 1308.96,1423.18 1418.5,1423.18 1418.5,1399.18 1308.96,1399.18 \"/>\n",
       "<path clip-path=\"url(#clip082)\" d=\"M1418.5 1391.18 L1418.5 1423.18 L1528.03 1423.18 L1528.03 1391.18 L1418.5 1391.18 L1418.5 1391.18  Z\" fill=\"#009af9\" fill-rule=\"evenodd\" fill-opacity=\"1\"/>\n",
       "<polyline clip-path=\"url(#clip082)\" style=\"stroke:#000000; stroke-linecap:round; stroke-linejoin:round; stroke-width:4; stroke-opacity:1; fill:none\" points=\"1418.5,1391.18 1418.5,1423.18 1528.03,1423.18 1528.03,1391.18 1418.5,1391.18 \"/>\n",
       "<path clip-path=\"url(#clip082)\" d=\"M1528.03 1407.18 L1528.03 1423.18 L1637.57 1423.18 L1637.57 1407.18 L1528.03 1407.18 L1528.03 1407.18  Z\" fill=\"#009af9\" fill-rule=\"evenodd\" fill-opacity=\"1\"/>\n",
       "<polyline clip-path=\"url(#clip082)\" style=\"stroke:#000000; stroke-linecap:round; stroke-linejoin:round; stroke-width:4; stroke-opacity:1; fill:none\" points=\"1528.03,1407.18 1528.03,1423.18 1637.57,1423.18 1637.57,1407.18 1528.03,1407.18 \"/>\n",
       "<path clip-path=\"url(#clip082)\" d=\"M1637.57 1423.18 L1637.57 1423.18 L1747.11 1423.18 L1747.11 1423.18 L1637.57 1423.18 L1637.57 1423.18  Z\" fill=\"#009af9\" fill-rule=\"evenodd\" fill-opacity=\"1\"/>\n",
       "<polyline clip-path=\"url(#clip082)\" style=\"stroke:#000000; stroke-linecap:round; stroke-linejoin:round; stroke-width:4; stroke-opacity:1; fill:none\" points=\"1637.57,1423.18 1637.57,1423.18 1747.11,1423.18 1637.57,1423.18 \"/>\n",
       "<path clip-path=\"url(#clip082)\" d=\"M1747.11 1399.18 L1747.11 1423.18 L1856.65 1423.18 L1856.65 1399.18 L1747.11 1399.18 L1747.11 1399.18  Z\" fill=\"#009af9\" fill-rule=\"evenodd\" fill-opacity=\"1\"/>\n",
       "<polyline clip-path=\"url(#clip082)\" style=\"stroke:#000000; stroke-linecap:round; stroke-linejoin:round; stroke-width:4; stroke-opacity:1; fill:none\" points=\"1747.11,1399.18 1747.11,1423.18 1856.65,1423.18 1856.65,1399.18 1747.11,1399.18 \"/>\n",
       "<path clip-path=\"url(#clip082)\" d=\"M1856.65 1423.18 L1856.65 1423.18 L1966.18 1423.18 L1966.18 1423.18 L1856.65 1423.18 L1856.65 1423.18  Z\" fill=\"#009af9\" fill-rule=\"evenodd\" fill-opacity=\"1\"/>\n",
       "<polyline clip-path=\"url(#clip082)\" style=\"stroke:#000000; stroke-linecap:round; stroke-linejoin:round; stroke-width:4; stroke-opacity:1; fill:none\" points=\"1856.65,1423.18 1856.65,1423.18 1966.18,1423.18 1856.65,1423.18 \"/>\n",
       "<path clip-path=\"url(#clip082)\" d=\"M1966.18 1423.18 L1966.18 1423.18 L2075.72 1423.18 L2075.72 1423.18 L1966.18 1423.18 L1966.18 1423.18  Z\" fill=\"#009af9\" fill-rule=\"evenodd\" fill-opacity=\"1\"/>\n",
       "<polyline clip-path=\"url(#clip082)\" style=\"stroke:#000000; stroke-linecap:round; stroke-linejoin:round; stroke-width:4; stroke-opacity:1; fill:none\" points=\"1966.18,1423.18 1966.18,1423.18 2075.72,1423.18 1966.18,1423.18 \"/>\n",
       "<path clip-path=\"url(#clip082)\" d=\"M2075.72 1423.18 L2075.72 1423.18 L2185.26 1423.18 L2185.26 1423.18 L2075.72 1423.18 L2075.72 1423.18  Z\" fill=\"#009af9\" fill-rule=\"evenodd\" fill-opacity=\"1\"/>\n",
       "<polyline clip-path=\"url(#clip082)\" style=\"stroke:#000000; stroke-linecap:round; stroke-linejoin:round; stroke-width:4; stroke-opacity:1; fill:none\" points=\"2075.72,1423.18 2075.72,1423.18 2185.26,1423.18 2075.72,1423.18 \"/>\n",
       "<path clip-path=\"url(#clip082)\" d=\"M2185.26 1423.18 L2185.26 1423.18 L2294.8 1423.18 L2294.8 1423.18 L2185.26 1423.18 L2185.26 1423.18  Z\" fill=\"#009af9\" fill-rule=\"evenodd\" fill-opacity=\"1\"/>\n",
       "<polyline clip-path=\"url(#clip082)\" style=\"stroke:#000000; stroke-linecap:round; stroke-linejoin:round; stroke-width:4; stroke-opacity:1; fill:none\" points=\"2185.26,1423.18 2185.26,1423.18 2294.8,1423.18 2185.26,1423.18 \"/>\n",
       "<path clip-path=\"url(#clip082)\" d=\"M2294.8 1415.18 L2294.8 1423.18 L2404.33 1423.18 L2404.33 1415.18 L2294.8 1415.18 L2294.8 1415.18  Z\" fill=\"#009af9\" fill-rule=\"evenodd\" fill-opacity=\"1\"/>\n",
       "<polyline clip-path=\"url(#clip082)\" style=\"stroke:#000000; stroke-linecap:round; stroke-linejoin:round; stroke-width:4; stroke-opacity:1; fill:none\" points=\"2294.8,1415.18 2294.8,1423.18 2404.33,1423.18 2404.33,1415.18 2294.8,1415.18 \"/>\n",
       "<path clip-path=\"url(#clip082)\" d=\"M2404.33 1423.18 L2404.33 1423.18 L2513.87 1423.18 L2513.87 1423.18 L2404.33 1423.18 L2404.33 1423.18  Z\" fill=\"#009af9\" fill-rule=\"evenodd\" fill-opacity=\"1\"/>\n",
       "<polyline clip-path=\"url(#clip082)\" style=\"stroke:#000000; stroke-linecap:round; stroke-linejoin:round; stroke-width:4; stroke-opacity:1; fill:none\" points=\"2404.33,1423.18 2404.33,1423.18 2513.87,1423.18 2404.33,1423.18 \"/>\n",
       "<path clip-path=\"url(#clip082)\" d=\"M2513.87 1407.18 L2513.87 1423.18 L2623.41 1423.18 L2623.41 1407.18 L2513.87 1407.18 L2513.87 1407.18  Z\" fill=\"#009af9\" fill-rule=\"evenodd\" fill-opacity=\"1\"/>\n",
       "<polyline clip-path=\"url(#clip082)\" style=\"stroke:#000000; stroke-linecap:round; stroke-linejoin:round; stroke-width:4; stroke-opacity:1; fill:none\" points=\"2513.87,1407.18 2513.87,1423.18 2623.41,1423.18 2623.41,1407.18 2513.87,1407.18 \"/>\n",
       "<path clip-path=\"url(#clip082)\" d=\"M2623.41 1415.18 L2623.41 1423.18 L2732.94 1423.18 L2732.94 1415.18 L2623.41 1415.18 L2623.41 1415.18  Z\" fill=\"#009af9\" fill-rule=\"evenodd\" fill-opacity=\"1\"/>\n",
       "<polyline clip-path=\"url(#clip082)\" style=\"stroke:#000000; stroke-linecap:round; stroke-linejoin:round; stroke-width:4; stroke-opacity:1; fill:none\" points=\"2623.41,1415.18 2623.41,1423.18 2732.94,1423.18 2732.94,1415.18 2623.41,1415.18 \"/>\n",
       "<path clip-path=\"url(#clip082)\" d=\"M2732.94 1423.18 L2732.94 1423.18 L2842.48 1423.18 L2842.48 1423.18 L2732.94 1423.18 L2732.94 1423.18  Z\" fill=\"#009af9\" fill-rule=\"evenodd\" fill-opacity=\"1\"/>\n",
       "<polyline clip-path=\"url(#clip082)\" style=\"stroke:#000000; stroke-linecap:round; stroke-linejoin:round; stroke-width:4; stroke-opacity:1; fill:none\" points=\"2732.94,1423.18 2732.94,1423.18 2842.48,1423.18 2732.94,1423.18 \"/>\n",
       "<path clip-path=\"url(#clip082)\" d=\"M2842.48 1423.18 L2842.48 1423.18 L2952.02 1423.18 L2952.02 1423.18 L2842.48 1423.18 L2842.48 1423.18  Z\" fill=\"#009af9\" fill-rule=\"evenodd\" fill-opacity=\"1\"/>\n",
       "<polyline clip-path=\"url(#clip082)\" style=\"stroke:#000000; stroke-linecap:round; stroke-linejoin:round; stroke-width:4; stroke-opacity:1; fill:none\" points=\"2842.48,1423.18 2842.48,1423.18 2952.02,1423.18 2842.48,1423.18 \"/>\n",
       "<path clip-path=\"url(#clip082)\" d=\"M2952.02 1423.18 L2952.02 1423.18 L3061.56 1423.18 L3061.56 1423.18 L2952.02 1423.18 L2952.02 1423.18  Z\" fill=\"#009af9\" fill-rule=\"evenodd\" fill-opacity=\"1\"/>\n",
       "<polyline clip-path=\"url(#clip082)\" style=\"stroke:#000000; stroke-linecap:round; stroke-linejoin:round; stroke-width:4; stroke-opacity:1; fill:none\" points=\"2952.02,1423.18 2952.02,1423.18 3061.56,1423.18 2952.02,1423.18 \"/>\n",
       "<path clip-path=\"url(#clip082)\" d=\"M3061.56 1423.18 L3061.56 1423.18 L3171.09 1423.18 L3171.09 1423.18 L3061.56 1423.18 L3061.56 1423.18  Z\" fill=\"#009af9\" fill-rule=\"evenodd\" fill-opacity=\"1\"/>\n",
       "<polyline clip-path=\"url(#clip082)\" style=\"stroke:#000000; stroke-linecap:round; stroke-linejoin:round; stroke-width:4; stroke-opacity:1; fill:none\" points=\"3061.56,1423.18 3061.56,1423.18 3171.09,1423.18 3061.56,1423.18 \"/>\n",
       "<path clip-path=\"url(#clip082)\" d=\"M3171.09 1415.18 L3171.09 1423.18 L3280.63 1423.18 L3280.63 1415.18 L3171.09 1415.18 L3171.09 1415.18  Z\" fill=\"#009af9\" fill-rule=\"evenodd\" fill-opacity=\"1\"/>\n",
       "<polyline clip-path=\"url(#clip082)\" style=\"stroke:#000000; stroke-linecap:round; stroke-linejoin:round; stroke-width:4; stroke-opacity:1; fill:none\" points=\"3171.09,1415.18 3171.09,1423.18 3280.63,1423.18 3280.63,1415.18 3171.09,1415.18 \"/>\n",
       "<path clip-path=\"url(#clip082)\" d=\"M3280.63 1423.18 L3280.63 1423.18 L3390.17 1423.18 L3390.17 1423.18 L3280.63 1423.18 L3280.63 1423.18  Z\" fill=\"#009af9\" fill-rule=\"evenodd\" fill-opacity=\"1\"/>\n",
       "<polyline clip-path=\"url(#clip082)\" style=\"stroke:#000000; stroke-linecap:round; stroke-linejoin:round; stroke-width:4; stroke-opacity:1; fill:none\" points=\"3280.63,1423.18 3280.63,1423.18 3390.17,1423.18 3280.63,1423.18 \"/>\n",
       "<path clip-path=\"url(#clip082)\" d=\"M3390.17 1423.18 L3390.17 1423.18 L3499.71 1423.18 L3499.71 1423.18 L3390.17 1423.18 L3390.17 1423.18  Z\" fill=\"#009af9\" fill-rule=\"evenodd\" fill-opacity=\"1\"/>\n",
       "<polyline clip-path=\"url(#clip082)\" style=\"stroke:#000000; stroke-linecap:round; stroke-linejoin:round; stroke-width:4; stroke-opacity:1; fill:none\" points=\"3390.17,1423.18 3390.17,1423.18 3499.71,1423.18 3390.17,1423.18 \"/>\n",
       "<path clip-path=\"url(#clip082)\" d=\"M3499.71 1423.18 L3499.71 1423.18 L3609.24 1423.18 L3609.24 1423.18 L3499.71 1423.18 L3499.71 1423.18  Z\" fill=\"#009af9\" fill-rule=\"evenodd\" fill-opacity=\"1\"/>\n",
       "<polyline clip-path=\"url(#clip082)\" style=\"stroke:#000000; stroke-linecap:round; stroke-linejoin:round; stroke-width:4; stroke-opacity:1; fill:none\" points=\"3499.71,1423.18 3499.71,1423.18 3609.24,1423.18 3499.71,1423.18 \"/>\n",
       "<path clip-path=\"url(#clip082)\" d=\"M3609.24 1423.18 L3609.24 1423.18 L3718.78 1423.18 L3718.78 1423.18 L3609.24 1423.18 L3609.24 1423.18  Z\" fill=\"#009af9\" fill-rule=\"evenodd\" fill-opacity=\"1\"/>\n",
       "<polyline clip-path=\"url(#clip082)\" style=\"stroke:#000000; stroke-linecap:round; stroke-linejoin:round; stroke-width:4; stroke-opacity:1; fill:none\" points=\"3609.24,1423.18 3609.24,1423.18 3718.78,1423.18 3609.24,1423.18 \"/>\n",
       "<path clip-path=\"url(#clip082)\" d=\"M3718.78 1423.18 L3718.78 1423.18 L3828.32 1423.18 L3828.32 1423.18 L3718.78 1423.18 L3718.78 1423.18  Z\" fill=\"#009af9\" fill-rule=\"evenodd\" fill-opacity=\"1\"/>\n",
       "<polyline clip-path=\"url(#clip082)\" style=\"stroke:#000000; stroke-linecap:round; stroke-linejoin:round; stroke-width:4; stroke-opacity:1; fill:none\" points=\"3718.78,1423.18 3718.78,1423.18 3828.32,1423.18 3718.78,1423.18 \"/>\n",
       "<path clip-path=\"url(#clip082)\" d=\"M3828.32 1423.18 L3828.32 1423.18 L3937.85 1423.18 L3937.85 1423.18 L3828.32 1423.18 L3828.32 1423.18  Z\" fill=\"#009af9\" fill-rule=\"evenodd\" fill-opacity=\"1\"/>\n",
       "<polyline clip-path=\"url(#clip082)\" style=\"stroke:#000000; stroke-linecap:round; stroke-linejoin:round; stroke-width:4; stroke-opacity:1; fill:none\" points=\"3828.32,1423.18 3828.32,1423.18 3937.85,1423.18 3828.32,1423.18 \"/>\n",
       "<path clip-path=\"url(#clip082)\" d=\"M3937.85 1423.18 L3937.85 1423.18 L4047.39 1423.18 L4047.39 1423.18 L3937.85 1423.18 L3937.85 1423.18  Z\" fill=\"#009af9\" fill-rule=\"evenodd\" fill-opacity=\"1\"/>\n",
       "<polyline clip-path=\"url(#clip082)\" style=\"stroke:#000000; stroke-linecap:round; stroke-linejoin:round; stroke-width:4; stroke-opacity:1; fill:none\" points=\"3937.85,1423.18 3937.85,1423.18 4047.39,1423.18 3937.85,1423.18 \"/>\n",
       "<path clip-path=\"url(#clip082)\" d=\"M4047.39 1423.18 L4047.39 1423.18 L4156.93 1423.18 L4156.93 1423.18 L4047.39 1423.18 L4047.39 1423.18  Z\" fill=\"#009af9\" fill-rule=\"evenodd\" fill-opacity=\"1\"/>\n",
       "<polyline clip-path=\"url(#clip082)\" style=\"stroke:#000000; stroke-linecap:round; stroke-linejoin:round; stroke-width:4; stroke-opacity:1; fill:none\" points=\"4047.39,1423.18 4047.39,1423.18 4156.93,1423.18 4047.39,1423.18 \"/>\n",
       "<path clip-path=\"url(#clip082)\" d=\"M4156.93 1423.18 L4156.93 1423.18 L4266.47 1423.18 L4266.47 1423.18 L4156.93 1423.18 L4156.93 1423.18  Z\" fill=\"#009af9\" fill-rule=\"evenodd\" fill-opacity=\"1\"/>\n",
       "<polyline clip-path=\"url(#clip082)\" style=\"stroke:#000000; stroke-linecap:round; stroke-linejoin:round; stroke-width:4; stroke-opacity:1; fill:none\" points=\"4156.93,1423.18 4156.93,1423.18 4266.47,1423.18 4156.93,1423.18 \"/>\n",
       "<path clip-path=\"url(#clip082)\" d=\"M4266.47 1423.18 L4266.47 1423.18 L4376 1423.18 L4376 1423.18 L4266.47 1423.18 L4266.47 1423.18  Z\" fill=\"#009af9\" fill-rule=\"evenodd\" fill-opacity=\"1\"/>\n",
       "<polyline clip-path=\"url(#clip082)\" style=\"stroke:#000000; stroke-linecap:round; stroke-linejoin:round; stroke-width:4; stroke-opacity:1; fill:none\" points=\"4266.47,1423.18 4266.47,1423.18 4376,1423.18 4266.47,1423.18 \"/>\n",
       "<path clip-path=\"url(#clip082)\" d=\"M4376 1423.18 L4376 1423.18 L4485.54 1423.18 L4485.54 1423.18 L4376 1423.18 L4376 1423.18  Z\" fill=\"#009af9\" fill-rule=\"evenodd\" fill-opacity=\"1\"/>\n",
       "<polyline clip-path=\"url(#clip082)\" style=\"stroke:#000000; stroke-linecap:round; stroke-linejoin:round; stroke-width:4; stroke-opacity:1; fill:none\" points=\"4376,1423.18 4376,1423.18 4485.54,1423.18 4376,1423.18 \"/>\n",
       "<path clip-path=\"url(#clip082)\" d=\"M4485.54 1423.18 L4485.54 1423.18 L4595.08 1423.18 L4595.08 1423.18 L4485.54 1423.18 L4485.54 1423.18  Z\" fill=\"#009af9\" fill-rule=\"evenodd\" fill-opacity=\"1\"/>\n",
       "<polyline clip-path=\"url(#clip082)\" style=\"stroke:#000000; stroke-linecap:round; stroke-linejoin:round; stroke-width:4; stroke-opacity:1; fill:none\" points=\"4485.54,1423.18 4485.54,1423.18 4595.08,1423.18 4485.54,1423.18 \"/>\n",
       "<path clip-path=\"url(#clip082)\" d=\"M4595.08 1423.18 L4595.08 1423.18 L4704.62 1423.18 L4704.62 1423.18 L4595.08 1423.18 L4595.08 1423.18  Z\" fill=\"#009af9\" fill-rule=\"evenodd\" fill-opacity=\"1\"/>\n",
       "<polyline clip-path=\"url(#clip082)\" style=\"stroke:#000000; stroke-linecap:round; stroke-linejoin:round; stroke-width:4; stroke-opacity:1; fill:none\" points=\"4595.08,1423.18 4595.08,1423.18 4704.62,1423.18 4595.08,1423.18 \"/>\n",
       "<path clip-path=\"url(#clip082)\" d=\"M4704.62 1423.18 L4704.62 1423.18 L4814.15 1423.18 L4814.15 1423.18 L4704.62 1423.18 L4704.62 1423.18  Z\" fill=\"#009af9\" fill-rule=\"evenodd\" fill-opacity=\"1\"/>\n",
       "<polyline clip-path=\"url(#clip082)\" style=\"stroke:#000000; stroke-linecap:round; stroke-linejoin:round; stroke-width:4; stroke-opacity:1; fill:none\" points=\"4704.62,1423.18 4704.62,1423.18 4814.15,1423.18 4704.62,1423.18 \"/>\n",
       "<path clip-path=\"url(#clip082)\" d=\"M4814.15 1415.18 L4814.15 1423.18 L4923.69 1423.18 L4923.69 1415.18 L4814.15 1415.18 L4814.15 1415.18  Z\" fill=\"#009af9\" fill-rule=\"evenodd\" fill-opacity=\"1\"/>\n",
       "<polyline clip-path=\"url(#clip082)\" style=\"stroke:#000000; stroke-linecap:round; stroke-linejoin:round; stroke-width:4; stroke-opacity:1; fill:none\" points=\"4814.15,1415.18 4814.15,1423.18 4923.69,1423.18 4923.69,1415.18 4814.15,1415.18 \"/>\n",
       "<path clip-path=\"url(#clip082)\" d=\"M4923.69 1423.18 L4923.69 1423.18 L5033.23 1423.18 L5033.23 1423.18 L4923.69 1423.18 L4923.69 1423.18  Z\" fill=\"#009af9\" fill-rule=\"evenodd\" fill-opacity=\"1\"/>\n",
       "<polyline clip-path=\"url(#clip082)\" style=\"stroke:#000000; stroke-linecap:round; stroke-linejoin:round; stroke-width:4; stroke-opacity:1; fill:none\" points=\"4923.69,1423.18 4923.69,1423.18 5033.23,1423.18 4923.69,1423.18 \"/>\n",
       "<path clip-path=\"url(#clip082)\" d=\"M5033.23 1423.18 L5033.23 1423.18 L5142.77 1423.18 L5142.77 1423.18 L5033.23 1423.18 L5033.23 1423.18  Z\" fill=\"#009af9\" fill-rule=\"evenodd\" fill-opacity=\"1\"/>\n",
       "<polyline clip-path=\"url(#clip082)\" style=\"stroke:#000000; stroke-linecap:round; stroke-linejoin:round; stroke-width:4; stroke-opacity:1; fill:none\" points=\"5033.23,1423.18 5033.23,1423.18 5142.77,1423.18 5033.23,1423.18 \"/>\n",
       "<path clip-path=\"url(#clip082)\" d=\"M5142.77 1423.18 L5142.77 1423.18 L5252.3 1423.18 L5252.3 1423.18 L5142.77 1423.18 L5142.77 1423.18  Z\" fill=\"#009af9\" fill-rule=\"evenodd\" fill-opacity=\"1\"/>\n",
       "<polyline clip-path=\"url(#clip082)\" style=\"stroke:#000000; stroke-linecap:round; stroke-linejoin:round; stroke-width:4; stroke-opacity:1; fill:none\" points=\"5142.77,1423.18 5142.77,1423.18 5252.3,1423.18 5142.77,1423.18 \"/>\n",
       "<path clip-path=\"url(#clip082)\" d=\"M5252.3 1423.18 L5252.3 1423.18 L5361.84 1423.18 L5361.84 1423.18 L5252.3 1423.18 L5252.3 1423.18  Z\" fill=\"#009af9\" fill-rule=\"evenodd\" fill-opacity=\"1\"/>\n",
       "<polyline clip-path=\"url(#clip082)\" style=\"stroke:#000000; stroke-linecap:round; stroke-linejoin:round; stroke-width:4; stroke-opacity:1; fill:none\" points=\"5252.3,1423.18 5252.3,1423.18 5361.84,1423.18 5252.3,1423.18 \"/>\n",
       "<path clip-path=\"url(#clip082)\" d=\"M5361.84 1423.18 L5361.84 1423.18 L5471.38 1423.18 L5471.38 1423.18 L5361.84 1423.18 L5361.84 1423.18  Z\" fill=\"#009af9\" fill-rule=\"evenodd\" fill-opacity=\"1\"/>\n",
       "<polyline clip-path=\"url(#clip082)\" style=\"stroke:#000000; stroke-linecap:round; stroke-linejoin:round; stroke-width:4; stroke-opacity:1; fill:none\" points=\"5361.84,1423.18 5361.84,1423.18 5471.38,1423.18 5361.84,1423.18 \"/>\n",
       "<path clip-path=\"url(#clip082)\" d=\"M5471.38 1423.18 L5471.38 1423.18 L5580.91 1423.18 L5580.91 1423.18 L5471.38 1423.18 L5471.38 1423.18  Z\" fill=\"#009af9\" fill-rule=\"evenodd\" fill-opacity=\"1\"/>\n",
       "<polyline clip-path=\"url(#clip082)\" style=\"stroke:#000000; stroke-linecap:round; stroke-linejoin:round; stroke-width:4; stroke-opacity:1; fill:none\" points=\"5471.38,1423.18 5471.38,1423.18 5580.91,1423.18 5471.38,1423.18 \"/>\n",
       "<path clip-path=\"url(#clip082)\" d=\"M5580.91 1423.18 L5580.91 1423.18 L5690.45 1423.18 L5690.45 1423.18 L5580.91 1423.18 L5580.91 1423.18  Z\" fill=\"#009af9\" fill-rule=\"evenodd\" fill-opacity=\"1\"/>\n",
       "<polyline clip-path=\"url(#clip082)\" style=\"stroke:#000000; stroke-linecap:round; stroke-linejoin:round; stroke-width:4; stroke-opacity:1; fill:none\" points=\"5580.91,1423.18 5580.91,1423.18 5690.45,1423.18 5580.91,1423.18 \"/>\n",
       "<path clip-path=\"url(#clip082)\" d=\"M5690.45 1423.18 L5690.45 1423.18 L5799.99 1423.18 L5799.99 1423.18 L5690.45 1423.18 L5690.45 1423.18  Z\" fill=\"#009af9\" fill-rule=\"evenodd\" fill-opacity=\"1\"/>\n",
       "<polyline clip-path=\"url(#clip082)\" style=\"stroke:#000000; stroke-linecap:round; stroke-linejoin:round; stroke-width:4; stroke-opacity:1; fill:none\" points=\"5690.45,1423.18 5690.45,1423.18 5799.99,1423.18 5690.45,1423.18 \"/>\n",
       "<path clip-path=\"url(#clip082)\" d=\"M5799.99 1423.18 L5799.99 1423.18 L5909.53 1423.18 L5909.53 1423.18 L5799.99 1423.18 L5799.99 1423.18  Z\" fill=\"#009af9\" fill-rule=\"evenodd\" fill-opacity=\"1\"/>\n",
       "<polyline clip-path=\"url(#clip082)\" style=\"stroke:#000000; stroke-linecap:round; stroke-linejoin:round; stroke-width:4; stroke-opacity:1; fill:none\" points=\"5799.99,1423.18 5799.99,1423.18 5909.53,1423.18 5799.99,1423.18 \"/>\n",
       "<path clip-path=\"url(#clip082)\" d=\"M5909.53 1423.18 L5909.53 1423.18 L6019.06 1423.18 L6019.06 1423.18 L5909.53 1423.18 L5909.53 1423.18  Z\" fill=\"#009af9\" fill-rule=\"evenodd\" fill-opacity=\"1\"/>\n",
       "<polyline clip-path=\"url(#clip082)\" style=\"stroke:#000000; stroke-linecap:round; stroke-linejoin:round; stroke-width:4; stroke-opacity:1; fill:none\" points=\"5909.53,1423.18 5909.53,1423.18 6019.06,1423.18 5909.53,1423.18 \"/>\n",
       "<path clip-path=\"url(#clip082)\" d=\"M6019.06 1423.18 L6019.06 1423.18 L6128.6 1423.18 L6128.6 1423.18 L6019.06 1423.18 L6019.06 1423.18  Z\" fill=\"#009af9\" fill-rule=\"evenodd\" fill-opacity=\"1\"/>\n",
       "<polyline clip-path=\"url(#clip082)\" style=\"stroke:#000000; stroke-linecap:round; stroke-linejoin:round; stroke-width:4; stroke-opacity:1; fill:none\" points=\"6019.06,1423.18 6019.06,1423.18 6128.6,1423.18 6019.06,1423.18 \"/>\n",
       "<path clip-path=\"url(#clip082)\" d=\"M6128.6 1423.18 L6128.6 1423.18 L6238.14 1423.18 L6238.14 1423.18 L6128.6 1423.18 L6128.6 1423.18  Z\" fill=\"#009af9\" fill-rule=\"evenodd\" fill-opacity=\"1\"/>\n",
       "<polyline clip-path=\"url(#clip082)\" style=\"stroke:#000000; stroke-linecap:round; stroke-linejoin:round; stroke-width:4; stroke-opacity:1; fill:none\" points=\"6128.6,1423.18 6128.6,1423.18 6238.14,1423.18 6128.6,1423.18 \"/>\n",
       "<path clip-path=\"url(#clip082)\" d=\"M6238.14 1423.18 L6238.14 1423.18 L6347.68 1423.18 L6347.68 1423.18 L6238.14 1423.18 L6238.14 1423.18  Z\" fill=\"#009af9\" fill-rule=\"evenodd\" fill-opacity=\"1\"/>\n",
       "<polyline clip-path=\"url(#clip082)\" style=\"stroke:#000000; stroke-linecap:round; stroke-linejoin:round; stroke-width:4; stroke-opacity:1; fill:none\" points=\"6238.14,1423.18 6238.14,1423.18 6347.68,1423.18 6238.14,1423.18 \"/>\n",
       "<path clip-path=\"url(#clip082)\" d=\"M6347.68 1423.18 L6347.68 1423.18 L6457.21 1423.18 L6457.21 1423.18 L6347.68 1423.18 L6347.68 1423.18  Z\" fill=\"#009af9\" fill-rule=\"evenodd\" fill-opacity=\"1\"/>\n",
       "<polyline clip-path=\"url(#clip082)\" style=\"stroke:#000000; stroke-linecap:round; stroke-linejoin:round; stroke-width:4; stroke-opacity:1; fill:none\" points=\"6347.68,1423.18 6347.68,1423.18 6457.21,1423.18 6347.68,1423.18 \"/>\n",
       "<path clip-path=\"url(#clip082)\" d=\"M6457.21 1423.18 L6457.21 1423.18 L6566.75 1423.18 L6566.75 1423.18 L6457.21 1423.18 L6457.21 1423.18  Z\" fill=\"#009af9\" fill-rule=\"evenodd\" fill-opacity=\"1\"/>\n",
       "<polyline clip-path=\"url(#clip082)\" style=\"stroke:#000000; stroke-linecap:round; stroke-linejoin:round; stroke-width:4; stroke-opacity:1; fill:none\" points=\"6457.21,1423.18 6457.21,1423.18 6566.75,1423.18 6457.21,1423.18 \"/>\n",
       "<path clip-path=\"url(#clip082)\" d=\"M6566.75 1423.18 L6566.75 1423.18 L6676.29 1423.18 L6676.29 1423.18 L6566.75 1423.18 L6566.75 1423.18  Z\" fill=\"#009af9\" fill-rule=\"evenodd\" fill-opacity=\"1\"/>\n",
       "<polyline clip-path=\"url(#clip082)\" style=\"stroke:#000000; stroke-linecap:round; stroke-linejoin:round; stroke-width:4; stroke-opacity:1; fill:none\" points=\"6566.75,1423.18 6566.75,1423.18 6676.29,1423.18 6566.75,1423.18 \"/>\n",
       "<path clip-path=\"url(#clip082)\" d=\"M6676.29 1423.18 L6676.29 1423.18 L6785.82 1423.18 L6785.82 1423.18 L6676.29 1423.18 L6676.29 1423.18  Z\" fill=\"#009af9\" fill-rule=\"evenodd\" fill-opacity=\"1\"/>\n",
       "<polyline clip-path=\"url(#clip082)\" style=\"stroke:#000000; stroke-linecap:round; stroke-linejoin:round; stroke-width:4; stroke-opacity:1; fill:none\" points=\"6676.29,1423.18 6676.29,1423.18 6785.82,1423.18 6676.29,1423.18 \"/>\n",
       "<path clip-path=\"url(#clip082)\" d=\"M6785.82 1423.18 L6785.82 1423.18 L6895.36 1423.18 L6895.36 1423.18 L6785.82 1423.18 L6785.82 1423.18  Z\" fill=\"#009af9\" fill-rule=\"evenodd\" fill-opacity=\"1\"/>\n",
       "<polyline clip-path=\"url(#clip082)\" style=\"stroke:#000000; stroke-linecap:round; stroke-linejoin:round; stroke-width:4; stroke-opacity:1; fill:none\" points=\"6785.82,1423.18 6785.82,1423.18 6895.36,1423.18 6785.82,1423.18 \"/>\n",
       "<path clip-path=\"url(#clip082)\" d=\"M6895.36 1423.18 L6895.36 1423.18 L7004.9 1423.18 L7004.9 1423.18 L6895.36 1423.18 L6895.36 1423.18  Z\" fill=\"#009af9\" fill-rule=\"evenodd\" fill-opacity=\"1\"/>\n",
       "<polyline clip-path=\"url(#clip082)\" style=\"stroke:#000000; stroke-linecap:round; stroke-linejoin:round; stroke-width:4; stroke-opacity:1; fill:none\" points=\"6895.36,1423.18 6895.36,1423.18 7004.9,1423.18 6895.36,1423.18 \"/>\n",
       "<path clip-path=\"url(#clip082)\" d=\"M7004.9 1423.18 L7004.9 1423.18 L7114.44 1423.18 L7114.44 1423.18 L7004.9 1423.18 L7004.9 1423.18  Z\" fill=\"#009af9\" fill-rule=\"evenodd\" fill-opacity=\"1\"/>\n",
       "<polyline clip-path=\"url(#clip082)\" style=\"stroke:#000000; stroke-linecap:round; stroke-linejoin:round; stroke-width:4; stroke-opacity:1; fill:none\" points=\"7004.9,1423.18 7004.9,1423.18 7114.44,1423.18 7004.9,1423.18 \"/>\n",
       "<path clip-path=\"url(#clip082)\" d=\"M7114.44 1423.18 L7114.44 1423.18 L7223.97 1423.18 L7223.97 1423.18 L7114.44 1423.18 L7114.44 1423.18  Z\" fill=\"#009af9\" fill-rule=\"evenodd\" fill-opacity=\"1\"/>\n",
       "<polyline clip-path=\"url(#clip082)\" style=\"stroke:#000000; stroke-linecap:round; stroke-linejoin:round; stroke-width:4; stroke-opacity:1; fill:none\" points=\"7114.44,1423.18 7114.44,1423.18 7223.97,1423.18 7114.44,1423.18 \"/>\n",
       "<path clip-path=\"url(#clip082)\" d=\"M7223.97 1423.18 L7223.97 1423.18 L7333.51 1423.18 L7333.51 1423.18 L7223.97 1423.18 L7223.97 1423.18  Z\" fill=\"#009af9\" fill-rule=\"evenodd\" fill-opacity=\"1\"/>\n",
       "<polyline clip-path=\"url(#clip082)\" style=\"stroke:#000000; stroke-linecap:round; stroke-linejoin:round; stroke-width:4; stroke-opacity:1; fill:none\" points=\"7223.97,1423.18 7223.97,1423.18 7333.51,1423.18 7223.97,1423.18 \"/>\n",
       "<path clip-path=\"url(#clip082)\" d=\"M7333.51 1423.18 L7333.51 1423.18 L7443.05 1423.18 L7443.05 1423.18 L7333.51 1423.18 L7333.51 1423.18  Z\" fill=\"#009af9\" fill-rule=\"evenodd\" fill-opacity=\"1\"/>\n",
       "<polyline clip-path=\"url(#clip082)\" style=\"stroke:#000000; stroke-linecap:round; stroke-linejoin:round; stroke-width:4; stroke-opacity:1; fill:none\" points=\"7333.51,1423.18 7333.51,1423.18 7443.05,1423.18 7333.51,1423.18 \"/>\n",
       "<path clip-path=\"url(#clip082)\" d=\"M7443.05 1423.18 L7443.05 1423.18 L7552.59 1423.18 L7552.59 1423.18 L7443.05 1423.18 L7443.05 1423.18  Z\" fill=\"#009af9\" fill-rule=\"evenodd\" fill-opacity=\"1\"/>\n",
       "<polyline clip-path=\"url(#clip082)\" style=\"stroke:#000000; stroke-linecap:round; stroke-linejoin:round; stroke-width:4; stroke-opacity:1; fill:none\" points=\"7443.05,1423.18 7443.05,1423.18 7552.59,1423.18 7443.05,1423.18 \"/>\n",
       "<path clip-path=\"url(#clip082)\" d=\"M7552.59 1423.18 L7552.59 1423.18 L7662.12 1423.18 L7662.12 1423.18 L7552.59 1423.18 L7552.59 1423.18  Z\" fill=\"#009af9\" fill-rule=\"evenodd\" fill-opacity=\"1\"/>\n",
       "<polyline clip-path=\"url(#clip082)\" style=\"stroke:#000000; stroke-linecap:round; stroke-linejoin:round; stroke-width:4; stroke-opacity:1; fill:none\" points=\"7552.59,1423.18 7552.59,1423.18 7662.12,1423.18 7552.59,1423.18 \"/>\n",
       "<path clip-path=\"url(#clip082)\" d=\"M7662.12 1423.18 L7662.12 1423.18 L7771.66 1423.18 L7771.66 1423.18 L7662.12 1423.18 L7662.12 1423.18  Z\" fill=\"#009af9\" fill-rule=\"evenodd\" fill-opacity=\"1\"/>\n",
       "<polyline clip-path=\"url(#clip082)\" style=\"stroke:#000000; stroke-linecap:round; stroke-linejoin:round; stroke-width:4; stroke-opacity:1; fill:none\" points=\"7662.12,1423.18 7662.12,1423.18 7771.66,1423.18 7662.12,1423.18 \"/>\n",
       "<path clip-path=\"url(#clip082)\" d=\"M7771.66 1423.18 L7771.66 1423.18 L7881.2 1423.18 L7881.2 1423.18 L7771.66 1423.18 L7771.66 1423.18  Z\" fill=\"#009af9\" fill-rule=\"evenodd\" fill-opacity=\"1\"/>\n",
       "<polyline clip-path=\"url(#clip082)\" style=\"stroke:#000000; stroke-linecap:round; stroke-linejoin:round; stroke-width:4; stroke-opacity:1; fill:none\" points=\"7771.66,1423.18 7771.66,1423.18 7881.2,1423.18 7771.66,1423.18 \"/>\n",
       "<path clip-path=\"url(#clip082)\" d=\"M7881.2 1423.18 L7881.2 1423.18 L7990.74 1423.18 L7990.74 1423.18 L7881.2 1423.18 L7881.2 1423.18  Z\" fill=\"#009af9\" fill-rule=\"evenodd\" fill-opacity=\"1\"/>\n",
       "<polyline clip-path=\"url(#clip082)\" style=\"stroke:#000000; stroke-linecap:round; stroke-linejoin:round; stroke-width:4; stroke-opacity:1; fill:none\" points=\"7881.2,1423.18 7881.2,1423.18 7990.74,1423.18 7881.2,1423.18 \"/>\n",
       "<path clip-path=\"url(#clip082)\" d=\"M7990.74 1423.18 L7990.74 1423.18 L8100.27 1423.18 L8100.27 1423.18 L7990.74 1423.18 L7990.74 1423.18  Z\" fill=\"#009af9\" fill-rule=\"evenodd\" fill-opacity=\"1\"/>\n",
       "<polyline clip-path=\"url(#clip082)\" style=\"stroke:#000000; stroke-linecap:round; stroke-linejoin:round; stroke-width:4; stroke-opacity:1; fill:none\" points=\"7990.74,1423.18 7990.74,1423.18 8100.27,1423.18 7990.74,1423.18 \"/>\n",
       "<path clip-path=\"url(#clip082)\" d=\"M8100.27 1423.18 L8100.27 1423.18 L8209.81 1423.18 L8209.81 1423.18 L8100.27 1423.18 L8100.27 1423.18  Z\" fill=\"#009af9\" fill-rule=\"evenodd\" fill-opacity=\"1\"/>\n",
       "<polyline clip-path=\"url(#clip082)\" style=\"stroke:#000000; stroke-linecap:round; stroke-linejoin:round; stroke-width:4; stroke-opacity:1; fill:none\" points=\"8100.27,1423.18 8100.27,1423.18 8209.81,1423.18 8100.27,1423.18 \"/>\n",
       "<path clip-path=\"url(#clip082)\" d=\"M8209.81 1423.18 L8209.81 1423.18 L8319.35 1423.18 L8319.35 1423.18 L8209.81 1423.18 L8209.81 1423.18  Z\" fill=\"#009af9\" fill-rule=\"evenodd\" fill-opacity=\"1\"/>\n",
       "<polyline clip-path=\"url(#clip082)\" style=\"stroke:#000000; stroke-linecap:round; stroke-linejoin:round; stroke-width:4; stroke-opacity:1; fill:none\" points=\"8209.81,1423.18 8209.81,1423.18 8319.35,1423.18 8209.81,1423.18 \"/>\n",
       "<path clip-path=\"url(#clip082)\" d=\"M8319.35 1423.18 L8319.35 1423.18 L8428.88 1423.18 L8428.88 1423.18 L8319.35 1423.18 L8319.35 1423.18  Z\" fill=\"#009af9\" fill-rule=\"evenodd\" fill-opacity=\"1\"/>\n",
       "<polyline clip-path=\"url(#clip082)\" style=\"stroke:#000000; stroke-linecap:round; stroke-linejoin:round; stroke-width:4; stroke-opacity:1; fill:none\" points=\"8319.35,1423.18 8319.35,1423.18 8428.88,1423.18 8319.35,1423.18 \"/>\n",
       "<path clip-path=\"url(#clip082)\" d=\"M8428.88 1423.18 L8428.88 1423.18 L8538.42 1423.18 L8538.42 1423.18 L8428.88 1423.18 L8428.88 1423.18  Z\" fill=\"#009af9\" fill-rule=\"evenodd\" fill-opacity=\"1\"/>\n",
       "<polyline clip-path=\"url(#clip082)\" style=\"stroke:#000000; stroke-linecap:round; stroke-linejoin:round; stroke-width:4; stroke-opacity:1; fill:none\" points=\"8428.88,1423.18 8428.88,1423.18 8538.42,1423.18 8428.88,1423.18 \"/>\n",
       "<path clip-path=\"url(#clip082)\" d=\"M8538.42 1423.18 L8538.42 1423.18 L8647.96 1423.18 L8647.96 1423.18 L8538.42 1423.18 L8538.42 1423.18  Z\" fill=\"#009af9\" fill-rule=\"evenodd\" fill-opacity=\"1\"/>\n",
       "<polyline clip-path=\"url(#clip082)\" style=\"stroke:#000000; stroke-linecap:round; stroke-linejoin:round; stroke-width:4; stroke-opacity:1; fill:none\" points=\"8538.42,1423.18 8538.42,1423.18 8647.96,1423.18 8538.42,1423.18 \"/>\n",
       "<path clip-path=\"url(#clip082)\" d=\"M8647.96 1423.18 L8647.96 1423.18 L8757.5 1423.18 L8757.5 1423.18 L8647.96 1423.18 L8647.96 1423.18  Z\" fill=\"#009af9\" fill-rule=\"evenodd\" fill-opacity=\"1\"/>\n",
       "<polyline clip-path=\"url(#clip082)\" style=\"stroke:#000000; stroke-linecap:round; stroke-linejoin:round; stroke-width:4; stroke-opacity:1; fill:none\" points=\"8647.96,1423.18 8647.96,1423.18 8757.5,1423.18 8647.96,1423.18 \"/>\n",
       "<path clip-path=\"url(#clip082)\" d=\"M8757.5 1423.18 L8757.5 1423.18 L8867.03 1423.18 L8867.03 1423.18 L8757.5 1423.18 L8757.5 1423.18  Z\" fill=\"#009af9\" fill-rule=\"evenodd\" fill-opacity=\"1\"/>\n",
       "<polyline clip-path=\"url(#clip082)\" style=\"stroke:#000000; stroke-linecap:round; stroke-linejoin:round; stroke-width:4; stroke-opacity:1; fill:none\" points=\"8757.5,1423.18 8757.5,1423.18 8867.03,1423.18 8757.5,1423.18 \"/>\n",
       "<path clip-path=\"url(#clip082)\" d=\"M8867.03 1423.18 L8867.03 1423.18 L8976.57 1423.18 L8976.57 1423.18 L8867.03 1423.18 L8867.03 1423.18  Z\" fill=\"#009af9\" fill-rule=\"evenodd\" fill-opacity=\"1\"/>\n",
       "<polyline clip-path=\"url(#clip082)\" style=\"stroke:#000000; stroke-linecap:round; stroke-linejoin:round; stroke-width:4; stroke-opacity:1; fill:none\" points=\"8867.03,1423.18 8867.03,1423.18 8976.57,1423.18 8867.03,1423.18 \"/>\n",
       "<path clip-path=\"url(#clip082)\" d=\"M8976.57 1423.18 L8976.57 1423.18 L9086.11 1423.18 L9086.11 1423.18 L8976.57 1423.18 L8976.57 1423.18  Z\" fill=\"#009af9\" fill-rule=\"evenodd\" fill-opacity=\"1\"/>\n",
       "<polyline clip-path=\"url(#clip082)\" style=\"stroke:#000000; stroke-linecap:round; stroke-linejoin:round; stroke-width:4; stroke-opacity:1; fill:none\" points=\"8976.57,1423.18 8976.57,1423.18 9086.11,1423.18 8976.57,1423.18 \"/>\n",
       "<path clip-path=\"url(#clip082)\" d=\"M9086.11 1423.18 L9086.11 1423.18 L9195.65 1423.18 L9195.65 1423.18 L9086.11 1423.18 L9086.11 1423.18  Z\" fill=\"#009af9\" fill-rule=\"evenodd\" fill-opacity=\"1\"/>\n",
       "<polyline clip-path=\"url(#clip082)\" style=\"stroke:#000000; stroke-linecap:round; stroke-linejoin:round; stroke-width:4; stroke-opacity:1; fill:none\" points=\"9086.11,1423.18 9086.11,1423.18 9195.65,1423.18 9086.11,1423.18 \"/>\n",
       "<path clip-path=\"url(#clip082)\" d=\"M9195.65 1423.18 L9195.65 1423.18 L9305.18 1423.18 L9305.18 1423.18 L9195.65 1423.18 L9195.65 1423.18  Z\" fill=\"#009af9\" fill-rule=\"evenodd\" fill-opacity=\"1\"/>\n",
       "<polyline clip-path=\"url(#clip082)\" style=\"stroke:#000000; stroke-linecap:round; stroke-linejoin:round; stroke-width:4; stroke-opacity:1; fill:none\" points=\"9195.65,1423.18 9195.65,1423.18 9305.18,1423.18 9195.65,1423.18 \"/>\n",
       "<path clip-path=\"url(#clip082)\" d=\"M9305.18 1423.18 L9305.18 1423.18 L9414.72 1423.18 L9414.72 1423.18 L9305.18 1423.18 L9305.18 1423.18  Z\" fill=\"#009af9\" fill-rule=\"evenodd\" fill-opacity=\"1\"/>\n",
       "<polyline clip-path=\"url(#clip082)\" style=\"stroke:#000000; stroke-linecap:round; stroke-linejoin:round; stroke-width:4; stroke-opacity:1; fill:none\" points=\"9305.18,1423.18 9305.18,1423.18 9414.72,1423.18 9305.18,1423.18 \"/>\n",
       "<path clip-path=\"url(#clip082)\" d=\"M9414.72 1415.18 L9414.72 1423.18 L9524.26 1423.18 L9524.26 1415.18 L9414.72 1415.18 L9414.72 1415.18  Z\" fill=\"#009af9\" fill-rule=\"evenodd\" fill-opacity=\"1\"/>\n",
       "<polyline clip-path=\"url(#clip082)\" style=\"stroke:#000000; stroke-linecap:round; stroke-linejoin:round; stroke-width:4; stroke-opacity:1; fill:none\" points=\"9414.72,1415.18 9414.72,1423.18 9524.26,1423.18 9524.26,1415.18 9414.72,1415.18 \"/>\n",
       "<path clip-path=\"url(#clip082)\" d=\"M9524.26 1423.18 L9524.26 1423.18 L9633.79 1423.18 L9633.79 1423.18 L9524.26 1423.18 L9524.26 1423.18  Z\" fill=\"#009af9\" fill-rule=\"evenodd\" fill-opacity=\"1\"/>\n",
       "<polyline clip-path=\"url(#clip082)\" style=\"stroke:#000000; stroke-linecap:round; stroke-linejoin:round; stroke-width:4; stroke-opacity:1; fill:none\" points=\"9524.26,1423.18 9524.26,1423.18 9633.79,1423.18 9524.26,1423.18 \"/>\n",
       "<path clip-path=\"url(#clip082)\" d=\"M9633.79 1423.18 L9633.79 1423.18 L9743.33 1423.18 L9743.33 1423.18 L9633.79 1423.18 L9633.79 1423.18  Z\" fill=\"#009af9\" fill-rule=\"evenodd\" fill-opacity=\"1\"/>\n",
       "<polyline clip-path=\"url(#clip082)\" style=\"stroke:#000000; stroke-linecap:round; stroke-linejoin:round; stroke-width:4; stroke-opacity:1; fill:none\" points=\"9633.79,1423.18 9633.79,1423.18 9743.33,1423.18 9633.79,1423.18 \"/>\n",
       "<path clip-path=\"url(#clip082)\" d=\"M9743.33 1423.18 L9743.33 1423.18 L9852.87 1423.18 L9852.87 1423.18 L9743.33 1423.18 L9743.33 1423.18  Z\" fill=\"#009af9\" fill-rule=\"evenodd\" fill-opacity=\"1\"/>\n",
       "<polyline clip-path=\"url(#clip082)\" style=\"stroke:#000000; stroke-linecap:round; stroke-linejoin:round; stroke-width:4; stroke-opacity:1; fill:none\" points=\"9743.33,1423.18 9743.33,1423.18 9852.87,1423.18 9743.33,1423.18 \"/>\n",
       "<path clip-path=\"url(#clip082)\" d=\"M9852.87 1423.18 L9852.87 1423.18 L9962.41 1423.18 L9962.41 1423.18 L9852.87 1423.18 L9852.87 1423.18  Z\" fill=\"#009af9\" fill-rule=\"evenodd\" fill-opacity=\"1\"/>\n",
       "<polyline clip-path=\"url(#clip082)\" style=\"stroke:#000000; stroke-linecap:round; stroke-linejoin:round; stroke-width:4; stroke-opacity:1; fill:none\" points=\"9852.87,1423.18 9852.87,1423.18 9962.41,1423.18 9852.87,1423.18 \"/>\n",
       "<path clip-path=\"url(#clip082)\" d=\"M9962.41 1423.18 L9962.41 1423.18 L10071.9 1423.18 L10071.9 1423.18 L9962.41 1423.18 L9962.41 1423.18  Z\" fill=\"#009af9\" fill-rule=\"evenodd\" fill-opacity=\"1\"/>\n",
       "<polyline clip-path=\"url(#clip082)\" style=\"stroke:#000000; stroke-linecap:round; stroke-linejoin:round; stroke-width:4; stroke-opacity:1; fill:none\" points=\"9962.41,1423.18 9962.41,1423.18 10071.9,1423.18 9962.41,1423.18 \"/>\n",
       "<path clip-path=\"url(#clip082)\" d=\"M10071.9 1423.18 L10071.9 1423.18 L10181.5 1423.18 L10181.5 1423.18 L10071.9 1423.18 L10071.9 1423.18  Z\" fill=\"#009af9\" fill-rule=\"evenodd\" fill-opacity=\"1\"/>\n",
       "<polyline clip-path=\"url(#clip082)\" style=\"stroke:#000000; stroke-linecap:round; stroke-linejoin:round; stroke-width:4; stroke-opacity:1; fill:none\" points=\"10071.9,1423.18 10071.9,1423.18 10181.5,1423.18 10071.9,1423.18 \"/>\n",
       "<path clip-path=\"url(#clip082)\" d=\"M10181.5 1423.18 L10181.5 1423.18 L10291 1423.18 L10291 1423.18 L10181.5 1423.18 L10181.5 1423.18  Z\" fill=\"#009af9\" fill-rule=\"evenodd\" fill-opacity=\"1\"/>\n",
       "<polyline clip-path=\"url(#clip082)\" style=\"stroke:#000000; stroke-linecap:round; stroke-linejoin:round; stroke-width:4; stroke-opacity:1; fill:none\" points=\"10181.5,1423.18 10181.5,1423.18 10291,1423.18 10181.5,1423.18 \"/>\n",
       "<path clip-path=\"url(#clip082)\" d=\"M10291 1423.18 L10291 1423.18 L10400.6 1423.18 L10400.6 1423.18 L10291 1423.18 L10291 1423.18  Z\" fill=\"#009af9\" fill-rule=\"evenodd\" fill-opacity=\"1\"/>\n",
       "<polyline clip-path=\"url(#clip082)\" style=\"stroke:#000000; stroke-linecap:round; stroke-linejoin:round; stroke-width:4; stroke-opacity:1; fill:none\" points=\"10291,1423.18 10291,1423.18 10400.6,1423.18 10291,1423.18 \"/>\n",
       "<path clip-path=\"url(#clip082)\" d=\"M10400.6 1423.18 L10400.6 1423.18 L10510.1 1423.18 L10510.1 1423.18 L10400.6 1423.18 L10400.6 1423.18  Z\" fill=\"#009af9\" fill-rule=\"evenodd\" fill-opacity=\"1\"/>\n",
       "<polyline clip-path=\"url(#clip082)\" style=\"stroke:#000000; stroke-linecap:round; stroke-linejoin:round; stroke-width:4; stroke-opacity:1; fill:none\" points=\"10400.6,1423.18 10400.6,1423.18 10510.1,1423.18 10400.6,1423.18 \"/>\n",
       "<path clip-path=\"url(#clip082)\" d=\"M10510.1 1423.18 L10510.1 1423.18 L10619.6 1423.18 L10619.6 1423.18 L10510.1 1423.18 L10510.1 1423.18  Z\" fill=\"#009af9\" fill-rule=\"evenodd\" fill-opacity=\"1\"/>\n",
       "<polyline clip-path=\"url(#clip082)\" style=\"stroke:#000000; stroke-linecap:round; stroke-linejoin:round; stroke-width:4; stroke-opacity:1; fill:none\" points=\"10510.1,1423.18 10510.1,1423.18 10619.6,1423.18 10510.1,1423.18 \"/>\n",
       "<path clip-path=\"url(#clip082)\" d=\"M10619.6 1423.18 L10619.6 1423.18 L10729.2 1423.18 L10729.2 1423.18 L10619.6 1423.18 L10619.6 1423.18  Z\" fill=\"#009af9\" fill-rule=\"evenodd\" fill-opacity=\"1\"/>\n",
       "<polyline clip-path=\"url(#clip082)\" style=\"stroke:#000000; stroke-linecap:round; stroke-linejoin:round; stroke-width:4; stroke-opacity:1; fill:none\" points=\"10619.6,1423.18 10619.6,1423.18 10729.2,1423.18 10619.6,1423.18 \"/>\n",
       "<path clip-path=\"url(#clip082)\" d=\"M10729.2 1423.18 L10729.2 1423.18 L10838.7 1423.18 L10838.7 1423.18 L10729.2 1423.18 L10729.2 1423.18  Z\" fill=\"#009af9\" fill-rule=\"evenodd\" fill-opacity=\"1\"/>\n",
       "<polyline clip-path=\"url(#clip082)\" style=\"stroke:#000000; stroke-linecap:round; stroke-linejoin:round; stroke-width:4; stroke-opacity:1; fill:none\" points=\"10729.2,1423.18 10729.2,1423.18 10838.7,1423.18 10729.2,1423.18 \"/>\n",
       "<path clip-path=\"url(#clip082)\" d=\"M10838.7 1423.18 L10838.7 1423.18 L10948.2 1423.18 L10948.2 1423.18 L10838.7 1423.18 L10838.7 1423.18  Z\" fill=\"#009af9\" fill-rule=\"evenodd\" fill-opacity=\"1\"/>\n",
       "<polyline clip-path=\"url(#clip082)\" style=\"stroke:#000000; stroke-linecap:round; stroke-linejoin:round; stroke-width:4; stroke-opacity:1; fill:none\" points=\"10838.7,1423.18 10838.7,1423.18 10948.2,1423.18 10838.7,1423.18 \"/>\n",
       "<path clip-path=\"url(#clip082)\" d=\"M10948.2 1423.18 L10948.2 1423.18 L11057.8 1423.18 L11057.8 1423.18 L10948.2 1423.18 L10948.2 1423.18  Z\" fill=\"#009af9\" fill-rule=\"evenodd\" fill-opacity=\"1\"/>\n",
       "<polyline clip-path=\"url(#clip082)\" style=\"stroke:#000000; stroke-linecap:round; stroke-linejoin:round; stroke-width:4; stroke-opacity:1; fill:none\" points=\"10948.2,1423.18 10948.2,1423.18 11057.8,1423.18 10948.2,1423.18 \"/>\n",
       "<path clip-path=\"url(#clip082)\" d=\"M11057.8 1423.18 L11057.8 1423.18 L11167.3 1423.18 L11167.3 1423.18 L11057.8 1423.18 L11057.8 1423.18  Z\" fill=\"#009af9\" fill-rule=\"evenodd\" fill-opacity=\"1\"/>\n",
       "<polyline clip-path=\"url(#clip082)\" style=\"stroke:#000000; stroke-linecap:round; stroke-linejoin:round; stroke-width:4; stroke-opacity:1; fill:none\" points=\"11057.8,1423.18 11057.8,1423.18 11167.3,1423.18 11057.8,1423.18 \"/>\n",
       "<path clip-path=\"url(#clip082)\" d=\"M11167.3 1423.18 L11167.3 1423.18 L11276.9 1423.18 L11276.9 1423.18 L11167.3 1423.18 L11167.3 1423.18  Z\" fill=\"#009af9\" fill-rule=\"evenodd\" fill-opacity=\"1\"/>\n",
       "<polyline clip-path=\"url(#clip082)\" style=\"stroke:#000000; stroke-linecap:round; stroke-linejoin:round; stroke-width:4; stroke-opacity:1; fill:none\" points=\"11167.3,1423.18 11167.3,1423.18 11276.9,1423.18 11167.3,1423.18 \"/>\n",
       "<path clip-path=\"url(#clip082)\" d=\"M11276.9 1423.18 L11276.9 1423.18 L11386.4 1423.18 L11386.4 1423.18 L11276.9 1423.18 L11276.9 1423.18  Z\" fill=\"#009af9\" fill-rule=\"evenodd\" fill-opacity=\"1\"/>\n",
       "<polyline clip-path=\"url(#clip082)\" style=\"stroke:#000000; stroke-linecap:round; stroke-linejoin:round; stroke-width:4; stroke-opacity:1; fill:none\" points=\"11276.9,1423.18 11276.9,1423.18 11386.4,1423.18 11276.9,1423.18 \"/>\n",
       "<path clip-path=\"url(#clip082)\" d=\"M11386.4 1423.18 L11386.4 1423.18 L11495.9 1423.18 L11495.9 1423.18 L11386.4 1423.18 L11386.4 1423.18  Z\" fill=\"#009af9\" fill-rule=\"evenodd\" fill-opacity=\"1\"/>\n",
       "<polyline clip-path=\"url(#clip082)\" style=\"stroke:#000000; stroke-linecap:round; stroke-linejoin:round; stroke-width:4; stroke-opacity:1; fill:none\" points=\"11386.4,1423.18 11386.4,1423.18 11495.9,1423.18 11386.4,1423.18 \"/>\n",
       "<path clip-path=\"url(#clip082)\" d=\"M11495.9 1423.18 L11495.9 1423.18 L11605.5 1423.18 L11605.5 1423.18 L11495.9 1423.18 L11495.9 1423.18  Z\" fill=\"#009af9\" fill-rule=\"evenodd\" fill-opacity=\"1\"/>\n",
       "<polyline clip-path=\"url(#clip082)\" style=\"stroke:#000000; stroke-linecap:round; stroke-linejoin:round; stroke-width:4; stroke-opacity:1; fill:none\" points=\"11495.9,1423.18 11495.9,1423.18 11605.5,1423.18 11495.9,1423.18 \"/>\n",
       "<path clip-path=\"url(#clip082)\" d=\"M11605.5 1423.18 L11605.5 1423.18 L11715 1423.18 L11715 1423.18 L11605.5 1423.18 L11605.5 1423.18  Z\" fill=\"#009af9\" fill-rule=\"evenodd\" fill-opacity=\"1\"/>\n",
       "<polyline clip-path=\"url(#clip082)\" style=\"stroke:#000000; stroke-linecap:round; stroke-linejoin:round; stroke-width:4; stroke-opacity:1; fill:none\" points=\"11605.5,1423.18 11605.5,1423.18 11715,1423.18 11605.5,1423.18 \"/>\n",
       "<path clip-path=\"url(#clip082)\" d=\"M11715 1423.18 L11715 1423.18 L11824.5 1423.18 L11824.5 1423.18 L11715 1423.18 L11715 1423.18  Z\" fill=\"#009af9\" fill-rule=\"evenodd\" fill-opacity=\"1\"/>\n",
       "<polyline clip-path=\"url(#clip082)\" style=\"stroke:#000000; stroke-linecap:round; stroke-linejoin:round; stroke-width:4; stroke-opacity:1; fill:none\" points=\"11715,1423.18 11715,1423.18 11824.5,1423.18 11715,1423.18 \"/>\n",
       "<path clip-path=\"url(#clip082)\" d=\"M11824.5 1423.18 L11824.5 1423.18 L11934.1 1423.18 L11934.1 1423.18 L11824.5 1423.18 L11824.5 1423.18  Z\" fill=\"#009af9\" fill-rule=\"evenodd\" fill-opacity=\"1\"/>\n",
       "<polyline clip-path=\"url(#clip082)\" style=\"stroke:#000000; stroke-linecap:round; stroke-linejoin:round; stroke-width:4; stroke-opacity:1; fill:none\" points=\"11824.5,1423.18 11824.5,1423.18 11934.1,1423.18 11824.5,1423.18 \"/>\n",
       "<path clip-path=\"url(#clip082)\" d=\"M11934.1 1423.18 L11934.1 1423.18 L12043.6 1423.18 L12043.6 1423.18 L11934.1 1423.18 L11934.1 1423.18  Z\" fill=\"#009af9\" fill-rule=\"evenodd\" fill-opacity=\"1\"/>\n",
       "<polyline clip-path=\"url(#clip082)\" style=\"stroke:#000000; stroke-linecap:round; stroke-linejoin:round; stroke-width:4; stroke-opacity:1; fill:none\" points=\"11934.1,1423.18 11934.1,1423.18 12043.6,1423.18 11934.1,1423.18 \"/>\n",
       "<path clip-path=\"url(#clip082)\" d=\"M12043.6 1423.18 L12043.6 1423.18 L12153.2 1423.18 L12153.2 1423.18 L12043.6 1423.18 L12043.6 1423.18  Z\" fill=\"#009af9\" fill-rule=\"evenodd\" fill-opacity=\"1\"/>\n",
       "<polyline clip-path=\"url(#clip082)\" style=\"stroke:#000000; stroke-linecap:round; stroke-linejoin:round; stroke-width:4; stroke-opacity:1; fill:none\" points=\"12043.6,1423.18 12043.6,1423.18 12153.2,1423.18 12043.6,1423.18 \"/>\n",
       "<path clip-path=\"url(#clip082)\" d=\"M12153.2 1423.18 L12153.2 1423.18 L12262.7 1423.18 L12262.7 1423.18 L12153.2 1423.18 L12153.2 1423.18  Z\" fill=\"#009af9\" fill-rule=\"evenodd\" fill-opacity=\"1\"/>\n",
       "<polyline clip-path=\"url(#clip082)\" style=\"stroke:#000000; stroke-linecap:round; stroke-linejoin:round; stroke-width:4; stroke-opacity:1; fill:none\" points=\"12153.2,1423.18 12153.2,1423.18 12262.7,1423.18 12153.2,1423.18 \"/>\n",
       "<path clip-path=\"url(#clip082)\" d=\"M12262.7 1423.18 L12262.7 1423.18 L12372.2 1423.18 L12372.2 1423.18 L12262.7 1423.18 L12262.7 1423.18  Z\" fill=\"#009af9\" fill-rule=\"evenodd\" fill-opacity=\"1\"/>\n",
       "<polyline clip-path=\"url(#clip082)\" style=\"stroke:#000000; stroke-linecap:round; stroke-linejoin:round; stroke-width:4; stroke-opacity:1; fill:none\" points=\"12262.7,1423.18 12262.7,1423.18 12372.2,1423.18 12262.7,1423.18 \"/>\n",
       "<path clip-path=\"url(#clip082)\" d=\"M12372.2 1423.18 L12372.2 1423.18 L12481.8 1423.18 L12481.8 1423.18 L12372.2 1423.18 L12372.2 1423.18  Z\" fill=\"#009af9\" fill-rule=\"evenodd\" fill-opacity=\"1\"/>\n",
       "<polyline clip-path=\"url(#clip082)\" style=\"stroke:#000000; stroke-linecap:round; stroke-linejoin:round; stroke-width:4; stroke-opacity:1; fill:none\" points=\"12372.2,1423.18 12372.2,1423.18 12481.8,1423.18 12372.2,1423.18 \"/>\n",
       "<path clip-path=\"url(#clip082)\" d=\"M12481.8 1423.18 L12481.8 1423.18 L12591.3 1423.18 L12591.3 1423.18 L12481.8 1423.18 L12481.8 1423.18  Z\" fill=\"#009af9\" fill-rule=\"evenodd\" fill-opacity=\"1\"/>\n",
       "<polyline clip-path=\"url(#clip082)\" style=\"stroke:#000000; stroke-linecap:round; stroke-linejoin:round; stroke-width:4; stroke-opacity:1; fill:none\" points=\"12481.8,1423.18 12481.8,1423.18 12591.3,1423.18 12481.8,1423.18 \"/>\n",
       "<path clip-path=\"url(#clip082)\" d=\"M12591.3 1423.18 L12591.3 1423.18 L12700.8 1423.18 L12700.8 1423.18 L12591.3 1423.18 L12591.3 1423.18  Z\" fill=\"#009af9\" fill-rule=\"evenodd\" fill-opacity=\"1\"/>\n",
       "<polyline clip-path=\"url(#clip082)\" style=\"stroke:#000000; stroke-linecap:round; stroke-linejoin:round; stroke-width:4; stroke-opacity:1; fill:none\" points=\"12591.3,1423.18 12591.3,1423.18 12700.8,1423.18 12591.3,1423.18 \"/>\n",
       "<path clip-path=\"url(#clip082)\" d=\"M12700.8 1423.18 L12700.8 1423.18 L12810.4 1423.18 L12810.4 1423.18 L12700.8 1423.18 L12700.8 1423.18  Z\" fill=\"#009af9\" fill-rule=\"evenodd\" fill-opacity=\"1\"/>\n",
       "<polyline clip-path=\"url(#clip082)\" style=\"stroke:#000000; stroke-linecap:round; stroke-linejoin:round; stroke-width:4; stroke-opacity:1; fill:none\" points=\"12700.8,1423.18 12700.8,1423.18 12810.4,1423.18 12700.8,1423.18 \"/>\n",
       "<path clip-path=\"url(#clip082)\" d=\"M12810.4 1423.18 L12810.4 1423.18 L12919.9 1423.18 L12919.9 1423.18 L12810.4 1423.18 L12810.4 1423.18  Z\" fill=\"#009af9\" fill-rule=\"evenodd\" fill-opacity=\"1\"/>\n",
       "<polyline clip-path=\"url(#clip082)\" style=\"stroke:#000000; stroke-linecap:round; stroke-linejoin:round; stroke-width:4; stroke-opacity:1; fill:none\" points=\"12810.4,1423.18 12810.4,1423.18 12919.9,1423.18 12810.4,1423.18 \"/>\n",
       "<path clip-path=\"url(#clip082)\" d=\"M12919.9 1423.18 L12919.9 1423.18 L13029.5 1423.18 L13029.5 1423.18 L12919.9 1423.18 L12919.9 1423.18  Z\" fill=\"#009af9\" fill-rule=\"evenodd\" fill-opacity=\"1\"/>\n",
       "<polyline clip-path=\"url(#clip082)\" style=\"stroke:#000000; stroke-linecap:round; stroke-linejoin:round; stroke-width:4; stroke-opacity:1; fill:none\" points=\"12919.9,1423.18 12919.9,1423.18 13029.5,1423.18 12919.9,1423.18 \"/>\n",
       "<path clip-path=\"url(#clip082)\" d=\"M13029.5 1423.18 L13029.5 1423.18 L13139 1423.18 L13139 1423.18 L13029.5 1423.18 L13029.5 1423.18  Z\" fill=\"#009af9\" fill-rule=\"evenodd\" fill-opacity=\"1\"/>\n",
       "<polyline clip-path=\"url(#clip082)\" style=\"stroke:#000000; stroke-linecap:round; stroke-linejoin:round; stroke-width:4; stroke-opacity:1; fill:none\" points=\"13029.5,1423.18 13029.5,1423.18 13139,1423.18 13029.5,1423.18 \"/>\n",
       "<path clip-path=\"url(#clip082)\" d=\"M13139 1423.18 L13139 1423.18 L13248.5 1423.18 L13248.5 1423.18 L13139 1423.18 L13139 1423.18  Z\" fill=\"#009af9\" fill-rule=\"evenodd\" fill-opacity=\"1\"/>\n",
       "<polyline clip-path=\"url(#clip082)\" style=\"stroke:#000000; stroke-linecap:round; stroke-linejoin:round; stroke-width:4; stroke-opacity:1; fill:none\" points=\"13139,1423.18 13139,1423.18 13248.5,1423.18 13139,1423.18 \"/>\n",
       "<path clip-path=\"url(#clip082)\" d=\"M13248.5 1415.18 L13248.5 1423.18 L13358.1 1423.18 L13358.1 1415.18 L13248.5 1415.18 L13248.5 1415.18  Z\" fill=\"#009af9\" fill-rule=\"evenodd\" fill-opacity=\"1\"/>\n",
       "<polyline clip-path=\"url(#clip082)\" style=\"stroke:#000000; stroke-linecap:round; stroke-linejoin:round; stroke-width:4; stroke-opacity:1; fill:none\" points=\"13248.5,1415.18 13248.5,1423.18 13358.1,1423.18 13358.1,1415.18 13248.5,1415.18 \"/>\n",
       "<path clip-path=\"url(#clip082)\" d=\"M13358.1 1423.18 L13358.1 1423.18 L13467.6 1423.18 L13467.6 1423.18 L13358.1 1423.18 L13358.1 1423.18  Z\" fill=\"#009af9\" fill-rule=\"evenodd\" fill-opacity=\"1\"/>\n",
       "<polyline clip-path=\"url(#clip082)\" style=\"stroke:#000000; stroke-linecap:round; stroke-linejoin:round; stroke-width:4; stroke-opacity:1; fill:none\" points=\"13358.1,1423.18 13358.1,1423.18 13467.6,1423.18 13358.1,1423.18 \"/>\n",
       "<path clip-path=\"url(#clip082)\" d=\"M13467.6 1423.18 L13467.6 1423.18 L13577.1 1423.18 L13577.1 1423.18 L13467.6 1423.18 L13467.6 1423.18  Z\" fill=\"#009af9\" fill-rule=\"evenodd\" fill-opacity=\"1\"/>\n",
       "<polyline clip-path=\"url(#clip082)\" style=\"stroke:#000000; stroke-linecap:round; stroke-linejoin:round; stroke-width:4; stroke-opacity:1; fill:none\" points=\"13467.6,1423.18 13467.6,1423.18 13577.1,1423.18 13467.6,1423.18 \"/>\n",
       "<path clip-path=\"url(#clip082)\" d=\"M13577.1 1423.18 L13577.1 1423.18 L13686.7 1423.18 L13686.7 1423.18 L13577.1 1423.18 L13577.1 1423.18  Z\" fill=\"#009af9\" fill-rule=\"evenodd\" fill-opacity=\"1\"/>\n",
       "<polyline clip-path=\"url(#clip082)\" style=\"stroke:#000000; stroke-linecap:round; stroke-linejoin:round; stroke-width:4; stroke-opacity:1; fill:none\" points=\"13577.1,1423.18 13577.1,1423.18 13686.7,1423.18 13577.1,1423.18 \"/>\n",
       "<path clip-path=\"url(#clip082)\" d=\"M13686.7 1423.18 L13686.7 1423.18 L13796.2 1423.18 L13796.2 1423.18 L13686.7 1423.18 L13686.7 1423.18  Z\" fill=\"#009af9\" fill-rule=\"evenodd\" fill-opacity=\"1\"/>\n",
       "<polyline clip-path=\"url(#clip082)\" style=\"stroke:#000000; stroke-linecap:round; stroke-linejoin:round; stroke-width:4; stroke-opacity:1; fill:none\" points=\"13686.7,1423.18 13686.7,1423.18 13796.2,1423.18 13686.7,1423.18 \"/>\n",
       "<path clip-path=\"url(#clip082)\" d=\"M13796.2 1423.18 L13796.2 1423.18 L13905.7 1423.18 L13905.7 1423.18 L13796.2 1423.18 L13796.2 1423.18  Z\" fill=\"#009af9\" fill-rule=\"evenodd\" fill-opacity=\"1\"/>\n",
       "<polyline clip-path=\"url(#clip082)\" style=\"stroke:#000000; stroke-linecap:round; stroke-linejoin:round; stroke-width:4; stroke-opacity:1; fill:none\" points=\"13796.2,1423.18 13796.2,1423.18 13905.7,1423.18 13796.2,1423.18 \"/>\n",
       "<path clip-path=\"url(#clip082)\" d=\"M13905.7 1423.18 L13905.7 1423.18 L14015.3 1423.18 L14015.3 1423.18 L13905.7 1423.18 L13905.7 1423.18  Z\" fill=\"#009af9\" fill-rule=\"evenodd\" fill-opacity=\"1\"/>\n",
       "<polyline clip-path=\"url(#clip082)\" style=\"stroke:#000000; stroke-linecap:round; stroke-linejoin:round; stroke-width:4; stroke-opacity:1; fill:none\" points=\"13905.7,1423.18 13905.7,1423.18 14015.3,1423.18 13905.7,1423.18 \"/>\n",
       "<path clip-path=\"url(#clip082)\" d=\"M14015.3 1423.18 L14015.3 1423.18 L14124.8 1423.18 L14124.8 1423.18 L14015.3 1423.18 L14015.3 1423.18  Z\" fill=\"#009af9\" fill-rule=\"evenodd\" fill-opacity=\"1\"/>\n",
       "<polyline clip-path=\"url(#clip082)\" style=\"stroke:#000000; stroke-linecap:round; stroke-linejoin:round; stroke-width:4; stroke-opacity:1; fill:none\" points=\"14015.3,1423.18 14015.3,1423.18 14124.8,1423.18 14015.3,1423.18 \"/>\n",
       "<path clip-path=\"url(#clip082)\" d=\"M14124.8 1423.18 L14124.8 1423.18 L14234.4 1423.18 L14234.4 1423.18 L14124.8 1423.18 L14124.8 1423.18  Z\" fill=\"#009af9\" fill-rule=\"evenodd\" fill-opacity=\"1\"/>\n",
       "<polyline clip-path=\"url(#clip082)\" style=\"stroke:#000000; stroke-linecap:round; stroke-linejoin:round; stroke-width:4; stroke-opacity:1; fill:none\" points=\"14124.8,1423.18 14124.8,1423.18 14234.4,1423.18 14124.8,1423.18 \"/>\n",
       "<path clip-path=\"url(#clip082)\" d=\"M14234.4 1423.18 L14234.4 1423.18 L14343.9 1423.18 L14343.9 1423.18 L14234.4 1423.18 L14234.4 1423.18  Z\" fill=\"#009af9\" fill-rule=\"evenodd\" fill-opacity=\"1\"/>\n",
       "<polyline clip-path=\"url(#clip082)\" style=\"stroke:#000000; stroke-linecap:round; stroke-linejoin:round; stroke-width:4; stroke-opacity:1; fill:none\" points=\"14234.4,1423.18 14234.4,1423.18 14343.9,1423.18 14234.4,1423.18 \"/>\n",
       "<path clip-path=\"url(#clip082)\" d=\"M14343.9 1423.18 L14343.9 1423.18 L14453.4 1423.18 L14453.4 1423.18 L14343.9 1423.18 L14343.9 1423.18  Z\" fill=\"#009af9\" fill-rule=\"evenodd\" fill-opacity=\"1\"/>\n",
       "<polyline clip-path=\"url(#clip082)\" style=\"stroke:#000000; stroke-linecap:round; stroke-linejoin:round; stroke-width:4; stroke-opacity:1; fill:none\" points=\"14343.9,1423.18 14343.9,1423.18 14453.4,1423.18 14343.9,1423.18 \"/>\n",
       "<path clip-path=\"url(#clip082)\" d=\"M14453.4 1415.18 L14453.4 1423.18 L14563 1423.18 L14563 1415.18 L14453.4 1415.18 L14453.4 1415.18  Z\" fill=\"#009af9\" fill-rule=\"evenodd\" fill-opacity=\"1\"/>\n",
       "<polyline clip-path=\"url(#clip082)\" style=\"stroke:#000000; stroke-linecap:round; stroke-linejoin:round; stroke-width:4; stroke-opacity:1; fill:none\" points=\"14453.4,1415.18 14453.4,1423.18 14563,1423.18 14563,1415.18 14453.4,1415.18 \"/>\n",
       "<path clip-path=\"url(#clip082)\" d=\"M14563 1423.18 L14563 1423.18 L14672.5 1423.18 L14672.5 1423.18 L14563 1423.18 L14563 1423.18  Z\" fill=\"#009af9\" fill-rule=\"evenodd\" fill-opacity=\"1\"/>\n",
       "<polyline clip-path=\"url(#clip082)\" style=\"stroke:#000000; stroke-linecap:round; stroke-linejoin:round; stroke-width:4; stroke-opacity:1; fill:none\" points=\"14563,1423.18 14563,1423.18 14672.5,1423.18 14563,1423.18 \"/>\n",
       "<path clip-path=\"url(#clip082)\" d=\"M14672.5 1423.18 L14672.5 1423.18 L14782 1423.18 L14782 1423.18 L14672.5 1423.18 L14672.5 1423.18  Z\" fill=\"#009af9\" fill-rule=\"evenodd\" fill-opacity=\"1\"/>\n",
       "<polyline clip-path=\"url(#clip082)\" style=\"stroke:#000000; stroke-linecap:round; stroke-linejoin:round; stroke-width:4; stroke-opacity:1; fill:none\" points=\"14672.5,1423.18 14672.5,1423.18 14782,1423.18 14672.5,1423.18 \"/>\n",
       "<path clip-path=\"url(#clip082)\" d=\"M14782 1423.18 L14782 1423.18 L14891.6 1423.18 L14891.6 1423.18 L14782 1423.18 L14782 1423.18  Z\" fill=\"#009af9\" fill-rule=\"evenodd\" fill-opacity=\"1\"/>\n",
       "<polyline clip-path=\"url(#clip082)\" style=\"stroke:#000000; stroke-linecap:round; stroke-linejoin:round; stroke-width:4; stroke-opacity:1; fill:none\" points=\"14782,1423.18 14782,1423.18 14891.6,1423.18 14782,1423.18 \"/>\n",
       "<path clip-path=\"url(#clip082)\" d=\"M14891.6 1423.18 L14891.6 1423.18 L15001.1 1423.18 L15001.1 1423.18 L14891.6 1423.18 L14891.6 1423.18  Z\" fill=\"#009af9\" fill-rule=\"evenodd\" fill-opacity=\"1\"/>\n",
       "<polyline clip-path=\"url(#clip082)\" style=\"stroke:#000000; stroke-linecap:round; stroke-linejoin:round; stroke-width:4; stroke-opacity:1; fill:none\" points=\"14891.6,1423.18 14891.6,1423.18 15001.1,1423.18 14891.6,1423.18 \"/>\n",
       "<path clip-path=\"url(#clip082)\" d=\"M15001.1 1423.18 L15001.1 1423.18 L15110.7 1423.18 L15110.7 1423.18 L15001.1 1423.18 L15001.1 1423.18  Z\" fill=\"#009af9\" fill-rule=\"evenodd\" fill-opacity=\"1\"/>\n",
       "<polyline clip-path=\"url(#clip082)\" style=\"stroke:#000000; stroke-linecap:round; stroke-linejoin:round; stroke-width:4; stroke-opacity:1; fill:none\" points=\"15001.1,1423.18 15001.1,1423.18 15110.7,1423.18 15001.1,1423.18 \"/>\n",
       "<path clip-path=\"url(#clip082)\" d=\"M15110.7 1423.18 L15110.7 1423.18 L15220.2 1423.18 L15220.2 1423.18 L15110.7 1423.18 L15110.7 1423.18  Z\" fill=\"#009af9\" fill-rule=\"evenodd\" fill-opacity=\"1\"/>\n",
       "<polyline clip-path=\"url(#clip082)\" style=\"stroke:#000000; stroke-linecap:round; stroke-linejoin:round; stroke-width:4; stroke-opacity:1; fill:none\" points=\"15110.7,1423.18 15110.7,1423.18 15220.2,1423.18 15110.7,1423.18 \"/>\n",
       "<path clip-path=\"url(#clip082)\" d=\"M15220.2 1423.18 L15220.2 1423.18 L15329.7 1423.18 L15329.7 1423.18 L15220.2 1423.18 L15220.2 1423.18  Z\" fill=\"#009af9\" fill-rule=\"evenodd\" fill-opacity=\"1\"/>\n",
       "<polyline clip-path=\"url(#clip082)\" style=\"stroke:#000000; stroke-linecap:round; stroke-linejoin:round; stroke-width:4; stroke-opacity:1; fill:none\" points=\"15220.2,1423.18 15220.2,1423.18 15329.7,1423.18 15220.2,1423.18 \"/>\n",
       "<path clip-path=\"url(#clip082)\" d=\"M15329.7 1423.18 L15329.7 1423.18 L15439.3 1423.18 L15439.3 1423.18 L15329.7 1423.18 L15329.7 1423.18  Z\" fill=\"#009af9\" fill-rule=\"evenodd\" fill-opacity=\"1\"/>\n",
       "<polyline clip-path=\"url(#clip082)\" style=\"stroke:#000000; stroke-linecap:round; stroke-linejoin:round; stroke-width:4; stroke-opacity:1; fill:none\" points=\"15329.7,1423.18 15329.7,1423.18 15439.3,1423.18 15329.7,1423.18 \"/>\n",
       "<path clip-path=\"url(#clip082)\" d=\"M15439.3 1423.18 L15439.3 1423.18 L15548.8 1423.18 L15548.8 1423.18 L15439.3 1423.18 L15439.3 1423.18  Z\" fill=\"#009af9\" fill-rule=\"evenodd\" fill-opacity=\"1\"/>\n",
       "<polyline clip-path=\"url(#clip082)\" style=\"stroke:#000000; stroke-linecap:round; stroke-linejoin:round; stroke-width:4; stroke-opacity:1; fill:none\" points=\"15439.3,1423.18 15439.3,1423.18 15548.8,1423.18 15439.3,1423.18 \"/>\n",
       "<path clip-path=\"url(#clip082)\" d=\"M15548.8 1423.18 L15548.8 1423.18 L15658.3 1423.18 L15658.3 1423.18 L15548.8 1423.18 L15548.8 1423.18  Z\" fill=\"#009af9\" fill-rule=\"evenodd\" fill-opacity=\"1\"/>\n",
       "<polyline clip-path=\"url(#clip082)\" style=\"stroke:#000000; stroke-linecap:round; stroke-linejoin:round; stroke-width:4; stroke-opacity:1; fill:none\" points=\"15548.8,1423.18 15548.8,1423.18 15658.3,1423.18 15548.8,1423.18 \"/>\n",
       "<path clip-path=\"url(#clip082)\" d=\"M15658.3 1423.18 L15658.3 1423.18 L15767.9 1423.18 L15767.9 1423.18 L15658.3 1423.18 L15658.3 1423.18  Z\" fill=\"#009af9\" fill-rule=\"evenodd\" fill-opacity=\"1\"/>\n",
       "<polyline clip-path=\"url(#clip082)\" style=\"stroke:#000000; stroke-linecap:round; stroke-linejoin:round; stroke-width:4; stroke-opacity:1; fill:none\" points=\"15658.3,1423.18 15658.3,1423.18 15767.9,1423.18 15658.3,1423.18 \"/>\n",
       "<path clip-path=\"url(#clip082)\" d=\"M15767.9 1423.18 L15767.9 1423.18 L15877.4 1423.18 L15877.4 1423.18 L15767.9 1423.18 L15767.9 1423.18  Z\" fill=\"#009af9\" fill-rule=\"evenodd\" fill-opacity=\"1\"/>\n",
       "<polyline clip-path=\"url(#clip082)\" style=\"stroke:#000000; stroke-linecap:round; stroke-linejoin:round; stroke-width:4; stroke-opacity:1; fill:none\" points=\"15767.9,1423.18 15767.9,1423.18 15877.4,1423.18 15767.9,1423.18 \"/>\n",
       "<path clip-path=\"url(#clip082)\" d=\"M15877.4 1423.18 L15877.4 1423.18 L15987 1423.18 L15987 1423.18 L15877.4 1423.18 L15877.4 1423.18  Z\" fill=\"#009af9\" fill-rule=\"evenodd\" fill-opacity=\"1\"/>\n",
       "<polyline clip-path=\"url(#clip082)\" style=\"stroke:#000000; stroke-linecap:round; stroke-linejoin:round; stroke-width:4; stroke-opacity:1; fill:none\" points=\"15877.4,1423.18 15877.4,1423.18 15987,1423.18 15877.4,1423.18 \"/>\n",
       "<path clip-path=\"url(#clip082)\" d=\"M15987 1423.18 L15987 1423.18 L16096.5 1423.18 L16096.5 1423.18 L15987 1423.18 L15987 1423.18  Z\" fill=\"#009af9\" fill-rule=\"evenodd\" fill-opacity=\"1\"/>\n",
       "<polyline clip-path=\"url(#clip082)\" style=\"stroke:#000000; stroke-linecap:round; stroke-linejoin:round; stroke-width:4; stroke-opacity:1; fill:none\" points=\"15987,1423.18 15987,1423.18 16096.5,1423.18 15987,1423.18 \"/>\n",
       "<path clip-path=\"url(#clip082)\" d=\"M16096.5 1423.18 L16096.5 1423.18 L16206 1423.18 L16206 1423.18 L16096.5 1423.18 L16096.5 1423.18  Z\" fill=\"#009af9\" fill-rule=\"evenodd\" fill-opacity=\"1\"/>\n",
       "<polyline clip-path=\"url(#clip082)\" style=\"stroke:#000000; stroke-linecap:round; stroke-linejoin:round; stroke-width:4; stroke-opacity:1; fill:none\" points=\"16096.5,1423.18 16096.5,1423.18 16206,1423.18 16096.5,1423.18 \"/>\n",
       "<path clip-path=\"url(#clip082)\" d=\"M16206 1423.18 L16206 1423.18 L16315.6 1423.18 L16315.6 1423.18 L16206 1423.18 L16206 1423.18  Z\" fill=\"#009af9\" fill-rule=\"evenodd\" fill-opacity=\"1\"/>\n",
       "<polyline clip-path=\"url(#clip082)\" style=\"stroke:#000000; stroke-linecap:round; stroke-linejoin:round; stroke-width:4; stroke-opacity:1; fill:none\" points=\"16206,1423.18 16206,1423.18 16315.6,1423.18 16206,1423.18 \"/>\n",
       "<path clip-path=\"url(#clip082)\" d=\"M16315.6 1423.18 L16315.6 1423.18 L16425.1 1423.18 L16425.1 1423.18 L16315.6 1423.18 L16315.6 1423.18  Z\" fill=\"#009af9\" fill-rule=\"evenodd\" fill-opacity=\"1\"/>\n",
       "<polyline clip-path=\"url(#clip082)\" style=\"stroke:#000000; stroke-linecap:round; stroke-linejoin:round; stroke-width:4; stroke-opacity:1; fill:none\" points=\"16315.6,1423.18 16315.6,1423.18 16425.1,1423.18 16315.6,1423.18 \"/>\n",
       "<path clip-path=\"url(#clip082)\" d=\"M16425.1 1423.18 L16425.1 1423.18 L16534.6 1423.18 L16534.6 1423.18 L16425.1 1423.18 L16425.1 1423.18  Z\" fill=\"#009af9\" fill-rule=\"evenodd\" fill-opacity=\"1\"/>\n",
       "<polyline clip-path=\"url(#clip082)\" style=\"stroke:#000000; stroke-linecap:round; stroke-linejoin:round; stroke-width:4; stroke-opacity:1; fill:none\" points=\"16425.1,1423.18 16425.1,1423.18 16534.6,1423.18 16425.1,1423.18 \"/>\n",
       "<path clip-path=\"url(#clip082)\" d=\"M16534.6 1423.18 L16534.6 1423.18 L16644.2 1423.18 L16644.2 1423.18 L16534.6 1423.18 L16534.6 1423.18  Z\" fill=\"#009af9\" fill-rule=\"evenodd\" fill-opacity=\"1\"/>\n",
       "<polyline clip-path=\"url(#clip082)\" style=\"stroke:#000000; stroke-linecap:round; stroke-linejoin:round; stroke-width:4; stroke-opacity:1; fill:none\" points=\"16534.6,1423.18 16534.6,1423.18 16644.2,1423.18 16534.6,1423.18 \"/>\n",
       "<path clip-path=\"url(#clip082)\" d=\"M16644.2 1423.18 L16644.2 1423.18 L16753.7 1423.18 L16753.7 1423.18 L16644.2 1423.18 L16644.2 1423.18  Z\" fill=\"#009af9\" fill-rule=\"evenodd\" fill-opacity=\"1\"/>\n",
       "<polyline clip-path=\"url(#clip082)\" style=\"stroke:#000000; stroke-linecap:round; stroke-linejoin:round; stroke-width:4; stroke-opacity:1; fill:none\" points=\"16644.2,1423.18 16644.2,1423.18 16753.7,1423.18 16644.2,1423.18 \"/>\n",
       "<path clip-path=\"url(#clip082)\" d=\"M16753.7 1423.18 L16753.7 1423.18 L16863.3 1423.18 L16863.3 1423.18 L16753.7 1423.18 L16753.7 1423.18  Z\" fill=\"#009af9\" fill-rule=\"evenodd\" fill-opacity=\"1\"/>\n",
       "<polyline clip-path=\"url(#clip082)\" style=\"stroke:#000000; stroke-linecap:round; stroke-linejoin:round; stroke-width:4; stroke-opacity:1; fill:none\" points=\"16753.7,1423.18 16753.7,1423.18 16863.3,1423.18 16753.7,1423.18 \"/>\n",
       "<path clip-path=\"url(#clip082)\" d=\"M16863.3 1423.18 L16863.3 1423.18 L16972.8 1423.18 L16972.8 1423.18 L16863.3 1423.18 L16863.3 1423.18  Z\" fill=\"#009af9\" fill-rule=\"evenodd\" fill-opacity=\"1\"/>\n",
       "<polyline clip-path=\"url(#clip082)\" style=\"stroke:#000000; stroke-linecap:round; stroke-linejoin:round; stroke-width:4; stroke-opacity:1; fill:none\" points=\"16863.3,1423.18 16863.3,1423.18 16972.8,1423.18 16863.3,1423.18 \"/>\n",
       "<path clip-path=\"url(#clip082)\" d=\"M16972.8 1423.18 L16972.8 1423.18 L17082.3 1423.18 L17082.3 1423.18 L16972.8 1423.18 L16972.8 1423.18  Z\" fill=\"#009af9\" fill-rule=\"evenodd\" fill-opacity=\"1\"/>\n",
       "<polyline clip-path=\"url(#clip082)\" style=\"stroke:#000000; stroke-linecap:round; stroke-linejoin:round; stroke-width:4; stroke-opacity:1; fill:none\" points=\"16972.8,1423.18 16972.8,1423.18 17082.3,1423.18 16972.8,1423.18 \"/>\n",
       "<path clip-path=\"url(#clip082)\" d=\"M17082.3 1423.18 L17082.3 1423.18 L17191.9 1423.18 L17191.9 1423.18 L17082.3 1423.18 L17082.3 1423.18  Z\" fill=\"#009af9\" fill-rule=\"evenodd\" fill-opacity=\"1\"/>\n",
       "<polyline clip-path=\"url(#clip082)\" style=\"stroke:#000000; stroke-linecap:round; stroke-linejoin:round; stroke-width:4; stroke-opacity:1; fill:none\" points=\"17082.3,1423.18 17082.3,1423.18 17191.9,1423.18 17082.3,1423.18 \"/>\n",
       "<path clip-path=\"url(#clip082)\" d=\"M17191.9 1423.18 L17191.9 1423.18 L17301.4 1423.18 L17301.4 1423.18 L17191.9 1423.18 L17191.9 1423.18  Z\" fill=\"#009af9\" fill-rule=\"evenodd\" fill-opacity=\"1\"/>\n",
       "<polyline clip-path=\"url(#clip082)\" style=\"stroke:#000000; stroke-linecap:round; stroke-linejoin:round; stroke-width:4; stroke-opacity:1; fill:none\" points=\"17191.9,1423.18 17191.9,1423.18 17301.4,1423.18 17191.9,1423.18 \"/>\n",
       "<path clip-path=\"url(#clip082)\" d=\"M17301.4 1423.18 L17301.4 1423.18 L17410.9 1423.18 L17410.9 1423.18 L17301.4 1423.18 L17301.4 1423.18  Z\" fill=\"#009af9\" fill-rule=\"evenodd\" fill-opacity=\"1\"/>\n",
       "<polyline clip-path=\"url(#clip082)\" style=\"stroke:#000000; stroke-linecap:round; stroke-linejoin:round; stroke-width:4; stroke-opacity:1; fill:none\" points=\"17301.4,1423.18 17301.4,1423.18 17410.9,1423.18 17301.4,1423.18 \"/>\n",
       "<path clip-path=\"url(#clip082)\" d=\"M17410.9 1423.18 L17410.9 1423.18 L17520.5 1423.18 L17520.5 1423.18 L17410.9 1423.18 L17410.9 1423.18  Z\" fill=\"#009af9\" fill-rule=\"evenodd\" fill-opacity=\"1\"/>\n",
       "<polyline clip-path=\"url(#clip082)\" style=\"stroke:#000000; stroke-linecap:round; stroke-linejoin:round; stroke-width:4; stroke-opacity:1; fill:none\" points=\"17410.9,1423.18 17410.9,1423.18 17520.5,1423.18 17410.9,1423.18 \"/>\n",
       "<path clip-path=\"url(#clip082)\" d=\"M17520.5 1423.18 L17520.5 1423.18 L17630 1423.18 L17630 1423.18 L17520.5 1423.18 L17520.5 1423.18  Z\" fill=\"#009af9\" fill-rule=\"evenodd\" fill-opacity=\"1\"/>\n",
       "<polyline clip-path=\"url(#clip082)\" style=\"stroke:#000000; stroke-linecap:round; stroke-linejoin:round; stroke-width:4; stroke-opacity:1; fill:none\" points=\"17520.5,1423.18 17520.5,1423.18 17630,1423.18 17520.5,1423.18 \"/>\n",
       "<path clip-path=\"url(#clip082)\" d=\"M17630 1423.18 L17630 1423.18 L17739.6 1423.18 L17739.6 1423.18 L17630 1423.18 L17630 1423.18  Z\" fill=\"#009af9\" fill-rule=\"evenodd\" fill-opacity=\"1\"/>\n",
       "<polyline clip-path=\"url(#clip082)\" style=\"stroke:#000000; stroke-linecap:round; stroke-linejoin:round; stroke-width:4; stroke-opacity:1; fill:none\" points=\"17630,1423.18 17630,1423.18 17739.6,1423.18 17630,1423.18 \"/>\n",
       "<path clip-path=\"url(#clip082)\" d=\"M17739.6 1423.18 L17739.6 1423.18 L17849.1 1423.18 L17849.1 1423.18 L17739.6 1423.18 L17739.6 1423.18  Z\" fill=\"#009af9\" fill-rule=\"evenodd\" fill-opacity=\"1\"/>\n",
       "<polyline clip-path=\"url(#clip082)\" style=\"stroke:#000000; stroke-linecap:round; stroke-linejoin:round; stroke-width:4; stroke-opacity:1; fill:none\" points=\"17739.6,1423.18 17739.6,1423.18 17849.1,1423.18 17739.6,1423.18 \"/>\n",
       "<path clip-path=\"url(#clip082)\" d=\"M17849.1 1423.18 L17849.1 1423.18 L17958.6 1423.18 L17958.6 1423.18 L17849.1 1423.18 L17849.1 1423.18  Z\" fill=\"#009af9\" fill-rule=\"evenodd\" fill-opacity=\"1\"/>\n",
       "<polyline clip-path=\"url(#clip082)\" style=\"stroke:#000000; stroke-linecap:round; stroke-linejoin:round; stroke-width:4; stroke-opacity:1; fill:none\" points=\"17849.1,1423.18 17849.1,1423.18 17958.6,1423.18 17849.1,1423.18 \"/>\n",
       "<path clip-path=\"url(#clip082)\" d=\"M17958.6 1423.18 L17958.6 1423.18 L18068.2 1423.18 L18068.2 1423.18 L17958.6 1423.18 L17958.6 1423.18  Z\" fill=\"#009af9\" fill-rule=\"evenodd\" fill-opacity=\"1\"/>\n",
       "<polyline clip-path=\"url(#clip082)\" style=\"stroke:#000000; stroke-linecap:round; stroke-linejoin:round; stroke-width:4; stroke-opacity:1; fill:none\" points=\"17958.6,1423.18 17958.6,1423.18 18068.2,1423.18 17958.6,1423.18 \"/>\n",
       "<path clip-path=\"url(#clip082)\" d=\"M18068.2 1423.18 L18068.2 1423.18 L18177.7 1423.18 L18177.7 1423.18 L18068.2 1423.18 L18068.2 1423.18  Z\" fill=\"#009af9\" fill-rule=\"evenodd\" fill-opacity=\"1\"/>\n",
       "<polyline clip-path=\"url(#clip082)\" style=\"stroke:#000000; stroke-linecap:round; stroke-linejoin:round; stroke-width:4; stroke-opacity:1; fill:none\" points=\"18068.2,1423.18 18068.2,1423.18 18177.7,1423.18 18068.2,1423.18 \"/>\n",
       "<path clip-path=\"url(#clip082)\" d=\"M18177.7 1423.18 L18177.7 1423.18 L18287.2 1423.18 L18287.2 1423.18 L18177.7 1423.18 L18177.7 1423.18  Z\" fill=\"#009af9\" fill-rule=\"evenodd\" fill-opacity=\"1\"/>\n",
       "<polyline clip-path=\"url(#clip082)\" style=\"stroke:#000000; stroke-linecap:round; stroke-linejoin:round; stroke-width:4; stroke-opacity:1; fill:none\" points=\"18177.7,1423.18 18177.7,1423.18 18287.2,1423.18 18177.7,1423.18 \"/>\n",
       "<path clip-path=\"url(#clip082)\" d=\"M18287.2 1423.18 L18287.2 1423.18 L18396.8 1423.18 L18396.8 1423.18 L18287.2 1423.18 L18287.2 1423.18  Z\" fill=\"#009af9\" fill-rule=\"evenodd\" fill-opacity=\"1\"/>\n",
       "<polyline clip-path=\"url(#clip082)\" style=\"stroke:#000000; stroke-linecap:round; stroke-linejoin:round; stroke-width:4; stroke-opacity:1; fill:none\" points=\"18287.2,1423.18 18287.2,1423.18 18396.8,1423.18 18287.2,1423.18 \"/>\n",
       "<path clip-path=\"url(#clip082)\" d=\"M18396.8 1423.18 L18396.8 1423.18 L18506.3 1423.18 L18506.3 1423.18 L18396.8 1423.18 L18396.8 1423.18  Z\" fill=\"#009af9\" fill-rule=\"evenodd\" fill-opacity=\"1\"/>\n",
       "<polyline clip-path=\"url(#clip082)\" style=\"stroke:#000000; stroke-linecap:round; stroke-linejoin:round; stroke-width:4; stroke-opacity:1; fill:none\" points=\"18396.8,1423.18 18396.8,1423.18 18506.3,1423.18 18396.8,1423.18 \"/>\n",
       "<path clip-path=\"url(#clip082)\" d=\"M18506.3 1423.18 L18506.3 1423.18 L18615.9 1423.18 L18615.9 1423.18 L18506.3 1423.18 L18506.3 1423.18  Z\" fill=\"#009af9\" fill-rule=\"evenodd\" fill-opacity=\"1\"/>\n",
       "<polyline clip-path=\"url(#clip082)\" style=\"stroke:#000000; stroke-linecap:round; stroke-linejoin:round; stroke-width:4; stroke-opacity:1; fill:none\" points=\"18506.3,1423.18 18506.3,1423.18 18615.9,1423.18 18506.3,1423.18 \"/>\n",
       "<path clip-path=\"url(#clip082)\" d=\"M18615.9 1423.18 L18615.9 1423.18 L18725.4 1423.18 L18725.4 1423.18 L18615.9 1423.18 L18615.9 1423.18  Z\" fill=\"#009af9\" fill-rule=\"evenodd\" fill-opacity=\"1\"/>\n",
       "<polyline clip-path=\"url(#clip082)\" style=\"stroke:#000000; stroke-linecap:round; stroke-linejoin:round; stroke-width:4; stroke-opacity:1; fill:none\" points=\"18615.9,1423.18 18615.9,1423.18 18725.4,1423.18 18615.9,1423.18 \"/>\n",
       "<path clip-path=\"url(#clip082)\" d=\"M18725.4 1423.18 L18725.4 1423.18 L18834.9 1423.18 L18834.9 1423.18 L18725.4 1423.18 L18725.4 1423.18  Z\" fill=\"#009af9\" fill-rule=\"evenodd\" fill-opacity=\"1\"/>\n",
       "<polyline clip-path=\"url(#clip082)\" style=\"stroke:#000000; stroke-linecap:round; stroke-linejoin:round; stroke-width:4; stroke-opacity:1; fill:none\" points=\"18725.4,1423.18 18725.4,1423.18 18834.9,1423.18 18725.4,1423.18 \"/>\n",
       "<path clip-path=\"url(#clip082)\" d=\"M18834.9 1423.18 L18834.9 1423.18 L18944.5 1423.18 L18944.5 1423.18 L18834.9 1423.18 L18834.9 1423.18  Z\" fill=\"#009af9\" fill-rule=\"evenodd\" fill-opacity=\"1\"/>\n",
       "<polyline clip-path=\"url(#clip082)\" style=\"stroke:#000000; stroke-linecap:round; stroke-linejoin:round; stroke-width:4; stroke-opacity:1; fill:none\" points=\"18834.9,1423.18 18834.9,1423.18 18944.5,1423.18 18834.9,1423.18 \"/>\n",
       "<path clip-path=\"url(#clip082)\" d=\"M18944.5 1423.18 L18944.5 1423.18 L19054 1423.18 L19054 1423.18 L18944.5 1423.18 L18944.5 1423.18  Z\" fill=\"#009af9\" fill-rule=\"evenodd\" fill-opacity=\"1\"/>\n",
       "<polyline clip-path=\"url(#clip082)\" style=\"stroke:#000000; stroke-linecap:round; stroke-linejoin:round; stroke-width:4; stroke-opacity:1; fill:none\" points=\"18944.5,1423.18 18944.5,1423.18 19054,1423.18 18944.5,1423.18 \"/>\n",
       "<path clip-path=\"url(#clip082)\" d=\"M19054 1423.18 L19054 1423.18 L19163.5 1423.18 L19163.5 1423.18 L19054 1423.18 L19054 1423.18  Z\" fill=\"#009af9\" fill-rule=\"evenodd\" fill-opacity=\"1\"/>\n",
       "<polyline clip-path=\"url(#clip082)\" style=\"stroke:#000000; stroke-linecap:round; stroke-linejoin:round; stroke-width:4; stroke-opacity:1; fill:none\" points=\"19054,1423.18 19054,1423.18 19163.5,1423.18 19054,1423.18 \"/>\n",
       "<path clip-path=\"url(#clip082)\" d=\"M19163.5 1423.18 L19163.5 1423.18 L19273.1 1423.18 L19273.1 1423.18 L19163.5 1423.18 L19163.5 1423.18  Z\" fill=\"#009af9\" fill-rule=\"evenodd\" fill-opacity=\"1\"/>\n",
       "<polyline clip-path=\"url(#clip082)\" style=\"stroke:#000000; stroke-linecap:round; stroke-linejoin:round; stroke-width:4; stroke-opacity:1; fill:none\" points=\"19163.5,1423.18 19163.5,1423.18 19273.1,1423.18 19163.5,1423.18 \"/>\n",
       "<path clip-path=\"url(#clip082)\" d=\"M19273.1 1423.18 L19273.1 1423.18 L19382.6 1423.18 L19382.6 1423.18 L19273.1 1423.18 L19273.1 1423.18  Z\" fill=\"#009af9\" fill-rule=\"evenodd\" fill-opacity=\"1\"/>\n",
       "<polyline clip-path=\"url(#clip082)\" style=\"stroke:#000000; stroke-linecap:round; stroke-linejoin:round; stroke-width:4; stroke-opacity:1; fill:none\" points=\"19273.1,1423.18 19273.1,1423.18 19382.6,1423.18 19273.1,1423.18 \"/>\n",
       "<path clip-path=\"url(#clip082)\" d=\"M19382.6 1423.18 L19382.6 1423.18 L19492.2 1423.18 L19492.2 1423.18 L19382.6 1423.18 L19382.6 1423.18  Z\" fill=\"#009af9\" fill-rule=\"evenodd\" fill-opacity=\"1\"/>\n",
       "<polyline clip-path=\"url(#clip082)\" style=\"stroke:#000000; stroke-linecap:round; stroke-linejoin:round; stroke-width:4; stroke-opacity:1; fill:none\" points=\"19382.6,1423.18 19382.6,1423.18 19492.2,1423.18 19382.6,1423.18 \"/>\n",
       "<path clip-path=\"url(#clip082)\" d=\"M19492.2 1423.18 L19492.2 1423.18 L19601.7 1423.18 L19601.7 1423.18 L19492.2 1423.18 L19492.2 1423.18  Z\" fill=\"#009af9\" fill-rule=\"evenodd\" fill-opacity=\"1\"/>\n",
       "<polyline clip-path=\"url(#clip082)\" style=\"stroke:#000000; stroke-linecap:round; stroke-linejoin:round; stroke-width:4; stroke-opacity:1; fill:none\" points=\"19492.2,1423.18 19492.2,1423.18 19601.7,1423.18 19492.2,1423.18 \"/>\n",
       "<path clip-path=\"url(#clip082)\" d=\"M19601.7 1423.18 L19601.7 1423.18 L19711.2 1423.18 L19711.2 1423.18 L19601.7 1423.18 L19601.7 1423.18  Z\" fill=\"#009af9\" fill-rule=\"evenodd\" fill-opacity=\"1\"/>\n",
       "<polyline clip-path=\"url(#clip082)\" style=\"stroke:#000000; stroke-linecap:round; stroke-linejoin:round; stroke-width:4; stroke-opacity:1; fill:none\" points=\"19601.7,1423.18 19601.7,1423.18 19711.2,1423.18 19601.7,1423.18 \"/>\n",
       "<path clip-path=\"url(#clip082)\" d=\"M19711.2 1423.18 L19711.2 1423.18 L19820.8 1423.18 L19820.8 1423.18 L19711.2 1423.18 L19711.2 1423.18  Z\" fill=\"#009af9\" fill-rule=\"evenodd\" fill-opacity=\"1\"/>\n",
       "<polyline clip-path=\"url(#clip082)\" style=\"stroke:#000000; stroke-linecap:round; stroke-linejoin:round; stroke-width:4; stroke-opacity:1; fill:none\" points=\"19711.2,1423.18 19711.2,1423.18 19820.8,1423.18 19711.2,1423.18 \"/>\n",
       "<path clip-path=\"url(#clip082)\" d=\"M19820.8 1423.18 L19820.8 1423.18 L19930.3 1423.18 L19930.3 1423.18 L19820.8 1423.18 L19820.8 1423.18  Z\" fill=\"#009af9\" fill-rule=\"evenodd\" fill-opacity=\"1\"/>\n",
       "<polyline clip-path=\"url(#clip082)\" style=\"stroke:#000000; stroke-linecap:round; stroke-linejoin:round; stroke-width:4; stroke-opacity:1; fill:none\" points=\"19820.8,1423.18 19820.8,1423.18 19930.3,1423.18 19820.8,1423.18 \"/>\n",
       "<path clip-path=\"url(#clip082)\" d=\"M19930.3 1423.18 L19930.3 1423.18 L20039.8 1423.18 L20039.8 1423.18 L19930.3 1423.18 L19930.3 1423.18  Z\" fill=\"#009af9\" fill-rule=\"evenodd\" fill-opacity=\"1\"/>\n",
       "<polyline clip-path=\"url(#clip082)\" style=\"stroke:#000000; stroke-linecap:round; stroke-linejoin:round; stroke-width:4; stroke-opacity:1; fill:none\" points=\"19930.3,1423.18 19930.3,1423.18 20039.8,1423.18 19930.3,1423.18 \"/>\n",
       "<path clip-path=\"url(#clip082)\" d=\"M20039.8 1423.18 L20039.8 1423.18 L20149.4 1423.18 L20149.4 1423.18 L20039.8 1423.18 L20039.8 1423.18  Z\" fill=\"#009af9\" fill-rule=\"evenodd\" fill-opacity=\"1\"/>\n",
       "<polyline clip-path=\"url(#clip082)\" style=\"stroke:#000000; stroke-linecap:round; stroke-linejoin:round; stroke-width:4; stroke-opacity:1; fill:none\" points=\"20039.8,1423.18 20039.8,1423.18 20149.4,1423.18 20039.8,1423.18 \"/>\n",
       "<path clip-path=\"url(#clip082)\" d=\"M20149.4 1423.18 L20149.4 1423.18 L20258.9 1423.18 L20258.9 1423.18 L20149.4 1423.18 L20149.4 1423.18  Z\" fill=\"#009af9\" fill-rule=\"evenodd\" fill-opacity=\"1\"/>\n",
       "<polyline clip-path=\"url(#clip082)\" style=\"stroke:#000000; stroke-linecap:round; stroke-linejoin:round; stroke-width:4; stroke-opacity:1; fill:none\" points=\"20149.4,1423.18 20149.4,1423.18 20258.9,1423.18 20149.4,1423.18 \"/>\n",
       "<path clip-path=\"url(#clip082)\" d=\"M20258.9 1423.18 L20258.9 1423.18 L20368.5 1423.18 L20368.5 1423.18 L20258.9 1423.18 L20258.9 1423.18  Z\" fill=\"#009af9\" fill-rule=\"evenodd\" fill-opacity=\"1\"/>\n",
       "<polyline clip-path=\"url(#clip082)\" style=\"stroke:#000000; stroke-linecap:round; stroke-linejoin:round; stroke-width:4; stroke-opacity:1; fill:none\" points=\"20258.9,1423.18 20258.9,1423.18 20368.5,1423.18 20258.9,1423.18 \"/>\n",
       "<path clip-path=\"url(#clip082)\" d=\"M20368.5 1423.18 L20368.5 1423.18 L20478 1423.18 L20478 1423.18 L20368.5 1423.18 L20368.5 1423.18  Z\" fill=\"#009af9\" fill-rule=\"evenodd\" fill-opacity=\"1\"/>\n",
       "<polyline clip-path=\"url(#clip082)\" style=\"stroke:#000000; stroke-linecap:round; stroke-linejoin:round; stroke-width:4; stroke-opacity:1; fill:none\" points=\"20368.5,1423.18 20368.5,1423.18 20478,1423.18 20368.5,1423.18 \"/>\n",
       "<path clip-path=\"url(#clip082)\" d=\"M20478 1423.18 L20478 1423.18 L20587.5 1423.18 L20587.5 1423.18 L20478 1423.18 L20478 1423.18  Z\" fill=\"#009af9\" fill-rule=\"evenodd\" fill-opacity=\"1\"/>\n",
       "<polyline clip-path=\"url(#clip082)\" style=\"stroke:#000000; stroke-linecap:round; stroke-linejoin:round; stroke-width:4; stroke-opacity:1; fill:none\" points=\"20478,1423.18 20478,1423.18 20587.5,1423.18 20478,1423.18 \"/>\n",
       "<path clip-path=\"url(#clip082)\" d=\"M20587.5 1423.18 L20587.5 1423.18 L20697.1 1423.18 L20697.1 1423.18 L20587.5 1423.18 L20587.5 1423.18  Z\" fill=\"#009af9\" fill-rule=\"evenodd\" fill-opacity=\"1\"/>\n",
       "<polyline clip-path=\"url(#clip082)\" style=\"stroke:#000000; stroke-linecap:round; stroke-linejoin:round; stroke-width:4; stroke-opacity:1; fill:none\" points=\"20587.5,1423.18 20587.5,1423.18 20697.1,1423.18 20587.5,1423.18 \"/>\n",
       "<path clip-path=\"url(#clip082)\" d=\"M20697.1 1423.18 L20697.1 1423.18 L20806.6 1423.18 L20806.6 1423.18 L20697.1 1423.18 L20697.1 1423.18  Z\" fill=\"#009af9\" fill-rule=\"evenodd\" fill-opacity=\"1\"/>\n",
       "<polyline clip-path=\"url(#clip082)\" style=\"stroke:#000000; stroke-linecap:round; stroke-linejoin:round; stroke-width:4; stroke-opacity:1; fill:none\" points=\"20697.1,1423.18 20697.1,1423.18 20806.6,1423.18 20697.1,1423.18 \"/>\n",
       "<path clip-path=\"url(#clip082)\" d=\"M20806.6 1423.18 L20806.6 1423.18 L20916.1 1423.18 L20916.1 1423.18 L20806.6 1423.18 L20806.6 1423.18  Z\" fill=\"#009af9\" fill-rule=\"evenodd\" fill-opacity=\"1\"/>\n",
       "<polyline clip-path=\"url(#clip082)\" style=\"stroke:#000000; stroke-linecap:round; stroke-linejoin:round; stroke-width:4; stroke-opacity:1; fill:none\" points=\"20806.6,1423.18 20806.6,1423.18 20916.1,1423.18 20806.6,1423.18 \"/>\n",
       "<path clip-path=\"url(#clip082)\" d=\"M20916.1 1423.18 L20916.1 1423.18 L21025.7 1423.18 L21025.7 1423.18 L20916.1 1423.18 L20916.1 1423.18  Z\" fill=\"#009af9\" fill-rule=\"evenodd\" fill-opacity=\"1\"/>\n",
       "<polyline clip-path=\"url(#clip082)\" style=\"stroke:#000000; stroke-linecap:round; stroke-linejoin:round; stroke-width:4; stroke-opacity:1; fill:none\" points=\"20916.1,1423.18 20916.1,1423.18 21025.7,1423.18 20916.1,1423.18 \"/>\n",
       "<path clip-path=\"url(#clip082)\" d=\"M21025.7 1423.18 L21025.7 1423.18 L21135.2 1423.18 L21135.2 1423.18 L21025.7 1423.18 L21025.7 1423.18  Z\" fill=\"#009af9\" fill-rule=\"evenodd\" fill-opacity=\"1\"/>\n",
       "<polyline clip-path=\"url(#clip082)\" style=\"stroke:#000000; stroke-linecap:round; stroke-linejoin:round; stroke-width:4; stroke-opacity:1; fill:none\" points=\"21025.7,1423.18 21025.7,1423.18 21135.2,1423.18 21025.7,1423.18 \"/>\n",
       "<path clip-path=\"url(#clip082)\" d=\"M21135.2 1423.18 L21135.2 1423.18 L21244.7 1423.18 L21244.7 1423.18 L21135.2 1423.18 L21135.2 1423.18  Z\" fill=\"#009af9\" fill-rule=\"evenodd\" fill-opacity=\"1\"/>\n",
       "<polyline clip-path=\"url(#clip082)\" style=\"stroke:#000000; stroke-linecap:round; stroke-linejoin:round; stroke-width:4; stroke-opacity:1; fill:none\" points=\"21135.2,1423.18 21135.2,1423.18 21244.7,1423.18 21135.2,1423.18 \"/>\n",
       "<path clip-path=\"url(#clip082)\" d=\"M21244.7 1423.18 L21244.7 1423.18 L21354.3 1423.18 L21354.3 1423.18 L21244.7 1423.18 L21244.7 1423.18  Z\" fill=\"#009af9\" fill-rule=\"evenodd\" fill-opacity=\"1\"/>\n",
       "<polyline clip-path=\"url(#clip082)\" style=\"stroke:#000000; stroke-linecap:round; stroke-linejoin:round; stroke-width:4; stroke-opacity:1; fill:none\" points=\"21244.7,1423.18 21244.7,1423.18 21354.3,1423.18 21244.7,1423.18 \"/>\n",
       "<path clip-path=\"url(#clip082)\" d=\"M21354.3 1423.18 L21354.3 1423.18 L21463.8 1423.18 L21463.8 1423.18 L21354.3 1423.18 L21354.3 1423.18  Z\" fill=\"#009af9\" fill-rule=\"evenodd\" fill-opacity=\"1\"/>\n",
       "<polyline clip-path=\"url(#clip082)\" style=\"stroke:#000000; stroke-linecap:round; stroke-linejoin:round; stroke-width:4; stroke-opacity:1; fill:none\" points=\"21354.3,1423.18 21354.3,1423.18 21463.8,1423.18 21354.3,1423.18 \"/>\n",
       "<path clip-path=\"url(#clip082)\" d=\"M21463.8 1423.18 L21463.8 1423.18 L21573.4 1423.18 L21573.4 1423.18 L21463.8 1423.18 L21463.8 1423.18  Z\" fill=\"#009af9\" fill-rule=\"evenodd\" fill-opacity=\"1\"/>\n",
       "<polyline clip-path=\"url(#clip082)\" style=\"stroke:#000000; stroke-linecap:round; stroke-linejoin:round; stroke-width:4; stroke-opacity:1; fill:none\" points=\"21463.8,1423.18 21463.8,1423.18 21573.4,1423.18 21463.8,1423.18 \"/>\n",
       "<path clip-path=\"url(#clip082)\" d=\"M21573.4 1423.18 L21573.4 1423.18 L21682.9 1423.18 L21682.9 1423.18 L21573.4 1423.18 L21573.4 1423.18  Z\" fill=\"#009af9\" fill-rule=\"evenodd\" fill-opacity=\"1\"/>\n",
       "<polyline clip-path=\"url(#clip082)\" style=\"stroke:#000000; stroke-linecap:round; stroke-linejoin:round; stroke-width:4; stroke-opacity:1; fill:none\" points=\"21573.4,1423.18 21573.4,1423.18 21682.9,1423.18 21573.4,1423.18 \"/>\n",
       "<path clip-path=\"url(#clip082)\" d=\"M21682.9 1423.18 L21682.9 1423.18 L21792.4 1423.18 L21792.4 1423.18 L21682.9 1423.18 L21682.9 1423.18  Z\" fill=\"#009af9\" fill-rule=\"evenodd\" fill-opacity=\"1\"/>\n",
       "<polyline clip-path=\"url(#clip082)\" style=\"stroke:#000000; stroke-linecap:round; stroke-linejoin:round; stroke-width:4; stroke-opacity:1; fill:none\" points=\"21682.9,1423.18 21682.9,1423.18 21792.4,1423.18 21682.9,1423.18 \"/>\n",
       "<path clip-path=\"url(#clip082)\" d=\"M21792.4 1423.18 L21792.4 1423.18 L21902 1423.18 L21902 1423.18 L21792.4 1423.18 L21792.4 1423.18  Z\" fill=\"#009af9\" fill-rule=\"evenodd\" fill-opacity=\"1\"/>\n",
       "<polyline clip-path=\"url(#clip082)\" style=\"stroke:#000000; stroke-linecap:round; stroke-linejoin:round; stroke-width:4; stroke-opacity:1; fill:none\" points=\"21792.4,1423.18 21792.4,1423.18 21902,1423.18 21792.4,1423.18 \"/>\n",
       "<path clip-path=\"url(#clip082)\" d=\"M21902 1423.18 L21902 1423.18 L22011.5 1423.18 L22011.5 1423.18 L21902 1423.18 L21902 1423.18  Z\" fill=\"#009af9\" fill-rule=\"evenodd\" fill-opacity=\"1\"/>\n",
       "<polyline clip-path=\"url(#clip082)\" style=\"stroke:#000000; stroke-linecap:round; stroke-linejoin:round; stroke-width:4; stroke-opacity:1; fill:none\" points=\"21902,1423.18 21902,1423.18 22011.5,1423.18 21902,1423.18 \"/>\n",
       "<path clip-path=\"url(#clip082)\" d=\"M22011.5 1423.18 L22011.5 1423.18 L22121 1423.18 L22121 1423.18 L22011.5 1423.18 L22011.5 1423.18  Z\" fill=\"#009af9\" fill-rule=\"evenodd\" fill-opacity=\"1\"/>\n",
       "<polyline clip-path=\"url(#clip082)\" style=\"stroke:#000000; stroke-linecap:round; stroke-linejoin:round; stroke-width:4; stroke-opacity:1; fill:none\" points=\"22011.5,1423.18 22011.5,1423.18 22121,1423.18 22011.5,1423.18 \"/>\n",
       "<path clip-path=\"url(#clip082)\" d=\"M22121 1423.18 L22121 1423.18 L22230.6 1423.18 L22230.6 1423.18 L22121 1423.18 L22121 1423.18  Z\" fill=\"#009af9\" fill-rule=\"evenodd\" fill-opacity=\"1\"/>\n",
       "<polyline clip-path=\"url(#clip082)\" style=\"stroke:#000000; stroke-linecap:round; stroke-linejoin:round; stroke-width:4; stroke-opacity:1; fill:none\" points=\"22121,1423.18 22121,1423.18 22230.6,1423.18 22121,1423.18 \"/>\n",
       "<path clip-path=\"url(#clip082)\" d=\"M22230.6 1423.18 L22230.6 1423.18 L22340.1 1423.18 L22340.1 1423.18 L22230.6 1423.18 L22230.6 1423.18  Z\" fill=\"#009af9\" fill-rule=\"evenodd\" fill-opacity=\"1\"/>\n",
       "<polyline clip-path=\"url(#clip082)\" style=\"stroke:#000000; stroke-linecap:round; stroke-linejoin:round; stroke-width:4; stroke-opacity:1; fill:none\" points=\"22230.6,1423.18 22230.6,1423.18 22340.1,1423.18 22230.6,1423.18 \"/>\n",
       "<path clip-path=\"url(#clip082)\" d=\"M22340.1 1423.18 L22340.1 1423.18 L22449.7 1423.18 L22449.7 1423.18 L22340.1 1423.18 L22340.1 1423.18  Z\" fill=\"#009af9\" fill-rule=\"evenodd\" fill-opacity=\"1\"/>\n",
       "<polyline clip-path=\"url(#clip082)\" style=\"stroke:#000000; stroke-linecap:round; stroke-linejoin:round; stroke-width:4; stroke-opacity:1; fill:none\" points=\"22340.1,1423.18 22340.1,1423.18 22449.7,1423.18 22340.1,1423.18 \"/>\n",
       "<path clip-path=\"url(#clip082)\" d=\"M22449.7 1423.18 L22449.7 1423.18 L22559.2 1423.18 L22559.2 1423.18 L22449.7 1423.18 L22449.7 1423.18  Z\" fill=\"#009af9\" fill-rule=\"evenodd\" fill-opacity=\"1\"/>\n",
       "<polyline clip-path=\"url(#clip082)\" style=\"stroke:#000000; stroke-linecap:round; stroke-linejoin:round; stroke-width:4; stroke-opacity:1; fill:none\" points=\"22449.7,1423.18 22449.7,1423.18 22559.2,1423.18 22449.7,1423.18 \"/>\n",
       "<path clip-path=\"url(#clip082)\" d=\"M22559.2 1423.18 L22559.2 1423.18 L22668.7 1423.18 L22668.7 1423.18 L22559.2 1423.18 L22559.2 1423.18  Z\" fill=\"#009af9\" fill-rule=\"evenodd\" fill-opacity=\"1\"/>\n",
       "<polyline clip-path=\"url(#clip082)\" style=\"stroke:#000000; stroke-linecap:round; stroke-linejoin:round; stroke-width:4; stroke-opacity:1; fill:none\" points=\"22559.2,1423.18 22559.2,1423.18 22668.7,1423.18 22559.2,1423.18 \"/>\n",
       "<path clip-path=\"url(#clip082)\" d=\"M22668.7 1423.18 L22668.7 1423.18 L22778.3 1423.18 L22778.3 1423.18 L22668.7 1423.18 L22668.7 1423.18  Z\" fill=\"#009af9\" fill-rule=\"evenodd\" fill-opacity=\"1\"/>\n",
       "<polyline clip-path=\"url(#clip082)\" style=\"stroke:#000000; stroke-linecap:round; stroke-linejoin:round; stroke-width:4; stroke-opacity:1; fill:none\" points=\"22668.7,1423.18 22668.7,1423.18 22778.3,1423.18 22668.7,1423.18 \"/>\n",
       "<path clip-path=\"url(#clip082)\" d=\"M22778.3 1423.18 L22778.3 1423.18 L22887.8 1423.18 L22887.8 1423.18 L22778.3 1423.18 L22778.3 1423.18  Z\" fill=\"#009af9\" fill-rule=\"evenodd\" fill-opacity=\"1\"/>\n",
       "<polyline clip-path=\"url(#clip082)\" style=\"stroke:#000000; stroke-linecap:round; stroke-linejoin:round; stroke-width:4; stroke-opacity:1; fill:none\" points=\"22778.3,1423.18 22778.3,1423.18 22887.8,1423.18 22778.3,1423.18 \"/>\n",
       "<path clip-path=\"url(#clip082)\" d=\"M22887.8 1423.18 L22887.8 1423.18 L22997.3 1423.18 L22997.3 1423.18 L22887.8 1423.18 L22887.8 1423.18  Z\" fill=\"#009af9\" fill-rule=\"evenodd\" fill-opacity=\"1\"/>\n",
       "<polyline clip-path=\"url(#clip082)\" style=\"stroke:#000000; stroke-linecap:round; stroke-linejoin:round; stroke-width:4; stroke-opacity:1; fill:none\" points=\"22887.8,1423.18 22887.8,1423.18 22997.3,1423.18 22887.8,1423.18 \"/>\n",
       "<path clip-path=\"url(#clip082)\" d=\"M22997.3 1423.18 L22997.3 1423.18 L23106.9 1423.18 L23106.9 1423.18 L22997.3 1423.18 L22997.3 1423.18  Z\" fill=\"#009af9\" fill-rule=\"evenodd\" fill-opacity=\"1\"/>\n",
       "<polyline clip-path=\"url(#clip082)\" style=\"stroke:#000000; stroke-linecap:round; stroke-linejoin:round; stroke-width:4; stroke-opacity:1; fill:none\" points=\"22997.3,1423.18 22997.3,1423.18 23106.9,1423.18 22997.3,1423.18 \"/>\n",
       "<path clip-path=\"url(#clip082)\" d=\"M23106.9 1423.18 L23106.9 1423.18 L23216.4 1423.18 L23216.4 1423.18 L23106.9 1423.18 L23106.9 1423.18  Z\" fill=\"#009af9\" fill-rule=\"evenodd\" fill-opacity=\"1\"/>\n",
       "<polyline clip-path=\"url(#clip082)\" style=\"stroke:#000000; stroke-linecap:round; stroke-linejoin:round; stroke-width:4; stroke-opacity:1; fill:none\" points=\"23106.9,1423.18 23106.9,1423.18 23216.4,1423.18 23106.9,1423.18 \"/>\n",
       "<path clip-path=\"url(#clip082)\" d=\"M23216.4 1423.18 L23216.4 1423.18 L23326 1423.18 L23326 1423.18 L23216.4 1423.18 L23216.4 1423.18  Z\" fill=\"#009af9\" fill-rule=\"evenodd\" fill-opacity=\"1\"/>\n",
       "<polyline clip-path=\"url(#clip082)\" style=\"stroke:#000000; stroke-linecap:round; stroke-linejoin:round; stroke-width:4; stroke-opacity:1; fill:none\" points=\"23216.4,1423.18 23216.4,1423.18 23326,1423.18 23216.4,1423.18 \"/>\n",
       "<path clip-path=\"url(#clip082)\" d=\"M23326 1423.18 L23326 1423.18 L23435.5 1423.18 L23435.5 1423.18 L23326 1423.18 L23326 1423.18  Z\" fill=\"#009af9\" fill-rule=\"evenodd\" fill-opacity=\"1\"/>\n",
       "<polyline clip-path=\"url(#clip082)\" style=\"stroke:#000000; stroke-linecap:round; stroke-linejoin:round; stroke-width:4; stroke-opacity:1; fill:none\" points=\"23326,1423.18 23326,1423.18 23435.5,1423.18 23326,1423.18 \"/>\n",
       "<path clip-path=\"url(#clip082)\" d=\"M23435.5 1423.18 L23435.5 1423.18 L23545 1423.18 L23545 1423.18 L23435.5 1423.18 L23435.5 1423.18  Z\" fill=\"#009af9\" fill-rule=\"evenodd\" fill-opacity=\"1\"/>\n",
       "<polyline clip-path=\"url(#clip082)\" style=\"stroke:#000000; stroke-linecap:round; stroke-linejoin:round; stroke-width:4; stroke-opacity:1; fill:none\" points=\"23435.5,1423.18 23435.5,1423.18 23545,1423.18 23435.5,1423.18 \"/>\n",
       "<path clip-path=\"url(#clip082)\" d=\"M23545 1423.18 L23545 1423.18 L23654.6 1423.18 L23654.6 1423.18 L23545 1423.18 L23545 1423.18  Z\" fill=\"#009af9\" fill-rule=\"evenodd\" fill-opacity=\"1\"/>\n",
       "<polyline clip-path=\"url(#clip082)\" style=\"stroke:#000000; stroke-linecap:round; stroke-linejoin:round; stroke-width:4; stroke-opacity:1; fill:none\" points=\"23545,1423.18 23545,1423.18 23654.6,1423.18 23545,1423.18 \"/>\n",
       "<path clip-path=\"url(#clip082)\" d=\"M23654.6 1423.18 L23654.6 1423.18 L23764.1 1423.18 L23764.1 1423.18 L23654.6 1423.18 L23654.6 1423.18  Z\" fill=\"#009af9\" fill-rule=\"evenodd\" fill-opacity=\"1\"/>\n",
       "<polyline clip-path=\"url(#clip082)\" style=\"stroke:#000000; stroke-linecap:round; stroke-linejoin:round; stroke-width:4; stroke-opacity:1; fill:none\" points=\"23654.6,1423.18 23654.6,1423.18 23764.1,1423.18 23654.6,1423.18 \"/>\n",
       "<path clip-path=\"url(#clip082)\" d=\"M23764.1 1423.18 L23764.1 1423.18 L23873.6 1423.18 L23873.6 1423.18 L23764.1 1423.18 L23764.1 1423.18  Z\" fill=\"#009af9\" fill-rule=\"evenodd\" fill-opacity=\"1\"/>\n",
       "<polyline clip-path=\"url(#clip082)\" style=\"stroke:#000000; stroke-linecap:round; stroke-linejoin:round; stroke-width:4; stroke-opacity:1; fill:none\" points=\"23764.1,1423.18 23764.1,1423.18 23873.6,1423.18 23764.1,1423.18 \"/>\n",
       "<path clip-path=\"url(#clip082)\" d=\"M23873.6 1423.18 L23873.6 1423.18 L23983.2 1423.18 L23983.2 1423.18 L23873.6 1423.18 L23873.6 1423.18  Z\" fill=\"#009af9\" fill-rule=\"evenodd\" fill-opacity=\"1\"/>\n",
       "<polyline clip-path=\"url(#clip082)\" style=\"stroke:#000000; stroke-linecap:round; stroke-linejoin:round; stroke-width:4; stroke-opacity:1; fill:none\" points=\"23873.6,1423.18 23873.6,1423.18 23983.2,1423.18 23873.6,1423.18 \"/>\n",
       "<path clip-path=\"url(#clip082)\" d=\"M23983.2 1423.18 L23983.2 1423.18 L24092.7 1423.18 L24092.7 1423.18 L23983.2 1423.18 L23983.2 1423.18  Z\" fill=\"#009af9\" fill-rule=\"evenodd\" fill-opacity=\"1\"/>\n",
       "<polyline clip-path=\"url(#clip082)\" style=\"stroke:#000000; stroke-linecap:round; stroke-linejoin:round; stroke-width:4; stroke-opacity:1; fill:none\" points=\"23983.2,1423.18 23983.2,1423.18 24092.7,1423.18 23983.2,1423.18 \"/>\n",
       "<path clip-path=\"url(#clip082)\" d=\"M24092.7 1423.18 L24092.7 1423.18 L24202.3 1423.18 L24202.3 1423.18 L24092.7 1423.18 L24092.7 1423.18  Z\" fill=\"#009af9\" fill-rule=\"evenodd\" fill-opacity=\"1\"/>\n",
       "<polyline clip-path=\"url(#clip082)\" style=\"stroke:#000000; stroke-linecap:round; stroke-linejoin:round; stroke-width:4; stroke-opacity:1; fill:none\" points=\"24092.7,1423.18 24092.7,1423.18 24202.3,1423.18 24092.7,1423.18 \"/>\n",
       "<path clip-path=\"url(#clip082)\" d=\"M24202.3 1423.18 L24202.3 1423.18 L24311.8 1423.18 L24311.8 1423.18 L24202.3 1423.18 L24202.3 1423.18  Z\" fill=\"#009af9\" fill-rule=\"evenodd\" fill-opacity=\"1\"/>\n",
       "<polyline clip-path=\"url(#clip082)\" style=\"stroke:#000000; stroke-linecap:round; stroke-linejoin:round; stroke-width:4; stroke-opacity:1; fill:none\" points=\"24202.3,1423.18 24202.3,1423.18 24311.8,1423.18 24202.3,1423.18 \"/>\n",
       "<path clip-path=\"url(#clip082)\" d=\"M24311.8 1423.18 L24311.8 1423.18 L24421.3 1423.18 L24421.3 1423.18 L24311.8 1423.18 L24311.8 1423.18  Z\" fill=\"#009af9\" fill-rule=\"evenodd\" fill-opacity=\"1\"/>\n",
       "<polyline clip-path=\"url(#clip082)\" style=\"stroke:#000000; stroke-linecap:round; stroke-linejoin:round; stroke-width:4; stroke-opacity:1; fill:none\" points=\"24311.8,1423.18 24311.8,1423.18 24421.3,1423.18 24311.8,1423.18 \"/>\n",
       "<path clip-path=\"url(#clip082)\" d=\"M24421.3 1423.18 L24421.3 1423.18 L24530.9 1423.18 L24530.9 1423.18 L24421.3 1423.18 L24421.3 1423.18  Z\" fill=\"#009af9\" fill-rule=\"evenodd\" fill-opacity=\"1\"/>\n",
       "<polyline clip-path=\"url(#clip082)\" style=\"stroke:#000000; stroke-linecap:round; stroke-linejoin:round; stroke-width:4; stroke-opacity:1; fill:none\" points=\"24421.3,1423.18 24421.3,1423.18 24530.9,1423.18 24421.3,1423.18 \"/>\n",
       "<path clip-path=\"url(#clip082)\" d=\"M24530.9 1423.18 L24530.9 1423.18 L24640.4 1423.18 L24640.4 1423.18 L24530.9 1423.18 L24530.9 1423.18  Z\" fill=\"#009af9\" fill-rule=\"evenodd\" fill-opacity=\"1\"/>\n",
       "<polyline clip-path=\"url(#clip082)\" style=\"stroke:#000000; stroke-linecap:round; stroke-linejoin:round; stroke-width:4; stroke-opacity:1; fill:none\" points=\"24530.9,1423.18 24530.9,1423.18 24640.4,1423.18 24530.9,1423.18 \"/>\n",
       "<path clip-path=\"url(#clip082)\" d=\"M24640.4 1423.18 L24640.4 1423.18 L24749.9 1423.18 L24749.9 1423.18 L24640.4 1423.18 L24640.4 1423.18  Z\" fill=\"#009af9\" fill-rule=\"evenodd\" fill-opacity=\"1\"/>\n",
       "<polyline clip-path=\"url(#clip082)\" style=\"stroke:#000000; stroke-linecap:round; stroke-linejoin:round; stroke-width:4; stroke-opacity:1; fill:none\" points=\"24640.4,1423.18 24640.4,1423.18 24749.9,1423.18 24640.4,1423.18 \"/>\n",
       "<path clip-path=\"url(#clip082)\" d=\"M24749.9 1423.18 L24749.9 1423.18 L24859.5 1423.18 L24859.5 1423.18 L24749.9 1423.18 L24749.9 1423.18  Z\" fill=\"#009af9\" fill-rule=\"evenodd\" fill-opacity=\"1\"/>\n",
       "<polyline clip-path=\"url(#clip082)\" style=\"stroke:#000000; stroke-linecap:round; stroke-linejoin:round; stroke-width:4; stroke-opacity:1; fill:none\" points=\"24749.9,1423.18 24749.9,1423.18 24859.5,1423.18 24749.9,1423.18 \"/>\n",
       "<path clip-path=\"url(#clip082)\" d=\"M24859.5 1423.18 L24859.5 1423.18 L24969 1423.18 L24969 1423.18 L24859.5 1423.18 L24859.5 1423.18  Z\" fill=\"#009af9\" fill-rule=\"evenodd\" fill-opacity=\"1\"/>\n",
       "<polyline clip-path=\"url(#clip082)\" style=\"stroke:#000000; stroke-linecap:round; stroke-linejoin:round; stroke-width:4; stroke-opacity:1; fill:none\" points=\"24859.5,1423.18 24859.5,1423.18 24969,1423.18 24859.5,1423.18 \"/>\n",
       "<path clip-path=\"url(#clip082)\" d=\"M24969 1423.18 L24969 1423.18 L25078.6 1423.18 L25078.6 1423.18 L24969 1423.18 L24969 1423.18  Z\" fill=\"#009af9\" fill-rule=\"evenodd\" fill-opacity=\"1\"/>\n",
       "<polyline clip-path=\"url(#clip082)\" style=\"stroke:#000000; stroke-linecap:round; stroke-linejoin:round; stroke-width:4; stroke-opacity:1; fill:none\" points=\"24969,1423.18 24969,1423.18 25078.6,1423.18 24969,1423.18 \"/>\n",
       "<path clip-path=\"url(#clip082)\" d=\"M25078.6 1423.18 L25078.6 1423.18 L25188.1 1423.18 L25188.1 1423.18 L25078.6 1423.18 L25078.6 1423.18  Z\" fill=\"#009af9\" fill-rule=\"evenodd\" fill-opacity=\"1\"/>\n",
       "<polyline clip-path=\"url(#clip082)\" style=\"stroke:#000000; stroke-linecap:round; stroke-linejoin:round; stroke-width:4; stroke-opacity:1; fill:none\" points=\"25078.6,1423.18 25078.6,1423.18 25188.1,1423.18 25078.6,1423.18 \"/>\n",
       "<path clip-path=\"url(#clip082)\" d=\"M25188.1 1423.18 L25188.1 1423.18 L25297.6 1423.18 L25297.6 1423.18 L25188.1 1423.18 L25188.1 1423.18  Z\" fill=\"#009af9\" fill-rule=\"evenodd\" fill-opacity=\"1\"/>\n",
       "<polyline clip-path=\"url(#clip082)\" style=\"stroke:#000000; stroke-linecap:round; stroke-linejoin:round; stroke-width:4; stroke-opacity:1; fill:none\" points=\"25188.1,1423.18 25188.1,1423.18 25297.6,1423.18 25188.1,1423.18 \"/>\n",
       "<path clip-path=\"url(#clip082)\" d=\"M25297.6 1423.18 L25297.6 1423.18 L25407.2 1423.18 L25407.2 1423.18 L25297.6 1423.18 L25297.6 1423.18  Z\" fill=\"#009af9\" fill-rule=\"evenodd\" fill-opacity=\"1\"/>\n",
       "<polyline clip-path=\"url(#clip082)\" style=\"stroke:#000000; stroke-linecap:round; stroke-linejoin:round; stroke-width:4; stroke-opacity:1; fill:none\" points=\"25297.6,1423.18 25297.6,1423.18 25407.2,1423.18 25297.6,1423.18 \"/>\n",
       "<path clip-path=\"url(#clip082)\" d=\"M25407.2 1423.18 L25407.2 1423.18 L25516.7 1423.18 L25516.7 1423.18 L25407.2 1423.18 L25407.2 1423.18  Z\" fill=\"#009af9\" fill-rule=\"evenodd\" fill-opacity=\"1\"/>\n",
       "<polyline clip-path=\"url(#clip082)\" style=\"stroke:#000000; stroke-linecap:round; stroke-linejoin:round; stroke-width:4; stroke-opacity:1; fill:none\" points=\"25407.2,1423.18 25407.2,1423.18 25516.7,1423.18 25407.2,1423.18 \"/>\n",
       "<path clip-path=\"url(#clip082)\" d=\"M25516.7 1423.18 L25516.7 1423.18 L25626.2 1423.18 L25626.2 1423.18 L25516.7 1423.18 L25516.7 1423.18  Z\" fill=\"#009af9\" fill-rule=\"evenodd\" fill-opacity=\"1\"/>\n",
       "<polyline clip-path=\"url(#clip082)\" style=\"stroke:#000000; stroke-linecap:round; stroke-linejoin:round; stroke-width:4; stroke-opacity:1; fill:none\" points=\"25516.7,1423.18 25516.7,1423.18 25626.2,1423.18 25516.7,1423.18 \"/>\n",
       "<path clip-path=\"url(#clip082)\" d=\"M25626.2 1423.18 L25626.2 1423.18 L25735.8 1423.18 L25735.8 1423.18 L25626.2 1423.18 L25626.2 1423.18  Z\" fill=\"#009af9\" fill-rule=\"evenodd\" fill-opacity=\"1\"/>\n",
       "<polyline clip-path=\"url(#clip082)\" style=\"stroke:#000000; stroke-linecap:round; stroke-linejoin:round; stroke-width:4; stroke-opacity:1; fill:none\" points=\"25626.2,1423.18 25626.2,1423.18 25735.8,1423.18 25626.2,1423.18 \"/>\n",
       "<path clip-path=\"url(#clip082)\" d=\"M25735.8 1423.18 L25735.8 1423.18 L25845.3 1423.18 L25845.3 1423.18 L25735.8 1423.18 L25735.8 1423.18  Z\" fill=\"#009af9\" fill-rule=\"evenodd\" fill-opacity=\"1\"/>\n",
       "<polyline clip-path=\"url(#clip082)\" style=\"stroke:#000000; stroke-linecap:round; stroke-linejoin:round; stroke-width:4; stroke-opacity:1; fill:none\" points=\"25735.8,1423.18 25735.8,1423.18 25845.3,1423.18 25735.8,1423.18 \"/>\n",
       "<path clip-path=\"url(#clip082)\" d=\"M25845.3 1423.18 L25845.3 1423.18 L25954.9 1423.18 L25954.9 1423.18 L25845.3 1423.18 L25845.3 1423.18  Z\" fill=\"#009af9\" fill-rule=\"evenodd\" fill-opacity=\"1\"/>\n",
       "<polyline clip-path=\"url(#clip082)\" style=\"stroke:#000000; stroke-linecap:round; stroke-linejoin:round; stroke-width:4; stroke-opacity:1; fill:none\" points=\"25845.3,1423.18 25845.3,1423.18 25954.9,1423.18 25845.3,1423.18 \"/>\n",
       "<path clip-path=\"url(#clip082)\" d=\"M25954.9 1423.18 L25954.9 1423.18 L26064.4 1423.18 L26064.4 1423.18 L25954.9 1423.18 L25954.9 1423.18  Z\" fill=\"#009af9\" fill-rule=\"evenodd\" fill-opacity=\"1\"/>\n",
       "<polyline clip-path=\"url(#clip082)\" style=\"stroke:#000000; stroke-linecap:round; stroke-linejoin:round; stroke-width:4; stroke-opacity:1; fill:none\" points=\"25954.9,1423.18 25954.9,1423.18 26064.4,1423.18 25954.9,1423.18 \"/>\n",
       "<path clip-path=\"url(#clip082)\" d=\"M26064.4 1423.18 L26064.4 1423.18 L26173.9 1423.18 L26173.9 1423.18 L26064.4 1423.18 L26064.4 1423.18  Z\" fill=\"#009af9\" fill-rule=\"evenodd\" fill-opacity=\"1\"/>\n",
       "<polyline clip-path=\"url(#clip082)\" style=\"stroke:#000000; stroke-linecap:round; stroke-linejoin:round; stroke-width:4; stroke-opacity:1; fill:none\" points=\"26064.4,1423.18 26064.4,1423.18 26173.9,1423.18 26064.4,1423.18 \"/>\n",
       "<path clip-path=\"url(#clip082)\" d=\"M26173.9 1423.18 L26173.9 1423.18 L26283.5 1423.18 L26283.5 1423.18 L26173.9 1423.18 L26173.9 1423.18  Z\" fill=\"#009af9\" fill-rule=\"evenodd\" fill-opacity=\"1\"/>\n",
       "<polyline clip-path=\"url(#clip082)\" style=\"stroke:#000000; stroke-linecap:round; stroke-linejoin:round; stroke-width:4; stroke-opacity:1; fill:none\" points=\"26173.9,1423.18 26173.9,1423.18 26283.5,1423.18 26173.9,1423.18 \"/>\n",
       "<path clip-path=\"url(#clip082)\" d=\"M26283.5 1423.18 L26283.5 1423.18 L26393 1423.18 L26393 1423.18 L26283.5 1423.18 L26283.5 1423.18  Z\" fill=\"#009af9\" fill-rule=\"evenodd\" fill-opacity=\"1\"/>\n",
       "<polyline clip-path=\"url(#clip082)\" style=\"stroke:#000000; stroke-linecap:round; stroke-linejoin:round; stroke-width:4; stroke-opacity:1; fill:none\" points=\"26283.5,1423.18 26283.5,1423.18 26393,1423.18 26283.5,1423.18 \"/>\n",
       "<path clip-path=\"url(#clip082)\" d=\"M26393 1423.18 L26393 1423.18 L26502.5 1423.18 L26502.5 1423.18 L26393 1423.18 L26393 1423.18  Z\" fill=\"#009af9\" fill-rule=\"evenodd\" fill-opacity=\"1\"/>\n",
       "<polyline clip-path=\"url(#clip082)\" style=\"stroke:#000000; stroke-linecap:round; stroke-linejoin:round; stroke-width:4; stroke-opacity:1; fill:none\" points=\"26393,1423.18 26393,1423.18 26502.5,1423.18 26393,1423.18 \"/>\n",
       "<path clip-path=\"url(#clip082)\" d=\"M26502.5 1423.18 L26502.5 1423.18 L26612.1 1423.18 L26612.1 1423.18 L26502.5 1423.18 L26502.5 1423.18  Z\" fill=\"#009af9\" fill-rule=\"evenodd\" fill-opacity=\"1\"/>\n",
       "<polyline clip-path=\"url(#clip082)\" style=\"stroke:#000000; stroke-linecap:round; stroke-linejoin:round; stroke-width:4; stroke-opacity:1; fill:none\" points=\"26502.5,1423.18 26502.5,1423.18 26612.1,1423.18 26502.5,1423.18 \"/>\n",
       "<path clip-path=\"url(#clip082)\" d=\"M26612.1 1423.18 L26612.1 1423.18 L26721.6 1423.18 L26721.6 1423.18 L26612.1 1423.18 L26612.1 1423.18  Z\" fill=\"#009af9\" fill-rule=\"evenodd\" fill-opacity=\"1\"/>\n",
       "<polyline clip-path=\"url(#clip082)\" style=\"stroke:#000000; stroke-linecap:round; stroke-linejoin:round; stroke-width:4; stroke-opacity:1; fill:none\" points=\"26612.1,1423.18 26612.1,1423.18 26721.6,1423.18 26612.1,1423.18 \"/>\n",
       "<path clip-path=\"url(#clip082)\" d=\"M26721.6 1423.18 L26721.6 1423.18 L26831.2 1423.18 L26831.2 1423.18 L26721.6 1423.18 L26721.6 1423.18  Z\" fill=\"#009af9\" fill-rule=\"evenodd\" fill-opacity=\"1\"/>\n",
       "<polyline clip-path=\"url(#clip082)\" style=\"stroke:#000000; stroke-linecap:round; stroke-linejoin:round; stroke-width:4; stroke-opacity:1; fill:none\" points=\"26721.6,1423.18 26721.6,1423.18 26831.2,1423.18 26721.6,1423.18 \"/>\n",
       "<path clip-path=\"url(#clip082)\" d=\"M26831.2 1423.18 L26831.2 1423.18 L26940.7 1423.18 L26940.7 1423.18 L26831.2 1423.18 L26831.2 1423.18  Z\" fill=\"#009af9\" fill-rule=\"evenodd\" fill-opacity=\"1\"/>\n",
       "<polyline clip-path=\"url(#clip082)\" style=\"stroke:#000000; stroke-linecap:round; stroke-linejoin:round; stroke-width:4; stroke-opacity:1; fill:none\" points=\"26831.2,1423.18 26831.2,1423.18 26940.7,1423.18 26831.2,1423.18 \"/>\n",
       "<path clip-path=\"url(#clip082)\" d=\"M26940.7 1423.18 L26940.7 1423.18 L27050.2 1423.18 L27050.2 1423.18 L26940.7 1423.18 L26940.7 1423.18  Z\" fill=\"#009af9\" fill-rule=\"evenodd\" fill-opacity=\"1\"/>\n",
       "<polyline clip-path=\"url(#clip082)\" style=\"stroke:#000000; stroke-linecap:round; stroke-linejoin:round; stroke-width:4; stroke-opacity:1; fill:none\" points=\"26940.7,1423.18 26940.7,1423.18 27050.2,1423.18 26940.7,1423.18 \"/>\n",
       "<path clip-path=\"url(#clip082)\" d=\"M27050.2 1423.18 L27050.2 1423.18 L27159.8 1423.18 L27159.8 1423.18 L27050.2 1423.18 L27050.2 1423.18  Z\" fill=\"#009af9\" fill-rule=\"evenodd\" fill-opacity=\"1\"/>\n",
       "<polyline clip-path=\"url(#clip082)\" style=\"stroke:#000000; stroke-linecap:round; stroke-linejoin:round; stroke-width:4; stroke-opacity:1; fill:none\" points=\"27050.2,1423.18 27050.2,1423.18 27159.8,1423.18 27050.2,1423.18 \"/>\n",
       "<path clip-path=\"url(#clip082)\" d=\"M27159.8 1423.18 L27159.8 1423.18 L27269.3 1423.18 L27269.3 1423.18 L27159.8 1423.18 L27159.8 1423.18  Z\" fill=\"#009af9\" fill-rule=\"evenodd\" fill-opacity=\"1\"/>\n",
       "<polyline clip-path=\"url(#clip082)\" style=\"stroke:#000000; stroke-linecap:round; stroke-linejoin:round; stroke-width:4; stroke-opacity:1; fill:none\" points=\"27159.8,1423.18 27159.8,1423.18 27269.3,1423.18 27159.8,1423.18 \"/>\n",
       "<path clip-path=\"url(#clip082)\" d=\"M27269.3 1423.18 L27269.3 1423.18 L27378.8 1423.18 L27378.8 1423.18 L27269.3 1423.18 L27269.3 1423.18  Z\" fill=\"#009af9\" fill-rule=\"evenodd\" fill-opacity=\"1\"/>\n",
       "<polyline clip-path=\"url(#clip082)\" style=\"stroke:#000000; stroke-linecap:round; stroke-linejoin:round; stroke-width:4; stroke-opacity:1; fill:none\" points=\"27269.3,1423.18 27269.3,1423.18 27378.8,1423.18 27269.3,1423.18 \"/>\n",
       "<path clip-path=\"url(#clip082)\" d=\"M27378.8 1423.18 L27378.8 1423.18 L27488.4 1423.18 L27488.4 1423.18 L27378.8 1423.18 L27378.8 1423.18  Z\" fill=\"#009af9\" fill-rule=\"evenodd\" fill-opacity=\"1\"/>\n",
       "<polyline clip-path=\"url(#clip082)\" style=\"stroke:#000000; stroke-linecap:round; stroke-linejoin:round; stroke-width:4; stroke-opacity:1; fill:none\" points=\"27378.8,1423.18 27378.8,1423.18 27488.4,1423.18 27378.8,1423.18 \"/>\n",
       "<path clip-path=\"url(#clip082)\" d=\"M27488.4 1423.18 L27488.4 1423.18 L27597.9 1423.18 L27597.9 1423.18 L27488.4 1423.18 L27488.4 1423.18  Z\" fill=\"#009af9\" fill-rule=\"evenodd\" fill-opacity=\"1\"/>\n",
       "<polyline clip-path=\"url(#clip082)\" style=\"stroke:#000000; stroke-linecap:round; stroke-linejoin:round; stroke-width:4; stroke-opacity:1; fill:none\" points=\"27488.4,1423.18 27488.4,1423.18 27597.9,1423.18 27488.4,1423.18 \"/>\n",
       "<path clip-path=\"url(#clip082)\" d=\"M27597.9 1423.18 L27597.9 1423.18 L27707.5 1423.18 L27707.5 1423.18 L27597.9 1423.18 L27597.9 1423.18  Z\" fill=\"#009af9\" fill-rule=\"evenodd\" fill-opacity=\"1\"/>\n",
       "<polyline clip-path=\"url(#clip082)\" style=\"stroke:#000000; stroke-linecap:round; stroke-linejoin:round; stroke-width:4; stroke-opacity:1; fill:none\" points=\"27597.9,1423.18 27597.9,1423.18 27707.5,1423.18 27597.9,1423.18 \"/>\n",
       "<path clip-path=\"url(#clip082)\" d=\"M27707.5 1423.18 L27707.5 1423.18 L27817 1423.18 L27817 1423.18 L27707.5 1423.18 L27707.5 1423.18  Z\" fill=\"#009af9\" fill-rule=\"evenodd\" fill-opacity=\"1\"/>\n",
       "<polyline clip-path=\"url(#clip082)\" style=\"stroke:#000000; stroke-linecap:round; stroke-linejoin:round; stroke-width:4; stroke-opacity:1; fill:none\" points=\"27707.5,1423.18 27707.5,1423.18 27817,1423.18 27707.5,1423.18 \"/>\n",
       "<path clip-path=\"url(#clip082)\" d=\"M27817 1423.18 L27817 1423.18 L27926.5 1423.18 L27926.5 1423.18 L27817 1423.18 L27817 1423.18  Z\" fill=\"#009af9\" fill-rule=\"evenodd\" fill-opacity=\"1\"/>\n",
       "<polyline clip-path=\"url(#clip082)\" style=\"stroke:#000000; stroke-linecap:round; stroke-linejoin:round; stroke-width:4; stroke-opacity:1; fill:none\" points=\"27817,1423.18 27817,1423.18 27926.5,1423.18 27817,1423.18 \"/>\n",
       "<path clip-path=\"url(#clip082)\" d=\"M27926.5 1423.18 L27926.5 1423.18 L28036.1 1423.18 L28036.1 1423.18 L27926.5 1423.18 L27926.5 1423.18  Z\" fill=\"#009af9\" fill-rule=\"evenodd\" fill-opacity=\"1\"/>\n",
       "<polyline clip-path=\"url(#clip082)\" style=\"stroke:#000000; stroke-linecap:round; stroke-linejoin:round; stroke-width:4; stroke-opacity:1; fill:none\" points=\"27926.5,1423.18 27926.5,1423.18 28036.1,1423.18 27926.5,1423.18 \"/>\n",
       "<path clip-path=\"url(#clip082)\" d=\"M28036.1 1423.18 L28036.1 1423.18 L28145.6 1423.18 L28145.6 1423.18 L28036.1 1423.18 L28036.1 1423.18  Z\" fill=\"#009af9\" fill-rule=\"evenodd\" fill-opacity=\"1\"/>\n",
       "<polyline clip-path=\"url(#clip082)\" style=\"stroke:#000000; stroke-linecap:round; stroke-linejoin:round; stroke-width:4; stroke-opacity:1; fill:none\" points=\"28036.1,1423.18 28036.1,1423.18 28145.6,1423.18 28036.1,1423.18 \"/>\n",
       "<path clip-path=\"url(#clip082)\" d=\"M28145.6 1423.18 L28145.6 1423.18 L28255.1 1423.18 L28255.1 1423.18 L28145.6 1423.18 L28145.6 1423.18  Z\" fill=\"#009af9\" fill-rule=\"evenodd\" fill-opacity=\"1\"/>\n",
       "<polyline clip-path=\"url(#clip082)\" style=\"stroke:#000000; stroke-linecap:round; stroke-linejoin:round; stroke-width:4; stroke-opacity:1; fill:none\" points=\"28145.6,1423.18 28145.6,1423.18 28255.1,1423.18 28145.6,1423.18 \"/>\n",
       "<path clip-path=\"url(#clip082)\" d=\"M28255.1 1423.18 L28255.1 1423.18 L28364.7 1423.18 L28364.7 1423.18 L28255.1 1423.18 L28255.1 1423.18  Z\" fill=\"#009af9\" fill-rule=\"evenodd\" fill-opacity=\"1\"/>\n",
       "<polyline clip-path=\"url(#clip082)\" style=\"stroke:#000000; stroke-linecap:round; stroke-linejoin:round; stroke-width:4; stroke-opacity:1; fill:none\" points=\"28255.1,1423.18 28255.1,1423.18 28364.7,1423.18 28255.1,1423.18 \"/>\n",
       "<path clip-path=\"url(#clip082)\" d=\"M28364.7 1423.18 L28364.7 1423.18 L28474.2 1423.18 L28474.2 1423.18 L28364.7 1423.18 L28364.7 1423.18  Z\" fill=\"#009af9\" fill-rule=\"evenodd\" fill-opacity=\"1\"/>\n",
       "<polyline clip-path=\"url(#clip082)\" style=\"stroke:#000000; stroke-linecap:round; stroke-linejoin:round; stroke-width:4; stroke-opacity:1; fill:none\" points=\"28364.7,1423.18 28364.7,1423.18 28474.2,1423.18 28364.7,1423.18 \"/>\n",
       "<path clip-path=\"url(#clip082)\" d=\"M28474.2 1423.18 L28474.2 1423.18 L28583.7 1423.18 L28583.7 1423.18 L28474.2 1423.18 L28474.2 1423.18  Z\" fill=\"#009af9\" fill-rule=\"evenodd\" fill-opacity=\"1\"/>\n",
       "<polyline clip-path=\"url(#clip082)\" style=\"stroke:#000000; stroke-linecap:round; stroke-linejoin:round; stroke-width:4; stroke-opacity:1; fill:none\" points=\"28474.2,1423.18 28474.2,1423.18 28583.7,1423.18 28474.2,1423.18 \"/>\n",
       "<path clip-path=\"url(#clip082)\" d=\"M28583.7 1423.18 L28583.7 1423.18 L28693.3 1423.18 L28693.3 1423.18 L28583.7 1423.18 L28583.7 1423.18  Z\" fill=\"#009af9\" fill-rule=\"evenodd\" fill-opacity=\"1\"/>\n",
       "<polyline clip-path=\"url(#clip082)\" style=\"stroke:#000000; stroke-linecap:round; stroke-linejoin:round; stroke-width:4; stroke-opacity:1; fill:none\" points=\"28583.7,1423.18 28583.7,1423.18 28693.3,1423.18 28583.7,1423.18 \"/>\n",
       "<path clip-path=\"url(#clip082)\" d=\"M28693.3 1423.18 L28693.3 1423.18 L28802.8 1423.18 L28802.8 1423.18 L28693.3 1423.18 L28693.3 1423.18  Z\" fill=\"#009af9\" fill-rule=\"evenodd\" fill-opacity=\"1\"/>\n",
       "<polyline clip-path=\"url(#clip082)\" style=\"stroke:#000000; stroke-linecap:round; stroke-linejoin:round; stroke-width:4; stroke-opacity:1; fill:none\" points=\"28693.3,1423.18 28693.3,1423.18 28802.8,1423.18 28693.3,1423.18 \"/>\n",
       "<path clip-path=\"url(#clip082)\" d=\"M28802.8 1423.18 L28802.8 1423.18 L28912.4 1423.18 L28912.4 1423.18 L28802.8 1423.18 L28802.8 1423.18  Z\" fill=\"#009af9\" fill-rule=\"evenodd\" fill-opacity=\"1\"/>\n",
       "<polyline clip-path=\"url(#clip082)\" style=\"stroke:#000000; stroke-linecap:round; stroke-linejoin:round; stroke-width:4; stroke-opacity:1; fill:none\" points=\"28802.8,1423.18 28802.8,1423.18 28912.4,1423.18 28802.8,1423.18 \"/>\n",
       "<path clip-path=\"url(#clip082)\" d=\"M28912.4 1423.18 L28912.4 1423.18 L29021.9 1423.18 L29021.9 1423.18 L28912.4 1423.18 L28912.4 1423.18  Z\" fill=\"#009af9\" fill-rule=\"evenodd\" fill-opacity=\"1\"/>\n",
       "<polyline clip-path=\"url(#clip082)\" style=\"stroke:#000000; stroke-linecap:round; stroke-linejoin:round; stroke-width:4; stroke-opacity:1; fill:none\" points=\"28912.4,1423.18 28912.4,1423.18 29021.9,1423.18 28912.4,1423.18 \"/>\n",
       "<path clip-path=\"url(#clip082)\" d=\"M29021.9 1423.18 L29021.9 1423.18 L29131.4 1423.18 L29131.4 1423.18 L29021.9 1423.18 L29021.9 1423.18  Z\" fill=\"#009af9\" fill-rule=\"evenodd\" fill-opacity=\"1\"/>\n",
       "<polyline clip-path=\"url(#clip082)\" style=\"stroke:#000000; stroke-linecap:round; stroke-linejoin:round; stroke-width:4; stroke-opacity:1; fill:none\" points=\"29021.9,1423.18 29021.9,1423.18 29131.4,1423.18 29021.9,1423.18 \"/>\n",
       "<path clip-path=\"url(#clip082)\" d=\"M29131.4 1423.18 L29131.4 1423.18 L29241 1423.18 L29241 1423.18 L29131.4 1423.18 L29131.4 1423.18  Z\" fill=\"#009af9\" fill-rule=\"evenodd\" fill-opacity=\"1\"/>\n",
       "<polyline clip-path=\"url(#clip082)\" style=\"stroke:#000000; stroke-linecap:round; stroke-linejoin:round; stroke-width:4; stroke-opacity:1; fill:none\" points=\"29131.4,1423.18 29131.4,1423.18 29241,1423.18 29131.4,1423.18 \"/>\n",
       "<path clip-path=\"url(#clip082)\" d=\"M29241 1423.18 L29241 1423.18 L29350.5 1423.18 L29350.5 1423.18 L29241 1423.18 L29241 1423.18  Z\" fill=\"#009af9\" fill-rule=\"evenodd\" fill-opacity=\"1\"/>\n",
       "<polyline clip-path=\"url(#clip082)\" style=\"stroke:#000000; stroke-linecap:round; stroke-linejoin:round; stroke-width:4; stroke-opacity:1; fill:none\" points=\"29241,1423.18 29241,1423.18 29350.5,1423.18 29241,1423.18 \"/>\n",
       "<path clip-path=\"url(#clip082)\" d=\"M29350.5 1423.18 L29350.5 1423.18 L29460 1423.18 L29460 1423.18 L29350.5 1423.18 L29350.5 1423.18  Z\" fill=\"#009af9\" fill-rule=\"evenodd\" fill-opacity=\"1\"/>\n",
       "<polyline clip-path=\"url(#clip082)\" style=\"stroke:#000000; stroke-linecap:round; stroke-linejoin:round; stroke-width:4; stroke-opacity:1; fill:none\" points=\"29350.5,1423.18 29350.5,1423.18 29460,1423.18 29350.5,1423.18 \"/>\n",
       "<path clip-path=\"url(#clip082)\" d=\"M29460 1423.18 L29460 1423.18 L29569.6 1423.18 L29569.6 1423.18 L29460 1423.18 L29460 1423.18  Z\" fill=\"#009af9\" fill-rule=\"evenodd\" fill-opacity=\"1\"/>\n",
       "<polyline clip-path=\"url(#clip082)\" style=\"stroke:#000000; stroke-linecap:round; stroke-linejoin:round; stroke-width:4; stroke-opacity:1; fill:none\" points=\"29460,1423.18 29460,1423.18 29569.6,1423.18 29460,1423.18 \"/>\n",
       "<path clip-path=\"url(#clip082)\" d=\"M29569.6 1423.18 L29569.6 1423.18 L29679.1 1423.18 L29679.1 1423.18 L29569.6 1423.18 L29569.6 1423.18  Z\" fill=\"#009af9\" fill-rule=\"evenodd\" fill-opacity=\"1\"/>\n",
       "<polyline clip-path=\"url(#clip082)\" style=\"stroke:#000000; stroke-linecap:round; stroke-linejoin:round; stroke-width:4; stroke-opacity:1; fill:none\" points=\"29569.6,1423.18 29569.6,1423.18 29679.1,1423.18 29569.6,1423.18 \"/>\n",
       "<path clip-path=\"url(#clip082)\" d=\"M29679.1 1423.18 L29679.1 1423.18 L29788.7 1423.18 L29788.7 1423.18 L29679.1 1423.18 L29679.1 1423.18  Z\" fill=\"#009af9\" fill-rule=\"evenodd\" fill-opacity=\"1\"/>\n",
       "<polyline clip-path=\"url(#clip082)\" style=\"stroke:#000000; stroke-linecap:round; stroke-linejoin:round; stroke-width:4; stroke-opacity:1; fill:none\" points=\"29679.1,1423.18 29679.1,1423.18 29788.7,1423.18 29679.1,1423.18 \"/>\n",
       "<path clip-path=\"url(#clip082)\" d=\"M29788.7 1423.18 L29788.7 1423.18 L29898.2 1423.18 L29898.2 1423.18 L29788.7 1423.18 L29788.7 1423.18  Z\" fill=\"#009af9\" fill-rule=\"evenodd\" fill-opacity=\"1\"/>\n",
       "<polyline clip-path=\"url(#clip082)\" style=\"stroke:#000000; stroke-linecap:round; stroke-linejoin:round; stroke-width:4; stroke-opacity:1; fill:none\" points=\"29788.7,1423.18 29788.7,1423.18 29898.2,1423.18 29788.7,1423.18 \"/>\n",
       "<path clip-path=\"url(#clip082)\" d=\"M29898.2 1423.18 L29898.2 1423.18 L30007.7 1423.18 L30007.7 1423.18 L29898.2 1423.18 L29898.2 1423.18  Z\" fill=\"#009af9\" fill-rule=\"evenodd\" fill-opacity=\"1\"/>\n",
       "<polyline clip-path=\"url(#clip082)\" style=\"stroke:#000000; stroke-linecap:round; stroke-linejoin:round; stroke-width:4; stroke-opacity:1; fill:none\" points=\"29898.2,1423.18 29898.2,1423.18 30007.7,1423.18 29898.2,1423.18 \"/>\n",
       "<path clip-path=\"url(#clip082)\" d=\"M30007.7 1423.18 L30007.7 1423.18 L30117.3 1423.18 L30117.3 1423.18 L30007.7 1423.18 L30007.7 1423.18  Z\" fill=\"#009af9\" fill-rule=\"evenodd\" fill-opacity=\"1\"/>\n",
       "<polyline clip-path=\"url(#clip082)\" style=\"stroke:#000000; stroke-linecap:round; stroke-linejoin:round; stroke-width:4; stroke-opacity:1; fill:none\" points=\"30007.7,1423.18 30007.7,1423.18 30117.3,1423.18 30007.7,1423.18 \"/>\n",
       "<path clip-path=\"url(#clip082)\" d=\"M30117.3 1423.18 L30117.3 1423.18 L30226.8 1423.18 L30226.8 1423.18 L30117.3 1423.18 L30117.3 1423.18  Z\" fill=\"#009af9\" fill-rule=\"evenodd\" fill-opacity=\"1\"/>\n",
       "<polyline clip-path=\"url(#clip082)\" style=\"stroke:#000000; stroke-linecap:round; stroke-linejoin:round; stroke-width:4; stroke-opacity:1; fill:none\" points=\"30117.3,1423.18 30117.3,1423.18 30226.8,1423.18 30117.3,1423.18 \"/>\n",
       "<path clip-path=\"url(#clip082)\" d=\"M30226.8 1423.18 L30226.8 1423.18 L30336.3 1423.18 L30336.3 1423.18 L30226.8 1423.18 L30226.8 1423.18  Z\" fill=\"#009af9\" fill-rule=\"evenodd\" fill-opacity=\"1\"/>\n",
       "<polyline clip-path=\"url(#clip082)\" style=\"stroke:#000000; stroke-linecap:round; stroke-linejoin:round; stroke-width:4; stroke-opacity:1; fill:none\" points=\"30226.8,1423.18 30226.8,1423.18 30336.3,1423.18 30226.8,1423.18 \"/>\n",
       "<path clip-path=\"url(#clip082)\" d=\"M30336.3 1423.18 L30336.3 1423.18 L30445.9 1423.18 L30445.9 1423.18 L30336.3 1423.18 L30336.3 1423.18  Z\" fill=\"#009af9\" fill-rule=\"evenodd\" fill-opacity=\"1\"/>\n",
       "<polyline clip-path=\"url(#clip082)\" style=\"stroke:#000000; stroke-linecap:round; stroke-linejoin:round; stroke-width:4; stroke-opacity:1; fill:none\" points=\"30336.3,1423.18 30336.3,1423.18 30445.9,1423.18 30336.3,1423.18 \"/>\n",
       "<path clip-path=\"url(#clip082)\" d=\"M30445.9 1423.18 L30445.9 1423.18 L30555.4 1423.18 L30555.4 1423.18 L30445.9 1423.18 L30445.9 1423.18  Z\" fill=\"#009af9\" fill-rule=\"evenodd\" fill-opacity=\"1\"/>\n",
       "<polyline clip-path=\"url(#clip082)\" style=\"stroke:#000000; stroke-linecap:round; stroke-linejoin:round; stroke-width:4; stroke-opacity:1; fill:none\" points=\"30445.9,1423.18 30445.9,1423.18 30555.4,1423.18 30445.9,1423.18 \"/>\n",
       "<path clip-path=\"url(#clip082)\" d=\"M30555.4 1423.18 L30555.4 1423.18 L30665 1423.18 L30665 1423.18 L30555.4 1423.18 L30555.4 1423.18  Z\" fill=\"#009af9\" fill-rule=\"evenodd\" fill-opacity=\"1\"/>\n",
       "<polyline clip-path=\"url(#clip082)\" style=\"stroke:#000000; stroke-linecap:round; stroke-linejoin:round; stroke-width:4; stroke-opacity:1; fill:none\" points=\"30555.4,1423.18 30555.4,1423.18 30665,1423.18 30555.4,1423.18 \"/>\n",
       "<path clip-path=\"url(#clip082)\" d=\"M30665 1423.18 L30665 1423.18 L30774.5 1423.18 L30774.5 1423.18 L30665 1423.18 L30665 1423.18  Z\" fill=\"#009af9\" fill-rule=\"evenodd\" fill-opacity=\"1\"/>\n",
       "<polyline clip-path=\"url(#clip082)\" style=\"stroke:#000000; stroke-linecap:round; stroke-linejoin:round; stroke-width:4; stroke-opacity:1; fill:none\" points=\"30665,1423.18 30665,1423.18 30774.5,1423.18 30665,1423.18 \"/>\n",
       "<path clip-path=\"url(#clip082)\" d=\"M30774.5 1423.18 L30774.5 1423.18 L30884 1423.18 L30884 1423.18 L30774.5 1423.18 L30774.5 1423.18  Z\" fill=\"#009af9\" fill-rule=\"evenodd\" fill-opacity=\"1\"/>\n",
       "<polyline clip-path=\"url(#clip082)\" style=\"stroke:#000000; stroke-linecap:round; stroke-linejoin:round; stroke-width:4; stroke-opacity:1; fill:none\" points=\"30774.5,1423.18 30774.5,1423.18 30884,1423.18 30774.5,1423.18 \"/>\n",
       "<path clip-path=\"url(#clip082)\" d=\"M30884 1423.18 L30884 1423.18 L30993.6 1423.18 L30993.6 1423.18 L30884 1423.18 L30884 1423.18  Z\" fill=\"#009af9\" fill-rule=\"evenodd\" fill-opacity=\"1\"/>\n",
       "<polyline clip-path=\"url(#clip082)\" style=\"stroke:#000000; stroke-linecap:round; stroke-linejoin:round; stroke-width:4; stroke-opacity:1; fill:none\" points=\"30884,1423.18 30884,1423.18 30993.6,1423.18 30884,1423.18 \"/>\n",
       "<path clip-path=\"url(#clip082)\" d=\"M30993.6 1423.18 L30993.6 1423.18 L31103.1 1423.18 L31103.1 1423.18 L30993.6 1423.18 L30993.6 1423.18  Z\" fill=\"#009af9\" fill-rule=\"evenodd\" fill-opacity=\"1\"/>\n",
       "<polyline clip-path=\"url(#clip082)\" style=\"stroke:#000000; stroke-linecap:round; stroke-linejoin:round; stroke-width:4; stroke-opacity:1; fill:none\" points=\"30993.6,1423.18 30993.6,1423.18 31103.1,1423.18 30993.6,1423.18 \"/>\n",
       "<path clip-path=\"url(#clip082)\" d=\"M31103.1 1423.18 L31103.1 1423.18 L31212.6 1423.18 L31212.6 1423.18 L31103.1 1423.18 L31103.1 1423.18  Z\" fill=\"#009af9\" fill-rule=\"evenodd\" fill-opacity=\"1\"/>\n",
       "<polyline clip-path=\"url(#clip082)\" style=\"stroke:#000000; stroke-linecap:round; stroke-linejoin:round; stroke-width:4; stroke-opacity:1; fill:none\" points=\"31103.1,1423.18 31103.1,1423.18 31212.6,1423.18 31103.1,1423.18 \"/>\n",
       "<path clip-path=\"url(#clip082)\" d=\"M31212.6 1423.18 L31212.6 1423.18 L31322.2 1423.18 L31322.2 1423.18 L31212.6 1423.18 L31212.6 1423.18  Z\" fill=\"#009af9\" fill-rule=\"evenodd\" fill-opacity=\"1\"/>\n",
       "<polyline clip-path=\"url(#clip082)\" style=\"stroke:#000000; stroke-linecap:round; stroke-linejoin:round; stroke-width:4; stroke-opacity:1; fill:none\" points=\"31212.6,1423.18 31212.6,1423.18 31322.2,1423.18 31212.6,1423.18 \"/>\n",
       "<path clip-path=\"url(#clip082)\" d=\"M31322.2 1423.18 L31322.2 1423.18 L31431.7 1423.18 L31431.7 1423.18 L31322.2 1423.18 L31322.2 1423.18  Z\" fill=\"#009af9\" fill-rule=\"evenodd\" fill-opacity=\"1\"/>\n",
       "<polyline clip-path=\"url(#clip082)\" style=\"stroke:#000000; stroke-linecap:round; stroke-linejoin:round; stroke-width:4; stroke-opacity:1; fill:none\" points=\"31322.2,1423.18 31322.2,1423.18 31431.7,1423.18 31322.2,1423.18 \"/>\n",
       "<path clip-path=\"url(#clip082)\" d=\"M31431.7 1423.18 L31431.7 1423.18 L31541.3 1423.18 L31541.3 1423.18 L31431.7 1423.18 L31431.7 1423.18  Z\" fill=\"#009af9\" fill-rule=\"evenodd\" fill-opacity=\"1\"/>\n",
       "<polyline clip-path=\"url(#clip082)\" style=\"stroke:#000000; stroke-linecap:round; stroke-linejoin:round; stroke-width:4; stroke-opacity:1; fill:none\" points=\"31431.7,1423.18 31431.7,1423.18 31541.3,1423.18 31431.7,1423.18 \"/>\n",
       "<path clip-path=\"url(#clip082)\" d=\"M31541.3 1423.18 L31541.3 1423.18 L31650.8 1423.18 L31650.8 1423.18 L31541.3 1423.18 L31541.3 1423.18  Z\" fill=\"#009af9\" fill-rule=\"evenodd\" fill-opacity=\"1\"/>\n",
       "<polyline clip-path=\"url(#clip082)\" style=\"stroke:#000000; stroke-linecap:round; stroke-linejoin:round; stroke-width:4; stroke-opacity:1; fill:none\" points=\"31541.3,1423.18 31541.3,1423.18 31650.8,1423.18 31541.3,1423.18 \"/>\n",
       "<path clip-path=\"url(#clip082)\" d=\"M31650.8 1423.18 L31650.8 1423.18 L31760.3 1423.18 L31760.3 1423.18 L31650.8 1423.18 L31650.8 1423.18  Z\" fill=\"#009af9\" fill-rule=\"evenodd\" fill-opacity=\"1\"/>\n",
       "<polyline clip-path=\"url(#clip082)\" style=\"stroke:#000000; stroke-linecap:round; stroke-linejoin:round; stroke-width:4; stroke-opacity:1; fill:none\" points=\"31650.8,1423.18 31650.8,1423.18 31760.3,1423.18 31650.8,1423.18 \"/>\n",
       "<path clip-path=\"url(#clip082)\" d=\"M31760.3 1423.18 L31760.3 1423.18 L31869.9 1423.18 L31869.9 1423.18 L31760.3 1423.18 L31760.3 1423.18  Z\" fill=\"#009af9\" fill-rule=\"evenodd\" fill-opacity=\"1\"/>\n",
       "<polyline clip-path=\"url(#clip082)\" style=\"stroke:#000000; stroke-linecap:round; stroke-linejoin:round; stroke-width:4; stroke-opacity:1; fill:none\" points=\"31760.3,1423.18 31760.3,1423.18 31869.9,1423.18 31760.3,1423.18 \"/>\n",
       "<path clip-path=\"url(#clip082)\" d=\"M31869.9 1423.18 L31869.9 1423.18 L31979.4 1423.18 L31979.4 1423.18 L31869.9 1423.18 L31869.9 1423.18  Z\" fill=\"#009af9\" fill-rule=\"evenodd\" fill-opacity=\"1\"/>\n",
       "<polyline clip-path=\"url(#clip082)\" style=\"stroke:#000000; stroke-linecap:round; stroke-linejoin:round; stroke-width:4; stroke-opacity:1; fill:none\" points=\"31869.9,1423.18 31869.9,1423.18 31979.4,1423.18 31869.9,1423.18 \"/>\n",
       "<path clip-path=\"url(#clip082)\" d=\"M31979.4 1423.18 L31979.4 1423.18 L32088.9 1423.18 L32088.9 1423.18 L31979.4 1423.18 L31979.4 1423.18  Z\" fill=\"#009af9\" fill-rule=\"evenodd\" fill-opacity=\"1\"/>\n",
       "<polyline clip-path=\"url(#clip082)\" style=\"stroke:#000000; stroke-linecap:round; stroke-linejoin:round; stroke-width:4; stroke-opacity:1; fill:none\" points=\"31979.4,1423.18 31979.4,1423.18 32088.9,1423.18 31979.4,1423.18 \"/>\n",
       "<path clip-path=\"url(#clip082)\" d=\"M32088.9 1423.18 L32088.9 1423.18 L32198.5 1423.18 L32198.5 1423.18 L32088.9 1423.18 L32088.9 1423.18  Z\" fill=\"#009af9\" fill-rule=\"evenodd\" fill-opacity=\"1\"/>\n",
       "<polyline clip-path=\"url(#clip082)\" style=\"stroke:#000000; stroke-linecap:round; stroke-linejoin:round; stroke-width:4; stroke-opacity:1; fill:none\" points=\"32088.9,1423.18 32088.9,1423.18 32198.5,1423.18 32088.9,1423.18 \"/>\n",
       "<path clip-path=\"url(#clip082)\" d=\"M32198.5 1423.18 L32198.5 1423.18 L32308 1423.18 L32308 1423.18 L32198.5 1423.18 L32198.5 1423.18  Z\" fill=\"#009af9\" fill-rule=\"evenodd\" fill-opacity=\"1\"/>\n",
       "<polyline clip-path=\"url(#clip082)\" style=\"stroke:#000000; stroke-linecap:round; stroke-linejoin:round; stroke-width:4; stroke-opacity:1; fill:none\" points=\"32198.5,1423.18 32198.5,1423.18 32308,1423.18 32198.5,1423.18 \"/>\n",
       "<path clip-path=\"url(#clip082)\" d=\"M32308 1423.18 L32308 1423.18 L32417.6 1423.18 L32417.6 1423.18 L32308 1423.18 L32308 1423.18  Z\" fill=\"#009af9\" fill-rule=\"evenodd\" fill-opacity=\"1\"/>\n",
       "<polyline clip-path=\"url(#clip082)\" style=\"stroke:#000000; stroke-linecap:round; stroke-linejoin:round; stroke-width:4; stroke-opacity:1; fill:none\" points=\"32308,1423.18 32308,1423.18 32417.6,1423.18 32308,1423.18 \"/>\n",
       "<path clip-path=\"url(#clip082)\" d=\"M32417.6 1423.18 L32417.6 1423.18 L32527.1 1423.18 L32527.1 1423.18 L32417.6 1423.18 L32417.6 1423.18  Z\" fill=\"#009af9\" fill-rule=\"evenodd\" fill-opacity=\"1\"/>\n",
       "<polyline clip-path=\"url(#clip082)\" style=\"stroke:#000000; stroke-linecap:round; stroke-linejoin:round; stroke-width:4; stroke-opacity:1; fill:none\" points=\"32417.6,1423.18 32417.6,1423.18 32527.1,1423.18 32417.6,1423.18 \"/>\n",
       "<path clip-path=\"url(#clip082)\" d=\"M32527.1 1423.18 L32527.1 1423.18 L32636.6 1423.18 L32636.6 1423.18 L32527.1 1423.18 L32527.1 1423.18  Z\" fill=\"#009af9\" fill-rule=\"evenodd\" fill-opacity=\"1\"/>\n",
       "<polyline clip-path=\"url(#clip082)\" style=\"stroke:#000000; stroke-linecap:round; stroke-linejoin:round; stroke-width:4; stroke-opacity:1; fill:none\" points=\"32527.1,1423.18 32527.1,1423.18 32636.6,1423.18 32527.1,1423.18 \"/>\n",
       "<path clip-path=\"url(#clip082)\" d=\"M32636.6 1423.18 L32636.6 1423.18 L32746.2 1423.18 L32746.2 1423.18 L32636.6 1423.18 L32636.6 1423.18  Z\" fill=\"#009af9\" fill-rule=\"evenodd\" fill-opacity=\"1\"/>\n",
       "<polyline clip-path=\"url(#clip082)\" style=\"stroke:#000000; stroke-linecap:round; stroke-linejoin:round; stroke-width:4; stroke-opacity:1; fill:none\" points=\"32636.6,1423.18 32636.6,1423.18 32746.2,1423.18 32636.6,1423.18 \"/>\n",
       "<path clip-path=\"url(#clip082)\" d=\"M32746.2 1423.18 L32746.2 1423.18 L32855.7 1423.18 L32855.7 1423.18 L32746.2 1423.18 L32746.2 1423.18  Z\" fill=\"#009af9\" fill-rule=\"evenodd\" fill-opacity=\"1\"/>\n",
       "<polyline clip-path=\"url(#clip082)\" style=\"stroke:#000000; stroke-linecap:round; stroke-linejoin:round; stroke-width:4; stroke-opacity:1; fill:none\" points=\"32746.2,1423.18 32746.2,1423.18 32855.7,1423.18 32746.2,1423.18 \"/>\n",
       "<path clip-path=\"url(#clip082)\" d=\"M32855.7 1423.18 L32855.7 1423.18 L32965.2 1423.18 L32965.2 1423.18 L32855.7 1423.18 L32855.7 1423.18  Z\" fill=\"#009af9\" fill-rule=\"evenodd\" fill-opacity=\"1\"/>\n",
       "<polyline clip-path=\"url(#clip082)\" style=\"stroke:#000000; stroke-linecap:round; stroke-linejoin:round; stroke-width:4; stroke-opacity:1; fill:none\" points=\"32855.7,1423.18 32855.7,1423.18 32965.2,1423.18 32855.7,1423.18 \"/>\n",
       "<path clip-path=\"url(#clip082)\" d=\"M32965.2 1423.18 L32965.2 1423.18 L33074.8 1423.18 L33074.8 1423.18 L32965.2 1423.18 L32965.2 1423.18  Z\" fill=\"#009af9\" fill-rule=\"evenodd\" fill-opacity=\"1\"/>\n",
       "<polyline clip-path=\"url(#clip082)\" style=\"stroke:#000000; stroke-linecap:round; stroke-linejoin:round; stroke-width:4; stroke-opacity:1; fill:none\" points=\"32965.2,1423.18 32965.2,1423.18 33074.8,1423.18 32965.2,1423.18 \"/>\n",
       "<path clip-path=\"url(#clip082)\" d=\"M33074.8 1423.18 L33074.8 1423.18 L33184.3 1423.18 L33184.3 1423.18 L33074.8 1423.18 L33074.8 1423.18  Z\" fill=\"#009af9\" fill-rule=\"evenodd\" fill-opacity=\"1\"/>\n",
       "<polyline clip-path=\"url(#clip082)\" style=\"stroke:#000000; stroke-linecap:round; stroke-linejoin:round; stroke-width:4; stroke-opacity:1; fill:none\" points=\"33074.8,1423.18 33074.8,1423.18 33184.3,1423.18 33074.8,1423.18 \"/>\n",
       "<path clip-path=\"url(#clip082)\" d=\"M33184.3 1423.18 L33184.3 1423.18 L33293.9 1423.18 L33293.9 1423.18 L33184.3 1423.18 L33184.3 1423.18  Z\" fill=\"#009af9\" fill-rule=\"evenodd\" fill-opacity=\"1\"/>\n",
       "<polyline clip-path=\"url(#clip082)\" style=\"stroke:#000000; stroke-linecap:round; stroke-linejoin:round; stroke-width:4; stroke-opacity:1; fill:none\" points=\"33184.3,1423.18 33184.3,1423.18 33293.9,1423.18 33184.3,1423.18 \"/>\n",
       "<path clip-path=\"url(#clip082)\" d=\"M33293.9 1423.18 L33293.9 1423.18 L33403.4 1423.18 L33403.4 1423.18 L33293.9 1423.18 L33293.9 1423.18  Z\" fill=\"#009af9\" fill-rule=\"evenodd\" fill-opacity=\"1\"/>\n",
       "<polyline clip-path=\"url(#clip082)\" style=\"stroke:#000000; stroke-linecap:round; stroke-linejoin:round; stroke-width:4; stroke-opacity:1; fill:none\" points=\"33293.9,1423.18 33293.9,1423.18 33403.4,1423.18 33293.9,1423.18 \"/>\n",
       "<path clip-path=\"url(#clip082)\" d=\"M33403.4 1423.18 L33403.4 1423.18 L33512.9 1423.18 L33512.9 1423.18 L33403.4 1423.18 L33403.4 1423.18  Z\" fill=\"#009af9\" fill-rule=\"evenodd\" fill-opacity=\"1\"/>\n",
       "<polyline clip-path=\"url(#clip082)\" style=\"stroke:#000000; stroke-linecap:round; stroke-linejoin:round; stroke-width:4; stroke-opacity:1; fill:none\" points=\"33403.4,1423.18 33403.4,1423.18 33512.9,1423.18 33403.4,1423.18 \"/>\n",
       "<path clip-path=\"url(#clip082)\" d=\"M33512.9 1423.18 L33512.9 1423.18 L33622.5 1423.18 L33622.5 1423.18 L33512.9 1423.18 L33512.9 1423.18  Z\" fill=\"#009af9\" fill-rule=\"evenodd\" fill-opacity=\"1\"/>\n",
       "<polyline clip-path=\"url(#clip082)\" style=\"stroke:#000000; stroke-linecap:round; stroke-linejoin:round; stroke-width:4; stroke-opacity:1; fill:none\" points=\"33512.9,1423.18 33512.9,1423.18 33622.5,1423.18 33512.9,1423.18 \"/>\n",
       "<path clip-path=\"url(#clip082)\" d=\"M33622.5 1423.18 L33622.5 1423.18 L33732 1423.18 L33732 1423.18 L33622.5 1423.18 L33622.5 1423.18  Z\" fill=\"#009af9\" fill-rule=\"evenodd\" fill-opacity=\"1\"/>\n",
       "<polyline clip-path=\"url(#clip082)\" style=\"stroke:#000000; stroke-linecap:round; stroke-linejoin:round; stroke-width:4; stroke-opacity:1; fill:none\" points=\"33622.5,1423.18 33622.5,1423.18 33732,1423.18 33622.5,1423.18 \"/>\n",
       "<path clip-path=\"url(#clip082)\" d=\"M33732 1423.18 L33732 1423.18 L33841.5 1423.18 L33841.5 1423.18 L33732 1423.18 L33732 1423.18  Z\" fill=\"#009af9\" fill-rule=\"evenodd\" fill-opacity=\"1\"/>\n",
       "<polyline clip-path=\"url(#clip082)\" style=\"stroke:#000000; stroke-linecap:round; stroke-linejoin:round; stroke-width:4; stroke-opacity:1; fill:none\" points=\"33732,1423.18 33732,1423.18 33841.5,1423.18 33732,1423.18 \"/>\n",
       "<path clip-path=\"url(#clip082)\" d=\"M33841.5 1423.18 L33841.5 1423.18 L33951.1 1423.18 L33951.1 1423.18 L33841.5 1423.18 L33841.5 1423.18  Z\" fill=\"#009af9\" fill-rule=\"evenodd\" fill-opacity=\"1\"/>\n",
       "<polyline clip-path=\"url(#clip082)\" style=\"stroke:#000000; stroke-linecap:round; stroke-linejoin:round; stroke-width:4; stroke-opacity:1; fill:none\" points=\"33841.5,1423.18 33841.5,1423.18 33951.1,1423.18 33841.5,1423.18 \"/>\n",
       "<path clip-path=\"url(#clip082)\" d=\"M33951.1 1423.18 L33951.1 1423.18 L34060.6 1423.18 L34060.6 1423.18 L33951.1 1423.18 L33951.1 1423.18  Z\" fill=\"#009af9\" fill-rule=\"evenodd\" fill-opacity=\"1\"/>\n",
       "<polyline clip-path=\"url(#clip082)\" style=\"stroke:#000000; stroke-linecap:round; stroke-linejoin:round; stroke-width:4; stroke-opacity:1; fill:none\" points=\"33951.1,1423.18 33951.1,1423.18 34060.6,1423.18 33951.1,1423.18 \"/>\n",
       "<path clip-path=\"url(#clip082)\" d=\"M34060.6 1423.18 L34060.6 1423.18 L34170.2 1423.18 L34170.2 1423.18 L34060.6 1423.18 L34060.6 1423.18  Z\" fill=\"#009af9\" fill-rule=\"evenodd\" fill-opacity=\"1\"/>\n",
       "<polyline clip-path=\"url(#clip082)\" style=\"stroke:#000000; stroke-linecap:round; stroke-linejoin:round; stroke-width:4; stroke-opacity:1; fill:none\" points=\"34060.6,1423.18 34060.6,1423.18 34170.2,1423.18 34060.6,1423.18 \"/>\n",
       "<path clip-path=\"url(#clip082)\" d=\"M34170.2 1423.18 L34170.2 1423.18 L34279.7 1423.18 L34279.7 1423.18 L34170.2 1423.18 L34170.2 1423.18  Z\" fill=\"#009af9\" fill-rule=\"evenodd\" fill-opacity=\"1\"/>\n",
       "<polyline clip-path=\"url(#clip082)\" style=\"stroke:#000000; stroke-linecap:round; stroke-linejoin:round; stroke-width:4; stroke-opacity:1; fill:none\" points=\"34170.2,1423.18 34170.2,1423.18 34279.7,1423.18 34170.2,1423.18 \"/>\n",
       "<path clip-path=\"url(#clip082)\" d=\"M34279.7 1423.18 L34279.7 1423.18 L34389.2 1423.18 L34389.2 1423.18 L34279.7 1423.18 L34279.7 1423.18  Z\" fill=\"#009af9\" fill-rule=\"evenodd\" fill-opacity=\"1\"/>\n",
       "<polyline clip-path=\"url(#clip082)\" style=\"stroke:#000000; stroke-linecap:round; stroke-linejoin:round; stroke-width:4; stroke-opacity:1; fill:none\" points=\"34279.7,1423.18 34279.7,1423.18 34389.2,1423.18 34279.7,1423.18 \"/>\n",
       "<path clip-path=\"url(#clip082)\" d=\"M34389.2 1423.18 L34389.2 1423.18 L34498.8 1423.18 L34498.8 1423.18 L34389.2 1423.18 L34389.2 1423.18  Z\" fill=\"#009af9\" fill-rule=\"evenodd\" fill-opacity=\"1\"/>\n",
       "<polyline clip-path=\"url(#clip082)\" style=\"stroke:#000000; stroke-linecap:round; stroke-linejoin:round; stroke-width:4; stroke-opacity:1; fill:none\" points=\"34389.2,1423.18 34389.2,1423.18 34498.8,1423.18 34389.2,1423.18 \"/>\n",
       "<path clip-path=\"url(#clip082)\" d=\"M34498.8 1423.18 L34498.8 1423.18 L34608.3 1423.18 L34608.3 1423.18 L34498.8 1423.18 L34498.8 1423.18  Z\" fill=\"#009af9\" fill-rule=\"evenodd\" fill-opacity=\"1\"/>\n",
       "<polyline clip-path=\"url(#clip082)\" style=\"stroke:#000000; stroke-linecap:round; stroke-linejoin:round; stroke-width:4; stroke-opacity:1; fill:none\" points=\"34498.8,1423.18 34498.8,1423.18 34608.3,1423.18 34498.8,1423.18 \"/>\n",
       "<path clip-path=\"url(#clip082)\" d=\"M34608.3 1423.18 L34608.3 1423.18 L34717.8 1423.18 L34717.8 1423.18 L34608.3 1423.18 L34608.3 1423.18  Z\" fill=\"#009af9\" fill-rule=\"evenodd\" fill-opacity=\"1\"/>\n",
       "<polyline clip-path=\"url(#clip082)\" style=\"stroke:#000000; stroke-linecap:round; stroke-linejoin:round; stroke-width:4; stroke-opacity:1; fill:none\" points=\"34608.3,1423.18 34608.3,1423.18 34717.8,1423.18 34608.3,1423.18 \"/>\n",
       "<path clip-path=\"url(#clip082)\" d=\"M34717.8 1423.18 L34717.8 1423.18 L34827.4 1423.18 L34827.4 1423.18 L34717.8 1423.18 L34717.8 1423.18  Z\" fill=\"#009af9\" fill-rule=\"evenodd\" fill-opacity=\"1\"/>\n",
       "<polyline clip-path=\"url(#clip082)\" style=\"stroke:#000000; stroke-linecap:round; stroke-linejoin:round; stroke-width:4; stroke-opacity:1; fill:none\" points=\"34717.8,1423.18 34717.8,1423.18 34827.4,1423.18 34717.8,1423.18 \"/>\n",
       "<path clip-path=\"url(#clip082)\" d=\"M34827.4 1423.18 L34827.4 1423.18 L34936.9 1423.18 L34936.9 1423.18 L34827.4 1423.18 L34827.4 1423.18  Z\" fill=\"#009af9\" fill-rule=\"evenodd\" fill-opacity=\"1\"/>\n",
       "<polyline clip-path=\"url(#clip082)\" style=\"stroke:#000000; stroke-linecap:round; stroke-linejoin:round; stroke-width:4; stroke-opacity:1; fill:none\" points=\"34827.4,1423.18 34827.4,1423.18 34936.9,1423.18 34827.4,1423.18 \"/>\n",
       "<path clip-path=\"url(#clip082)\" d=\"M34936.9 1423.18 L34936.9 1423.18 L35046.5 1423.18 L35046.5 1423.18 L34936.9 1423.18 L34936.9 1423.18  Z\" fill=\"#009af9\" fill-rule=\"evenodd\" fill-opacity=\"1\"/>\n",
       "<polyline clip-path=\"url(#clip082)\" style=\"stroke:#000000; stroke-linecap:round; stroke-linejoin:round; stroke-width:4; stroke-opacity:1; fill:none\" points=\"34936.9,1423.18 34936.9,1423.18 35046.5,1423.18 34936.9,1423.18 \"/>\n",
       "<path clip-path=\"url(#clip082)\" d=\"M35046.5 1423.18 L35046.5 1423.18 L35156 1423.18 L35156 1423.18 L35046.5 1423.18 L35046.5 1423.18  Z\" fill=\"#009af9\" fill-rule=\"evenodd\" fill-opacity=\"1\"/>\n",
       "<polyline clip-path=\"url(#clip082)\" style=\"stroke:#000000; stroke-linecap:round; stroke-linejoin:round; stroke-width:4; stroke-opacity:1; fill:none\" points=\"35046.5,1423.18 35046.5,1423.18 35156,1423.18 35046.5,1423.18 \"/>\n",
       "<path clip-path=\"url(#clip082)\" d=\"M35156 1423.18 L35156 1423.18 L35265.5 1423.18 L35265.5 1423.18 L35156 1423.18 L35156 1423.18  Z\" fill=\"#009af9\" fill-rule=\"evenodd\" fill-opacity=\"1\"/>\n",
       "<polyline clip-path=\"url(#clip082)\" style=\"stroke:#000000; stroke-linecap:round; stroke-linejoin:round; stroke-width:4; stroke-opacity:1; fill:none\" points=\"35156,1423.18 35156,1423.18 35265.5,1423.18 35156,1423.18 \"/>\n",
       "<path clip-path=\"url(#clip082)\" d=\"M35265.5 1423.18 L35265.5 1423.18 L35375.1 1423.18 L35375.1 1423.18 L35265.5 1423.18 L35265.5 1423.18  Z\" fill=\"#009af9\" fill-rule=\"evenodd\" fill-opacity=\"1\"/>\n",
       "<polyline clip-path=\"url(#clip082)\" style=\"stroke:#000000; stroke-linecap:round; stroke-linejoin:round; stroke-width:4; stroke-opacity:1; fill:none\" points=\"35265.5,1423.18 35265.5,1423.18 35375.1,1423.18 35265.5,1423.18 \"/>\n",
       "<path clip-path=\"url(#clip082)\" d=\"M35375.1 1423.18 L35375.1 1423.18 L35484.6 1423.18 L35484.6 1423.18 L35375.1 1423.18 L35375.1 1423.18  Z\" fill=\"#009af9\" fill-rule=\"evenodd\" fill-opacity=\"1\"/>\n",
       "<polyline clip-path=\"url(#clip082)\" style=\"stroke:#000000; stroke-linecap:round; stroke-linejoin:round; stroke-width:4; stroke-opacity:1; fill:none\" points=\"35375.1,1423.18 35375.1,1423.18 35484.6,1423.18 35375.1,1423.18 \"/>\n",
       "<path clip-path=\"url(#clip082)\" d=\"M35484.6 1423.18 L35484.6 1423.18 L35594.1 1423.18 L35594.1 1423.18 L35484.6 1423.18 L35484.6 1423.18  Z\" fill=\"#009af9\" fill-rule=\"evenodd\" fill-opacity=\"1\"/>\n",
       "<polyline clip-path=\"url(#clip082)\" style=\"stroke:#000000; stroke-linecap:round; stroke-linejoin:round; stroke-width:4; stroke-opacity:1; fill:none\" points=\"35484.6,1423.18 35484.6,1423.18 35594.1,1423.18 35484.6,1423.18 \"/>\n",
       "<path clip-path=\"url(#clip082)\" d=\"M35594.1 1423.18 L35594.1 1423.18 L35703.7 1423.18 L35703.7 1423.18 L35594.1 1423.18 L35594.1 1423.18  Z\" fill=\"#009af9\" fill-rule=\"evenodd\" fill-opacity=\"1\"/>\n",
       "<polyline clip-path=\"url(#clip082)\" style=\"stroke:#000000; stroke-linecap:round; stroke-linejoin:round; stroke-width:4; stroke-opacity:1; fill:none\" points=\"35594.1,1423.18 35594.1,1423.18 35703.7,1423.18 35594.1,1423.18 \"/>\n",
       "<path clip-path=\"url(#clip082)\" d=\"M35703.7 1423.18 L35703.7 1423.18 L35813.2 1423.18 L35813.2 1423.18 L35703.7 1423.18 L35703.7 1423.18  Z\" fill=\"#009af9\" fill-rule=\"evenodd\" fill-opacity=\"1\"/>\n",
       "<polyline clip-path=\"url(#clip082)\" style=\"stroke:#000000; stroke-linecap:round; stroke-linejoin:round; stroke-width:4; stroke-opacity:1; fill:none\" points=\"35703.7,1423.18 35703.7,1423.18 35813.2,1423.18 35703.7,1423.18 \"/>\n",
       "<path clip-path=\"url(#clip082)\" d=\"M35813.2 1423.18 L35813.2 1423.18 L35922.7 1423.18 L35922.7 1423.18 L35813.2 1423.18 L35813.2 1423.18  Z\" fill=\"#009af9\" fill-rule=\"evenodd\" fill-opacity=\"1\"/>\n",
       "<polyline clip-path=\"url(#clip082)\" style=\"stroke:#000000; stroke-linecap:round; stroke-linejoin:round; stroke-width:4; stroke-opacity:1; fill:none\" points=\"35813.2,1423.18 35813.2,1423.18 35922.7,1423.18 35813.2,1423.18 \"/>\n",
       "<path clip-path=\"url(#clip082)\" d=\"M35922.7 1423.18 L35922.7 1423.18 L36032.3 1423.18 L36032.3 1423.18 L35922.7 1423.18 L35922.7 1423.18  Z\" fill=\"#009af9\" fill-rule=\"evenodd\" fill-opacity=\"1\"/>\n",
       "<polyline clip-path=\"url(#clip082)\" style=\"stroke:#000000; stroke-linecap:round; stroke-linejoin:round; stroke-width:4; stroke-opacity:1; fill:none\" points=\"35922.7,1423.18 35922.7,1423.18 36032.3,1423.18 35922.7,1423.18 \"/>\n",
       "<path clip-path=\"url(#clip082)\" d=\"M36032.3 1423.18 L36032.3 1423.18 L36141.8 1423.18 L36141.8 1423.18 L36032.3 1423.18 L36032.3 1423.18  Z\" fill=\"#009af9\" fill-rule=\"evenodd\" fill-opacity=\"1\"/>\n",
       "<polyline clip-path=\"url(#clip082)\" style=\"stroke:#000000; stroke-linecap:round; stroke-linejoin:round; stroke-width:4; stroke-opacity:1; fill:none\" points=\"36032.3,1423.18 36032.3,1423.18 36141.8,1423.18 36032.3,1423.18 \"/>\n",
       "<path clip-path=\"url(#clip082)\" d=\"M36141.8 1423.18 L36141.8 1423.18 L36251.4 1423.18 L36251.4 1423.18 L36141.8 1423.18 L36141.8 1423.18  Z\" fill=\"#009af9\" fill-rule=\"evenodd\" fill-opacity=\"1\"/>\n",
       "<polyline clip-path=\"url(#clip082)\" style=\"stroke:#000000; stroke-linecap:round; stroke-linejoin:round; stroke-width:4; stroke-opacity:1; fill:none\" points=\"36141.8,1423.18 36141.8,1423.18 36251.4,1423.18 36141.8,1423.18 \"/>\n",
       "<path clip-path=\"url(#clip082)\" d=\"M36251.4 1423.18 L36251.4 1423.18 L36360.9 1423.18 L36360.9 1423.18 L36251.4 1423.18 L36251.4 1423.18  Z\" fill=\"#009af9\" fill-rule=\"evenodd\" fill-opacity=\"1\"/>\n",
       "<polyline clip-path=\"url(#clip082)\" style=\"stroke:#000000; stroke-linecap:round; stroke-linejoin:round; stroke-width:4; stroke-opacity:1; fill:none\" points=\"36251.4,1423.18 36251.4,1423.18 36360.9,1423.18 36251.4,1423.18 \"/>\n",
       "<path clip-path=\"url(#clip082)\" d=\"M36360.9 1423.18 L36360.9 1423.18 L36470.4 1423.18 L36470.4 1423.18 L36360.9 1423.18 L36360.9 1423.18  Z\" fill=\"#009af9\" fill-rule=\"evenodd\" fill-opacity=\"1\"/>\n",
       "<polyline clip-path=\"url(#clip082)\" style=\"stroke:#000000; stroke-linecap:round; stroke-linejoin:round; stroke-width:4; stroke-opacity:1; fill:none\" points=\"36360.9,1423.18 36360.9,1423.18 36470.4,1423.18 36360.9,1423.18 \"/>\n",
       "<path clip-path=\"url(#clip082)\" d=\"M36470.4 1423.18 L36470.4 1423.18 L36580 1423.18 L36580 1423.18 L36470.4 1423.18 L36470.4 1423.18  Z\" fill=\"#009af9\" fill-rule=\"evenodd\" fill-opacity=\"1\"/>\n",
       "<polyline clip-path=\"url(#clip082)\" style=\"stroke:#000000; stroke-linecap:round; stroke-linejoin:round; stroke-width:4; stroke-opacity:1; fill:none\" points=\"36470.4,1423.18 36470.4,1423.18 36580,1423.18 36470.4,1423.18 \"/>\n",
       "<path clip-path=\"url(#clip082)\" d=\"M36580 1423.18 L36580 1423.18 L36689.5 1423.18 L36689.5 1423.18 L36580 1423.18 L36580 1423.18  Z\" fill=\"#009af9\" fill-rule=\"evenodd\" fill-opacity=\"1\"/>\n",
       "<polyline clip-path=\"url(#clip082)\" style=\"stroke:#000000; stroke-linecap:round; stroke-linejoin:round; stroke-width:4; stroke-opacity:1; fill:none\" points=\"36580,1423.18 36580,1423.18 36689.5,1423.18 36580,1423.18 \"/>\n",
       "<path clip-path=\"url(#clip082)\" d=\"M36689.5 1423.18 L36689.5 1423.18 L36799 1423.18 L36799 1423.18 L36689.5 1423.18 L36689.5 1423.18  Z\" fill=\"#009af9\" fill-rule=\"evenodd\" fill-opacity=\"1\"/>\n",
       "<polyline clip-path=\"url(#clip082)\" style=\"stroke:#000000; stroke-linecap:round; stroke-linejoin:round; stroke-width:4; stroke-opacity:1; fill:none\" points=\"36689.5,1423.18 36689.5,1423.18 36799,1423.18 36689.5,1423.18 \"/>\n",
       "<path clip-path=\"url(#clip082)\" d=\"M36799 1423.18 L36799 1423.18 L36908.6 1423.18 L36908.6 1423.18 L36799 1423.18 L36799 1423.18  Z\" fill=\"#009af9\" fill-rule=\"evenodd\" fill-opacity=\"1\"/>\n",
       "<polyline clip-path=\"url(#clip082)\" style=\"stroke:#000000; stroke-linecap:round; stroke-linejoin:round; stroke-width:4; stroke-opacity:1; fill:none\" points=\"36799,1423.18 36799,1423.18 36908.6,1423.18 36799,1423.18 \"/>\n",
       "<path clip-path=\"url(#clip082)\" d=\"M36908.6 1423.18 L36908.6 1423.18 L37018.1 1423.18 L37018.1 1423.18 L36908.6 1423.18 L36908.6 1423.18  Z\" fill=\"#009af9\" fill-rule=\"evenodd\" fill-opacity=\"1\"/>\n",
       "<polyline clip-path=\"url(#clip082)\" style=\"stroke:#000000; stroke-linecap:round; stroke-linejoin:round; stroke-width:4; stroke-opacity:1; fill:none\" points=\"36908.6,1423.18 36908.6,1423.18 37018.1,1423.18 36908.6,1423.18 \"/>\n",
       "<path clip-path=\"url(#clip082)\" d=\"M37018.1 1423.18 L37018.1 1423.18 L37127.7 1423.18 L37127.7 1423.18 L37018.1 1423.18 L37018.1 1423.18  Z\" fill=\"#009af9\" fill-rule=\"evenodd\" fill-opacity=\"1\"/>\n",
       "<polyline clip-path=\"url(#clip082)\" style=\"stroke:#000000; stroke-linecap:round; stroke-linejoin:round; stroke-width:4; stroke-opacity:1; fill:none\" points=\"37018.1,1423.18 37018.1,1423.18 37127.7,1423.18 37018.1,1423.18 \"/>\n",
       "<path clip-path=\"url(#clip082)\" d=\"M37127.7 1423.18 L37127.7 1423.18 L37237.2 1423.18 L37237.2 1423.18 L37127.7 1423.18 L37127.7 1423.18  Z\" fill=\"#009af9\" fill-rule=\"evenodd\" fill-opacity=\"1\"/>\n",
       "<polyline clip-path=\"url(#clip082)\" style=\"stroke:#000000; stroke-linecap:round; stroke-linejoin:round; stroke-width:4; stroke-opacity:1; fill:none\" points=\"37127.7,1423.18 37127.7,1423.18 37237.2,1423.18 37127.7,1423.18 \"/>\n",
       "<path clip-path=\"url(#clip082)\" d=\"M37237.2 1423.18 L37237.2 1423.18 L37346.7 1423.18 L37346.7 1423.18 L37237.2 1423.18 L37237.2 1423.18  Z\" fill=\"#009af9\" fill-rule=\"evenodd\" fill-opacity=\"1\"/>\n",
       "<polyline clip-path=\"url(#clip082)\" style=\"stroke:#000000; stroke-linecap:round; stroke-linejoin:round; stroke-width:4; stroke-opacity:1; fill:none\" points=\"37237.2,1423.18 37237.2,1423.18 37346.7,1423.18 37237.2,1423.18 \"/>\n",
       "<path clip-path=\"url(#clip082)\" d=\"M37346.7 1423.18 L37346.7 1423.18 L37456.3 1423.18 L37456.3 1423.18 L37346.7 1423.18 L37346.7 1423.18  Z\" fill=\"#009af9\" fill-rule=\"evenodd\" fill-opacity=\"1\"/>\n",
       "<polyline clip-path=\"url(#clip082)\" style=\"stroke:#000000; stroke-linecap:round; stroke-linejoin:round; stroke-width:4; stroke-opacity:1; fill:none\" points=\"37346.7,1423.18 37346.7,1423.18 37456.3,1423.18 37346.7,1423.18 \"/>\n",
       "<path clip-path=\"url(#clip082)\" d=\"M37456.3 1423.18 L37456.3 1423.18 L37565.8 1423.18 L37565.8 1423.18 L37456.3 1423.18 L37456.3 1423.18  Z\" fill=\"#009af9\" fill-rule=\"evenodd\" fill-opacity=\"1\"/>\n",
       "<polyline clip-path=\"url(#clip082)\" style=\"stroke:#000000; stroke-linecap:round; stroke-linejoin:round; stroke-width:4; stroke-opacity:1; fill:none\" points=\"37456.3,1423.18 37456.3,1423.18 37565.8,1423.18 37456.3,1423.18 \"/>\n",
       "<path clip-path=\"url(#clip082)\" d=\"M37565.8 1423.18 L37565.8 1423.18 L37675.3 1423.18 L37675.3 1423.18 L37565.8 1423.18 L37565.8 1423.18  Z\" fill=\"#009af9\" fill-rule=\"evenodd\" fill-opacity=\"1\"/>\n",
       "<polyline clip-path=\"url(#clip082)\" style=\"stroke:#000000; stroke-linecap:round; stroke-linejoin:round; stroke-width:4; stroke-opacity:1; fill:none\" points=\"37565.8,1423.18 37565.8,1423.18 37675.3,1423.18 37565.8,1423.18 \"/>\n",
       "<path clip-path=\"url(#clip082)\" d=\"M37675.3 1423.18 L37675.3 1423.18 L37784.9 1423.18 L37784.9 1423.18 L37675.3 1423.18 L37675.3 1423.18  Z\" fill=\"#009af9\" fill-rule=\"evenodd\" fill-opacity=\"1\"/>\n",
       "<polyline clip-path=\"url(#clip082)\" style=\"stroke:#000000; stroke-linecap:round; stroke-linejoin:round; stroke-width:4; stroke-opacity:1; fill:none\" points=\"37675.3,1423.18 37675.3,1423.18 37784.9,1423.18 37675.3,1423.18 \"/>\n",
       "<path clip-path=\"url(#clip082)\" d=\"M37784.9 1423.18 L37784.9 1423.18 L37894.4 1423.18 L37894.4 1423.18 L37784.9 1423.18 L37784.9 1423.18  Z\" fill=\"#009af9\" fill-rule=\"evenodd\" fill-opacity=\"1\"/>\n",
       "<polyline clip-path=\"url(#clip082)\" style=\"stroke:#000000; stroke-linecap:round; stroke-linejoin:round; stroke-width:4; stroke-opacity:1; fill:none\" points=\"37784.9,1423.18 37784.9,1423.18 37894.4,1423.18 37784.9,1423.18 \"/>\n",
       "<path clip-path=\"url(#clip082)\" d=\"M37894.4 1423.18 L37894.4 1423.18 L38004 1423.18 L38004 1423.18 L37894.4 1423.18 L37894.4 1423.18  Z\" fill=\"#009af9\" fill-rule=\"evenodd\" fill-opacity=\"1\"/>\n",
       "<polyline clip-path=\"url(#clip082)\" style=\"stroke:#000000; stroke-linecap:round; stroke-linejoin:round; stroke-width:4; stroke-opacity:1; fill:none\" points=\"37894.4,1423.18 37894.4,1423.18 38004,1423.18 37894.4,1423.18 \"/>\n",
       "<path clip-path=\"url(#clip082)\" d=\"M38004 1423.18 L38004 1423.18 L38113.5 1423.18 L38113.5 1423.18 L38004 1423.18 L38004 1423.18  Z\" fill=\"#009af9\" fill-rule=\"evenodd\" fill-opacity=\"1\"/>\n",
       "<polyline clip-path=\"url(#clip082)\" style=\"stroke:#000000; stroke-linecap:round; stroke-linejoin:round; stroke-width:4; stroke-opacity:1; fill:none\" points=\"38004,1423.18 38004,1423.18 38113.5,1423.18 38004,1423.18 \"/>\n",
       "<path clip-path=\"url(#clip082)\" d=\"M38113.5 1423.18 L38113.5 1423.18 L38223 1423.18 L38223 1423.18 L38113.5 1423.18 L38113.5 1423.18  Z\" fill=\"#009af9\" fill-rule=\"evenodd\" fill-opacity=\"1\"/>\n",
       "<polyline clip-path=\"url(#clip082)\" style=\"stroke:#000000; stroke-linecap:round; stroke-linejoin:round; stroke-width:4; stroke-opacity:1; fill:none\" points=\"38113.5,1423.18 38113.5,1423.18 38223,1423.18 38113.5,1423.18 \"/>\n",
       "<path clip-path=\"url(#clip082)\" d=\"M38223 1423.18 L38223 1423.18 L38332.6 1423.18 L38332.6 1423.18 L38223 1423.18 L38223 1423.18  Z\" fill=\"#009af9\" fill-rule=\"evenodd\" fill-opacity=\"1\"/>\n",
       "<polyline clip-path=\"url(#clip082)\" style=\"stroke:#000000; stroke-linecap:round; stroke-linejoin:round; stroke-width:4; stroke-opacity:1; fill:none\" points=\"38223,1423.18 38223,1423.18 38332.6,1423.18 38223,1423.18 \"/>\n",
       "<path clip-path=\"url(#clip082)\" d=\"M38332.6 1423.18 L38332.6 1423.18 L38442.1 1423.18 L38442.1 1423.18 L38332.6 1423.18 L38332.6 1423.18  Z\" fill=\"#009af9\" fill-rule=\"evenodd\" fill-opacity=\"1\"/>\n",
       "<polyline clip-path=\"url(#clip082)\" style=\"stroke:#000000; stroke-linecap:round; stroke-linejoin:round; stroke-width:4; stroke-opacity:1; fill:none\" points=\"38332.6,1423.18 38332.6,1423.18 38442.1,1423.18 38332.6,1423.18 \"/>\n",
       "<path clip-path=\"url(#clip082)\" d=\"M38442.1 1423.18 L38442.1 1423.18 L38551.6 1423.18 L38551.6 1423.18 L38442.1 1423.18 L38442.1 1423.18  Z\" fill=\"#009af9\" fill-rule=\"evenodd\" fill-opacity=\"1\"/>\n",
       "<polyline clip-path=\"url(#clip082)\" style=\"stroke:#000000; stroke-linecap:round; stroke-linejoin:round; stroke-width:4; stroke-opacity:1; fill:none\" points=\"38442.1,1423.18 38442.1,1423.18 38551.6,1423.18 38442.1,1423.18 \"/>\n",
       "<path clip-path=\"url(#clip082)\" d=\"M38551.6 1423.18 L38551.6 1423.18 L38661.2 1423.18 L38661.2 1423.18 L38551.6 1423.18 L38551.6 1423.18  Z\" fill=\"#009af9\" fill-rule=\"evenodd\" fill-opacity=\"1\"/>\n",
       "<polyline clip-path=\"url(#clip082)\" style=\"stroke:#000000; stroke-linecap:round; stroke-linejoin:round; stroke-width:4; stroke-opacity:1; fill:none\" points=\"38551.6,1423.18 38551.6,1423.18 38661.2,1423.18 38551.6,1423.18 \"/>\n",
       "<path clip-path=\"url(#clip082)\" d=\"M38661.2 1423.18 L38661.2 1423.18 L38770.7 1423.18 L38770.7 1423.18 L38661.2 1423.18 L38661.2 1423.18  Z\" fill=\"#009af9\" fill-rule=\"evenodd\" fill-opacity=\"1\"/>\n",
       "<polyline clip-path=\"url(#clip082)\" style=\"stroke:#000000; stroke-linecap:round; stroke-linejoin:round; stroke-width:4; stroke-opacity:1; fill:none\" points=\"38661.2,1423.18 38661.2,1423.18 38770.7,1423.18 38661.2,1423.18 \"/>\n",
       "<path clip-path=\"url(#clip082)\" d=\"M38770.7 1423.18 L38770.7 1423.18 L38880.3 1423.18 L38880.3 1423.18 L38770.7 1423.18 L38770.7 1423.18  Z\" fill=\"#009af9\" fill-rule=\"evenodd\" fill-opacity=\"1\"/>\n",
       "<polyline clip-path=\"url(#clip082)\" style=\"stroke:#000000; stroke-linecap:round; stroke-linejoin:round; stroke-width:4; stroke-opacity:1; fill:none\" points=\"38770.7,1423.18 38770.7,1423.18 38880.3,1423.18 38770.7,1423.18 \"/>\n",
       "<path clip-path=\"url(#clip082)\" d=\"M38880.3 1423.18 L38880.3 1423.18 L38989.8 1423.18 L38989.8 1423.18 L38880.3 1423.18 L38880.3 1423.18  Z\" fill=\"#009af9\" fill-rule=\"evenodd\" fill-opacity=\"1\"/>\n",
       "<polyline clip-path=\"url(#clip082)\" style=\"stroke:#000000; stroke-linecap:round; stroke-linejoin:round; stroke-width:4; stroke-opacity:1; fill:none\" points=\"38880.3,1423.18 38880.3,1423.18 38989.8,1423.18 38880.3,1423.18 \"/>\n",
       "<path clip-path=\"url(#clip082)\" d=\"M38989.8 1423.18 L38989.8 1423.18 L39099.3 1423.18 L39099.3 1423.18 L38989.8 1423.18 L38989.8 1423.18  Z\" fill=\"#009af9\" fill-rule=\"evenodd\" fill-opacity=\"1\"/>\n",
       "<polyline clip-path=\"url(#clip082)\" style=\"stroke:#000000; stroke-linecap:round; stroke-linejoin:round; stroke-width:4; stroke-opacity:1; fill:none\" points=\"38989.8,1423.18 38989.8,1423.18 39099.3,1423.18 38989.8,1423.18 \"/>\n",
       "<path clip-path=\"url(#clip082)\" d=\"M39099.3 1423.18 L39099.3 1423.18 L39208.9 1423.18 L39208.9 1423.18 L39099.3 1423.18 L39099.3 1423.18  Z\" fill=\"#009af9\" fill-rule=\"evenodd\" fill-opacity=\"1\"/>\n",
       "<polyline clip-path=\"url(#clip082)\" style=\"stroke:#000000; stroke-linecap:round; stroke-linejoin:round; stroke-width:4; stroke-opacity:1; fill:none\" points=\"39099.3,1423.18 39099.3,1423.18 39208.9,1423.18 39099.3,1423.18 \"/>\n",
       "<path clip-path=\"url(#clip082)\" d=\"M39208.9 1423.18 L39208.9 1423.18 L39318.4 1423.18 L39318.4 1423.18 L39208.9 1423.18 L39208.9 1423.18  Z\" fill=\"#009af9\" fill-rule=\"evenodd\" fill-opacity=\"1\"/>\n",
       "<polyline clip-path=\"url(#clip082)\" style=\"stroke:#000000; stroke-linecap:round; stroke-linejoin:round; stroke-width:4; stroke-opacity:1; fill:none\" points=\"39208.9,1423.18 39208.9,1423.18 39318.4,1423.18 39208.9,1423.18 \"/>\n",
       "<path clip-path=\"url(#clip082)\" d=\"M39318.4 1423.18 L39318.4 1423.18 L39427.9 1423.18 L39427.9 1423.18 L39318.4 1423.18 L39318.4 1423.18  Z\" fill=\"#009af9\" fill-rule=\"evenodd\" fill-opacity=\"1\"/>\n",
       "<polyline clip-path=\"url(#clip082)\" style=\"stroke:#000000; stroke-linecap:round; stroke-linejoin:round; stroke-width:4; stroke-opacity:1; fill:none\" points=\"39318.4,1423.18 39318.4,1423.18 39427.9,1423.18 39318.4,1423.18 \"/>\n",
       "<path clip-path=\"url(#clip082)\" d=\"M39427.9 1423.18 L39427.9 1423.18 L39537.5 1423.18 L39537.5 1423.18 L39427.9 1423.18 L39427.9 1423.18  Z\" fill=\"#009af9\" fill-rule=\"evenodd\" fill-opacity=\"1\"/>\n",
       "<polyline clip-path=\"url(#clip082)\" style=\"stroke:#000000; stroke-linecap:round; stroke-linejoin:round; stroke-width:4; stroke-opacity:1; fill:none\" points=\"39427.9,1423.18 39427.9,1423.18 39537.5,1423.18 39427.9,1423.18 \"/>\n",
       "<path clip-path=\"url(#clip082)\" d=\"M39537.5 1423.18 L39537.5 1423.18 L39647 1423.18 L39647 1423.18 L39537.5 1423.18 L39537.5 1423.18  Z\" fill=\"#009af9\" fill-rule=\"evenodd\" fill-opacity=\"1\"/>\n",
       "<polyline clip-path=\"url(#clip082)\" style=\"stroke:#000000; stroke-linecap:round; stroke-linejoin:round; stroke-width:4; stroke-opacity:1; fill:none\" points=\"39537.5,1423.18 39537.5,1423.18 39647,1423.18 39537.5,1423.18 \"/>\n",
       "<path clip-path=\"url(#clip082)\" d=\"M39647 1423.18 L39647 1423.18 L39756.6 1423.18 L39756.6 1423.18 L39647 1423.18 L39647 1423.18  Z\" fill=\"#009af9\" fill-rule=\"evenodd\" fill-opacity=\"1\"/>\n",
       "<polyline clip-path=\"url(#clip082)\" style=\"stroke:#000000; stroke-linecap:round; stroke-linejoin:round; stroke-width:4; stroke-opacity:1; fill:none\" points=\"39647,1423.18 39647,1423.18 39756.6,1423.18 39647,1423.18 \"/>\n",
       "<path clip-path=\"url(#clip082)\" d=\"M39756.6 1423.18 L39756.6 1423.18 L39866.1 1423.18 L39866.1 1423.18 L39756.6 1423.18 L39756.6 1423.18  Z\" fill=\"#009af9\" fill-rule=\"evenodd\" fill-opacity=\"1\"/>\n",
       "<polyline clip-path=\"url(#clip082)\" style=\"stroke:#000000; stroke-linecap:round; stroke-linejoin:round; stroke-width:4; stroke-opacity:1; fill:none\" points=\"39756.6,1423.18 39756.6,1423.18 39866.1,1423.18 39756.6,1423.18 \"/>\n",
       "<path clip-path=\"url(#clip082)\" d=\"M39866.1 1423.18 L39866.1 1423.18 L39975.6 1423.18 L39975.6 1423.18 L39866.1 1423.18 L39866.1 1423.18  Z\" fill=\"#009af9\" fill-rule=\"evenodd\" fill-opacity=\"1\"/>\n",
       "<polyline clip-path=\"url(#clip082)\" style=\"stroke:#000000; stroke-linecap:round; stroke-linejoin:round; stroke-width:4; stroke-opacity:1; fill:none\" points=\"39866.1,1423.18 39866.1,1423.18 39975.6,1423.18 39866.1,1423.18 \"/>\n",
       "<path clip-path=\"url(#clip082)\" d=\"M39975.6 1423.18 L39975.6 1423.18 L40085.2 1423.18 L40085.2 1423.18 L39975.6 1423.18 L39975.6 1423.18  Z\" fill=\"#009af9\" fill-rule=\"evenodd\" fill-opacity=\"1\"/>\n",
       "<polyline clip-path=\"url(#clip082)\" style=\"stroke:#000000; stroke-linecap:round; stroke-linejoin:round; stroke-width:4; stroke-opacity:1; fill:none\" points=\"39975.6,1423.18 39975.6,1423.18 40085.2,1423.18 39975.6,1423.18 \"/>\n",
       "<path clip-path=\"url(#clip082)\" d=\"M40085.2 1423.18 L40085.2 1423.18 L40194.7 1423.18 L40194.7 1423.18 L40085.2 1423.18 L40085.2 1423.18  Z\" fill=\"#009af9\" fill-rule=\"evenodd\" fill-opacity=\"1\"/>\n",
       "<polyline clip-path=\"url(#clip082)\" style=\"stroke:#000000; stroke-linecap:round; stroke-linejoin:round; stroke-width:4; stroke-opacity:1; fill:none\" points=\"40085.2,1423.18 40085.2,1423.18 40194.7,1423.18 40085.2,1423.18 \"/>\n",
       "<path clip-path=\"url(#clip082)\" d=\"M40194.7 1423.18 L40194.7 1423.18 L40304.2 1423.18 L40304.2 1423.18 L40194.7 1423.18 L40194.7 1423.18  Z\" fill=\"#009af9\" fill-rule=\"evenodd\" fill-opacity=\"1\"/>\n",
       "<polyline clip-path=\"url(#clip082)\" style=\"stroke:#000000; stroke-linecap:round; stroke-linejoin:round; stroke-width:4; stroke-opacity:1; fill:none\" points=\"40194.7,1423.18 40194.7,1423.18 40304.2,1423.18 40194.7,1423.18 \"/>\n",
       "<path clip-path=\"url(#clip082)\" d=\"M40304.2 1423.18 L40304.2 1423.18 L40413.8 1423.18 L40413.8 1423.18 L40304.2 1423.18 L40304.2 1423.18  Z\" fill=\"#009af9\" fill-rule=\"evenodd\" fill-opacity=\"1\"/>\n",
       "<polyline clip-path=\"url(#clip082)\" style=\"stroke:#000000; stroke-linecap:round; stroke-linejoin:round; stroke-width:4; stroke-opacity:1; fill:none\" points=\"40304.2,1423.18 40304.2,1423.18 40413.8,1423.18 40304.2,1423.18 \"/>\n",
       "<path clip-path=\"url(#clip082)\" d=\"M40413.8 1423.18 L40413.8 1423.18 L40523.3 1423.18 L40523.3 1423.18 L40413.8 1423.18 L40413.8 1423.18  Z\" fill=\"#009af9\" fill-rule=\"evenodd\" fill-opacity=\"1\"/>\n",
       "<polyline clip-path=\"url(#clip082)\" style=\"stroke:#000000; stroke-linecap:round; stroke-linejoin:round; stroke-width:4; stroke-opacity:1; fill:none\" points=\"40413.8,1423.18 40413.8,1423.18 40523.3,1423.18 40413.8,1423.18 \"/>\n",
       "<path clip-path=\"url(#clip082)\" d=\"M40523.3 1423.18 L40523.3 1423.18 L40632.9 1423.18 L40632.9 1423.18 L40523.3 1423.18 L40523.3 1423.18  Z\" fill=\"#009af9\" fill-rule=\"evenodd\" fill-opacity=\"1\"/>\n",
       "<polyline clip-path=\"url(#clip082)\" style=\"stroke:#000000; stroke-linecap:round; stroke-linejoin:round; stroke-width:4; stroke-opacity:1; fill:none\" points=\"40523.3,1423.18 40523.3,1423.18 40632.9,1423.18 40523.3,1423.18 \"/>\n",
       "<path clip-path=\"url(#clip082)\" d=\"M40632.9 1423.18 L40632.9 1423.18 L40742.4 1423.18 L40742.4 1423.18 L40632.9 1423.18 L40632.9 1423.18  Z\" fill=\"#009af9\" fill-rule=\"evenodd\" fill-opacity=\"1\"/>\n",
       "<polyline clip-path=\"url(#clip082)\" style=\"stroke:#000000; stroke-linecap:round; stroke-linejoin:round; stroke-width:4; stroke-opacity:1; fill:none\" points=\"40632.9,1423.18 40632.9,1423.18 40742.4,1423.18 40632.9,1423.18 \"/>\n",
       "<path clip-path=\"url(#clip082)\" d=\"M40742.4 1423.18 L40742.4 1423.18 L40851.9 1423.18 L40851.9 1423.18 L40742.4 1423.18 L40742.4 1423.18  Z\" fill=\"#009af9\" fill-rule=\"evenodd\" fill-opacity=\"1\"/>\n",
       "<polyline clip-path=\"url(#clip082)\" style=\"stroke:#000000; stroke-linecap:round; stroke-linejoin:round; stroke-width:4; stroke-opacity:1; fill:none\" points=\"40742.4,1423.18 40742.4,1423.18 40851.9,1423.18 40742.4,1423.18 \"/>\n",
       "<path clip-path=\"url(#clip082)\" d=\"M40851.9 1423.18 L40851.9 1423.18 L40961.5 1423.18 L40961.5 1423.18 L40851.9 1423.18 L40851.9 1423.18  Z\" fill=\"#009af9\" fill-rule=\"evenodd\" fill-opacity=\"1\"/>\n",
       "<polyline clip-path=\"url(#clip082)\" style=\"stroke:#000000; stroke-linecap:round; stroke-linejoin:round; stroke-width:4; stroke-opacity:1; fill:none\" points=\"40851.9,1423.18 40851.9,1423.18 40961.5,1423.18 40851.9,1423.18 \"/>\n",
       "<path clip-path=\"url(#clip082)\" d=\"M40961.5 1423.18 L40961.5 1423.18 L41071 1423.18 L41071 1423.18 L40961.5 1423.18 L40961.5 1423.18  Z\" fill=\"#009af9\" fill-rule=\"evenodd\" fill-opacity=\"1\"/>\n",
       "<polyline clip-path=\"url(#clip082)\" style=\"stroke:#000000; stroke-linecap:round; stroke-linejoin:round; stroke-width:4; stroke-opacity:1; fill:none\" points=\"40961.5,1423.18 40961.5,1423.18 41071,1423.18 40961.5,1423.18 \"/>\n",
       "<path clip-path=\"url(#clip082)\" d=\"M41071 1423.18 L41071 1423.18 L41180.5 1423.18 L41180.5 1423.18 L41071 1423.18 L41071 1423.18  Z\" fill=\"#009af9\" fill-rule=\"evenodd\" fill-opacity=\"1\"/>\n",
       "<polyline clip-path=\"url(#clip082)\" style=\"stroke:#000000; stroke-linecap:round; stroke-linejoin:round; stroke-width:4; stroke-opacity:1; fill:none\" points=\"41071,1423.18 41071,1423.18 41180.5,1423.18 41071,1423.18 \"/>\n",
       "<path clip-path=\"url(#clip082)\" d=\"M41180.5 1423.18 L41180.5 1423.18 L41290.1 1423.18 L41290.1 1423.18 L41180.5 1423.18 L41180.5 1423.18  Z\" fill=\"#009af9\" fill-rule=\"evenodd\" fill-opacity=\"1\"/>\n",
       "<polyline clip-path=\"url(#clip082)\" style=\"stroke:#000000; stroke-linecap:round; stroke-linejoin:round; stroke-width:4; stroke-opacity:1; fill:none\" points=\"41180.5,1423.18 41180.5,1423.18 41290.1,1423.18 41180.5,1423.18 \"/>\n",
       "<path clip-path=\"url(#clip082)\" d=\"M41290.1 1423.18 L41290.1 1423.18 L41399.6 1423.18 L41399.6 1423.18 L41290.1 1423.18 L41290.1 1423.18  Z\" fill=\"#009af9\" fill-rule=\"evenodd\" fill-opacity=\"1\"/>\n",
       "<polyline clip-path=\"url(#clip082)\" style=\"stroke:#000000; stroke-linecap:round; stroke-linejoin:round; stroke-width:4; stroke-opacity:1; fill:none\" points=\"41290.1,1423.18 41290.1,1423.18 41399.6,1423.18 41290.1,1423.18 \"/>\n",
       "<path clip-path=\"url(#clip082)\" d=\"M41399.6 1423.18 L41399.6 1423.18 L41509.2 1423.18 L41509.2 1423.18 L41399.6 1423.18 L41399.6 1423.18  Z\" fill=\"#009af9\" fill-rule=\"evenodd\" fill-opacity=\"1\"/>\n",
       "<polyline clip-path=\"url(#clip082)\" style=\"stroke:#000000; stroke-linecap:round; stroke-linejoin:round; stroke-width:4; stroke-opacity:1; fill:none\" points=\"41399.6,1423.18 41399.6,1423.18 41509.2,1423.18 41399.6,1423.18 \"/>\n",
       "<path clip-path=\"url(#clip082)\" d=\"M41509.2 1423.18 L41509.2 1423.18 L41618.7 1423.18 L41618.7 1423.18 L41509.2 1423.18 L41509.2 1423.18  Z\" fill=\"#009af9\" fill-rule=\"evenodd\" fill-opacity=\"1\"/>\n",
       "<polyline clip-path=\"url(#clip082)\" style=\"stroke:#000000; stroke-linecap:round; stroke-linejoin:round; stroke-width:4; stroke-opacity:1; fill:none\" points=\"41509.2,1423.18 41509.2,1423.18 41618.7,1423.18 41509.2,1423.18 \"/>\n",
       "<path clip-path=\"url(#clip082)\" d=\"M41618.7 1423.18 L41618.7 1423.18 L41728.2 1423.18 L41728.2 1423.18 L41618.7 1423.18 L41618.7 1423.18  Z\" fill=\"#009af9\" fill-rule=\"evenodd\" fill-opacity=\"1\"/>\n",
       "<polyline clip-path=\"url(#clip082)\" style=\"stroke:#000000; stroke-linecap:round; stroke-linejoin:round; stroke-width:4; stroke-opacity:1; fill:none\" points=\"41618.7,1423.18 41618.7,1423.18 41728.2,1423.18 41618.7,1423.18 \"/>\n",
       "<path clip-path=\"url(#clip082)\" d=\"M41728.2 1423.18 L41728.2 1423.18 L41837.8 1423.18 L41837.8 1423.18 L41728.2 1423.18 L41728.2 1423.18  Z\" fill=\"#009af9\" fill-rule=\"evenodd\" fill-opacity=\"1\"/>\n",
       "<polyline clip-path=\"url(#clip082)\" style=\"stroke:#000000; stroke-linecap:round; stroke-linejoin:round; stroke-width:4; stroke-opacity:1; fill:none\" points=\"41728.2,1423.18 41728.2,1423.18 41837.8,1423.18 41728.2,1423.18 \"/>\n",
       "<path clip-path=\"url(#clip082)\" d=\"M41837.8 1423.18 L41837.8 1423.18 L41947.3 1423.18 L41947.3 1423.18 L41837.8 1423.18 L41837.8 1423.18  Z\" fill=\"#009af9\" fill-rule=\"evenodd\" fill-opacity=\"1\"/>\n",
       "<polyline clip-path=\"url(#clip082)\" style=\"stroke:#000000; stroke-linecap:round; stroke-linejoin:round; stroke-width:4; stroke-opacity:1; fill:none\" points=\"41837.8,1423.18 41837.8,1423.18 41947.3,1423.18 41837.8,1423.18 \"/>\n",
       "<path clip-path=\"url(#clip082)\" d=\"M41947.3 1423.18 L41947.3 1423.18 L42056.8 1423.18 L42056.8 1423.18 L41947.3 1423.18 L41947.3 1423.18  Z\" fill=\"#009af9\" fill-rule=\"evenodd\" fill-opacity=\"1\"/>\n",
       "<polyline clip-path=\"url(#clip082)\" style=\"stroke:#000000; stroke-linecap:round; stroke-linejoin:round; stroke-width:4; stroke-opacity:1; fill:none\" points=\"41947.3,1423.18 41947.3,1423.18 42056.8,1423.18 41947.3,1423.18 \"/>\n",
       "<path clip-path=\"url(#clip082)\" d=\"M42056.8 1423.18 L42056.8 1423.18 L42166.4 1423.18 L42166.4 1423.18 L42056.8 1423.18 L42056.8 1423.18  Z\" fill=\"#009af9\" fill-rule=\"evenodd\" fill-opacity=\"1\"/>\n",
       "<polyline clip-path=\"url(#clip082)\" style=\"stroke:#000000; stroke-linecap:round; stroke-linejoin:round; stroke-width:4; stroke-opacity:1; fill:none\" points=\"42056.8,1423.18 42056.8,1423.18 42166.4,1423.18 42056.8,1423.18 \"/>\n",
       "<path clip-path=\"url(#clip082)\" d=\"M42166.4 1423.18 L42166.4 1423.18 L42275.9 1423.18 L42275.9 1423.18 L42166.4 1423.18 L42166.4 1423.18  Z\" fill=\"#009af9\" fill-rule=\"evenodd\" fill-opacity=\"1\"/>\n",
       "<polyline clip-path=\"url(#clip082)\" style=\"stroke:#000000; stroke-linecap:round; stroke-linejoin:round; stroke-width:4; stroke-opacity:1; fill:none\" points=\"42166.4,1423.18 42166.4,1423.18 42275.9,1423.18 42166.4,1423.18 \"/>\n",
       "<path clip-path=\"url(#clip082)\" d=\"M42275.9 1423.18 L42275.9 1423.18 L42385.5 1423.18 L42385.5 1423.18 L42275.9 1423.18 L42275.9 1423.18  Z\" fill=\"#009af9\" fill-rule=\"evenodd\" fill-opacity=\"1\"/>\n",
       "<polyline clip-path=\"url(#clip082)\" style=\"stroke:#000000; stroke-linecap:round; stroke-linejoin:round; stroke-width:4; stroke-opacity:1; fill:none\" points=\"42275.9,1423.18 42275.9,1423.18 42385.5,1423.18 42275.9,1423.18 \"/>\n",
       "<path clip-path=\"url(#clip082)\" d=\"M42385.5 1423.18 L42385.5 1423.18 L42495 1423.18 L42495 1423.18 L42385.5 1423.18 L42385.5 1423.18  Z\" fill=\"#009af9\" fill-rule=\"evenodd\" fill-opacity=\"1\"/>\n",
       "<polyline clip-path=\"url(#clip082)\" style=\"stroke:#000000; stroke-linecap:round; stroke-linejoin:round; stroke-width:4; stroke-opacity:1; fill:none\" points=\"42385.5,1423.18 42385.5,1423.18 42495,1423.18 42385.5,1423.18 \"/>\n",
       "<path clip-path=\"url(#clip082)\" d=\"M42495 1423.18 L42495 1423.18 L42604.5 1423.18 L42604.5 1423.18 L42495 1423.18 L42495 1423.18  Z\" fill=\"#009af9\" fill-rule=\"evenodd\" fill-opacity=\"1\"/>\n",
       "<polyline clip-path=\"url(#clip082)\" style=\"stroke:#000000; stroke-linecap:round; stroke-linejoin:round; stroke-width:4; stroke-opacity:1; fill:none\" points=\"42495,1423.18 42495,1423.18 42604.5,1423.18 42495,1423.18 \"/>\n",
       "<path clip-path=\"url(#clip082)\" d=\"M42604.5 1423.18 L42604.5 1423.18 L42714.1 1423.18 L42714.1 1423.18 L42604.5 1423.18 L42604.5 1423.18  Z\" fill=\"#009af9\" fill-rule=\"evenodd\" fill-opacity=\"1\"/>\n",
       "<polyline clip-path=\"url(#clip082)\" style=\"stroke:#000000; stroke-linecap:round; stroke-linejoin:round; stroke-width:4; stroke-opacity:1; fill:none\" points=\"42604.5,1423.18 42604.5,1423.18 42714.1,1423.18 42604.5,1423.18 \"/>\n",
       "<path clip-path=\"url(#clip082)\" d=\"M42714.1 1423.18 L42714.1 1423.18 L42823.6 1423.18 L42823.6 1423.18 L42714.1 1423.18 L42714.1 1423.18  Z\" fill=\"#009af9\" fill-rule=\"evenodd\" fill-opacity=\"1\"/>\n",
       "<polyline clip-path=\"url(#clip082)\" style=\"stroke:#000000; stroke-linecap:round; stroke-linejoin:round; stroke-width:4; stroke-opacity:1; fill:none\" points=\"42714.1,1423.18 42714.1,1423.18 42823.6,1423.18 42714.1,1423.18 \"/>\n",
       "<path clip-path=\"url(#clip082)\" d=\"M42823.6 1423.18 L42823.6 1423.18 L42933.1 1423.18 L42933.1 1423.18 L42823.6 1423.18 L42823.6 1423.18  Z\" fill=\"#009af9\" fill-rule=\"evenodd\" fill-opacity=\"1\"/>\n",
       "<polyline clip-path=\"url(#clip082)\" style=\"stroke:#000000; stroke-linecap:round; stroke-linejoin:round; stroke-width:4; stroke-opacity:1; fill:none\" points=\"42823.6,1423.18 42823.6,1423.18 42933.1,1423.18 42823.6,1423.18 \"/>\n",
       "<path clip-path=\"url(#clip082)\" d=\"M42933.1 1423.18 L42933.1 1423.18 L43042.7 1423.18 L43042.7 1423.18 L42933.1 1423.18 L42933.1 1423.18  Z\" fill=\"#009af9\" fill-rule=\"evenodd\" fill-opacity=\"1\"/>\n",
       "<polyline clip-path=\"url(#clip082)\" style=\"stroke:#000000; stroke-linecap:round; stroke-linejoin:round; stroke-width:4; stroke-opacity:1; fill:none\" points=\"42933.1,1423.18 42933.1,1423.18 43042.7,1423.18 42933.1,1423.18 \"/>\n",
       "<path clip-path=\"url(#clip082)\" d=\"M43042.7 1423.18 L43042.7 1423.18 L43152.2 1423.18 L43152.2 1423.18 L43042.7 1423.18 L43042.7 1423.18  Z\" fill=\"#009af9\" fill-rule=\"evenodd\" fill-opacity=\"1\"/>\n",
       "<polyline clip-path=\"url(#clip082)\" style=\"stroke:#000000; stroke-linecap:round; stroke-linejoin:round; stroke-width:4; stroke-opacity:1; fill:none\" points=\"43042.7,1423.18 43042.7,1423.18 43152.2,1423.18 43042.7,1423.18 \"/>\n",
       "<path clip-path=\"url(#clip082)\" d=\"M43152.2 1423.18 L43152.2 1423.18 L43261.7 1423.18 L43261.7 1423.18 L43152.2 1423.18 L43152.2 1423.18  Z\" fill=\"#009af9\" fill-rule=\"evenodd\" fill-opacity=\"1\"/>\n",
       "<polyline clip-path=\"url(#clip082)\" style=\"stroke:#000000; stroke-linecap:round; stroke-linejoin:round; stroke-width:4; stroke-opacity:1; fill:none\" points=\"43152.2,1423.18 43152.2,1423.18 43261.7,1423.18 43152.2,1423.18 \"/>\n",
       "<path clip-path=\"url(#clip082)\" d=\"M43261.7 1423.18 L43261.7 1423.18 L43371.3 1423.18 L43371.3 1423.18 L43261.7 1423.18 L43261.7 1423.18  Z\" fill=\"#009af9\" fill-rule=\"evenodd\" fill-opacity=\"1\"/>\n",
       "<polyline clip-path=\"url(#clip082)\" style=\"stroke:#000000; stroke-linecap:round; stroke-linejoin:round; stroke-width:4; stroke-opacity:1; fill:none\" points=\"43261.7,1423.18 43261.7,1423.18 43371.3,1423.18 43261.7,1423.18 \"/>\n",
       "<path clip-path=\"url(#clip082)\" d=\"M43371.3 1423.18 L43371.3 1423.18 L43480.8 1423.18 L43480.8 1423.18 L43371.3 1423.18 L43371.3 1423.18  Z\" fill=\"#009af9\" fill-rule=\"evenodd\" fill-opacity=\"1\"/>\n",
       "<polyline clip-path=\"url(#clip082)\" style=\"stroke:#000000; stroke-linecap:round; stroke-linejoin:round; stroke-width:4; stroke-opacity:1; fill:none\" points=\"43371.3,1423.18 43371.3,1423.18 43480.8,1423.18 43371.3,1423.18 \"/>\n",
       "<path clip-path=\"url(#clip082)\" d=\"M43480.8 1423.18 L43480.8 1423.18 L43590.4 1423.18 L43590.4 1423.18 L43480.8 1423.18 L43480.8 1423.18  Z\" fill=\"#009af9\" fill-rule=\"evenodd\" fill-opacity=\"1\"/>\n",
       "<polyline clip-path=\"url(#clip082)\" style=\"stroke:#000000; stroke-linecap:round; stroke-linejoin:round; stroke-width:4; stroke-opacity:1; fill:none\" points=\"43480.8,1423.18 43480.8,1423.18 43590.4,1423.18 43480.8,1423.18 \"/>\n",
       "<path clip-path=\"url(#clip082)\" d=\"M43590.4 1423.18 L43590.4 1423.18 L43699.9 1423.18 L43699.9 1423.18 L43590.4 1423.18 L43590.4 1423.18  Z\" fill=\"#009af9\" fill-rule=\"evenodd\" fill-opacity=\"1\"/>\n",
       "<polyline clip-path=\"url(#clip082)\" style=\"stroke:#000000; stroke-linecap:round; stroke-linejoin:round; stroke-width:4; stroke-opacity:1; fill:none\" points=\"43590.4,1423.18 43590.4,1423.18 43699.9,1423.18 43590.4,1423.18 \"/>\n",
       "<path clip-path=\"url(#clip082)\" d=\"M43699.9 1423.18 L43699.9 1423.18 L43809.4 1423.18 L43809.4 1423.18 L43699.9 1423.18 L43699.9 1423.18  Z\" fill=\"#009af9\" fill-rule=\"evenodd\" fill-opacity=\"1\"/>\n",
       "<polyline clip-path=\"url(#clip082)\" style=\"stroke:#000000; stroke-linecap:round; stroke-linejoin:round; stroke-width:4; stroke-opacity:1; fill:none\" points=\"43699.9,1423.18 43699.9,1423.18 43809.4,1423.18 43699.9,1423.18 \"/>\n",
       "<path clip-path=\"url(#clip082)\" d=\"M43809.4 1423.18 L43809.4 1423.18 L43919 1423.18 L43919 1423.18 L43809.4 1423.18 L43809.4 1423.18  Z\" fill=\"#009af9\" fill-rule=\"evenodd\" fill-opacity=\"1\"/>\n",
       "<polyline clip-path=\"url(#clip082)\" style=\"stroke:#000000; stroke-linecap:round; stroke-linejoin:round; stroke-width:4; stroke-opacity:1; fill:none\" points=\"43809.4,1423.18 43809.4,1423.18 43919,1423.18 43809.4,1423.18 \"/>\n",
       "<path clip-path=\"url(#clip082)\" d=\"M43919 1423.18 L43919 1423.18 L44028.5 1423.18 L44028.5 1423.18 L43919 1423.18 L43919 1423.18  Z\" fill=\"#009af9\" fill-rule=\"evenodd\" fill-opacity=\"1\"/>\n",
       "<polyline clip-path=\"url(#clip082)\" style=\"stroke:#000000; stroke-linecap:round; stroke-linejoin:round; stroke-width:4; stroke-opacity:1; fill:none\" points=\"43919,1423.18 43919,1423.18 44028.5,1423.18 43919,1423.18 \"/>\n",
       "<path clip-path=\"url(#clip082)\" d=\"M44028.5 1423.18 L44028.5 1423.18 L44138 1423.18 L44138 1423.18 L44028.5 1423.18 L44028.5 1423.18  Z\" fill=\"#009af9\" fill-rule=\"evenodd\" fill-opacity=\"1\"/>\n",
       "<polyline clip-path=\"url(#clip082)\" style=\"stroke:#000000; stroke-linecap:round; stroke-linejoin:round; stroke-width:4; stroke-opacity:1; fill:none\" points=\"44028.5,1423.18 44028.5,1423.18 44138,1423.18 44028.5,1423.18 \"/>\n",
       "<path clip-path=\"url(#clip082)\" d=\"M44138 1423.18 L44138 1423.18 L44247.6 1423.18 L44247.6 1423.18 L44138 1423.18 L44138 1423.18  Z\" fill=\"#009af9\" fill-rule=\"evenodd\" fill-opacity=\"1\"/>\n",
       "<polyline clip-path=\"url(#clip082)\" style=\"stroke:#000000; stroke-linecap:round; stroke-linejoin:round; stroke-width:4; stroke-opacity:1; fill:none\" points=\"44138,1423.18 44138,1423.18 44247.6,1423.18 44138,1423.18 \"/>\n",
       "<path clip-path=\"url(#clip082)\" d=\"M44247.6 1423.18 L44247.6 1423.18 L44357.1 1423.18 L44357.1 1423.18 L44247.6 1423.18 L44247.6 1423.18  Z\" fill=\"#009af9\" fill-rule=\"evenodd\" fill-opacity=\"1\"/>\n",
       "<polyline clip-path=\"url(#clip082)\" style=\"stroke:#000000; stroke-linecap:round; stroke-linejoin:round; stroke-width:4; stroke-opacity:1; fill:none\" points=\"44247.6,1423.18 44247.6,1423.18 44357.1,1423.18 44247.6,1423.18 \"/>\n",
       "<path clip-path=\"url(#clip082)\" d=\"M44357.1 1423.18 L44357.1 1423.18 L44466.7 1423.18 L44466.7 1423.18 L44357.1 1423.18 L44357.1 1423.18  Z\" fill=\"#009af9\" fill-rule=\"evenodd\" fill-opacity=\"1\"/>\n",
       "<polyline clip-path=\"url(#clip082)\" style=\"stroke:#000000; stroke-linecap:round; stroke-linejoin:round; stroke-width:4; stroke-opacity:1; fill:none\" points=\"44357.1,1423.18 44357.1,1423.18 44466.7,1423.18 44357.1,1423.18 \"/>\n",
       "<path clip-path=\"url(#clip082)\" d=\"M44466.7 1423.18 L44466.7 1423.18 L44576.2 1423.18 L44576.2 1423.18 L44466.7 1423.18 L44466.7 1423.18  Z\" fill=\"#009af9\" fill-rule=\"evenodd\" fill-opacity=\"1\"/>\n",
       "<polyline clip-path=\"url(#clip082)\" style=\"stroke:#000000; stroke-linecap:round; stroke-linejoin:round; stroke-width:4; stroke-opacity:1; fill:none\" points=\"44466.7,1423.18 44466.7,1423.18 44576.2,1423.18 44466.7,1423.18 \"/>\n",
       "<path clip-path=\"url(#clip082)\" d=\"M44576.2 1423.18 L44576.2 1423.18 L44685.7 1423.18 L44685.7 1423.18 L44576.2 1423.18 L44576.2 1423.18  Z\" fill=\"#009af9\" fill-rule=\"evenodd\" fill-opacity=\"1\"/>\n",
       "<polyline clip-path=\"url(#clip082)\" style=\"stroke:#000000; stroke-linecap:round; stroke-linejoin:round; stroke-width:4; stroke-opacity:1; fill:none\" points=\"44576.2,1423.18 44576.2,1423.18 44685.7,1423.18 44576.2,1423.18 \"/>\n",
       "<path clip-path=\"url(#clip082)\" d=\"M44685.7 1423.18 L44685.7 1423.18 L44795.3 1423.18 L44795.3 1423.18 L44685.7 1423.18 L44685.7 1423.18  Z\" fill=\"#009af9\" fill-rule=\"evenodd\" fill-opacity=\"1\"/>\n",
       "<polyline clip-path=\"url(#clip082)\" style=\"stroke:#000000; stroke-linecap:round; stroke-linejoin:round; stroke-width:4; stroke-opacity:1; fill:none\" points=\"44685.7,1423.18 44685.7,1423.18 44795.3,1423.18 44685.7,1423.18 \"/>\n",
       "<path clip-path=\"url(#clip082)\" d=\"M44795.3 1423.18 L44795.3 1423.18 L44904.8 1423.18 L44904.8 1423.18 L44795.3 1423.18 L44795.3 1423.18  Z\" fill=\"#009af9\" fill-rule=\"evenodd\" fill-opacity=\"1\"/>\n",
       "<polyline clip-path=\"url(#clip082)\" style=\"stroke:#000000; stroke-linecap:round; stroke-linejoin:round; stroke-width:4; stroke-opacity:1; fill:none\" points=\"44795.3,1423.18 44795.3,1423.18 44904.8,1423.18 44795.3,1423.18 \"/>\n",
       "<path clip-path=\"url(#clip082)\" d=\"M44904.8 1423.18 L44904.8 1423.18 L45014.3 1423.18 L45014.3 1423.18 L44904.8 1423.18 L44904.8 1423.18  Z\" fill=\"#009af9\" fill-rule=\"evenodd\" fill-opacity=\"1\"/>\n",
       "<polyline clip-path=\"url(#clip082)\" style=\"stroke:#000000; stroke-linecap:round; stroke-linejoin:round; stroke-width:4; stroke-opacity:1; fill:none\" points=\"44904.8,1423.18 44904.8,1423.18 45014.3,1423.18 44904.8,1423.18 \"/>\n",
       "<path clip-path=\"url(#clip082)\" d=\"M45014.3 1423.18 L45014.3 1423.18 L45123.9 1423.18 L45123.9 1423.18 L45014.3 1423.18 L45014.3 1423.18  Z\" fill=\"#009af9\" fill-rule=\"evenodd\" fill-opacity=\"1\"/>\n",
       "<polyline clip-path=\"url(#clip082)\" style=\"stroke:#000000; stroke-linecap:round; stroke-linejoin:round; stroke-width:4; stroke-opacity:1; fill:none\" points=\"45014.3,1423.18 45014.3,1423.18 45123.9,1423.18 45014.3,1423.18 \"/>\n",
       "<path clip-path=\"url(#clip082)\" d=\"M45123.9 1423.18 L45123.9 1423.18 L45233.4 1423.18 L45233.4 1423.18 L45123.9 1423.18 L45123.9 1423.18  Z\" fill=\"#009af9\" fill-rule=\"evenodd\" fill-opacity=\"1\"/>\n",
       "<polyline clip-path=\"url(#clip082)\" style=\"stroke:#000000; stroke-linecap:round; stroke-linejoin:round; stroke-width:4; stroke-opacity:1; fill:none\" points=\"45123.9,1423.18 45123.9,1423.18 45233.4,1423.18 45123.9,1423.18 \"/>\n",
       "<path clip-path=\"url(#clip082)\" d=\"M45233.4 1415.18 L45233.4 1423.18 L45343 1423.18 L45343 1415.18 L45233.4 1415.18 L45233.4 1415.18  Z\" fill=\"#009af9\" fill-rule=\"evenodd\" fill-opacity=\"1\"/>\n",
       "<polyline clip-path=\"url(#clip082)\" style=\"stroke:#000000; stroke-linecap:round; stroke-linejoin:round; stroke-width:4; stroke-opacity:1; fill:none\" points=\"45233.4,1415.18 45233.4,1423.18 45343,1423.18 45343,1415.18 45233.4,1415.18 \"/>\n",
       "<circle clip-path=\"url(#clip082)\" style=\"fill:#009af9; stroke:none; fill-opacity:0\" cx=\"268.355\" cy=\"1223.19\" r=\"2\"/>\n",
       "<circle clip-path=\"url(#clip082)\" style=\"fill:#009af9; stroke:none; fill-opacity:0\" cx=\"377.892\" cy=\"559.22\" r=\"2\"/>\n",
       "<circle clip-path=\"url(#clip082)\" style=\"fill:#009af9; stroke:none; fill-opacity:0\" cx=\"487.429\" cy=\"47.2441\" r=\"2\"/>\n",
       "<circle clip-path=\"url(#clip082)\" style=\"fill:#009af9; stroke:none; fill-opacity:0\" cx=\"596.967\" cy=\"455.225\" r=\"2\"/>\n",
       "<circle clip-path=\"url(#clip082)\" style=\"fill:#009af9; stroke:none; fill-opacity:0\" cx=\"706.504\" cy=\"1143.19\" r=\"2\"/>\n",
       "<circle clip-path=\"url(#clip082)\" style=\"fill:#009af9; stroke:none; fill-opacity:0\" cx=\"816.041\" cy=\"1247.19\" r=\"2\"/>\n",
       "<circle clip-path=\"url(#clip082)\" style=\"fill:#009af9; stroke:none; fill-opacity:0\" cx=\"925.579\" cy=\"1183.19\" r=\"2\"/>\n",
       "<circle clip-path=\"url(#clip082)\" style=\"fill:#009af9; stroke:none; fill-opacity:0\" cx=\"1035.12\" cy=\"1263.19\" r=\"2\"/>\n",
       "<circle clip-path=\"url(#clip082)\" style=\"fill:#009af9; stroke:none; fill-opacity:0\" cx=\"1144.65\" cy=\"1383.18\" r=\"2\"/>\n",
       "<circle clip-path=\"url(#clip082)\" style=\"fill:#009af9; stroke:none; fill-opacity:0\" cx=\"1254.19\" cy=\"1367.18\" r=\"2\"/>\n",
       "<circle clip-path=\"url(#clip082)\" style=\"fill:#009af9; stroke:none; fill-opacity:0\" cx=\"1363.73\" cy=\"1399.18\" r=\"2\"/>\n",
       "<circle clip-path=\"url(#clip082)\" style=\"fill:#009af9; stroke:none; fill-opacity:0\" cx=\"1473.27\" cy=\"1391.18\" r=\"2\"/>\n",
       "<circle clip-path=\"url(#clip082)\" style=\"fill:#009af9; stroke:none; fill-opacity:0\" cx=\"1582.8\" cy=\"1407.18\" r=\"2\"/>\n",
       "<circle clip-path=\"url(#clip082)\" style=\"fill:#009af9; stroke:none; fill-opacity:0\" cx=\"1692.34\" cy=\"1423.18\" r=\"2\"/>\n",
       "<circle clip-path=\"url(#clip082)\" style=\"fill:#009af9; stroke:none; fill-opacity:0\" cx=\"1801.88\" cy=\"1399.18\" r=\"2\"/>\n",
       "<circle clip-path=\"url(#clip082)\" style=\"fill:#009af9; stroke:none; fill-opacity:0\" cx=\"1911.41\" cy=\"1423.18\" r=\"2\"/>\n",
       "<circle clip-path=\"url(#clip082)\" style=\"fill:#009af9; stroke:none; fill-opacity:0\" cx=\"2020.95\" cy=\"1423.18\" r=\"2\"/>\n",
       "<circle clip-path=\"url(#clip082)\" style=\"fill:#009af9; stroke:none; fill-opacity:0\" cx=\"2130.49\" cy=\"1423.18\" r=\"2\"/>\n",
       "<circle clip-path=\"url(#clip082)\" style=\"fill:#009af9; stroke:none; fill-opacity:0\" cx=\"2240.03\" cy=\"1423.18\" r=\"2\"/>\n",
       "<circle clip-path=\"url(#clip082)\" style=\"fill:#009af9; stroke:none; fill-opacity:0\" cx=\"2349.56\" cy=\"1415.18\" r=\"2\"/>\n",
       "</svg>\n"
      ],
      "text/html": [
       "<?xml version=\"1.0\" encoding=\"utf-8\"?>\n",
       "<svg xmlns=\"http://www.w3.org/2000/svg\" xmlns:xlink=\"http://www.w3.org/1999/xlink\" width=\"600\" height=\"400\" viewBox=\"0 0 2400 1600\">\n",
       "<defs>\n",
       "  <clipPath id=\"clip130\">\n",
       "    <rect x=\"0\" y=\"0\" width=\"2400\" height=\"1600\"/>\n",
       "  </clipPath>\n",
       "</defs>\n",
       "<path clip-path=\"url(#clip130)\" d=\"M0 1600 L2400 1600 L2400 8.88178e-14 L0 8.88178e-14  Z\" fill=\"#ffffff\" fill-rule=\"evenodd\" fill-opacity=\"1\"/>\n",
       "<defs>\n",
       "  <clipPath id=\"clip131\">\n",
       "    <rect x=\"480\" y=\"0\" width=\"1681\" height=\"1600\"/>\n",
       "  </clipPath>\n",
       "</defs>\n",
       "<path clip-path=\"url(#clip130)\" d=\"M232.389 1423.18 L2352.76 1423.18 L2352.76 47.2441 L232.389 47.2441  Z\" fill=\"#ffffff\" fill-rule=\"evenodd\" fill-opacity=\"1\"/>\n",
       "<defs>\n",
       "  <clipPath id=\"clip132\">\n",
       "    <rect x=\"232\" y=\"47\" width=\"2121\" height=\"1377\"/>\n",
       "  </clipPath>\n",
       "</defs>\n",
       "<polyline clip-path=\"url(#clip132)\" style=\"stroke:#000000; stroke-linecap:round; stroke-linejoin:round; stroke-width:2; stroke-opacity:0.1; fill:none\" points=\"323.123,1423.18 323.123,47.2441 \"/>\n",
       "<polyline clip-path=\"url(#clip132)\" style=\"stroke:#000000; stroke-linecap:round; stroke-linejoin:round; stroke-width:2; stroke-opacity:0.1; fill:none\" points=\"761.273,1423.18 761.273,47.2441 \"/>\n",
       "<polyline clip-path=\"url(#clip132)\" style=\"stroke:#000000; stroke-linecap:round; stroke-linejoin:round; stroke-width:2; stroke-opacity:0.1; fill:none\" points=\"1199.42,1423.18 1199.42,47.2441 \"/>\n",
       "<polyline clip-path=\"url(#clip132)\" style=\"stroke:#000000; stroke-linecap:round; stroke-linejoin:round; stroke-width:2; stroke-opacity:0.1; fill:none\" points=\"1637.57,1423.18 1637.57,47.2441 \"/>\n",
       "<polyline clip-path=\"url(#clip132)\" style=\"stroke:#000000; stroke-linecap:round; stroke-linejoin:round; stroke-width:2; stroke-opacity:0.1; fill:none\" points=\"2075.72,1423.18 2075.72,47.2441 \"/>\n",
       "<polyline clip-path=\"url(#clip132)\" style=\"stroke:#000000; stroke-linecap:round; stroke-linejoin:round; stroke-width:2; stroke-opacity:0.1; fill:none\" points=\"232.389,1423.18 2352.76,1423.18 \"/>\n",
       "<polyline clip-path=\"url(#clip132)\" style=\"stroke:#000000; stroke-linecap:round; stroke-linejoin:round; stroke-width:2; stroke-opacity:0.1; fill:none\" points=\"232.389,1023.2 2352.76,1023.2 \"/>\n",
       "<polyline clip-path=\"url(#clip132)\" style=\"stroke:#000000; stroke-linecap:round; stroke-linejoin:round; stroke-width:2; stroke-opacity:0.1; fill:none\" points=\"232.389,623.217 2352.76,623.217 \"/>\n",
       "<polyline clip-path=\"url(#clip132)\" style=\"stroke:#000000; stroke-linecap:round; stroke-linejoin:round; stroke-width:2; stroke-opacity:0.1; fill:none\" points=\"232.389,223.236 2352.76,223.236 \"/>\n",
       "<polyline clip-path=\"url(#clip130)\" style=\"stroke:#000000; stroke-linecap:round; stroke-linejoin:round; stroke-width:4; stroke-opacity:1; fill:none\" points=\"232.389,1423.18 2352.76,1423.18 \"/>\n",
       "<polyline clip-path=\"url(#clip130)\" style=\"stroke:#000000; stroke-linecap:round; stroke-linejoin:round; stroke-width:4; stroke-opacity:1; fill:none\" points=\"323.123,1423.18 323.123,1404.28 \"/>\n",
       "<polyline clip-path=\"url(#clip130)\" style=\"stroke:#000000; stroke-linecap:round; stroke-linejoin:round; stroke-width:4; stroke-opacity:1; fill:none\" points=\"761.273,1423.18 761.273,1404.28 \"/>\n",
       "<polyline clip-path=\"url(#clip130)\" style=\"stroke:#000000; stroke-linecap:round; stroke-linejoin:round; stroke-width:4; stroke-opacity:1; fill:none\" points=\"1199.42,1423.18 1199.42,1404.28 \"/>\n",
       "<polyline clip-path=\"url(#clip130)\" style=\"stroke:#000000; stroke-linecap:round; stroke-linejoin:round; stroke-width:4; stroke-opacity:1; fill:none\" points=\"1637.57,1423.18 1637.57,1404.28 \"/>\n",
       "<polyline clip-path=\"url(#clip130)\" style=\"stroke:#000000; stroke-linecap:round; stroke-linejoin:round; stroke-width:4; stroke-opacity:1; fill:none\" points=\"2075.72,1423.18 2075.72,1404.28 \"/>\n",
       "<path clip-path=\"url(#clip130)\" d=\"M300.381 1469.17 Q297.047 1469.17 295.126 1470.95 Q293.228 1472.73 293.228 1475.86 Q293.228 1478.98 295.126 1480.77 Q297.047 1482.55 300.381 1482.55 Q303.714 1482.55 305.635 1480.77 Q307.556 1478.96 307.556 1475.86 Q307.556 1472.73 305.635 1470.95 Q303.737 1469.17 300.381 1469.17 M295.705 1467.18 Q292.695 1466.44 291.006 1464.38 Q289.339 1462.32 289.339 1459.35 Q289.339 1455.21 292.279 1452.8 Q295.242 1450.39 300.381 1450.39 Q305.543 1450.39 308.482 1452.8 Q311.422 1455.21 311.422 1459.35 Q311.422 1462.32 309.732 1464.38 Q308.066 1466.44 305.08 1467.18 Q308.459 1467.96 310.334 1470.26 Q312.232 1472.55 312.232 1475.86 Q312.232 1480.88 309.154 1483.57 Q306.098 1486.25 300.381 1486.25 Q294.663 1486.25 291.584 1483.57 Q288.529 1480.88 288.529 1475.86 Q288.529 1472.55 290.427 1470.26 Q292.325 1467.96 295.705 1467.18 M293.992 1459.79 Q293.992 1462.48 295.658 1463.98 Q297.348 1465.49 300.381 1465.49 Q303.39 1465.49 305.08 1463.98 Q306.793 1462.48 306.793 1459.79 Q306.793 1457.11 305.08 1455.6 Q303.39 1454.1 300.381 1454.1 Q297.348 1454.1 295.658 1455.6 Q293.992 1457.11 293.992 1459.79 Z\" fill=\"#000000\" fill-rule=\"nonzero\" fill-opacity=\"1\" /><path clip-path=\"url(#clip130)\" d=\"M320.542 1479.7 L325.427 1479.7 L325.427 1485.58 L320.542 1485.58 L320.542 1479.7 Z\" fill=\"#000000\" fill-rule=\"nonzero\" fill-opacity=\"1\" /><path clip-path=\"url(#clip130)\" d=\"M346.19 1466.44 Q343.042 1466.44 341.191 1468.59 Q339.362 1470.74 339.362 1474.49 Q339.362 1478.22 341.191 1480.39 Q343.042 1482.55 346.19 1482.55 Q349.339 1482.55 351.167 1480.39 Q353.019 1478.22 353.019 1474.49 Q353.019 1470.74 351.167 1468.59 Q349.339 1466.44 346.19 1466.44 M355.473 1451.78 L355.473 1456.04 Q353.714 1455.21 351.908 1454.77 Q350.126 1454.33 348.366 1454.33 Q343.737 1454.33 341.283 1457.45 Q338.853 1460.58 338.505 1466.9 Q339.871 1464.89 341.931 1463.82 Q343.991 1462.73 346.468 1462.73 Q351.677 1462.73 354.686 1465.9 Q357.718 1469.05 357.718 1474.49 Q357.718 1479.82 354.57 1483.03 Q351.422 1486.25 346.19 1486.25 Q340.195 1486.25 337.024 1481.67 Q333.853 1477.06 333.853 1468.33 Q333.853 1460.14 337.741 1455.28 Q341.63 1450.39 348.181 1450.39 Q349.94 1450.39 351.723 1450.74 Q353.528 1451.09 355.473 1451.78 Z\" fill=\"#000000\" fill-rule=\"nonzero\" fill-opacity=\"1\" /><path clip-path=\"url(#clip130)\" d=\"M738.657 1469.17 Q735.324 1469.17 733.403 1470.95 Q731.504 1472.73 731.504 1475.86 Q731.504 1478.98 733.403 1480.77 Q735.324 1482.55 738.657 1482.55 Q741.99 1482.55 743.912 1480.77 Q745.833 1478.96 745.833 1475.86 Q745.833 1472.73 743.912 1470.95 Q742.014 1469.17 738.657 1469.17 M733.981 1467.18 Q730.972 1466.44 729.282 1464.38 Q727.615 1462.32 727.615 1459.35 Q727.615 1455.21 730.555 1452.8 Q733.518 1450.39 738.657 1450.39 Q743.819 1450.39 746.759 1452.8 Q749.699 1455.21 749.699 1459.35 Q749.699 1462.32 748.009 1464.38 Q746.342 1466.44 743.356 1467.18 Q746.736 1467.96 748.611 1470.26 Q750.509 1472.55 750.509 1475.86 Q750.509 1480.88 747.43 1483.57 Q744.375 1486.25 738.657 1486.25 Q732.94 1486.25 729.861 1483.57 Q726.805 1480.88 726.805 1475.86 Q726.805 1472.55 728.703 1470.26 Q730.602 1467.96 733.981 1467.18 M732.268 1459.79 Q732.268 1462.48 733.935 1463.98 Q735.625 1465.49 738.657 1465.49 Q741.666 1465.49 743.356 1463.98 Q745.069 1462.48 745.069 1459.79 Q745.069 1457.11 743.356 1455.6 Q741.666 1454.1 738.657 1454.1 Q735.625 1454.1 733.935 1455.6 Q732.268 1457.11 732.268 1459.79 Z\" fill=\"#000000\" fill-rule=\"nonzero\" fill-opacity=\"1\" /><path clip-path=\"url(#clip130)\" d=\"M758.819 1479.7 L763.703 1479.7 L763.703 1485.58 L758.819 1485.58 L758.819 1479.7 Z\" fill=\"#000000\" fill-rule=\"nonzero\" fill-opacity=\"1\" /><path clip-path=\"url(#clip130)\" d=\"M783.888 1469.17 Q780.555 1469.17 778.634 1470.95 Q776.736 1472.73 776.736 1475.86 Q776.736 1478.98 778.634 1480.77 Q780.555 1482.55 783.888 1482.55 Q787.222 1482.55 789.143 1480.77 Q791.064 1478.96 791.064 1475.86 Q791.064 1472.73 789.143 1470.95 Q787.245 1469.17 783.888 1469.17 M779.212 1467.18 Q776.203 1466.44 774.513 1464.38 Q772.847 1462.32 772.847 1459.35 Q772.847 1455.21 775.787 1452.8 Q778.749 1450.39 783.888 1450.39 Q789.05 1450.39 791.99 1452.8 Q794.93 1455.21 794.93 1459.35 Q794.93 1462.32 793.24 1464.38 Q791.573 1466.44 788.587 1467.18 Q791.967 1467.96 793.842 1470.26 Q795.74 1472.55 795.74 1475.86 Q795.74 1480.88 792.661 1483.57 Q789.606 1486.25 783.888 1486.25 Q778.171 1486.25 775.092 1483.57 Q772.037 1480.88 772.037 1475.86 Q772.037 1472.55 773.935 1470.26 Q775.833 1467.96 779.212 1467.18 M777.499 1459.79 Q777.499 1462.48 779.166 1463.98 Q780.856 1465.49 783.888 1465.49 Q786.898 1465.49 788.587 1463.98 Q790.3 1462.48 790.3 1459.79 Q790.3 1457.11 788.587 1455.6 Q786.898 1454.1 783.888 1454.1 Q780.856 1454.1 779.166 1455.6 Q777.499 1457.11 777.499 1459.79 Z\" fill=\"#000000\" fill-rule=\"nonzero\" fill-opacity=\"1\" /><path clip-path=\"url(#clip130)\" d=\"M1167.01 1484.86 L1167.01 1480.6 Q1168.77 1481.44 1170.58 1481.88 Q1172.39 1482.32 1174.12 1482.32 Q1178.75 1482.32 1181.18 1479.21 Q1183.64 1476.09 1183.98 1469.75 Q1182.64 1471.74 1180.58 1472.8 Q1178.52 1473.87 1176.02 1473.87 Q1170.83 1473.87 1167.8 1470.74 Q1164.79 1467.59 1164.79 1462.15 Q1164.79 1456.83 1167.94 1453.61 Q1171.09 1450.39 1176.32 1450.39 Q1182.32 1450.39 1185.46 1455 Q1188.63 1459.58 1188.63 1468.33 Q1188.63 1476.51 1184.75 1481.39 Q1180.88 1486.25 1174.33 1486.25 Q1172.57 1486.25 1170.76 1485.9 Q1168.96 1485.56 1167.01 1484.86 M1176.32 1470.21 Q1179.47 1470.21 1181.3 1468.06 Q1183.15 1465.9 1183.15 1462.15 Q1183.15 1458.43 1181.3 1456.27 Q1179.47 1454.1 1176.32 1454.1 Q1173.17 1454.1 1171.32 1456.27 Q1169.49 1458.43 1169.49 1462.15 Q1169.49 1465.9 1171.32 1468.06 Q1173.17 1470.21 1176.32 1470.21 Z\" fill=\"#000000\" fill-rule=\"nonzero\" fill-opacity=\"1\" /><path clip-path=\"url(#clip130)\" d=\"M1197.04 1479.7 L1201.92 1479.7 L1201.92 1485.58 L1197.04 1485.58 L1197.04 1479.7 Z\" fill=\"#000000\" fill-rule=\"nonzero\" fill-opacity=\"1\" /><path clip-path=\"url(#clip130)\" d=\"M1222.11 1454.1 Q1218.5 1454.1 1216.67 1457.66 Q1214.86 1461.2 1214.86 1468.33 Q1214.86 1475.44 1216.67 1479.01 Q1218.5 1482.55 1222.11 1482.55 Q1225.74 1482.55 1227.55 1479.01 Q1229.38 1475.44 1229.38 1468.33 Q1229.38 1461.2 1227.55 1457.66 Q1225.74 1454.1 1222.11 1454.1 M1222.11 1450.39 Q1227.92 1450.39 1230.97 1455 Q1234.05 1459.58 1234.05 1468.33 Q1234.05 1477.06 1230.97 1481.67 Q1227.92 1486.25 1222.11 1486.25 Q1216.3 1486.25 1213.22 1481.67 Q1210.16 1477.06 1210.16 1468.33 Q1210.16 1459.58 1213.22 1455 Q1216.3 1450.39 1222.11 1450.39 Z\" fill=\"#000000\" fill-rule=\"nonzero\" fill-opacity=\"1\" /><path clip-path=\"url(#clip130)\" d=\"M1605.96 1484.86 L1605.96 1480.6 Q1607.72 1481.44 1609.53 1481.88 Q1611.33 1482.32 1613.07 1482.32 Q1617.7 1482.32 1620.13 1479.21 Q1622.58 1476.09 1622.93 1469.75 Q1621.59 1471.74 1619.53 1472.8 Q1617.47 1473.87 1614.97 1473.87 Q1609.78 1473.87 1606.75 1470.74 Q1603.74 1467.59 1603.74 1462.15 Q1603.74 1456.83 1606.89 1453.61 Q1610.04 1450.39 1615.27 1450.39 Q1621.26 1450.39 1624.41 1455 Q1627.58 1459.58 1627.58 1468.33 Q1627.58 1476.51 1623.69 1481.39 Q1619.83 1486.25 1613.28 1486.25 Q1611.52 1486.25 1609.71 1485.9 Q1607.91 1485.56 1605.96 1484.86 M1615.27 1470.21 Q1618.42 1470.21 1620.24 1468.06 Q1622.1 1465.9 1622.1 1462.15 Q1622.1 1458.43 1620.24 1456.27 Q1618.42 1454.1 1615.27 1454.1 Q1612.12 1454.1 1610.27 1456.27 Q1608.44 1458.43 1608.44 1462.15 Q1608.44 1465.9 1610.27 1468.06 Q1612.12 1470.21 1615.27 1470.21 Z\" fill=\"#000000\" fill-rule=\"nonzero\" fill-opacity=\"1\" /><path clip-path=\"url(#clip130)\" d=\"M1635.99 1479.7 L1640.87 1479.7 L1640.87 1485.58 L1635.99 1485.58 L1635.99 1479.7 Z\" fill=\"#000000\" fill-rule=\"nonzero\" fill-opacity=\"1\" /><path clip-path=\"url(#clip130)\" d=\"M1655.08 1481.64 L1671.4 1481.64 L1671.4 1485.58 L1649.46 1485.58 L1649.46 1481.64 Q1652.12 1478.89 1656.7 1474.26 Q1661.31 1469.61 1662.49 1468.27 Q1664.74 1465.74 1665.62 1464.01 Q1666.52 1462.25 1666.52 1460.56 Q1666.52 1457.8 1664.57 1456.07 Q1662.65 1454.33 1659.55 1454.33 Q1657.35 1454.33 1654.9 1455.09 Q1652.47 1455.86 1649.69 1457.41 L1649.69 1452.69 Q1652.51 1451.55 1654.97 1450.97 Q1657.42 1450.39 1659.46 1450.39 Q1664.83 1450.39 1668.02 1453.08 Q1671.22 1455.77 1671.22 1460.26 Q1671.22 1462.39 1670.41 1464.31 Q1669.62 1466.2 1667.51 1468.8 Q1666.93 1469.47 1663.83 1472.69 Q1660.73 1475.88 1655.08 1481.64 Z\" fill=\"#000000\" fill-rule=\"nonzero\" fill-opacity=\"1\" /><path clip-path=\"url(#clip130)\" d=\"M2043.07 1484.86 L2043.07 1480.6 Q2044.83 1481.44 2046.63 1481.88 Q2048.44 1482.32 2050.18 1482.32 Q2054.81 1482.32 2057.24 1479.21 Q2059.69 1476.09 2060.04 1469.75 Q2058.7 1471.74 2056.63 1472.8 Q2054.57 1473.87 2052.07 1473.87 Q2046.89 1473.87 2043.86 1470.74 Q2040.85 1467.59 2040.85 1462.15 Q2040.85 1456.83 2044 1453.61 Q2047.14 1450.39 2052.38 1450.39 Q2058.37 1450.39 2061.52 1455 Q2064.69 1459.58 2064.69 1468.33 Q2064.69 1476.51 2060.8 1481.39 Q2056.94 1486.25 2050.38 1486.25 Q2048.63 1486.25 2046.82 1485.9 Q2045.01 1485.56 2043.07 1484.86 M2052.38 1470.21 Q2055.52 1470.21 2057.35 1468.06 Q2059.2 1465.9 2059.2 1462.15 Q2059.2 1458.43 2057.35 1456.27 Q2055.52 1454.1 2052.38 1454.1 Q2049.23 1454.1 2047.38 1456.27 Q2045.55 1458.43 2045.55 1462.15 Q2045.55 1465.9 2047.38 1468.06 Q2049.23 1470.21 2052.38 1470.21 Z\" fill=\"#000000\" fill-rule=\"nonzero\" fill-opacity=\"1\" /><path clip-path=\"url(#clip130)\" d=\"M2073.09 1479.7 L2077.98 1479.7 L2077.98 1485.58 L2073.09 1485.58 L2073.09 1479.7 Z\" fill=\"#000000\" fill-rule=\"nonzero\" fill-opacity=\"1\" /><path clip-path=\"url(#clip130)\" d=\"M2101.01 1455.09 L2089.2 1473.54 L2101.01 1473.54 L2101.01 1455.09 M2099.78 1451.02 L2105.66 1451.02 L2105.66 1473.54 L2110.59 1473.54 L2110.59 1477.43 L2105.66 1477.43 L2105.66 1485.58 L2101.01 1485.58 L2101.01 1477.43 L2085.41 1477.43 L2085.41 1472.92 L2099.78 1451.02 Z\" fill=\"#000000\" fill-rule=\"nonzero\" fill-opacity=\"1\" /><path clip-path=\"url(#clip130)\" d=\"M1123.91 1539.24 Q1126.11 1535.29 1129.16 1533.41 Q1132.22 1531.54 1136.36 1531.54 Q1141.93 1531.54 1144.95 1535.45 Q1147.98 1539.33 1147.98 1546.53 L1147.98 1568.04 L1142.09 1568.04 L1142.09 1546.72 Q1142.09 1541.59 1140.27 1539.11 Q1138.46 1536.63 1134.73 1536.63 Q1130.18 1536.63 1127.54 1539.65 Q1124.9 1542.68 1124.9 1547.9 L1124.9 1568.04 L1119.01 1568.04 L1119.01 1546.72 Q1119.01 1541.56 1117.2 1539.11 Q1115.38 1536.63 1111.6 1536.63 Q1107.11 1536.63 1104.47 1539.68 Q1101.82 1542.71 1101.82 1547.9 L1101.82 1568.04 L1095.94 1568.04 L1095.94 1532.4 L1101.82 1532.4 L1101.82 1537.93 Q1103.83 1534.66 1106.63 1533.1 Q1109.43 1531.54 1113.28 1531.54 Q1117.17 1531.54 1119.87 1533.51 Q1122.61 1535.48 1123.91 1539.24 Z\" fill=\"#000000\" fill-rule=\"nonzero\" fill-opacity=\"1\" /><path clip-path=\"url(#clip130)\" d=\"M1159.66 1532.4 L1165.51 1532.4 L1165.51 1568.04 L1159.66 1568.04 L1159.66 1532.4 M1159.66 1518.52 L1165.51 1518.52 L1165.51 1525.93 L1159.66 1525.93 L1159.66 1518.52 Z\" fill=\"#000000\" fill-rule=\"nonzero\" fill-opacity=\"1\" /><path clip-path=\"url(#clip130)\" d=\"M1177.77 1518.52 L1183.62 1518.52 L1183.62 1568.04 L1177.77 1568.04 L1177.77 1518.52 Z\" fill=\"#000000\" fill-rule=\"nonzero\" fill-opacity=\"1\" /><path clip-path=\"url(#clip130)\" d=\"M1195.88 1518.52 L1201.73 1518.52 L1201.73 1568.04 L1195.88 1568.04 L1195.88 1518.52 Z\" fill=\"#000000\" fill-rule=\"nonzero\" fill-opacity=\"1\" /><path clip-path=\"url(#clip130)\" d=\"M1213.99 1532.4 L1219.84 1532.4 L1219.84 1568.04 L1213.99 1568.04 L1213.99 1532.4 M1213.99 1518.52 L1219.84 1518.52 L1219.84 1525.93 L1213.99 1525.93 L1213.99 1518.52 Z\" fill=\"#000000\" fill-rule=\"nonzero\" fill-opacity=\"1\" /><path clip-path=\"url(#clip130)\" d=\"M1254.82 1533.45 L1254.82 1538.98 Q1252.34 1537.71 1249.67 1537.07 Q1246.99 1536.44 1244.13 1536.44 Q1239.77 1536.44 1237.57 1537.77 Q1235.41 1539.11 1235.41 1541.79 Q1235.41 1543.82 1236.97 1545 Q1238.53 1546.15 1243.24 1547.2 L1245.24 1547.64 Q1251.48 1548.98 1254.09 1551.43 Q1256.73 1553.85 1256.73 1558.21 Q1256.73 1563.17 1252.79 1566.07 Q1248.87 1568.97 1242 1568.97 Q1239.13 1568.97 1236.01 1568.39 Q1232.93 1567.85 1229.49 1566.74 L1229.49 1560.69 Q1232.73 1562.38 1235.89 1563.24 Q1239.04 1564.07 1242.12 1564.07 Q1246.26 1564.07 1248.49 1562.66 Q1250.72 1561.23 1250.72 1558.65 Q1250.72 1556.27 1249.09 1554.99 Q1247.5 1553.72 1242.06 1552.54 L1240.02 1552.07 Q1234.58 1550.92 1232.16 1548.56 Q1229.74 1546.18 1229.74 1542.04 Q1229.74 1537.01 1233.31 1534.27 Q1236.87 1531.54 1243.43 1531.54 Q1246.68 1531.54 1249.54 1532.01 Q1252.41 1532.49 1254.82 1533.45 Z\" fill=\"#000000\" fill-rule=\"nonzero\" fill-opacity=\"1\" /><path clip-path=\"url(#clip130)\" d=\"M1296.55 1548.76 L1296.55 1551.62 L1269.62 1551.62 Q1270.01 1557.67 1273.25 1560.85 Q1276.53 1564 1282.36 1564 Q1285.73 1564 1288.88 1563.17 Q1292.06 1562.35 1295.18 1560.69 L1295.18 1566.23 Q1292.03 1567.57 1288.72 1568.27 Q1285.41 1568.97 1282.01 1568.97 Q1273.48 1568.97 1268.48 1564 Q1263.51 1559.04 1263.51 1550.57 Q1263.51 1541.82 1268.22 1536.69 Q1272.97 1531.54 1280.99 1531.54 Q1288.18 1531.54 1292.35 1536.18 Q1296.55 1540.8 1296.55 1548.76 M1290.69 1547.04 Q1290.63 1542.23 1287.99 1539.37 Q1285.38 1536.5 1281.05 1536.5 Q1276.15 1536.5 1273.19 1539.27 Q1270.26 1542.04 1269.82 1547.07 L1290.69 1547.04 Z\" fill=\"#000000\" fill-rule=\"nonzero\" fill-opacity=\"1\" /><path clip-path=\"url(#clip130)\" d=\"M1331.82 1533.76 L1331.82 1539.24 Q1329.33 1537.87 1326.82 1537.2 Q1324.34 1536.5 1321.79 1536.5 Q1316.09 1536.5 1312.94 1540.13 Q1309.79 1543.73 1309.79 1550.25 Q1309.79 1556.78 1312.94 1560.4 Q1316.09 1564 1321.79 1564 Q1324.34 1564 1326.82 1563.33 Q1329.33 1562.63 1331.82 1561.26 L1331.82 1566.68 Q1329.37 1567.82 1326.72 1568.39 Q1324.11 1568.97 1321.15 1568.97 Q1313.1 1568.97 1308.36 1563.91 Q1303.62 1558.85 1303.62 1550.25 Q1303.62 1541.53 1308.39 1536.53 Q1313.2 1531.54 1321.54 1531.54 Q1324.24 1531.54 1326.82 1532.11 Q1329.4 1532.65 1331.82 1533.76 Z\" fill=\"#000000\" fill-rule=\"nonzero\" fill-opacity=\"1\" /><path clip-path=\"url(#clip130)\" d=\"M1355.82 1536.5 Q1351.11 1536.5 1348.37 1540.19 Q1345.63 1543.85 1345.63 1550.25 Q1345.63 1556.65 1348.34 1560.34 Q1351.07 1564 1355.82 1564 Q1360.49 1564 1363.23 1560.31 Q1365.97 1556.62 1365.97 1550.25 Q1365.97 1543.92 1363.23 1540.23 Q1360.49 1536.5 1355.82 1536.5 M1355.82 1531.54 Q1363.45 1531.54 1367.82 1536.5 Q1372.18 1541.47 1372.18 1550.25 Q1372.18 1559 1367.82 1564 Q1363.45 1568.97 1355.82 1568.97 Q1348.15 1568.97 1343.78 1564 Q1339.46 1559 1339.46 1550.25 Q1339.46 1541.47 1343.78 1536.5 Q1348.15 1531.54 1355.82 1531.54 Z\" fill=\"#000000\" fill-rule=\"nonzero\" fill-opacity=\"1\" /><path clip-path=\"url(#clip130)\" d=\"M1411.52 1546.53 L1411.52 1568.04 L1405.66 1568.04 L1405.66 1546.72 Q1405.66 1541.66 1403.69 1539.14 Q1401.71 1536.63 1397.77 1536.63 Q1393.02 1536.63 1390.29 1539.65 Q1387.55 1542.68 1387.55 1547.9 L1387.55 1568.04 L1381.66 1568.04 L1381.66 1532.4 L1387.55 1532.4 L1387.55 1537.93 Q1389.65 1534.72 1392.48 1533.13 Q1395.35 1531.54 1399.07 1531.54 Q1405.21 1531.54 1408.36 1535.36 Q1411.52 1539.14 1411.52 1546.53 Z\" fill=\"#000000\" fill-rule=\"nonzero\" fill-opacity=\"1\" /><path clip-path=\"url(#clip130)\" d=\"M1446.65 1537.81 L1446.65 1518.52 L1452.51 1518.52 L1452.51 1568.04 L1446.65 1568.04 L1446.65 1562.7 Q1444.81 1565.88 1441.98 1567.44 Q1439.17 1568.97 1435.23 1568.97 Q1428.77 1568.97 1424.69 1563.81 Q1420.65 1558.65 1420.65 1550.25 Q1420.65 1541.85 1424.69 1536.69 Q1428.77 1531.54 1435.23 1531.54 Q1439.17 1531.54 1441.98 1533.1 Q1444.81 1534.62 1446.65 1537.81 M1426.7 1550.25 Q1426.7 1556.71 1429.34 1560.4 Q1432.01 1564.07 1436.66 1564.07 Q1441.31 1564.07 1443.98 1560.4 Q1446.65 1556.71 1446.65 1550.25 Q1446.65 1543.79 1443.98 1540.13 Q1441.31 1536.44 1436.66 1536.44 Q1432.01 1536.44 1429.34 1540.13 Q1426.7 1543.79 1426.7 1550.25 Z\" fill=\"#000000\" fill-rule=\"nonzero\" fill-opacity=\"1\" /><path clip-path=\"url(#clip130)\" d=\"M1487.3 1533.45 L1487.3 1538.98 Q1484.82 1537.71 1482.14 1537.07 Q1479.47 1536.44 1476.61 1536.44 Q1472.24 1536.44 1470.05 1537.77 Q1467.88 1539.11 1467.88 1541.79 Q1467.88 1543.82 1469.44 1545 Q1471 1546.15 1475.71 1547.2 L1477.72 1547.64 Q1483.96 1548.98 1486.57 1551.43 Q1489.21 1553.85 1489.21 1558.21 Q1489.21 1563.17 1485.26 1566.07 Q1481.35 1568.97 1474.47 1568.97 Q1471.61 1568.97 1468.49 1568.39 Q1465.4 1567.85 1461.96 1566.74 L1461.96 1560.69 Q1465.21 1562.38 1468.36 1563.24 Q1471.51 1564.07 1474.6 1564.07 Q1478.74 1564.07 1480.97 1562.66 Q1483.19 1561.23 1483.19 1558.65 Q1483.19 1556.27 1481.57 1554.99 Q1479.98 1553.72 1474.54 1552.54 L1472.5 1552.07 Q1467.06 1550.92 1464.64 1548.56 Q1462.22 1546.18 1462.22 1542.04 Q1462.22 1537.01 1465.78 1534.27 Q1469.35 1531.54 1475.9 1531.54 Q1479.15 1531.54 1482.02 1532.01 Q1484.88 1532.49 1487.3 1533.45 Z\" fill=\"#000000\" fill-rule=\"nonzero\" fill-opacity=\"1\" /><polyline clip-path=\"url(#clip130)\" style=\"stroke:#000000; stroke-linecap:round; stroke-linejoin:round; stroke-width:4; stroke-opacity:1; fill:none\" points=\"232.389,1423.18 232.389,47.2441 \"/>\n",
       "<polyline clip-path=\"url(#clip130)\" style=\"stroke:#000000; stroke-linecap:round; stroke-linejoin:round; stroke-width:4; stroke-opacity:1; fill:none\" points=\"232.389,1423.18 251.287,1423.18 \"/>\n",
       "<polyline clip-path=\"url(#clip130)\" style=\"stroke:#000000; stroke-linecap:round; stroke-linejoin:round; stroke-width:4; stroke-opacity:1; fill:none\" points=\"232.389,1023.2 251.287,1023.2 \"/>\n",
       "<polyline clip-path=\"url(#clip130)\" style=\"stroke:#000000; stroke-linecap:round; stroke-linejoin:round; stroke-width:4; stroke-opacity:1; fill:none\" points=\"232.389,623.217 251.287,623.217 \"/>\n",
       "<polyline clip-path=\"url(#clip130)\" style=\"stroke:#000000; stroke-linecap:round; stroke-linejoin:round; stroke-width:4; stroke-opacity:1; fill:none\" points=\"232.389,223.236 251.287,223.236 \"/>\n",
       "<path clip-path=\"url(#clip130)\" d=\"M184.445 1408.98 Q180.834 1408.98 179.005 1412.54 Q177.2 1416.08 177.2 1423.21 Q177.2 1430.32 179.005 1433.89 Q180.834 1437.43 184.445 1437.43 Q188.079 1437.43 189.885 1433.89 Q191.713 1430.32 191.713 1423.21 Q191.713 1416.08 189.885 1412.54 Q188.079 1408.98 184.445 1408.98 M184.445 1405.27 Q190.255 1405.27 193.311 1409.88 Q196.389 1414.46 196.389 1423.21 Q196.389 1431.94 193.311 1436.55 Q190.255 1441.13 184.445 1441.13 Q178.635 1441.13 175.556 1436.55 Q172.501 1431.94 172.501 1423.21 Q172.501 1414.46 175.556 1409.88 Q178.635 1405.27 184.445 1405.27 Z\" fill=\"#000000\" fill-rule=\"nonzero\" fill-opacity=\"1\" /><path clip-path=\"url(#clip130)\" d=\"M144.329 1005.92 L162.686 1005.92 L162.686 1009.85 L148.612 1009.85 L148.612 1018.33 Q149.63 1017.98 150.649 1017.82 Q151.667 1017.63 152.686 1017.63 Q158.473 1017.63 161.852 1020.8 Q165.232 1023.97 165.232 1029.39 Q165.232 1034.97 161.76 1038.07 Q158.288 1041.15 151.968 1041.15 Q149.792 1041.15 147.524 1040.78 Q145.279 1040.41 142.871 1039.67 L142.871 1034.97 Q144.954 1036.1 147.177 1036.66 Q149.399 1037.21 151.876 1037.21 Q155.88 1037.21 158.218 1035.11 Q160.556 1033 160.556 1029.39 Q160.556 1025.78 158.218 1023.67 Q155.88 1021.57 151.876 1021.57 Q150.001 1021.57 148.126 1021.98 Q146.274 1022.4 144.329 1023.28 L144.329 1005.92 Z\" fill=\"#000000\" fill-rule=\"nonzero\" fill-opacity=\"1\" /><path clip-path=\"url(#clip130)\" d=\"M184.445 1009 Q180.834 1009 179.005 1012.56 Q177.2 1016.1 177.2 1023.23 Q177.2 1030.34 179.005 1033.9 Q180.834 1037.45 184.445 1037.45 Q188.079 1037.45 189.885 1033.9 Q191.713 1030.34 191.713 1023.23 Q191.713 1016.1 189.885 1012.56 Q188.079 1009 184.445 1009 M184.445 1005.29 Q190.255 1005.29 193.311 1009.9 Q196.389 1014.48 196.389 1023.23 Q196.389 1031.96 193.311 1036.57 Q190.255 1041.15 184.445 1041.15 Q178.635 1041.15 175.556 1036.57 Q172.501 1031.96 172.501 1023.23 Q172.501 1014.48 175.556 1009.9 Q178.635 1005.29 184.445 1005.29 Z\" fill=\"#000000\" fill-rule=\"nonzero\" fill-opacity=\"1\" /><path clip-path=\"url(#clip130)\" d=\"M114.931 636.562 L122.57 636.562 L122.57 610.196 L114.26 611.863 L114.26 607.604 L122.524 605.937 L127.2 605.937 L127.2 636.562 L134.839 636.562 L134.839 640.497 L114.931 640.497 L114.931 636.562 Z\" fill=\"#000000\" fill-rule=\"nonzero\" fill-opacity=\"1\" /><path clip-path=\"url(#clip130)\" d=\"M154.283 609.016 Q150.672 609.016 148.843 612.581 Q147.038 616.122 147.038 623.252 Q147.038 630.358 148.843 633.923 Q150.672 637.465 154.283 637.465 Q157.917 637.465 159.723 633.923 Q161.552 630.358 161.552 623.252 Q161.552 616.122 159.723 612.581 Q157.917 609.016 154.283 609.016 M154.283 605.312 Q160.093 605.312 163.149 609.919 Q166.227 614.502 166.227 623.252 Q166.227 631.979 163.149 636.585 Q160.093 641.168 154.283 641.168 Q148.473 641.168 145.394 636.585 Q142.339 631.979 142.339 623.252 Q142.339 614.502 145.394 609.919 Q148.473 605.312 154.283 605.312 Z\" fill=\"#000000\" fill-rule=\"nonzero\" fill-opacity=\"1\" /><path clip-path=\"url(#clip130)\" d=\"M184.445 609.016 Q180.834 609.016 179.005 612.581 Q177.2 616.122 177.2 623.252 Q177.2 630.358 179.005 633.923 Q180.834 637.465 184.445 637.465 Q188.079 637.465 189.885 633.923 Q191.713 630.358 191.713 623.252 Q191.713 616.122 189.885 612.581 Q188.079 609.016 184.445 609.016 M184.445 605.312 Q190.255 605.312 193.311 609.919 Q196.389 614.502 196.389 623.252 Q196.389 631.979 193.311 636.585 Q190.255 641.168 184.445 641.168 Q178.635 641.168 175.556 636.585 Q172.501 631.979 172.501 623.252 Q172.501 614.502 175.556 609.919 Q178.635 605.312 184.445 605.312 Z\" fill=\"#000000\" fill-rule=\"nonzero\" fill-opacity=\"1\" /><path clip-path=\"url(#clip130)\" d=\"M114.931 236.581 L122.57 236.581 L122.57 210.215 L114.26 211.882 L114.26 207.623 L122.524 205.956 L127.2 205.956 L127.2 236.581 L134.839 236.581 L134.839 240.516 L114.931 240.516 L114.931 236.581 Z\" fill=\"#000000\" fill-rule=\"nonzero\" fill-opacity=\"1\" /><path clip-path=\"url(#clip130)\" d=\"M144.329 205.956 L162.686 205.956 L162.686 209.891 L148.612 209.891 L148.612 218.363 Q149.63 218.016 150.649 217.854 Q151.667 217.669 152.686 217.669 Q158.473 217.669 161.852 220.84 Q165.232 224.011 165.232 229.428 Q165.232 235.007 161.76 238.108 Q158.288 241.187 151.968 241.187 Q149.792 241.187 147.524 240.817 Q145.279 240.446 142.871 239.706 L142.871 235.007 Q144.954 236.141 147.177 236.696 Q149.399 237.252 151.876 237.252 Q155.88 237.252 158.218 235.146 Q160.556 233.039 160.556 229.428 Q160.556 225.817 158.218 223.71 Q155.88 221.604 151.876 221.604 Q150.001 221.604 148.126 222.021 Q146.274 222.437 144.329 223.317 L144.329 205.956 Z\" fill=\"#000000\" fill-rule=\"nonzero\" fill-opacity=\"1\" /><path clip-path=\"url(#clip130)\" d=\"M184.445 209.035 Q180.834 209.035 179.005 212.599 Q177.2 216.141 177.2 223.271 Q177.2 230.377 179.005 233.942 Q180.834 237.483 184.445 237.483 Q188.079 237.483 189.885 233.942 Q191.713 230.377 191.713 223.271 Q191.713 216.141 189.885 212.599 Q188.079 209.035 184.445 209.035 M184.445 205.331 Q190.255 205.331 193.311 209.937 Q196.389 214.521 196.389 223.271 Q196.389 231.997 193.311 236.604 Q190.255 241.187 184.445 241.187 Q178.635 241.187 175.556 236.604 Q172.501 231.997 172.501 223.271 Q172.501 214.521 175.556 209.937 Q178.635 205.331 184.445 205.331 Z\" fill=\"#000000\" fill-rule=\"nonzero\" fill-opacity=\"1\" /><path clip-path=\"url(#clip130)\" d=\"M29.7248 796.386 L35.1993 796.386 Q33.8307 798.869 33.1623 801.383 Q32.4621 803.866 32.4621 806.412 Q32.4621 812.11 36.0905 815.261 Q39.6872 818.412 46.212 818.412 Q52.7369 818.412 56.3653 815.261 Q59.9619 812.11 59.9619 806.412 Q59.9619 803.866 59.2935 801.383 Q58.5933 798.869 57.2247 796.386 L62.6355 796.386 Q63.7814 798.837 64.3543 801.479 Q64.9272 804.089 64.9272 807.049 Q64.9272 815.102 59.8664 819.844 Q54.8057 824.586 46.212 824.586 Q37.491 824.586 32.4939 819.812 Q27.4968 815.006 27.4968 806.667 Q27.4968 803.962 28.0697 801.383 Q28.6108 798.805 29.7248 796.386 Z\" fill=\"#000000\" fill-rule=\"nonzero\" fill-opacity=\"1\" /><path clip-path=\"url(#clip130)\" d=\"M32.4621 772.388 Q32.4621 777.098 36.1542 779.836 Q39.8145 782.573 46.212 782.573 Q52.6095 782.573 56.3017 779.867 Q59.9619 777.13 59.9619 772.388 Q59.9619 767.709 56.2698 764.972 Q52.5777 762.234 46.212 762.234 Q39.8781 762.234 36.186 764.972 Q32.4621 767.709 32.4621 772.388 M27.4968 772.388 Q27.4968 764.749 32.4621 760.388 Q37.4273 756.028 46.212 756.028 Q54.9649 756.028 59.9619 760.388 Q64.9272 764.749 64.9272 772.388 Q64.9272 780.058 59.9619 784.419 Q54.9649 788.748 46.212 788.748 Q37.4273 788.748 32.4621 784.419 Q27.4968 780.058 27.4968 772.388 Z\" fill=\"#000000\" fill-rule=\"nonzero\" fill-opacity=\"1\" /><path clip-path=\"url(#clip130)\" d=\"M49.9359 746.925 L28.3562 746.925 L28.3562 741.068 L49.7131 741.068 Q54.7739 741.068 57.3202 739.095 Q59.8346 737.122 59.8346 733.175 Q59.8346 728.432 56.8109 725.695 Q53.7872 722.926 48.5673 722.926 L28.3562 722.926 L28.3562 717.07 L64.0042 717.07 L64.0042 722.926 L58.5296 722.926 Q61.7762 725.059 63.3676 727.891 Q64.9272 730.692 64.9272 734.416 Q64.9272 740.559 61.1078 743.742 Q57.2883 746.925 49.9359 746.925 M27.4968 732.188 L27.4968 732.188 Z\" fill=\"#000000\" fill-rule=\"nonzero\" fill-opacity=\"1\" /><path clip-path=\"url(#clip130)\" d=\"M42.4881 675.374 L64.0042 675.374 L64.0042 681.231 L42.679 681.231 Q37.6183 681.231 35.1038 683.204 Q32.5894 685.178 32.5894 689.124 Q32.5894 693.867 35.6131 696.604 Q38.6368 699.341 43.8567 699.341 L64.0042 699.341 L64.0042 705.229 L28.3562 705.229 L28.3562 699.341 L33.8944 699.341 Q30.6797 697.241 29.0883 694.408 Q27.4968 691.543 27.4968 687.819 Q27.4968 681.676 31.3163 678.525 Q35.1038 675.374 42.4881 675.374 Z\" fill=\"#000000\" fill-rule=\"nonzero\" fill-opacity=\"1\" /><path clip-path=\"url(#clip130)\" d=\"M18.2347 657.9 L28.3562 657.9 L28.3562 645.837 L32.9077 645.837 L32.9077 657.9 L52.2594 657.9 Q56.6199 657.9 57.8613 656.723 Q59.1026 655.513 59.1026 651.853 L59.1026 645.837 L64.0042 645.837 L64.0042 651.853 Q64.0042 658.633 61.4897 661.211 Q58.9434 663.789 52.2594 663.789 L32.9077 663.789 L32.9077 668.086 L28.3562 668.086 L28.3562 663.789 L18.2347 663.789 L18.2347 657.9 Z\" fill=\"#000000\" fill-rule=\"nonzero\" fill-opacity=\"1\" /><path clip-path=\"url(#clip132)\" d=\"M213.586 1223.19 L213.586 1423.18 L323.123 1423.18 L323.123 1223.19 L213.586 1223.19 L213.586 1223.19  Z\" fill=\"#009af9\" fill-rule=\"evenodd\" fill-opacity=\"1\"/>\n",
       "<polyline clip-path=\"url(#clip132)\" style=\"stroke:#000000; stroke-linecap:round; stroke-linejoin:round; stroke-width:4; stroke-opacity:1; fill:none\" points=\"213.586,1223.19 213.586,1423.18 323.123,1423.18 323.123,1223.19 213.586,1223.19 \"/>\n",
       "<path clip-path=\"url(#clip132)\" d=\"M323.123 559.22 L323.123 1423.18 L432.661 1423.18 L432.661 559.22 L323.123 559.22 L323.123 559.22  Z\" fill=\"#009af9\" fill-rule=\"evenodd\" fill-opacity=\"1\"/>\n",
       "<polyline clip-path=\"url(#clip132)\" style=\"stroke:#000000; stroke-linecap:round; stroke-linejoin:round; stroke-width:4; stroke-opacity:1; fill:none\" points=\"323.123,559.22 323.123,1423.18 432.661,1423.18 432.661,559.22 323.123,559.22 \"/>\n",
       "<path clip-path=\"url(#clip132)\" d=\"M432.661 47.2441 L432.661 1423.18 L542.198 1423.18 L542.198 47.2441 L432.661 47.2441 L432.661 47.2441  Z\" fill=\"#009af9\" fill-rule=\"evenodd\" fill-opacity=\"1\"/>\n",
       "<polyline clip-path=\"url(#clip132)\" style=\"stroke:#000000; stroke-linecap:round; stroke-linejoin:round; stroke-width:4; stroke-opacity:1; fill:none\" points=\"432.661,47.2441 432.661,1423.18 542.198,1423.18 542.198,47.2441 432.661,47.2441 \"/>\n",
       "<path clip-path=\"url(#clip132)\" d=\"M542.198 455.225 L542.198 1423.18 L651.735 1423.18 L651.735 455.225 L542.198 455.225 L542.198 455.225  Z\" fill=\"#009af9\" fill-rule=\"evenodd\" fill-opacity=\"1\"/>\n",
       "<polyline clip-path=\"url(#clip132)\" style=\"stroke:#000000; stroke-linecap:round; stroke-linejoin:round; stroke-width:4; stroke-opacity:1; fill:none\" points=\"542.198,455.225 542.198,1423.18 651.735,1423.18 651.735,455.225 542.198,455.225 \"/>\n",
       "<path clip-path=\"url(#clip132)\" d=\"M651.735 1143.19 L651.735 1423.18 L761.273 1423.18 L761.273 1143.19 L651.735 1143.19 L651.735 1143.19  Z\" fill=\"#009af9\" fill-rule=\"evenodd\" fill-opacity=\"1\"/>\n",
       "<polyline clip-path=\"url(#clip132)\" style=\"stroke:#000000; stroke-linecap:round; stroke-linejoin:round; stroke-width:4; stroke-opacity:1; fill:none\" points=\"651.735,1143.19 651.735,1423.18 761.273,1423.18 761.273,1143.19 651.735,1143.19 \"/>\n",
       "<path clip-path=\"url(#clip132)\" d=\"M761.273 1247.19 L761.273 1423.18 L870.81 1423.18 L870.81 1247.19 L761.273 1247.19 L761.273 1247.19  Z\" fill=\"#009af9\" fill-rule=\"evenodd\" fill-opacity=\"1\"/>\n",
       "<polyline clip-path=\"url(#clip132)\" style=\"stroke:#000000; stroke-linecap:round; stroke-linejoin:round; stroke-width:4; stroke-opacity:1; fill:none\" points=\"761.273,1247.19 761.273,1423.18 870.81,1423.18 870.81,1247.19 761.273,1247.19 \"/>\n",
       "<path clip-path=\"url(#clip132)\" d=\"M870.81 1183.19 L870.81 1423.18 L980.347 1423.18 L980.347 1183.19 L870.81 1183.19 L870.81 1183.19  Z\" fill=\"#009af9\" fill-rule=\"evenodd\" fill-opacity=\"1\"/>\n",
       "<polyline clip-path=\"url(#clip132)\" style=\"stroke:#000000; stroke-linecap:round; stroke-linejoin:round; stroke-width:4; stroke-opacity:1; fill:none\" points=\"870.81,1183.19 870.81,1423.18 980.347,1423.18 980.347,1183.19 870.81,1183.19 \"/>\n",
       "<path clip-path=\"url(#clip132)\" d=\"M980.347 1263.19 L980.347 1423.18 L1089.88 1423.18 L1089.88 1263.19 L980.347 1263.19 L980.347 1263.19  Z\" fill=\"#009af9\" fill-rule=\"evenodd\" fill-opacity=\"1\"/>\n",
       "<polyline clip-path=\"url(#clip132)\" style=\"stroke:#000000; stroke-linecap:round; stroke-linejoin:round; stroke-width:4; stroke-opacity:1; fill:none\" points=\"980.347,1263.19 980.347,1423.18 1089.88,1423.18 1089.88,1263.19 980.347,1263.19 \"/>\n",
       "<path clip-path=\"url(#clip132)\" d=\"M1089.88 1383.18 L1089.88 1423.18 L1199.42 1423.18 L1199.42 1383.18 L1089.88 1383.18 L1089.88 1383.18  Z\" fill=\"#009af9\" fill-rule=\"evenodd\" fill-opacity=\"1\"/>\n",
       "<polyline clip-path=\"url(#clip132)\" style=\"stroke:#000000; stroke-linecap:round; stroke-linejoin:round; stroke-width:4; stroke-opacity:1; fill:none\" points=\"1089.88,1383.18 1089.88,1423.18 1199.42,1423.18 1199.42,1383.18 1089.88,1383.18 \"/>\n",
       "<path clip-path=\"url(#clip132)\" d=\"M1199.42 1367.18 L1199.42 1423.18 L1308.96 1423.18 L1308.96 1367.18 L1199.42 1367.18 L1199.42 1367.18  Z\" fill=\"#009af9\" fill-rule=\"evenodd\" fill-opacity=\"1\"/>\n",
       "<polyline clip-path=\"url(#clip132)\" style=\"stroke:#000000; stroke-linecap:round; stroke-linejoin:round; stroke-width:4; stroke-opacity:1; fill:none\" points=\"1199.42,1367.18 1199.42,1423.18 1308.96,1423.18 1308.96,1367.18 1199.42,1367.18 \"/>\n",
       "<path clip-path=\"url(#clip132)\" d=\"M1308.96 1399.18 L1308.96 1423.18 L1418.5 1423.18 L1418.5 1399.18 L1308.96 1399.18 L1308.96 1399.18  Z\" fill=\"#009af9\" fill-rule=\"evenodd\" fill-opacity=\"1\"/>\n",
       "<polyline clip-path=\"url(#clip132)\" style=\"stroke:#000000; stroke-linecap:round; stroke-linejoin:round; stroke-width:4; stroke-opacity:1; fill:none\" points=\"1308.96,1399.18 1308.96,1423.18 1418.5,1423.18 1418.5,1399.18 1308.96,1399.18 \"/>\n",
       "<path clip-path=\"url(#clip132)\" d=\"M1418.5 1391.18 L1418.5 1423.18 L1528.03 1423.18 L1528.03 1391.18 L1418.5 1391.18 L1418.5 1391.18  Z\" fill=\"#009af9\" fill-rule=\"evenodd\" fill-opacity=\"1\"/>\n",
       "<polyline clip-path=\"url(#clip132)\" style=\"stroke:#000000; stroke-linecap:round; stroke-linejoin:round; stroke-width:4; stroke-opacity:1; fill:none\" points=\"1418.5,1391.18 1418.5,1423.18 1528.03,1423.18 1528.03,1391.18 1418.5,1391.18 \"/>\n",
       "<path clip-path=\"url(#clip132)\" d=\"M1528.03 1407.18 L1528.03 1423.18 L1637.57 1423.18 L1637.57 1407.18 L1528.03 1407.18 L1528.03 1407.18  Z\" fill=\"#009af9\" fill-rule=\"evenodd\" fill-opacity=\"1\"/>\n",
       "<polyline clip-path=\"url(#clip132)\" style=\"stroke:#000000; stroke-linecap:round; stroke-linejoin:round; stroke-width:4; stroke-opacity:1; fill:none\" points=\"1528.03,1407.18 1528.03,1423.18 1637.57,1423.18 1637.57,1407.18 1528.03,1407.18 \"/>\n",
       "<path clip-path=\"url(#clip132)\" d=\"M1637.57 1423.18 L1637.57 1423.18 L1747.11 1423.18 L1747.11 1423.18 L1637.57 1423.18 L1637.57 1423.18  Z\" fill=\"#009af9\" fill-rule=\"evenodd\" fill-opacity=\"1\"/>\n",
       "<polyline clip-path=\"url(#clip132)\" style=\"stroke:#000000; stroke-linecap:round; stroke-linejoin:round; stroke-width:4; stroke-opacity:1; fill:none\" points=\"1637.57,1423.18 1637.57,1423.18 1747.11,1423.18 1637.57,1423.18 \"/>\n",
       "<path clip-path=\"url(#clip132)\" d=\"M1747.11 1399.18 L1747.11 1423.18 L1856.65 1423.18 L1856.65 1399.18 L1747.11 1399.18 L1747.11 1399.18  Z\" fill=\"#009af9\" fill-rule=\"evenodd\" fill-opacity=\"1\"/>\n",
       "<polyline clip-path=\"url(#clip132)\" style=\"stroke:#000000; stroke-linecap:round; stroke-linejoin:round; stroke-width:4; stroke-opacity:1; fill:none\" points=\"1747.11,1399.18 1747.11,1423.18 1856.65,1423.18 1856.65,1399.18 1747.11,1399.18 \"/>\n",
       "<path clip-path=\"url(#clip132)\" d=\"M1856.65 1423.18 L1856.65 1423.18 L1966.18 1423.18 L1966.18 1423.18 L1856.65 1423.18 L1856.65 1423.18  Z\" fill=\"#009af9\" fill-rule=\"evenodd\" fill-opacity=\"1\"/>\n",
       "<polyline clip-path=\"url(#clip132)\" style=\"stroke:#000000; stroke-linecap:round; stroke-linejoin:round; stroke-width:4; stroke-opacity:1; fill:none\" points=\"1856.65,1423.18 1856.65,1423.18 1966.18,1423.18 1856.65,1423.18 \"/>\n",
       "<path clip-path=\"url(#clip132)\" d=\"M1966.18 1423.18 L1966.18 1423.18 L2075.72 1423.18 L2075.72 1423.18 L1966.18 1423.18 L1966.18 1423.18  Z\" fill=\"#009af9\" fill-rule=\"evenodd\" fill-opacity=\"1\"/>\n",
       "<polyline clip-path=\"url(#clip132)\" style=\"stroke:#000000; stroke-linecap:round; stroke-linejoin:round; stroke-width:4; stroke-opacity:1; fill:none\" points=\"1966.18,1423.18 1966.18,1423.18 2075.72,1423.18 1966.18,1423.18 \"/>\n",
       "<path clip-path=\"url(#clip132)\" d=\"M2075.72 1423.18 L2075.72 1423.18 L2185.26 1423.18 L2185.26 1423.18 L2075.72 1423.18 L2075.72 1423.18  Z\" fill=\"#009af9\" fill-rule=\"evenodd\" fill-opacity=\"1\"/>\n",
       "<polyline clip-path=\"url(#clip132)\" style=\"stroke:#000000; stroke-linecap:round; stroke-linejoin:round; stroke-width:4; stroke-opacity:1; fill:none\" points=\"2075.72,1423.18 2075.72,1423.18 2185.26,1423.18 2075.72,1423.18 \"/>\n",
       "<path clip-path=\"url(#clip132)\" d=\"M2185.26 1423.18 L2185.26 1423.18 L2294.8 1423.18 L2294.8 1423.18 L2185.26 1423.18 L2185.26 1423.18  Z\" fill=\"#009af9\" fill-rule=\"evenodd\" fill-opacity=\"1\"/>\n",
       "<polyline clip-path=\"url(#clip132)\" style=\"stroke:#000000; stroke-linecap:round; stroke-linejoin:round; stroke-width:4; stroke-opacity:1; fill:none\" points=\"2185.26,1423.18 2185.26,1423.18 2294.8,1423.18 2185.26,1423.18 \"/>\n",
       "<path clip-path=\"url(#clip132)\" d=\"M2294.8 1415.18 L2294.8 1423.18 L2404.33 1423.18 L2404.33 1415.18 L2294.8 1415.18 L2294.8 1415.18  Z\" fill=\"#009af9\" fill-rule=\"evenodd\" fill-opacity=\"1\"/>\n",
       "<polyline clip-path=\"url(#clip132)\" style=\"stroke:#000000; stroke-linecap:round; stroke-linejoin:round; stroke-width:4; stroke-opacity:1; fill:none\" points=\"2294.8,1415.18 2294.8,1423.18 2404.33,1423.18 2404.33,1415.18 2294.8,1415.18 \"/>\n",
       "<path clip-path=\"url(#clip132)\" d=\"M2404.33 1423.18 L2404.33 1423.18 L2513.87 1423.18 L2513.87 1423.18 L2404.33 1423.18 L2404.33 1423.18  Z\" fill=\"#009af9\" fill-rule=\"evenodd\" fill-opacity=\"1\"/>\n",
       "<polyline clip-path=\"url(#clip132)\" style=\"stroke:#000000; stroke-linecap:round; stroke-linejoin:round; stroke-width:4; stroke-opacity:1; fill:none\" points=\"2404.33,1423.18 2404.33,1423.18 2513.87,1423.18 2404.33,1423.18 \"/>\n",
       "<path clip-path=\"url(#clip132)\" d=\"M2513.87 1407.18 L2513.87 1423.18 L2623.41 1423.18 L2623.41 1407.18 L2513.87 1407.18 L2513.87 1407.18  Z\" fill=\"#009af9\" fill-rule=\"evenodd\" fill-opacity=\"1\"/>\n",
       "<polyline clip-path=\"url(#clip132)\" style=\"stroke:#000000; stroke-linecap:round; stroke-linejoin:round; stroke-width:4; stroke-opacity:1; fill:none\" points=\"2513.87,1407.18 2513.87,1423.18 2623.41,1423.18 2623.41,1407.18 2513.87,1407.18 \"/>\n",
       "<path clip-path=\"url(#clip132)\" d=\"M2623.41 1415.18 L2623.41 1423.18 L2732.94 1423.18 L2732.94 1415.18 L2623.41 1415.18 L2623.41 1415.18  Z\" fill=\"#009af9\" fill-rule=\"evenodd\" fill-opacity=\"1\"/>\n",
       "<polyline clip-path=\"url(#clip132)\" style=\"stroke:#000000; stroke-linecap:round; stroke-linejoin:round; stroke-width:4; stroke-opacity:1; fill:none\" points=\"2623.41,1415.18 2623.41,1423.18 2732.94,1423.18 2732.94,1415.18 2623.41,1415.18 \"/>\n",
       "<path clip-path=\"url(#clip132)\" d=\"M2732.94 1423.18 L2732.94 1423.18 L2842.48 1423.18 L2842.48 1423.18 L2732.94 1423.18 L2732.94 1423.18  Z\" fill=\"#009af9\" fill-rule=\"evenodd\" fill-opacity=\"1\"/>\n",
       "<polyline clip-path=\"url(#clip132)\" style=\"stroke:#000000; stroke-linecap:round; stroke-linejoin:round; stroke-width:4; stroke-opacity:1; fill:none\" points=\"2732.94,1423.18 2732.94,1423.18 2842.48,1423.18 2732.94,1423.18 \"/>\n",
       "<path clip-path=\"url(#clip132)\" d=\"M2842.48 1423.18 L2842.48 1423.18 L2952.02 1423.18 L2952.02 1423.18 L2842.48 1423.18 L2842.48 1423.18  Z\" fill=\"#009af9\" fill-rule=\"evenodd\" fill-opacity=\"1\"/>\n",
       "<polyline clip-path=\"url(#clip132)\" style=\"stroke:#000000; stroke-linecap:round; stroke-linejoin:round; stroke-width:4; stroke-opacity:1; fill:none\" points=\"2842.48,1423.18 2842.48,1423.18 2952.02,1423.18 2842.48,1423.18 \"/>\n",
       "<path clip-path=\"url(#clip132)\" d=\"M2952.02 1423.18 L2952.02 1423.18 L3061.56 1423.18 L3061.56 1423.18 L2952.02 1423.18 L2952.02 1423.18  Z\" fill=\"#009af9\" fill-rule=\"evenodd\" fill-opacity=\"1\"/>\n",
       "<polyline clip-path=\"url(#clip132)\" style=\"stroke:#000000; stroke-linecap:round; stroke-linejoin:round; stroke-width:4; stroke-opacity:1; fill:none\" points=\"2952.02,1423.18 2952.02,1423.18 3061.56,1423.18 2952.02,1423.18 \"/>\n",
       "<path clip-path=\"url(#clip132)\" d=\"M3061.56 1423.18 L3061.56 1423.18 L3171.09 1423.18 L3171.09 1423.18 L3061.56 1423.18 L3061.56 1423.18  Z\" fill=\"#009af9\" fill-rule=\"evenodd\" fill-opacity=\"1\"/>\n",
       "<polyline clip-path=\"url(#clip132)\" style=\"stroke:#000000; stroke-linecap:round; stroke-linejoin:round; stroke-width:4; stroke-opacity:1; fill:none\" points=\"3061.56,1423.18 3061.56,1423.18 3171.09,1423.18 3061.56,1423.18 \"/>\n",
       "<path clip-path=\"url(#clip132)\" d=\"M3171.09 1415.18 L3171.09 1423.18 L3280.63 1423.18 L3280.63 1415.18 L3171.09 1415.18 L3171.09 1415.18  Z\" fill=\"#009af9\" fill-rule=\"evenodd\" fill-opacity=\"1\"/>\n",
       "<polyline clip-path=\"url(#clip132)\" style=\"stroke:#000000; stroke-linecap:round; stroke-linejoin:round; stroke-width:4; stroke-opacity:1; fill:none\" points=\"3171.09,1415.18 3171.09,1423.18 3280.63,1423.18 3280.63,1415.18 3171.09,1415.18 \"/>\n",
       "<path clip-path=\"url(#clip132)\" d=\"M3280.63 1423.18 L3280.63 1423.18 L3390.17 1423.18 L3390.17 1423.18 L3280.63 1423.18 L3280.63 1423.18  Z\" fill=\"#009af9\" fill-rule=\"evenodd\" fill-opacity=\"1\"/>\n",
       "<polyline clip-path=\"url(#clip132)\" style=\"stroke:#000000; stroke-linecap:round; stroke-linejoin:round; stroke-width:4; stroke-opacity:1; fill:none\" points=\"3280.63,1423.18 3280.63,1423.18 3390.17,1423.18 3280.63,1423.18 \"/>\n",
       "<path clip-path=\"url(#clip132)\" d=\"M3390.17 1423.18 L3390.17 1423.18 L3499.71 1423.18 L3499.71 1423.18 L3390.17 1423.18 L3390.17 1423.18  Z\" fill=\"#009af9\" fill-rule=\"evenodd\" fill-opacity=\"1\"/>\n",
       "<polyline clip-path=\"url(#clip132)\" style=\"stroke:#000000; stroke-linecap:round; stroke-linejoin:round; stroke-width:4; stroke-opacity:1; fill:none\" points=\"3390.17,1423.18 3390.17,1423.18 3499.71,1423.18 3390.17,1423.18 \"/>\n",
       "<path clip-path=\"url(#clip132)\" d=\"M3499.71 1423.18 L3499.71 1423.18 L3609.24 1423.18 L3609.24 1423.18 L3499.71 1423.18 L3499.71 1423.18  Z\" fill=\"#009af9\" fill-rule=\"evenodd\" fill-opacity=\"1\"/>\n",
       "<polyline clip-path=\"url(#clip132)\" style=\"stroke:#000000; stroke-linecap:round; stroke-linejoin:round; stroke-width:4; stroke-opacity:1; fill:none\" points=\"3499.71,1423.18 3499.71,1423.18 3609.24,1423.18 3499.71,1423.18 \"/>\n",
       "<path clip-path=\"url(#clip132)\" d=\"M3609.24 1423.18 L3609.24 1423.18 L3718.78 1423.18 L3718.78 1423.18 L3609.24 1423.18 L3609.24 1423.18  Z\" fill=\"#009af9\" fill-rule=\"evenodd\" fill-opacity=\"1\"/>\n",
       "<polyline clip-path=\"url(#clip132)\" style=\"stroke:#000000; stroke-linecap:round; stroke-linejoin:round; stroke-width:4; stroke-opacity:1; fill:none\" points=\"3609.24,1423.18 3609.24,1423.18 3718.78,1423.18 3609.24,1423.18 \"/>\n",
       "<path clip-path=\"url(#clip132)\" d=\"M3718.78 1423.18 L3718.78 1423.18 L3828.32 1423.18 L3828.32 1423.18 L3718.78 1423.18 L3718.78 1423.18  Z\" fill=\"#009af9\" fill-rule=\"evenodd\" fill-opacity=\"1\"/>\n",
       "<polyline clip-path=\"url(#clip132)\" style=\"stroke:#000000; stroke-linecap:round; stroke-linejoin:round; stroke-width:4; stroke-opacity:1; fill:none\" points=\"3718.78,1423.18 3718.78,1423.18 3828.32,1423.18 3718.78,1423.18 \"/>\n",
       "<path clip-path=\"url(#clip132)\" d=\"M3828.32 1423.18 L3828.32 1423.18 L3937.85 1423.18 L3937.85 1423.18 L3828.32 1423.18 L3828.32 1423.18  Z\" fill=\"#009af9\" fill-rule=\"evenodd\" fill-opacity=\"1\"/>\n",
       "<polyline clip-path=\"url(#clip132)\" style=\"stroke:#000000; stroke-linecap:round; stroke-linejoin:round; stroke-width:4; stroke-opacity:1; fill:none\" points=\"3828.32,1423.18 3828.32,1423.18 3937.85,1423.18 3828.32,1423.18 \"/>\n",
       "<path clip-path=\"url(#clip132)\" d=\"M3937.85 1423.18 L3937.85 1423.18 L4047.39 1423.18 L4047.39 1423.18 L3937.85 1423.18 L3937.85 1423.18  Z\" fill=\"#009af9\" fill-rule=\"evenodd\" fill-opacity=\"1\"/>\n",
       "<polyline clip-path=\"url(#clip132)\" style=\"stroke:#000000; stroke-linecap:round; stroke-linejoin:round; stroke-width:4; stroke-opacity:1; fill:none\" points=\"3937.85,1423.18 3937.85,1423.18 4047.39,1423.18 3937.85,1423.18 \"/>\n",
       "<path clip-path=\"url(#clip132)\" d=\"M4047.39 1423.18 L4047.39 1423.18 L4156.93 1423.18 L4156.93 1423.18 L4047.39 1423.18 L4047.39 1423.18  Z\" fill=\"#009af9\" fill-rule=\"evenodd\" fill-opacity=\"1\"/>\n",
       "<polyline clip-path=\"url(#clip132)\" style=\"stroke:#000000; stroke-linecap:round; stroke-linejoin:round; stroke-width:4; stroke-opacity:1; fill:none\" points=\"4047.39,1423.18 4047.39,1423.18 4156.93,1423.18 4047.39,1423.18 \"/>\n",
       "<path clip-path=\"url(#clip132)\" d=\"M4156.93 1423.18 L4156.93 1423.18 L4266.47 1423.18 L4266.47 1423.18 L4156.93 1423.18 L4156.93 1423.18  Z\" fill=\"#009af9\" fill-rule=\"evenodd\" fill-opacity=\"1\"/>\n",
       "<polyline clip-path=\"url(#clip132)\" style=\"stroke:#000000; stroke-linecap:round; stroke-linejoin:round; stroke-width:4; stroke-opacity:1; fill:none\" points=\"4156.93,1423.18 4156.93,1423.18 4266.47,1423.18 4156.93,1423.18 \"/>\n",
       "<path clip-path=\"url(#clip132)\" d=\"M4266.47 1423.18 L4266.47 1423.18 L4376 1423.18 L4376 1423.18 L4266.47 1423.18 L4266.47 1423.18  Z\" fill=\"#009af9\" fill-rule=\"evenodd\" fill-opacity=\"1\"/>\n",
       "<polyline clip-path=\"url(#clip132)\" style=\"stroke:#000000; stroke-linecap:round; stroke-linejoin:round; stroke-width:4; stroke-opacity:1; fill:none\" points=\"4266.47,1423.18 4266.47,1423.18 4376,1423.18 4266.47,1423.18 \"/>\n",
       "<path clip-path=\"url(#clip132)\" d=\"M4376 1423.18 L4376 1423.18 L4485.54 1423.18 L4485.54 1423.18 L4376 1423.18 L4376 1423.18  Z\" fill=\"#009af9\" fill-rule=\"evenodd\" fill-opacity=\"1\"/>\n",
       "<polyline clip-path=\"url(#clip132)\" style=\"stroke:#000000; stroke-linecap:round; stroke-linejoin:round; stroke-width:4; stroke-opacity:1; fill:none\" points=\"4376,1423.18 4376,1423.18 4485.54,1423.18 4376,1423.18 \"/>\n",
       "<path clip-path=\"url(#clip132)\" d=\"M4485.54 1423.18 L4485.54 1423.18 L4595.08 1423.18 L4595.08 1423.18 L4485.54 1423.18 L4485.54 1423.18  Z\" fill=\"#009af9\" fill-rule=\"evenodd\" fill-opacity=\"1\"/>\n",
       "<polyline clip-path=\"url(#clip132)\" style=\"stroke:#000000; stroke-linecap:round; stroke-linejoin:round; stroke-width:4; stroke-opacity:1; fill:none\" points=\"4485.54,1423.18 4485.54,1423.18 4595.08,1423.18 4485.54,1423.18 \"/>\n",
       "<path clip-path=\"url(#clip132)\" d=\"M4595.08 1423.18 L4595.08 1423.18 L4704.62 1423.18 L4704.62 1423.18 L4595.08 1423.18 L4595.08 1423.18  Z\" fill=\"#009af9\" fill-rule=\"evenodd\" fill-opacity=\"1\"/>\n",
       "<polyline clip-path=\"url(#clip132)\" style=\"stroke:#000000; stroke-linecap:round; stroke-linejoin:round; stroke-width:4; stroke-opacity:1; fill:none\" points=\"4595.08,1423.18 4595.08,1423.18 4704.62,1423.18 4595.08,1423.18 \"/>\n",
       "<path clip-path=\"url(#clip132)\" d=\"M4704.62 1423.18 L4704.62 1423.18 L4814.15 1423.18 L4814.15 1423.18 L4704.62 1423.18 L4704.62 1423.18  Z\" fill=\"#009af9\" fill-rule=\"evenodd\" fill-opacity=\"1\"/>\n",
       "<polyline clip-path=\"url(#clip132)\" style=\"stroke:#000000; stroke-linecap:round; stroke-linejoin:round; stroke-width:4; stroke-opacity:1; fill:none\" points=\"4704.62,1423.18 4704.62,1423.18 4814.15,1423.18 4704.62,1423.18 \"/>\n",
       "<path clip-path=\"url(#clip132)\" d=\"M4814.15 1415.18 L4814.15 1423.18 L4923.69 1423.18 L4923.69 1415.18 L4814.15 1415.18 L4814.15 1415.18  Z\" fill=\"#009af9\" fill-rule=\"evenodd\" fill-opacity=\"1\"/>\n",
       "<polyline clip-path=\"url(#clip132)\" style=\"stroke:#000000; stroke-linecap:round; stroke-linejoin:round; stroke-width:4; stroke-opacity:1; fill:none\" points=\"4814.15,1415.18 4814.15,1423.18 4923.69,1423.18 4923.69,1415.18 4814.15,1415.18 \"/>\n",
       "<path clip-path=\"url(#clip132)\" d=\"M4923.69 1423.18 L4923.69 1423.18 L5033.23 1423.18 L5033.23 1423.18 L4923.69 1423.18 L4923.69 1423.18  Z\" fill=\"#009af9\" fill-rule=\"evenodd\" fill-opacity=\"1\"/>\n",
       "<polyline clip-path=\"url(#clip132)\" style=\"stroke:#000000; stroke-linecap:round; stroke-linejoin:round; stroke-width:4; stroke-opacity:1; fill:none\" points=\"4923.69,1423.18 4923.69,1423.18 5033.23,1423.18 4923.69,1423.18 \"/>\n",
       "<path clip-path=\"url(#clip132)\" d=\"M5033.23 1423.18 L5033.23 1423.18 L5142.77 1423.18 L5142.77 1423.18 L5033.23 1423.18 L5033.23 1423.18  Z\" fill=\"#009af9\" fill-rule=\"evenodd\" fill-opacity=\"1\"/>\n",
       "<polyline clip-path=\"url(#clip132)\" style=\"stroke:#000000; stroke-linecap:round; stroke-linejoin:round; stroke-width:4; stroke-opacity:1; fill:none\" points=\"5033.23,1423.18 5033.23,1423.18 5142.77,1423.18 5033.23,1423.18 \"/>\n",
       "<path clip-path=\"url(#clip132)\" d=\"M5142.77 1423.18 L5142.77 1423.18 L5252.3 1423.18 L5252.3 1423.18 L5142.77 1423.18 L5142.77 1423.18  Z\" fill=\"#009af9\" fill-rule=\"evenodd\" fill-opacity=\"1\"/>\n",
       "<polyline clip-path=\"url(#clip132)\" style=\"stroke:#000000; stroke-linecap:round; stroke-linejoin:round; stroke-width:4; stroke-opacity:1; fill:none\" points=\"5142.77,1423.18 5142.77,1423.18 5252.3,1423.18 5142.77,1423.18 \"/>\n",
       "<path clip-path=\"url(#clip132)\" d=\"M5252.3 1423.18 L5252.3 1423.18 L5361.84 1423.18 L5361.84 1423.18 L5252.3 1423.18 L5252.3 1423.18  Z\" fill=\"#009af9\" fill-rule=\"evenodd\" fill-opacity=\"1\"/>\n",
       "<polyline clip-path=\"url(#clip132)\" style=\"stroke:#000000; stroke-linecap:round; stroke-linejoin:round; stroke-width:4; stroke-opacity:1; fill:none\" points=\"5252.3,1423.18 5252.3,1423.18 5361.84,1423.18 5252.3,1423.18 \"/>\n",
       "<path clip-path=\"url(#clip132)\" d=\"M5361.84 1423.18 L5361.84 1423.18 L5471.38 1423.18 L5471.38 1423.18 L5361.84 1423.18 L5361.84 1423.18  Z\" fill=\"#009af9\" fill-rule=\"evenodd\" fill-opacity=\"1\"/>\n",
       "<polyline clip-path=\"url(#clip132)\" style=\"stroke:#000000; stroke-linecap:round; stroke-linejoin:round; stroke-width:4; stroke-opacity:1; fill:none\" points=\"5361.84,1423.18 5361.84,1423.18 5471.38,1423.18 5361.84,1423.18 \"/>\n",
       "<path clip-path=\"url(#clip132)\" d=\"M5471.38 1423.18 L5471.38 1423.18 L5580.91 1423.18 L5580.91 1423.18 L5471.38 1423.18 L5471.38 1423.18  Z\" fill=\"#009af9\" fill-rule=\"evenodd\" fill-opacity=\"1\"/>\n",
       "<polyline clip-path=\"url(#clip132)\" style=\"stroke:#000000; stroke-linecap:round; stroke-linejoin:round; stroke-width:4; stroke-opacity:1; fill:none\" points=\"5471.38,1423.18 5471.38,1423.18 5580.91,1423.18 5471.38,1423.18 \"/>\n",
       "<path clip-path=\"url(#clip132)\" d=\"M5580.91 1423.18 L5580.91 1423.18 L5690.45 1423.18 L5690.45 1423.18 L5580.91 1423.18 L5580.91 1423.18  Z\" fill=\"#009af9\" fill-rule=\"evenodd\" fill-opacity=\"1\"/>\n",
       "<polyline clip-path=\"url(#clip132)\" style=\"stroke:#000000; stroke-linecap:round; stroke-linejoin:round; stroke-width:4; stroke-opacity:1; fill:none\" points=\"5580.91,1423.18 5580.91,1423.18 5690.45,1423.18 5580.91,1423.18 \"/>\n",
       "<path clip-path=\"url(#clip132)\" d=\"M5690.45 1423.18 L5690.45 1423.18 L5799.99 1423.18 L5799.99 1423.18 L5690.45 1423.18 L5690.45 1423.18  Z\" fill=\"#009af9\" fill-rule=\"evenodd\" fill-opacity=\"1\"/>\n",
       "<polyline clip-path=\"url(#clip132)\" style=\"stroke:#000000; stroke-linecap:round; stroke-linejoin:round; stroke-width:4; stroke-opacity:1; fill:none\" points=\"5690.45,1423.18 5690.45,1423.18 5799.99,1423.18 5690.45,1423.18 \"/>\n",
       "<path clip-path=\"url(#clip132)\" d=\"M5799.99 1423.18 L5799.99 1423.18 L5909.53 1423.18 L5909.53 1423.18 L5799.99 1423.18 L5799.99 1423.18  Z\" fill=\"#009af9\" fill-rule=\"evenodd\" fill-opacity=\"1\"/>\n",
       "<polyline clip-path=\"url(#clip132)\" style=\"stroke:#000000; stroke-linecap:round; stroke-linejoin:round; stroke-width:4; stroke-opacity:1; fill:none\" points=\"5799.99,1423.18 5799.99,1423.18 5909.53,1423.18 5799.99,1423.18 \"/>\n",
       "<path clip-path=\"url(#clip132)\" d=\"M5909.53 1423.18 L5909.53 1423.18 L6019.06 1423.18 L6019.06 1423.18 L5909.53 1423.18 L5909.53 1423.18  Z\" fill=\"#009af9\" fill-rule=\"evenodd\" fill-opacity=\"1\"/>\n",
       "<polyline clip-path=\"url(#clip132)\" style=\"stroke:#000000; stroke-linecap:round; stroke-linejoin:round; stroke-width:4; stroke-opacity:1; fill:none\" points=\"5909.53,1423.18 5909.53,1423.18 6019.06,1423.18 5909.53,1423.18 \"/>\n",
       "<path clip-path=\"url(#clip132)\" d=\"M6019.06 1423.18 L6019.06 1423.18 L6128.6 1423.18 L6128.6 1423.18 L6019.06 1423.18 L6019.06 1423.18  Z\" fill=\"#009af9\" fill-rule=\"evenodd\" fill-opacity=\"1\"/>\n",
       "<polyline clip-path=\"url(#clip132)\" style=\"stroke:#000000; stroke-linecap:round; stroke-linejoin:round; stroke-width:4; stroke-opacity:1; fill:none\" points=\"6019.06,1423.18 6019.06,1423.18 6128.6,1423.18 6019.06,1423.18 \"/>\n",
       "<path clip-path=\"url(#clip132)\" d=\"M6128.6 1423.18 L6128.6 1423.18 L6238.14 1423.18 L6238.14 1423.18 L6128.6 1423.18 L6128.6 1423.18  Z\" fill=\"#009af9\" fill-rule=\"evenodd\" fill-opacity=\"1\"/>\n",
       "<polyline clip-path=\"url(#clip132)\" style=\"stroke:#000000; stroke-linecap:round; stroke-linejoin:round; stroke-width:4; stroke-opacity:1; fill:none\" points=\"6128.6,1423.18 6128.6,1423.18 6238.14,1423.18 6128.6,1423.18 \"/>\n",
       "<path clip-path=\"url(#clip132)\" d=\"M6238.14 1423.18 L6238.14 1423.18 L6347.68 1423.18 L6347.68 1423.18 L6238.14 1423.18 L6238.14 1423.18  Z\" fill=\"#009af9\" fill-rule=\"evenodd\" fill-opacity=\"1\"/>\n",
       "<polyline clip-path=\"url(#clip132)\" style=\"stroke:#000000; stroke-linecap:round; stroke-linejoin:round; stroke-width:4; stroke-opacity:1; fill:none\" points=\"6238.14,1423.18 6238.14,1423.18 6347.68,1423.18 6238.14,1423.18 \"/>\n",
       "<path clip-path=\"url(#clip132)\" d=\"M6347.68 1423.18 L6347.68 1423.18 L6457.21 1423.18 L6457.21 1423.18 L6347.68 1423.18 L6347.68 1423.18  Z\" fill=\"#009af9\" fill-rule=\"evenodd\" fill-opacity=\"1\"/>\n",
       "<polyline clip-path=\"url(#clip132)\" style=\"stroke:#000000; stroke-linecap:round; stroke-linejoin:round; stroke-width:4; stroke-opacity:1; fill:none\" points=\"6347.68,1423.18 6347.68,1423.18 6457.21,1423.18 6347.68,1423.18 \"/>\n",
       "<path clip-path=\"url(#clip132)\" d=\"M6457.21 1423.18 L6457.21 1423.18 L6566.75 1423.18 L6566.75 1423.18 L6457.21 1423.18 L6457.21 1423.18  Z\" fill=\"#009af9\" fill-rule=\"evenodd\" fill-opacity=\"1\"/>\n",
       "<polyline clip-path=\"url(#clip132)\" style=\"stroke:#000000; stroke-linecap:round; stroke-linejoin:round; stroke-width:4; stroke-opacity:1; fill:none\" points=\"6457.21,1423.18 6457.21,1423.18 6566.75,1423.18 6457.21,1423.18 \"/>\n",
       "<path clip-path=\"url(#clip132)\" d=\"M6566.75 1423.18 L6566.75 1423.18 L6676.29 1423.18 L6676.29 1423.18 L6566.75 1423.18 L6566.75 1423.18  Z\" fill=\"#009af9\" fill-rule=\"evenodd\" fill-opacity=\"1\"/>\n",
       "<polyline clip-path=\"url(#clip132)\" style=\"stroke:#000000; stroke-linecap:round; stroke-linejoin:round; stroke-width:4; stroke-opacity:1; fill:none\" points=\"6566.75,1423.18 6566.75,1423.18 6676.29,1423.18 6566.75,1423.18 \"/>\n",
       "<path clip-path=\"url(#clip132)\" d=\"M6676.29 1423.18 L6676.29 1423.18 L6785.82 1423.18 L6785.82 1423.18 L6676.29 1423.18 L6676.29 1423.18  Z\" fill=\"#009af9\" fill-rule=\"evenodd\" fill-opacity=\"1\"/>\n",
       "<polyline clip-path=\"url(#clip132)\" style=\"stroke:#000000; stroke-linecap:round; stroke-linejoin:round; stroke-width:4; stroke-opacity:1; fill:none\" points=\"6676.29,1423.18 6676.29,1423.18 6785.82,1423.18 6676.29,1423.18 \"/>\n",
       "<path clip-path=\"url(#clip132)\" d=\"M6785.82 1423.18 L6785.82 1423.18 L6895.36 1423.18 L6895.36 1423.18 L6785.82 1423.18 L6785.82 1423.18  Z\" fill=\"#009af9\" fill-rule=\"evenodd\" fill-opacity=\"1\"/>\n",
       "<polyline clip-path=\"url(#clip132)\" style=\"stroke:#000000; stroke-linecap:round; stroke-linejoin:round; stroke-width:4; stroke-opacity:1; fill:none\" points=\"6785.82,1423.18 6785.82,1423.18 6895.36,1423.18 6785.82,1423.18 \"/>\n",
       "<path clip-path=\"url(#clip132)\" d=\"M6895.36 1423.18 L6895.36 1423.18 L7004.9 1423.18 L7004.9 1423.18 L6895.36 1423.18 L6895.36 1423.18  Z\" fill=\"#009af9\" fill-rule=\"evenodd\" fill-opacity=\"1\"/>\n",
       "<polyline clip-path=\"url(#clip132)\" style=\"stroke:#000000; stroke-linecap:round; stroke-linejoin:round; stroke-width:4; stroke-opacity:1; fill:none\" points=\"6895.36,1423.18 6895.36,1423.18 7004.9,1423.18 6895.36,1423.18 \"/>\n",
       "<path clip-path=\"url(#clip132)\" d=\"M7004.9 1423.18 L7004.9 1423.18 L7114.44 1423.18 L7114.44 1423.18 L7004.9 1423.18 L7004.9 1423.18  Z\" fill=\"#009af9\" fill-rule=\"evenodd\" fill-opacity=\"1\"/>\n",
       "<polyline clip-path=\"url(#clip132)\" style=\"stroke:#000000; stroke-linecap:round; stroke-linejoin:round; stroke-width:4; stroke-opacity:1; fill:none\" points=\"7004.9,1423.18 7004.9,1423.18 7114.44,1423.18 7004.9,1423.18 \"/>\n",
       "<path clip-path=\"url(#clip132)\" d=\"M7114.44 1423.18 L7114.44 1423.18 L7223.97 1423.18 L7223.97 1423.18 L7114.44 1423.18 L7114.44 1423.18  Z\" fill=\"#009af9\" fill-rule=\"evenodd\" fill-opacity=\"1\"/>\n",
       "<polyline clip-path=\"url(#clip132)\" style=\"stroke:#000000; stroke-linecap:round; stroke-linejoin:round; stroke-width:4; stroke-opacity:1; fill:none\" points=\"7114.44,1423.18 7114.44,1423.18 7223.97,1423.18 7114.44,1423.18 \"/>\n",
       "<path clip-path=\"url(#clip132)\" d=\"M7223.97 1423.18 L7223.97 1423.18 L7333.51 1423.18 L7333.51 1423.18 L7223.97 1423.18 L7223.97 1423.18  Z\" fill=\"#009af9\" fill-rule=\"evenodd\" fill-opacity=\"1\"/>\n",
       "<polyline clip-path=\"url(#clip132)\" style=\"stroke:#000000; stroke-linecap:round; stroke-linejoin:round; stroke-width:4; stroke-opacity:1; fill:none\" points=\"7223.97,1423.18 7223.97,1423.18 7333.51,1423.18 7223.97,1423.18 \"/>\n",
       "<path clip-path=\"url(#clip132)\" d=\"M7333.51 1423.18 L7333.51 1423.18 L7443.05 1423.18 L7443.05 1423.18 L7333.51 1423.18 L7333.51 1423.18  Z\" fill=\"#009af9\" fill-rule=\"evenodd\" fill-opacity=\"1\"/>\n",
       "<polyline clip-path=\"url(#clip132)\" style=\"stroke:#000000; stroke-linecap:round; stroke-linejoin:round; stroke-width:4; stroke-opacity:1; fill:none\" points=\"7333.51,1423.18 7333.51,1423.18 7443.05,1423.18 7333.51,1423.18 \"/>\n",
       "<path clip-path=\"url(#clip132)\" d=\"M7443.05 1423.18 L7443.05 1423.18 L7552.59 1423.18 L7552.59 1423.18 L7443.05 1423.18 L7443.05 1423.18  Z\" fill=\"#009af9\" fill-rule=\"evenodd\" fill-opacity=\"1\"/>\n",
       "<polyline clip-path=\"url(#clip132)\" style=\"stroke:#000000; stroke-linecap:round; stroke-linejoin:round; stroke-width:4; stroke-opacity:1; fill:none\" points=\"7443.05,1423.18 7443.05,1423.18 7552.59,1423.18 7443.05,1423.18 \"/>\n",
       "<path clip-path=\"url(#clip132)\" d=\"M7552.59 1423.18 L7552.59 1423.18 L7662.12 1423.18 L7662.12 1423.18 L7552.59 1423.18 L7552.59 1423.18  Z\" fill=\"#009af9\" fill-rule=\"evenodd\" fill-opacity=\"1\"/>\n",
       "<polyline clip-path=\"url(#clip132)\" style=\"stroke:#000000; stroke-linecap:round; stroke-linejoin:round; stroke-width:4; stroke-opacity:1; fill:none\" points=\"7552.59,1423.18 7552.59,1423.18 7662.12,1423.18 7552.59,1423.18 \"/>\n",
       "<path clip-path=\"url(#clip132)\" d=\"M7662.12 1423.18 L7662.12 1423.18 L7771.66 1423.18 L7771.66 1423.18 L7662.12 1423.18 L7662.12 1423.18  Z\" fill=\"#009af9\" fill-rule=\"evenodd\" fill-opacity=\"1\"/>\n",
       "<polyline clip-path=\"url(#clip132)\" style=\"stroke:#000000; stroke-linecap:round; stroke-linejoin:round; stroke-width:4; stroke-opacity:1; fill:none\" points=\"7662.12,1423.18 7662.12,1423.18 7771.66,1423.18 7662.12,1423.18 \"/>\n",
       "<path clip-path=\"url(#clip132)\" d=\"M7771.66 1423.18 L7771.66 1423.18 L7881.2 1423.18 L7881.2 1423.18 L7771.66 1423.18 L7771.66 1423.18  Z\" fill=\"#009af9\" fill-rule=\"evenodd\" fill-opacity=\"1\"/>\n",
       "<polyline clip-path=\"url(#clip132)\" style=\"stroke:#000000; stroke-linecap:round; stroke-linejoin:round; stroke-width:4; stroke-opacity:1; fill:none\" points=\"7771.66,1423.18 7771.66,1423.18 7881.2,1423.18 7771.66,1423.18 \"/>\n",
       "<path clip-path=\"url(#clip132)\" d=\"M7881.2 1423.18 L7881.2 1423.18 L7990.74 1423.18 L7990.74 1423.18 L7881.2 1423.18 L7881.2 1423.18  Z\" fill=\"#009af9\" fill-rule=\"evenodd\" fill-opacity=\"1\"/>\n",
       "<polyline clip-path=\"url(#clip132)\" style=\"stroke:#000000; stroke-linecap:round; stroke-linejoin:round; stroke-width:4; stroke-opacity:1; fill:none\" points=\"7881.2,1423.18 7881.2,1423.18 7990.74,1423.18 7881.2,1423.18 \"/>\n",
       "<path clip-path=\"url(#clip132)\" d=\"M7990.74 1423.18 L7990.74 1423.18 L8100.27 1423.18 L8100.27 1423.18 L7990.74 1423.18 L7990.74 1423.18  Z\" fill=\"#009af9\" fill-rule=\"evenodd\" fill-opacity=\"1\"/>\n",
       "<polyline clip-path=\"url(#clip132)\" style=\"stroke:#000000; stroke-linecap:round; stroke-linejoin:round; stroke-width:4; stroke-opacity:1; fill:none\" points=\"7990.74,1423.18 7990.74,1423.18 8100.27,1423.18 7990.74,1423.18 \"/>\n",
       "<path clip-path=\"url(#clip132)\" d=\"M8100.27 1423.18 L8100.27 1423.18 L8209.81 1423.18 L8209.81 1423.18 L8100.27 1423.18 L8100.27 1423.18  Z\" fill=\"#009af9\" fill-rule=\"evenodd\" fill-opacity=\"1\"/>\n",
       "<polyline clip-path=\"url(#clip132)\" style=\"stroke:#000000; stroke-linecap:round; stroke-linejoin:round; stroke-width:4; stroke-opacity:1; fill:none\" points=\"8100.27,1423.18 8100.27,1423.18 8209.81,1423.18 8100.27,1423.18 \"/>\n",
       "<path clip-path=\"url(#clip132)\" d=\"M8209.81 1423.18 L8209.81 1423.18 L8319.35 1423.18 L8319.35 1423.18 L8209.81 1423.18 L8209.81 1423.18  Z\" fill=\"#009af9\" fill-rule=\"evenodd\" fill-opacity=\"1\"/>\n",
       "<polyline clip-path=\"url(#clip132)\" style=\"stroke:#000000; stroke-linecap:round; stroke-linejoin:round; stroke-width:4; stroke-opacity:1; fill:none\" points=\"8209.81,1423.18 8209.81,1423.18 8319.35,1423.18 8209.81,1423.18 \"/>\n",
       "<path clip-path=\"url(#clip132)\" d=\"M8319.35 1423.18 L8319.35 1423.18 L8428.88 1423.18 L8428.88 1423.18 L8319.35 1423.18 L8319.35 1423.18  Z\" fill=\"#009af9\" fill-rule=\"evenodd\" fill-opacity=\"1\"/>\n",
       "<polyline clip-path=\"url(#clip132)\" style=\"stroke:#000000; stroke-linecap:round; stroke-linejoin:round; stroke-width:4; stroke-opacity:1; fill:none\" points=\"8319.35,1423.18 8319.35,1423.18 8428.88,1423.18 8319.35,1423.18 \"/>\n",
       "<path clip-path=\"url(#clip132)\" d=\"M8428.88 1423.18 L8428.88 1423.18 L8538.42 1423.18 L8538.42 1423.18 L8428.88 1423.18 L8428.88 1423.18  Z\" fill=\"#009af9\" fill-rule=\"evenodd\" fill-opacity=\"1\"/>\n",
       "<polyline clip-path=\"url(#clip132)\" style=\"stroke:#000000; stroke-linecap:round; stroke-linejoin:round; stroke-width:4; stroke-opacity:1; fill:none\" points=\"8428.88,1423.18 8428.88,1423.18 8538.42,1423.18 8428.88,1423.18 \"/>\n",
       "<path clip-path=\"url(#clip132)\" d=\"M8538.42 1423.18 L8538.42 1423.18 L8647.96 1423.18 L8647.96 1423.18 L8538.42 1423.18 L8538.42 1423.18  Z\" fill=\"#009af9\" fill-rule=\"evenodd\" fill-opacity=\"1\"/>\n",
       "<polyline clip-path=\"url(#clip132)\" style=\"stroke:#000000; stroke-linecap:round; stroke-linejoin:round; stroke-width:4; stroke-opacity:1; fill:none\" points=\"8538.42,1423.18 8538.42,1423.18 8647.96,1423.18 8538.42,1423.18 \"/>\n",
       "<path clip-path=\"url(#clip132)\" d=\"M8647.96 1423.18 L8647.96 1423.18 L8757.5 1423.18 L8757.5 1423.18 L8647.96 1423.18 L8647.96 1423.18  Z\" fill=\"#009af9\" fill-rule=\"evenodd\" fill-opacity=\"1\"/>\n",
       "<polyline clip-path=\"url(#clip132)\" style=\"stroke:#000000; stroke-linecap:round; stroke-linejoin:round; stroke-width:4; stroke-opacity:1; fill:none\" points=\"8647.96,1423.18 8647.96,1423.18 8757.5,1423.18 8647.96,1423.18 \"/>\n",
       "<path clip-path=\"url(#clip132)\" d=\"M8757.5 1423.18 L8757.5 1423.18 L8867.03 1423.18 L8867.03 1423.18 L8757.5 1423.18 L8757.5 1423.18  Z\" fill=\"#009af9\" fill-rule=\"evenodd\" fill-opacity=\"1\"/>\n",
       "<polyline clip-path=\"url(#clip132)\" style=\"stroke:#000000; stroke-linecap:round; stroke-linejoin:round; stroke-width:4; stroke-opacity:1; fill:none\" points=\"8757.5,1423.18 8757.5,1423.18 8867.03,1423.18 8757.5,1423.18 \"/>\n",
       "<path clip-path=\"url(#clip132)\" d=\"M8867.03 1423.18 L8867.03 1423.18 L8976.57 1423.18 L8976.57 1423.18 L8867.03 1423.18 L8867.03 1423.18  Z\" fill=\"#009af9\" fill-rule=\"evenodd\" fill-opacity=\"1\"/>\n",
       "<polyline clip-path=\"url(#clip132)\" style=\"stroke:#000000; stroke-linecap:round; stroke-linejoin:round; stroke-width:4; stroke-opacity:1; fill:none\" points=\"8867.03,1423.18 8867.03,1423.18 8976.57,1423.18 8867.03,1423.18 \"/>\n",
       "<path clip-path=\"url(#clip132)\" d=\"M8976.57 1423.18 L8976.57 1423.18 L9086.11 1423.18 L9086.11 1423.18 L8976.57 1423.18 L8976.57 1423.18  Z\" fill=\"#009af9\" fill-rule=\"evenodd\" fill-opacity=\"1\"/>\n",
       "<polyline clip-path=\"url(#clip132)\" style=\"stroke:#000000; stroke-linecap:round; stroke-linejoin:round; stroke-width:4; stroke-opacity:1; fill:none\" points=\"8976.57,1423.18 8976.57,1423.18 9086.11,1423.18 8976.57,1423.18 \"/>\n",
       "<path clip-path=\"url(#clip132)\" d=\"M9086.11 1423.18 L9086.11 1423.18 L9195.65 1423.18 L9195.65 1423.18 L9086.11 1423.18 L9086.11 1423.18  Z\" fill=\"#009af9\" fill-rule=\"evenodd\" fill-opacity=\"1\"/>\n",
       "<polyline clip-path=\"url(#clip132)\" style=\"stroke:#000000; stroke-linecap:round; stroke-linejoin:round; stroke-width:4; stroke-opacity:1; fill:none\" points=\"9086.11,1423.18 9086.11,1423.18 9195.65,1423.18 9086.11,1423.18 \"/>\n",
       "<path clip-path=\"url(#clip132)\" d=\"M9195.65 1423.18 L9195.65 1423.18 L9305.18 1423.18 L9305.18 1423.18 L9195.65 1423.18 L9195.65 1423.18  Z\" fill=\"#009af9\" fill-rule=\"evenodd\" fill-opacity=\"1\"/>\n",
       "<polyline clip-path=\"url(#clip132)\" style=\"stroke:#000000; stroke-linecap:round; stroke-linejoin:round; stroke-width:4; stroke-opacity:1; fill:none\" points=\"9195.65,1423.18 9195.65,1423.18 9305.18,1423.18 9195.65,1423.18 \"/>\n",
       "<path clip-path=\"url(#clip132)\" d=\"M9305.18 1423.18 L9305.18 1423.18 L9414.72 1423.18 L9414.72 1423.18 L9305.18 1423.18 L9305.18 1423.18  Z\" fill=\"#009af9\" fill-rule=\"evenodd\" fill-opacity=\"1\"/>\n",
       "<polyline clip-path=\"url(#clip132)\" style=\"stroke:#000000; stroke-linecap:round; stroke-linejoin:round; stroke-width:4; stroke-opacity:1; fill:none\" points=\"9305.18,1423.18 9305.18,1423.18 9414.72,1423.18 9305.18,1423.18 \"/>\n",
       "<path clip-path=\"url(#clip132)\" d=\"M9414.72 1415.18 L9414.72 1423.18 L9524.26 1423.18 L9524.26 1415.18 L9414.72 1415.18 L9414.72 1415.18  Z\" fill=\"#009af9\" fill-rule=\"evenodd\" fill-opacity=\"1\"/>\n",
       "<polyline clip-path=\"url(#clip132)\" style=\"stroke:#000000; stroke-linecap:round; stroke-linejoin:round; stroke-width:4; stroke-opacity:1; fill:none\" points=\"9414.72,1415.18 9414.72,1423.18 9524.26,1423.18 9524.26,1415.18 9414.72,1415.18 \"/>\n",
       "<path clip-path=\"url(#clip132)\" d=\"M9524.26 1423.18 L9524.26 1423.18 L9633.79 1423.18 L9633.79 1423.18 L9524.26 1423.18 L9524.26 1423.18  Z\" fill=\"#009af9\" fill-rule=\"evenodd\" fill-opacity=\"1\"/>\n",
       "<polyline clip-path=\"url(#clip132)\" style=\"stroke:#000000; stroke-linecap:round; stroke-linejoin:round; stroke-width:4; stroke-opacity:1; fill:none\" points=\"9524.26,1423.18 9524.26,1423.18 9633.79,1423.18 9524.26,1423.18 \"/>\n",
       "<path clip-path=\"url(#clip132)\" d=\"M9633.79 1423.18 L9633.79 1423.18 L9743.33 1423.18 L9743.33 1423.18 L9633.79 1423.18 L9633.79 1423.18  Z\" fill=\"#009af9\" fill-rule=\"evenodd\" fill-opacity=\"1\"/>\n",
       "<polyline clip-path=\"url(#clip132)\" style=\"stroke:#000000; stroke-linecap:round; stroke-linejoin:round; stroke-width:4; stroke-opacity:1; fill:none\" points=\"9633.79,1423.18 9633.79,1423.18 9743.33,1423.18 9633.79,1423.18 \"/>\n",
       "<path clip-path=\"url(#clip132)\" d=\"M9743.33 1423.18 L9743.33 1423.18 L9852.87 1423.18 L9852.87 1423.18 L9743.33 1423.18 L9743.33 1423.18  Z\" fill=\"#009af9\" fill-rule=\"evenodd\" fill-opacity=\"1\"/>\n",
       "<polyline clip-path=\"url(#clip132)\" style=\"stroke:#000000; stroke-linecap:round; stroke-linejoin:round; stroke-width:4; stroke-opacity:1; fill:none\" points=\"9743.33,1423.18 9743.33,1423.18 9852.87,1423.18 9743.33,1423.18 \"/>\n",
       "<path clip-path=\"url(#clip132)\" d=\"M9852.87 1423.18 L9852.87 1423.18 L9962.41 1423.18 L9962.41 1423.18 L9852.87 1423.18 L9852.87 1423.18  Z\" fill=\"#009af9\" fill-rule=\"evenodd\" fill-opacity=\"1\"/>\n",
       "<polyline clip-path=\"url(#clip132)\" style=\"stroke:#000000; stroke-linecap:round; stroke-linejoin:round; stroke-width:4; stroke-opacity:1; fill:none\" points=\"9852.87,1423.18 9852.87,1423.18 9962.41,1423.18 9852.87,1423.18 \"/>\n",
       "<path clip-path=\"url(#clip132)\" d=\"M9962.41 1423.18 L9962.41 1423.18 L10071.9 1423.18 L10071.9 1423.18 L9962.41 1423.18 L9962.41 1423.18  Z\" fill=\"#009af9\" fill-rule=\"evenodd\" fill-opacity=\"1\"/>\n",
       "<polyline clip-path=\"url(#clip132)\" style=\"stroke:#000000; stroke-linecap:round; stroke-linejoin:round; stroke-width:4; stroke-opacity:1; fill:none\" points=\"9962.41,1423.18 9962.41,1423.18 10071.9,1423.18 9962.41,1423.18 \"/>\n",
       "<path clip-path=\"url(#clip132)\" d=\"M10071.9 1423.18 L10071.9 1423.18 L10181.5 1423.18 L10181.5 1423.18 L10071.9 1423.18 L10071.9 1423.18  Z\" fill=\"#009af9\" fill-rule=\"evenodd\" fill-opacity=\"1\"/>\n",
       "<polyline clip-path=\"url(#clip132)\" style=\"stroke:#000000; stroke-linecap:round; stroke-linejoin:round; stroke-width:4; stroke-opacity:1; fill:none\" points=\"10071.9,1423.18 10071.9,1423.18 10181.5,1423.18 10071.9,1423.18 \"/>\n",
       "<path clip-path=\"url(#clip132)\" d=\"M10181.5 1423.18 L10181.5 1423.18 L10291 1423.18 L10291 1423.18 L10181.5 1423.18 L10181.5 1423.18  Z\" fill=\"#009af9\" fill-rule=\"evenodd\" fill-opacity=\"1\"/>\n",
       "<polyline clip-path=\"url(#clip132)\" style=\"stroke:#000000; stroke-linecap:round; stroke-linejoin:round; stroke-width:4; stroke-opacity:1; fill:none\" points=\"10181.5,1423.18 10181.5,1423.18 10291,1423.18 10181.5,1423.18 \"/>\n",
       "<path clip-path=\"url(#clip132)\" d=\"M10291 1423.18 L10291 1423.18 L10400.6 1423.18 L10400.6 1423.18 L10291 1423.18 L10291 1423.18  Z\" fill=\"#009af9\" fill-rule=\"evenodd\" fill-opacity=\"1\"/>\n",
       "<polyline clip-path=\"url(#clip132)\" style=\"stroke:#000000; stroke-linecap:round; stroke-linejoin:round; stroke-width:4; stroke-opacity:1; fill:none\" points=\"10291,1423.18 10291,1423.18 10400.6,1423.18 10291,1423.18 \"/>\n",
       "<path clip-path=\"url(#clip132)\" d=\"M10400.6 1423.18 L10400.6 1423.18 L10510.1 1423.18 L10510.1 1423.18 L10400.6 1423.18 L10400.6 1423.18  Z\" fill=\"#009af9\" fill-rule=\"evenodd\" fill-opacity=\"1\"/>\n",
       "<polyline clip-path=\"url(#clip132)\" style=\"stroke:#000000; stroke-linecap:round; stroke-linejoin:round; stroke-width:4; stroke-opacity:1; fill:none\" points=\"10400.6,1423.18 10400.6,1423.18 10510.1,1423.18 10400.6,1423.18 \"/>\n",
       "<path clip-path=\"url(#clip132)\" d=\"M10510.1 1423.18 L10510.1 1423.18 L10619.6 1423.18 L10619.6 1423.18 L10510.1 1423.18 L10510.1 1423.18  Z\" fill=\"#009af9\" fill-rule=\"evenodd\" fill-opacity=\"1\"/>\n",
       "<polyline clip-path=\"url(#clip132)\" style=\"stroke:#000000; stroke-linecap:round; stroke-linejoin:round; stroke-width:4; stroke-opacity:1; fill:none\" points=\"10510.1,1423.18 10510.1,1423.18 10619.6,1423.18 10510.1,1423.18 \"/>\n",
       "<path clip-path=\"url(#clip132)\" d=\"M10619.6 1423.18 L10619.6 1423.18 L10729.2 1423.18 L10729.2 1423.18 L10619.6 1423.18 L10619.6 1423.18  Z\" fill=\"#009af9\" fill-rule=\"evenodd\" fill-opacity=\"1\"/>\n",
       "<polyline clip-path=\"url(#clip132)\" style=\"stroke:#000000; stroke-linecap:round; stroke-linejoin:round; stroke-width:4; stroke-opacity:1; fill:none\" points=\"10619.6,1423.18 10619.6,1423.18 10729.2,1423.18 10619.6,1423.18 \"/>\n",
       "<path clip-path=\"url(#clip132)\" d=\"M10729.2 1423.18 L10729.2 1423.18 L10838.7 1423.18 L10838.7 1423.18 L10729.2 1423.18 L10729.2 1423.18  Z\" fill=\"#009af9\" fill-rule=\"evenodd\" fill-opacity=\"1\"/>\n",
       "<polyline clip-path=\"url(#clip132)\" style=\"stroke:#000000; stroke-linecap:round; stroke-linejoin:round; stroke-width:4; stroke-opacity:1; fill:none\" points=\"10729.2,1423.18 10729.2,1423.18 10838.7,1423.18 10729.2,1423.18 \"/>\n",
       "<path clip-path=\"url(#clip132)\" d=\"M10838.7 1423.18 L10838.7 1423.18 L10948.2 1423.18 L10948.2 1423.18 L10838.7 1423.18 L10838.7 1423.18  Z\" fill=\"#009af9\" fill-rule=\"evenodd\" fill-opacity=\"1\"/>\n",
       "<polyline clip-path=\"url(#clip132)\" style=\"stroke:#000000; stroke-linecap:round; stroke-linejoin:round; stroke-width:4; stroke-opacity:1; fill:none\" points=\"10838.7,1423.18 10838.7,1423.18 10948.2,1423.18 10838.7,1423.18 \"/>\n",
       "<path clip-path=\"url(#clip132)\" d=\"M10948.2 1423.18 L10948.2 1423.18 L11057.8 1423.18 L11057.8 1423.18 L10948.2 1423.18 L10948.2 1423.18  Z\" fill=\"#009af9\" fill-rule=\"evenodd\" fill-opacity=\"1\"/>\n",
       "<polyline clip-path=\"url(#clip132)\" style=\"stroke:#000000; stroke-linecap:round; stroke-linejoin:round; stroke-width:4; stroke-opacity:1; fill:none\" points=\"10948.2,1423.18 10948.2,1423.18 11057.8,1423.18 10948.2,1423.18 \"/>\n",
       "<path clip-path=\"url(#clip132)\" d=\"M11057.8 1423.18 L11057.8 1423.18 L11167.3 1423.18 L11167.3 1423.18 L11057.8 1423.18 L11057.8 1423.18  Z\" fill=\"#009af9\" fill-rule=\"evenodd\" fill-opacity=\"1\"/>\n",
       "<polyline clip-path=\"url(#clip132)\" style=\"stroke:#000000; stroke-linecap:round; stroke-linejoin:round; stroke-width:4; stroke-opacity:1; fill:none\" points=\"11057.8,1423.18 11057.8,1423.18 11167.3,1423.18 11057.8,1423.18 \"/>\n",
       "<path clip-path=\"url(#clip132)\" d=\"M11167.3 1423.18 L11167.3 1423.18 L11276.9 1423.18 L11276.9 1423.18 L11167.3 1423.18 L11167.3 1423.18  Z\" fill=\"#009af9\" fill-rule=\"evenodd\" fill-opacity=\"1\"/>\n",
       "<polyline clip-path=\"url(#clip132)\" style=\"stroke:#000000; stroke-linecap:round; stroke-linejoin:round; stroke-width:4; stroke-opacity:1; fill:none\" points=\"11167.3,1423.18 11167.3,1423.18 11276.9,1423.18 11167.3,1423.18 \"/>\n",
       "<path clip-path=\"url(#clip132)\" d=\"M11276.9 1423.18 L11276.9 1423.18 L11386.4 1423.18 L11386.4 1423.18 L11276.9 1423.18 L11276.9 1423.18  Z\" fill=\"#009af9\" fill-rule=\"evenodd\" fill-opacity=\"1\"/>\n",
       "<polyline clip-path=\"url(#clip132)\" style=\"stroke:#000000; stroke-linecap:round; stroke-linejoin:round; stroke-width:4; stroke-opacity:1; fill:none\" points=\"11276.9,1423.18 11276.9,1423.18 11386.4,1423.18 11276.9,1423.18 \"/>\n",
       "<path clip-path=\"url(#clip132)\" d=\"M11386.4 1423.18 L11386.4 1423.18 L11495.9 1423.18 L11495.9 1423.18 L11386.4 1423.18 L11386.4 1423.18  Z\" fill=\"#009af9\" fill-rule=\"evenodd\" fill-opacity=\"1\"/>\n",
       "<polyline clip-path=\"url(#clip132)\" style=\"stroke:#000000; stroke-linecap:round; stroke-linejoin:round; stroke-width:4; stroke-opacity:1; fill:none\" points=\"11386.4,1423.18 11386.4,1423.18 11495.9,1423.18 11386.4,1423.18 \"/>\n",
       "<path clip-path=\"url(#clip132)\" d=\"M11495.9 1423.18 L11495.9 1423.18 L11605.5 1423.18 L11605.5 1423.18 L11495.9 1423.18 L11495.9 1423.18  Z\" fill=\"#009af9\" fill-rule=\"evenodd\" fill-opacity=\"1\"/>\n",
       "<polyline clip-path=\"url(#clip132)\" style=\"stroke:#000000; stroke-linecap:round; stroke-linejoin:round; stroke-width:4; stroke-opacity:1; fill:none\" points=\"11495.9,1423.18 11495.9,1423.18 11605.5,1423.18 11495.9,1423.18 \"/>\n",
       "<path clip-path=\"url(#clip132)\" d=\"M11605.5 1423.18 L11605.5 1423.18 L11715 1423.18 L11715 1423.18 L11605.5 1423.18 L11605.5 1423.18  Z\" fill=\"#009af9\" fill-rule=\"evenodd\" fill-opacity=\"1\"/>\n",
       "<polyline clip-path=\"url(#clip132)\" style=\"stroke:#000000; stroke-linecap:round; stroke-linejoin:round; stroke-width:4; stroke-opacity:1; fill:none\" points=\"11605.5,1423.18 11605.5,1423.18 11715,1423.18 11605.5,1423.18 \"/>\n",
       "<path clip-path=\"url(#clip132)\" d=\"M11715 1423.18 L11715 1423.18 L11824.5 1423.18 L11824.5 1423.18 L11715 1423.18 L11715 1423.18  Z\" fill=\"#009af9\" fill-rule=\"evenodd\" fill-opacity=\"1\"/>\n",
       "<polyline clip-path=\"url(#clip132)\" style=\"stroke:#000000; stroke-linecap:round; stroke-linejoin:round; stroke-width:4; stroke-opacity:1; fill:none\" points=\"11715,1423.18 11715,1423.18 11824.5,1423.18 11715,1423.18 \"/>\n",
       "<path clip-path=\"url(#clip132)\" d=\"M11824.5 1423.18 L11824.5 1423.18 L11934.1 1423.18 L11934.1 1423.18 L11824.5 1423.18 L11824.5 1423.18  Z\" fill=\"#009af9\" fill-rule=\"evenodd\" fill-opacity=\"1\"/>\n",
       "<polyline clip-path=\"url(#clip132)\" style=\"stroke:#000000; stroke-linecap:round; stroke-linejoin:round; stroke-width:4; stroke-opacity:1; fill:none\" points=\"11824.5,1423.18 11824.5,1423.18 11934.1,1423.18 11824.5,1423.18 \"/>\n",
       "<path clip-path=\"url(#clip132)\" d=\"M11934.1 1423.18 L11934.1 1423.18 L12043.6 1423.18 L12043.6 1423.18 L11934.1 1423.18 L11934.1 1423.18  Z\" fill=\"#009af9\" fill-rule=\"evenodd\" fill-opacity=\"1\"/>\n",
       "<polyline clip-path=\"url(#clip132)\" style=\"stroke:#000000; stroke-linecap:round; stroke-linejoin:round; stroke-width:4; stroke-opacity:1; fill:none\" points=\"11934.1,1423.18 11934.1,1423.18 12043.6,1423.18 11934.1,1423.18 \"/>\n",
       "<path clip-path=\"url(#clip132)\" d=\"M12043.6 1423.18 L12043.6 1423.18 L12153.2 1423.18 L12153.2 1423.18 L12043.6 1423.18 L12043.6 1423.18  Z\" fill=\"#009af9\" fill-rule=\"evenodd\" fill-opacity=\"1\"/>\n",
       "<polyline clip-path=\"url(#clip132)\" style=\"stroke:#000000; stroke-linecap:round; stroke-linejoin:round; stroke-width:4; stroke-opacity:1; fill:none\" points=\"12043.6,1423.18 12043.6,1423.18 12153.2,1423.18 12043.6,1423.18 \"/>\n",
       "<path clip-path=\"url(#clip132)\" d=\"M12153.2 1423.18 L12153.2 1423.18 L12262.7 1423.18 L12262.7 1423.18 L12153.2 1423.18 L12153.2 1423.18  Z\" fill=\"#009af9\" fill-rule=\"evenodd\" fill-opacity=\"1\"/>\n",
       "<polyline clip-path=\"url(#clip132)\" style=\"stroke:#000000; stroke-linecap:round; stroke-linejoin:round; stroke-width:4; stroke-opacity:1; fill:none\" points=\"12153.2,1423.18 12153.2,1423.18 12262.7,1423.18 12153.2,1423.18 \"/>\n",
       "<path clip-path=\"url(#clip132)\" d=\"M12262.7 1423.18 L12262.7 1423.18 L12372.2 1423.18 L12372.2 1423.18 L12262.7 1423.18 L12262.7 1423.18  Z\" fill=\"#009af9\" fill-rule=\"evenodd\" fill-opacity=\"1\"/>\n",
       "<polyline clip-path=\"url(#clip132)\" style=\"stroke:#000000; stroke-linecap:round; stroke-linejoin:round; stroke-width:4; stroke-opacity:1; fill:none\" points=\"12262.7,1423.18 12262.7,1423.18 12372.2,1423.18 12262.7,1423.18 \"/>\n",
       "<path clip-path=\"url(#clip132)\" d=\"M12372.2 1423.18 L12372.2 1423.18 L12481.8 1423.18 L12481.8 1423.18 L12372.2 1423.18 L12372.2 1423.18  Z\" fill=\"#009af9\" fill-rule=\"evenodd\" fill-opacity=\"1\"/>\n",
       "<polyline clip-path=\"url(#clip132)\" style=\"stroke:#000000; stroke-linecap:round; stroke-linejoin:round; stroke-width:4; stroke-opacity:1; fill:none\" points=\"12372.2,1423.18 12372.2,1423.18 12481.8,1423.18 12372.2,1423.18 \"/>\n",
       "<path clip-path=\"url(#clip132)\" d=\"M12481.8 1423.18 L12481.8 1423.18 L12591.3 1423.18 L12591.3 1423.18 L12481.8 1423.18 L12481.8 1423.18  Z\" fill=\"#009af9\" fill-rule=\"evenodd\" fill-opacity=\"1\"/>\n",
       "<polyline clip-path=\"url(#clip132)\" style=\"stroke:#000000; stroke-linecap:round; stroke-linejoin:round; stroke-width:4; stroke-opacity:1; fill:none\" points=\"12481.8,1423.18 12481.8,1423.18 12591.3,1423.18 12481.8,1423.18 \"/>\n",
       "<path clip-path=\"url(#clip132)\" d=\"M12591.3 1423.18 L12591.3 1423.18 L12700.8 1423.18 L12700.8 1423.18 L12591.3 1423.18 L12591.3 1423.18  Z\" fill=\"#009af9\" fill-rule=\"evenodd\" fill-opacity=\"1\"/>\n",
       "<polyline clip-path=\"url(#clip132)\" style=\"stroke:#000000; stroke-linecap:round; stroke-linejoin:round; stroke-width:4; stroke-opacity:1; fill:none\" points=\"12591.3,1423.18 12591.3,1423.18 12700.8,1423.18 12591.3,1423.18 \"/>\n",
       "<path clip-path=\"url(#clip132)\" d=\"M12700.8 1423.18 L12700.8 1423.18 L12810.4 1423.18 L12810.4 1423.18 L12700.8 1423.18 L12700.8 1423.18  Z\" fill=\"#009af9\" fill-rule=\"evenodd\" fill-opacity=\"1\"/>\n",
       "<polyline clip-path=\"url(#clip132)\" style=\"stroke:#000000; stroke-linecap:round; stroke-linejoin:round; stroke-width:4; stroke-opacity:1; fill:none\" points=\"12700.8,1423.18 12700.8,1423.18 12810.4,1423.18 12700.8,1423.18 \"/>\n",
       "<path clip-path=\"url(#clip132)\" d=\"M12810.4 1423.18 L12810.4 1423.18 L12919.9 1423.18 L12919.9 1423.18 L12810.4 1423.18 L12810.4 1423.18  Z\" fill=\"#009af9\" fill-rule=\"evenodd\" fill-opacity=\"1\"/>\n",
       "<polyline clip-path=\"url(#clip132)\" style=\"stroke:#000000; stroke-linecap:round; stroke-linejoin:round; stroke-width:4; stroke-opacity:1; fill:none\" points=\"12810.4,1423.18 12810.4,1423.18 12919.9,1423.18 12810.4,1423.18 \"/>\n",
       "<path clip-path=\"url(#clip132)\" d=\"M12919.9 1423.18 L12919.9 1423.18 L13029.5 1423.18 L13029.5 1423.18 L12919.9 1423.18 L12919.9 1423.18  Z\" fill=\"#009af9\" fill-rule=\"evenodd\" fill-opacity=\"1\"/>\n",
       "<polyline clip-path=\"url(#clip132)\" style=\"stroke:#000000; stroke-linecap:round; stroke-linejoin:round; stroke-width:4; stroke-opacity:1; fill:none\" points=\"12919.9,1423.18 12919.9,1423.18 13029.5,1423.18 12919.9,1423.18 \"/>\n",
       "<path clip-path=\"url(#clip132)\" d=\"M13029.5 1423.18 L13029.5 1423.18 L13139 1423.18 L13139 1423.18 L13029.5 1423.18 L13029.5 1423.18  Z\" fill=\"#009af9\" fill-rule=\"evenodd\" fill-opacity=\"1\"/>\n",
       "<polyline clip-path=\"url(#clip132)\" style=\"stroke:#000000; stroke-linecap:round; stroke-linejoin:round; stroke-width:4; stroke-opacity:1; fill:none\" points=\"13029.5,1423.18 13029.5,1423.18 13139,1423.18 13029.5,1423.18 \"/>\n",
       "<path clip-path=\"url(#clip132)\" d=\"M13139 1423.18 L13139 1423.18 L13248.5 1423.18 L13248.5 1423.18 L13139 1423.18 L13139 1423.18  Z\" fill=\"#009af9\" fill-rule=\"evenodd\" fill-opacity=\"1\"/>\n",
       "<polyline clip-path=\"url(#clip132)\" style=\"stroke:#000000; stroke-linecap:round; stroke-linejoin:round; stroke-width:4; stroke-opacity:1; fill:none\" points=\"13139,1423.18 13139,1423.18 13248.5,1423.18 13139,1423.18 \"/>\n",
       "<path clip-path=\"url(#clip132)\" d=\"M13248.5 1415.18 L13248.5 1423.18 L13358.1 1423.18 L13358.1 1415.18 L13248.5 1415.18 L13248.5 1415.18  Z\" fill=\"#009af9\" fill-rule=\"evenodd\" fill-opacity=\"1\"/>\n",
       "<polyline clip-path=\"url(#clip132)\" style=\"stroke:#000000; stroke-linecap:round; stroke-linejoin:round; stroke-width:4; stroke-opacity:1; fill:none\" points=\"13248.5,1415.18 13248.5,1423.18 13358.1,1423.18 13358.1,1415.18 13248.5,1415.18 \"/>\n",
       "<path clip-path=\"url(#clip132)\" d=\"M13358.1 1423.18 L13358.1 1423.18 L13467.6 1423.18 L13467.6 1423.18 L13358.1 1423.18 L13358.1 1423.18  Z\" fill=\"#009af9\" fill-rule=\"evenodd\" fill-opacity=\"1\"/>\n",
       "<polyline clip-path=\"url(#clip132)\" style=\"stroke:#000000; stroke-linecap:round; stroke-linejoin:round; stroke-width:4; stroke-opacity:1; fill:none\" points=\"13358.1,1423.18 13358.1,1423.18 13467.6,1423.18 13358.1,1423.18 \"/>\n",
       "<path clip-path=\"url(#clip132)\" d=\"M13467.6 1423.18 L13467.6 1423.18 L13577.1 1423.18 L13577.1 1423.18 L13467.6 1423.18 L13467.6 1423.18  Z\" fill=\"#009af9\" fill-rule=\"evenodd\" fill-opacity=\"1\"/>\n",
       "<polyline clip-path=\"url(#clip132)\" style=\"stroke:#000000; stroke-linecap:round; stroke-linejoin:round; stroke-width:4; stroke-opacity:1; fill:none\" points=\"13467.6,1423.18 13467.6,1423.18 13577.1,1423.18 13467.6,1423.18 \"/>\n",
       "<path clip-path=\"url(#clip132)\" d=\"M13577.1 1423.18 L13577.1 1423.18 L13686.7 1423.18 L13686.7 1423.18 L13577.1 1423.18 L13577.1 1423.18  Z\" fill=\"#009af9\" fill-rule=\"evenodd\" fill-opacity=\"1\"/>\n",
       "<polyline clip-path=\"url(#clip132)\" style=\"stroke:#000000; stroke-linecap:round; stroke-linejoin:round; stroke-width:4; stroke-opacity:1; fill:none\" points=\"13577.1,1423.18 13577.1,1423.18 13686.7,1423.18 13577.1,1423.18 \"/>\n",
       "<path clip-path=\"url(#clip132)\" d=\"M13686.7 1423.18 L13686.7 1423.18 L13796.2 1423.18 L13796.2 1423.18 L13686.7 1423.18 L13686.7 1423.18  Z\" fill=\"#009af9\" fill-rule=\"evenodd\" fill-opacity=\"1\"/>\n",
       "<polyline clip-path=\"url(#clip132)\" style=\"stroke:#000000; stroke-linecap:round; stroke-linejoin:round; stroke-width:4; stroke-opacity:1; fill:none\" points=\"13686.7,1423.18 13686.7,1423.18 13796.2,1423.18 13686.7,1423.18 \"/>\n",
       "<path clip-path=\"url(#clip132)\" d=\"M13796.2 1423.18 L13796.2 1423.18 L13905.7 1423.18 L13905.7 1423.18 L13796.2 1423.18 L13796.2 1423.18  Z\" fill=\"#009af9\" fill-rule=\"evenodd\" fill-opacity=\"1\"/>\n",
       "<polyline clip-path=\"url(#clip132)\" style=\"stroke:#000000; stroke-linecap:round; stroke-linejoin:round; stroke-width:4; stroke-opacity:1; fill:none\" points=\"13796.2,1423.18 13796.2,1423.18 13905.7,1423.18 13796.2,1423.18 \"/>\n",
       "<path clip-path=\"url(#clip132)\" d=\"M13905.7 1423.18 L13905.7 1423.18 L14015.3 1423.18 L14015.3 1423.18 L13905.7 1423.18 L13905.7 1423.18  Z\" fill=\"#009af9\" fill-rule=\"evenodd\" fill-opacity=\"1\"/>\n",
       "<polyline clip-path=\"url(#clip132)\" style=\"stroke:#000000; stroke-linecap:round; stroke-linejoin:round; stroke-width:4; stroke-opacity:1; fill:none\" points=\"13905.7,1423.18 13905.7,1423.18 14015.3,1423.18 13905.7,1423.18 \"/>\n",
       "<path clip-path=\"url(#clip132)\" d=\"M14015.3 1423.18 L14015.3 1423.18 L14124.8 1423.18 L14124.8 1423.18 L14015.3 1423.18 L14015.3 1423.18  Z\" fill=\"#009af9\" fill-rule=\"evenodd\" fill-opacity=\"1\"/>\n",
       "<polyline clip-path=\"url(#clip132)\" style=\"stroke:#000000; stroke-linecap:round; stroke-linejoin:round; stroke-width:4; stroke-opacity:1; fill:none\" points=\"14015.3,1423.18 14015.3,1423.18 14124.8,1423.18 14015.3,1423.18 \"/>\n",
       "<path clip-path=\"url(#clip132)\" d=\"M14124.8 1423.18 L14124.8 1423.18 L14234.4 1423.18 L14234.4 1423.18 L14124.8 1423.18 L14124.8 1423.18  Z\" fill=\"#009af9\" fill-rule=\"evenodd\" fill-opacity=\"1\"/>\n",
       "<polyline clip-path=\"url(#clip132)\" style=\"stroke:#000000; stroke-linecap:round; stroke-linejoin:round; stroke-width:4; stroke-opacity:1; fill:none\" points=\"14124.8,1423.18 14124.8,1423.18 14234.4,1423.18 14124.8,1423.18 \"/>\n",
       "<path clip-path=\"url(#clip132)\" d=\"M14234.4 1423.18 L14234.4 1423.18 L14343.9 1423.18 L14343.9 1423.18 L14234.4 1423.18 L14234.4 1423.18  Z\" fill=\"#009af9\" fill-rule=\"evenodd\" fill-opacity=\"1\"/>\n",
       "<polyline clip-path=\"url(#clip132)\" style=\"stroke:#000000; stroke-linecap:round; stroke-linejoin:round; stroke-width:4; stroke-opacity:1; fill:none\" points=\"14234.4,1423.18 14234.4,1423.18 14343.9,1423.18 14234.4,1423.18 \"/>\n",
       "<path clip-path=\"url(#clip132)\" d=\"M14343.9 1423.18 L14343.9 1423.18 L14453.4 1423.18 L14453.4 1423.18 L14343.9 1423.18 L14343.9 1423.18  Z\" fill=\"#009af9\" fill-rule=\"evenodd\" fill-opacity=\"1\"/>\n",
       "<polyline clip-path=\"url(#clip132)\" style=\"stroke:#000000; stroke-linecap:round; stroke-linejoin:round; stroke-width:4; stroke-opacity:1; fill:none\" points=\"14343.9,1423.18 14343.9,1423.18 14453.4,1423.18 14343.9,1423.18 \"/>\n",
       "<path clip-path=\"url(#clip132)\" d=\"M14453.4 1415.18 L14453.4 1423.18 L14563 1423.18 L14563 1415.18 L14453.4 1415.18 L14453.4 1415.18  Z\" fill=\"#009af9\" fill-rule=\"evenodd\" fill-opacity=\"1\"/>\n",
       "<polyline clip-path=\"url(#clip132)\" style=\"stroke:#000000; stroke-linecap:round; stroke-linejoin:round; stroke-width:4; stroke-opacity:1; fill:none\" points=\"14453.4,1415.18 14453.4,1423.18 14563,1423.18 14563,1415.18 14453.4,1415.18 \"/>\n",
       "<path clip-path=\"url(#clip132)\" d=\"M14563 1423.18 L14563 1423.18 L14672.5 1423.18 L14672.5 1423.18 L14563 1423.18 L14563 1423.18  Z\" fill=\"#009af9\" fill-rule=\"evenodd\" fill-opacity=\"1\"/>\n",
       "<polyline clip-path=\"url(#clip132)\" style=\"stroke:#000000; stroke-linecap:round; stroke-linejoin:round; stroke-width:4; stroke-opacity:1; fill:none\" points=\"14563,1423.18 14563,1423.18 14672.5,1423.18 14563,1423.18 \"/>\n",
       "<path clip-path=\"url(#clip132)\" d=\"M14672.5 1423.18 L14672.5 1423.18 L14782 1423.18 L14782 1423.18 L14672.5 1423.18 L14672.5 1423.18  Z\" fill=\"#009af9\" fill-rule=\"evenodd\" fill-opacity=\"1\"/>\n",
       "<polyline clip-path=\"url(#clip132)\" style=\"stroke:#000000; stroke-linecap:round; stroke-linejoin:round; stroke-width:4; stroke-opacity:1; fill:none\" points=\"14672.5,1423.18 14672.5,1423.18 14782,1423.18 14672.5,1423.18 \"/>\n",
       "<path clip-path=\"url(#clip132)\" d=\"M14782 1423.18 L14782 1423.18 L14891.6 1423.18 L14891.6 1423.18 L14782 1423.18 L14782 1423.18  Z\" fill=\"#009af9\" fill-rule=\"evenodd\" fill-opacity=\"1\"/>\n",
       "<polyline clip-path=\"url(#clip132)\" style=\"stroke:#000000; stroke-linecap:round; stroke-linejoin:round; stroke-width:4; stroke-opacity:1; fill:none\" points=\"14782,1423.18 14782,1423.18 14891.6,1423.18 14782,1423.18 \"/>\n",
       "<path clip-path=\"url(#clip132)\" d=\"M14891.6 1423.18 L14891.6 1423.18 L15001.1 1423.18 L15001.1 1423.18 L14891.6 1423.18 L14891.6 1423.18  Z\" fill=\"#009af9\" fill-rule=\"evenodd\" fill-opacity=\"1\"/>\n",
       "<polyline clip-path=\"url(#clip132)\" style=\"stroke:#000000; stroke-linecap:round; stroke-linejoin:round; stroke-width:4; stroke-opacity:1; fill:none\" points=\"14891.6,1423.18 14891.6,1423.18 15001.1,1423.18 14891.6,1423.18 \"/>\n",
       "<path clip-path=\"url(#clip132)\" d=\"M15001.1 1423.18 L15001.1 1423.18 L15110.7 1423.18 L15110.7 1423.18 L15001.1 1423.18 L15001.1 1423.18  Z\" fill=\"#009af9\" fill-rule=\"evenodd\" fill-opacity=\"1\"/>\n",
       "<polyline clip-path=\"url(#clip132)\" style=\"stroke:#000000; stroke-linecap:round; stroke-linejoin:round; stroke-width:4; stroke-opacity:1; fill:none\" points=\"15001.1,1423.18 15001.1,1423.18 15110.7,1423.18 15001.1,1423.18 \"/>\n",
       "<path clip-path=\"url(#clip132)\" d=\"M15110.7 1423.18 L15110.7 1423.18 L15220.2 1423.18 L15220.2 1423.18 L15110.7 1423.18 L15110.7 1423.18  Z\" fill=\"#009af9\" fill-rule=\"evenodd\" fill-opacity=\"1\"/>\n",
       "<polyline clip-path=\"url(#clip132)\" style=\"stroke:#000000; stroke-linecap:round; stroke-linejoin:round; stroke-width:4; stroke-opacity:1; fill:none\" points=\"15110.7,1423.18 15110.7,1423.18 15220.2,1423.18 15110.7,1423.18 \"/>\n",
       "<path clip-path=\"url(#clip132)\" d=\"M15220.2 1423.18 L15220.2 1423.18 L15329.7 1423.18 L15329.7 1423.18 L15220.2 1423.18 L15220.2 1423.18  Z\" fill=\"#009af9\" fill-rule=\"evenodd\" fill-opacity=\"1\"/>\n",
       "<polyline clip-path=\"url(#clip132)\" style=\"stroke:#000000; stroke-linecap:round; stroke-linejoin:round; stroke-width:4; stroke-opacity:1; fill:none\" points=\"15220.2,1423.18 15220.2,1423.18 15329.7,1423.18 15220.2,1423.18 \"/>\n",
       "<path clip-path=\"url(#clip132)\" d=\"M15329.7 1423.18 L15329.7 1423.18 L15439.3 1423.18 L15439.3 1423.18 L15329.7 1423.18 L15329.7 1423.18  Z\" fill=\"#009af9\" fill-rule=\"evenodd\" fill-opacity=\"1\"/>\n",
       "<polyline clip-path=\"url(#clip132)\" style=\"stroke:#000000; stroke-linecap:round; stroke-linejoin:round; stroke-width:4; stroke-opacity:1; fill:none\" points=\"15329.7,1423.18 15329.7,1423.18 15439.3,1423.18 15329.7,1423.18 \"/>\n",
       "<path clip-path=\"url(#clip132)\" d=\"M15439.3 1423.18 L15439.3 1423.18 L15548.8 1423.18 L15548.8 1423.18 L15439.3 1423.18 L15439.3 1423.18  Z\" fill=\"#009af9\" fill-rule=\"evenodd\" fill-opacity=\"1\"/>\n",
       "<polyline clip-path=\"url(#clip132)\" style=\"stroke:#000000; stroke-linecap:round; stroke-linejoin:round; stroke-width:4; stroke-opacity:1; fill:none\" points=\"15439.3,1423.18 15439.3,1423.18 15548.8,1423.18 15439.3,1423.18 \"/>\n",
       "<path clip-path=\"url(#clip132)\" d=\"M15548.8 1423.18 L15548.8 1423.18 L15658.3 1423.18 L15658.3 1423.18 L15548.8 1423.18 L15548.8 1423.18  Z\" fill=\"#009af9\" fill-rule=\"evenodd\" fill-opacity=\"1\"/>\n",
       "<polyline clip-path=\"url(#clip132)\" style=\"stroke:#000000; stroke-linecap:round; stroke-linejoin:round; stroke-width:4; stroke-opacity:1; fill:none\" points=\"15548.8,1423.18 15548.8,1423.18 15658.3,1423.18 15548.8,1423.18 \"/>\n",
       "<path clip-path=\"url(#clip132)\" d=\"M15658.3 1423.18 L15658.3 1423.18 L15767.9 1423.18 L15767.9 1423.18 L15658.3 1423.18 L15658.3 1423.18  Z\" fill=\"#009af9\" fill-rule=\"evenodd\" fill-opacity=\"1\"/>\n",
       "<polyline clip-path=\"url(#clip132)\" style=\"stroke:#000000; stroke-linecap:round; stroke-linejoin:round; stroke-width:4; stroke-opacity:1; fill:none\" points=\"15658.3,1423.18 15658.3,1423.18 15767.9,1423.18 15658.3,1423.18 \"/>\n",
       "<path clip-path=\"url(#clip132)\" d=\"M15767.9 1423.18 L15767.9 1423.18 L15877.4 1423.18 L15877.4 1423.18 L15767.9 1423.18 L15767.9 1423.18  Z\" fill=\"#009af9\" fill-rule=\"evenodd\" fill-opacity=\"1\"/>\n",
       "<polyline clip-path=\"url(#clip132)\" style=\"stroke:#000000; stroke-linecap:round; stroke-linejoin:round; stroke-width:4; stroke-opacity:1; fill:none\" points=\"15767.9,1423.18 15767.9,1423.18 15877.4,1423.18 15767.9,1423.18 \"/>\n",
       "<path clip-path=\"url(#clip132)\" d=\"M15877.4 1423.18 L15877.4 1423.18 L15987 1423.18 L15987 1423.18 L15877.4 1423.18 L15877.4 1423.18  Z\" fill=\"#009af9\" fill-rule=\"evenodd\" fill-opacity=\"1\"/>\n",
       "<polyline clip-path=\"url(#clip132)\" style=\"stroke:#000000; stroke-linecap:round; stroke-linejoin:round; stroke-width:4; stroke-opacity:1; fill:none\" points=\"15877.4,1423.18 15877.4,1423.18 15987,1423.18 15877.4,1423.18 \"/>\n",
       "<path clip-path=\"url(#clip132)\" d=\"M15987 1423.18 L15987 1423.18 L16096.5 1423.18 L16096.5 1423.18 L15987 1423.18 L15987 1423.18  Z\" fill=\"#009af9\" fill-rule=\"evenodd\" fill-opacity=\"1\"/>\n",
       "<polyline clip-path=\"url(#clip132)\" style=\"stroke:#000000; stroke-linecap:round; stroke-linejoin:round; stroke-width:4; stroke-opacity:1; fill:none\" points=\"15987,1423.18 15987,1423.18 16096.5,1423.18 15987,1423.18 \"/>\n",
       "<path clip-path=\"url(#clip132)\" d=\"M16096.5 1423.18 L16096.5 1423.18 L16206 1423.18 L16206 1423.18 L16096.5 1423.18 L16096.5 1423.18  Z\" fill=\"#009af9\" fill-rule=\"evenodd\" fill-opacity=\"1\"/>\n",
       "<polyline clip-path=\"url(#clip132)\" style=\"stroke:#000000; stroke-linecap:round; stroke-linejoin:round; stroke-width:4; stroke-opacity:1; fill:none\" points=\"16096.5,1423.18 16096.5,1423.18 16206,1423.18 16096.5,1423.18 \"/>\n",
       "<path clip-path=\"url(#clip132)\" d=\"M16206 1423.18 L16206 1423.18 L16315.6 1423.18 L16315.6 1423.18 L16206 1423.18 L16206 1423.18  Z\" fill=\"#009af9\" fill-rule=\"evenodd\" fill-opacity=\"1\"/>\n",
       "<polyline clip-path=\"url(#clip132)\" style=\"stroke:#000000; stroke-linecap:round; stroke-linejoin:round; stroke-width:4; stroke-opacity:1; fill:none\" points=\"16206,1423.18 16206,1423.18 16315.6,1423.18 16206,1423.18 \"/>\n",
       "<path clip-path=\"url(#clip132)\" d=\"M16315.6 1423.18 L16315.6 1423.18 L16425.1 1423.18 L16425.1 1423.18 L16315.6 1423.18 L16315.6 1423.18  Z\" fill=\"#009af9\" fill-rule=\"evenodd\" fill-opacity=\"1\"/>\n",
       "<polyline clip-path=\"url(#clip132)\" style=\"stroke:#000000; stroke-linecap:round; stroke-linejoin:round; stroke-width:4; stroke-opacity:1; fill:none\" points=\"16315.6,1423.18 16315.6,1423.18 16425.1,1423.18 16315.6,1423.18 \"/>\n",
       "<path clip-path=\"url(#clip132)\" d=\"M16425.1 1423.18 L16425.1 1423.18 L16534.6 1423.18 L16534.6 1423.18 L16425.1 1423.18 L16425.1 1423.18  Z\" fill=\"#009af9\" fill-rule=\"evenodd\" fill-opacity=\"1\"/>\n",
       "<polyline clip-path=\"url(#clip132)\" style=\"stroke:#000000; stroke-linecap:round; stroke-linejoin:round; stroke-width:4; stroke-opacity:1; fill:none\" points=\"16425.1,1423.18 16425.1,1423.18 16534.6,1423.18 16425.1,1423.18 \"/>\n",
       "<path clip-path=\"url(#clip132)\" d=\"M16534.6 1423.18 L16534.6 1423.18 L16644.2 1423.18 L16644.2 1423.18 L16534.6 1423.18 L16534.6 1423.18  Z\" fill=\"#009af9\" fill-rule=\"evenodd\" fill-opacity=\"1\"/>\n",
       "<polyline clip-path=\"url(#clip132)\" style=\"stroke:#000000; stroke-linecap:round; stroke-linejoin:round; stroke-width:4; stroke-opacity:1; fill:none\" points=\"16534.6,1423.18 16534.6,1423.18 16644.2,1423.18 16534.6,1423.18 \"/>\n",
       "<path clip-path=\"url(#clip132)\" d=\"M16644.2 1423.18 L16644.2 1423.18 L16753.7 1423.18 L16753.7 1423.18 L16644.2 1423.18 L16644.2 1423.18  Z\" fill=\"#009af9\" fill-rule=\"evenodd\" fill-opacity=\"1\"/>\n",
       "<polyline clip-path=\"url(#clip132)\" style=\"stroke:#000000; stroke-linecap:round; stroke-linejoin:round; stroke-width:4; stroke-opacity:1; fill:none\" points=\"16644.2,1423.18 16644.2,1423.18 16753.7,1423.18 16644.2,1423.18 \"/>\n",
       "<path clip-path=\"url(#clip132)\" d=\"M16753.7 1423.18 L16753.7 1423.18 L16863.3 1423.18 L16863.3 1423.18 L16753.7 1423.18 L16753.7 1423.18  Z\" fill=\"#009af9\" fill-rule=\"evenodd\" fill-opacity=\"1\"/>\n",
       "<polyline clip-path=\"url(#clip132)\" style=\"stroke:#000000; stroke-linecap:round; stroke-linejoin:round; stroke-width:4; stroke-opacity:1; fill:none\" points=\"16753.7,1423.18 16753.7,1423.18 16863.3,1423.18 16753.7,1423.18 \"/>\n",
       "<path clip-path=\"url(#clip132)\" d=\"M16863.3 1423.18 L16863.3 1423.18 L16972.8 1423.18 L16972.8 1423.18 L16863.3 1423.18 L16863.3 1423.18  Z\" fill=\"#009af9\" fill-rule=\"evenodd\" fill-opacity=\"1\"/>\n",
       "<polyline clip-path=\"url(#clip132)\" style=\"stroke:#000000; stroke-linecap:round; stroke-linejoin:round; stroke-width:4; stroke-opacity:1; fill:none\" points=\"16863.3,1423.18 16863.3,1423.18 16972.8,1423.18 16863.3,1423.18 \"/>\n",
       "<path clip-path=\"url(#clip132)\" d=\"M16972.8 1423.18 L16972.8 1423.18 L17082.3 1423.18 L17082.3 1423.18 L16972.8 1423.18 L16972.8 1423.18  Z\" fill=\"#009af9\" fill-rule=\"evenodd\" fill-opacity=\"1\"/>\n",
       "<polyline clip-path=\"url(#clip132)\" style=\"stroke:#000000; stroke-linecap:round; stroke-linejoin:round; stroke-width:4; stroke-opacity:1; fill:none\" points=\"16972.8,1423.18 16972.8,1423.18 17082.3,1423.18 16972.8,1423.18 \"/>\n",
       "<path clip-path=\"url(#clip132)\" d=\"M17082.3 1423.18 L17082.3 1423.18 L17191.9 1423.18 L17191.9 1423.18 L17082.3 1423.18 L17082.3 1423.18  Z\" fill=\"#009af9\" fill-rule=\"evenodd\" fill-opacity=\"1\"/>\n",
       "<polyline clip-path=\"url(#clip132)\" style=\"stroke:#000000; stroke-linecap:round; stroke-linejoin:round; stroke-width:4; stroke-opacity:1; fill:none\" points=\"17082.3,1423.18 17082.3,1423.18 17191.9,1423.18 17082.3,1423.18 \"/>\n",
       "<path clip-path=\"url(#clip132)\" d=\"M17191.9 1423.18 L17191.9 1423.18 L17301.4 1423.18 L17301.4 1423.18 L17191.9 1423.18 L17191.9 1423.18  Z\" fill=\"#009af9\" fill-rule=\"evenodd\" fill-opacity=\"1\"/>\n",
       "<polyline clip-path=\"url(#clip132)\" style=\"stroke:#000000; stroke-linecap:round; stroke-linejoin:round; stroke-width:4; stroke-opacity:1; fill:none\" points=\"17191.9,1423.18 17191.9,1423.18 17301.4,1423.18 17191.9,1423.18 \"/>\n",
       "<path clip-path=\"url(#clip132)\" d=\"M17301.4 1423.18 L17301.4 1423.18 L17410.9 1423.18 L17410.9 1423.18 L17301.4 1423.18 L17301.4 1423.18  Z\" fill=\"#009af9\" fill-rule=\"evenodd\" fill-opacity=\"1\"/>\n",
       "<polyline clip-path=\"url(#clip132)\" style=\"stroke:#000000; stroke-linecap:round; stroke-linejoin:round; stroke-width:4; stroke-opacity:1; fill:none\" points=\"17301.4,1423.18 17301.4,1423.18 17410.9,1423.18 17301.4,1423.18 \"/>\n",
       "<path clip-path=\"url(#clip132)\" d=\"M17410.9 1423.18 L17410.9 1423.18 L17520.5 1423.18 L17520.5 1423.18 L17410.9 1423.18 L17410.9 1423.18  Z\" fill=\"#009af9\" fill-rule=\"evenodd\" fill-opacity=\"1\"/>\n",
       "<polyline clip-path=\"url(#clip132)\" style=\"stroke:#000000; stroke-linecap:round; stroke-linejoin:round; stroke-width:4; stroke-opacity:1; fill:none\" points=\"17410.9,1423.18 17410.9,1423.18 17520.5,1423.18 17410.9,1423.18 \"/>\n",
       "<path clip-path=\"url(#clip132)\" d=\"M17520.5 1423.18 L17520.5 1423.18 L17630 1423.18 L17630 1423.18 L17520.5 1423.18 L17520.5 1423.18  Z\" fill=\"#009af9\" fill-rule=\"evenodd\" fill-opacity=\"1\"/>\n",
       "<polyline clip-path=\"url(#clip132)\" style=\"stroke:#000000; stroke-linecap:round; stroke-linejoin:round; stroke-width:4; stroke-opacity:1; fill:none\" points=\"17520.5,1423.18 17520.5,1423.18 17630,1423.18 17520.5,1423.18 \"/>\n",
       "<path clip-path=\"url(#clip132)\" d=\"M17630 1423.18 L17630 1423.18 L17739.6 1423.18 L17739.6 1423.18 L17630 1423.18 L17630 1423.18  Z\" fill=\"#009af9\" fill-rule=\"evenodd\" fill-opacity=\"1\"/>\n",
       "<polyline clip-path=\"url(#clip132)\" style=\"stroke:#000000; stroke-linecap:round; stroke-linejoin:round; stroke-width:4; stroke-opacity:1; fill:none\" points=\"17630,1423.18 17630,1423.18 17739.6,1423.18 17630,1423.18 \"/>\n",
       "<path clip-path=\"url(#clip132)\" d=\"M17739.6 1423.18 L17739.6 1423.18 L17849.1 1423.18 L17849.1 1423.18 L17739.6 1423.18 L17739.6 1423.18  Z\" fill=\"#009af9\" fill-rule=\"evenodd\" fill-opacity=\"1\"/>\n",
       "<polyline clip-path=\"url(#clip132)\" style=\"stroke:#000000; stroke-linecap:round; stroke-linejoin:round; stroke-width:4; stroke-opacity:1; fill:none\" points=\"17739.6,1423.18 17739.6,1423.18 17849.1,1423.18 17739.6,1423.18 \"/>\n",
       "<path clip-path=\"url(#clip132)\" d=\"M17849.1 1423.18 L17849.1 1423.18 L17958.6 1423.18 L17958.6 1423.18 L17849.1 1423.18 L17849.1 1423.18  Z\" fill=\"#009af9\" fill-rule=\"evenodd\" fill-opacity=\"1\"/>\n",
       "<polyline clip-path=\"url(#clip132)\" style=\"stroke:#000000; stroke-linecap:round; stroke-linejoin:round; stroke-width:4; stroke-opacity:1; fill:none\" points=\"17849.1,1423.18 17849.1,1423.18 17958.6,1423.18 17849.1,1423.18 \"/>\n",
       "<path clip-path=\"url(#clip132)\" d=\"M17958.6 1423.18 L17958.6 1423.18 L18068.2 1423.18 L18068.2 1423.18 L17958.6 1423.18 L17958.6 1423.18  Z\" fill=\"#009af9\" fill-rule=\"evenodd\" fill-opacity=\"1\"/>\n",
       "<polyline clip-path=\"url(#clip132)\" style=\"stroke:#000000; stroke-linecap:round; stroke-linejoin:round; stroke-width:4; stroke-opacity:1; fill:none\" points=\"17958.6,1423.18 17958.6,1423.18 18068.2,1423.18 17958.6,1423.18 \"/>\n",
       "<path clip-path=\"url(#clip132)\" d=\"M18068.2 1423.18 L18068.2 1423.18 L18177.7 1423.18 L18177.7 1423.18 L18068.2 1423.18 L18068.2 1423.18  Z\" fill=\"#009af9\" fill-rule=\"evenodd\" fill-opacity=\"1\"/>\n",
       "<polyline clip-path=\"url(#clip132)\" style=\"stroke:#000000; stroke-linecap:round; stroke-linejoin:round; stroke-width:4; stroke-opacity:1; fill:none\" points=\"18068.2,1423.18 18068.2,1423.18 18177.7,1423.18 18068.2,1423.18 \"/>\n",
       "<path clip-path=\"url(#clip132)\" d=\"M18177.7 1423.18 L18177.7 1423.18 L18287.2 1423.18 L18287.2 1423.18 L18177.7 1423.18 L18177.7 1423.18  Z\" fill=\"#009af9\" fill-rule=\"evenodd\" fill-opacity=\"1\"/>\n",
       "<polyline clip-path=\"url(#clip132)\" style=\"stroke:#000000; stroke-linecap:round; stroke-linejoin:round; stroke-width:4; stroke-opacity:1; fill:none\" points=\"18177.7,1423.18 18177.7,1423.18 18287.2,1423.18 18177.7,1423.18 \"/>\n",
       "<path clip-path=\"url(#clip132)\" d=\"M18287.2 1423.18 L18287.2 1423.18 L18396.8 1423.18 L18396.8 1423.18 L18287.2 1423.18 L18287.2 1423.18  Z\" fill=\"#009af9\" fill-rule=\"evenodd\" fill-opacity=\"1\"/>\n",
       "<polyline clip-path=\"url(#clip132)\" style=\"stroke:#000000; stroke-linecap:round; stroke-linejoin:round; stroke-width:4; stroke-opacity:1; fill:none\" points=\"18287.2,1423.18 18287.2,1423.18 18396.8,1423.18 18287.2,1423.18 \"/>\n",
       "<path clip-path=\"url(#clip132)\" d=\"M18396.8 1423.18 L18396.8 1423.18 L18506.3 1423.18 L18506.3 1423.18 L18396.8 1423.18 L18396.8 1423.18  Z\" fill=\"#009af9\" fill-rule=\"evenodd\" fill-opacity=\"1\"/>\n",
       "<polyline clip-path=\"url(#clip132)\" style=\"stroke:#000000; stroke-linecap:round; stroke-linejoin:round; stroke-width:4; stroke-opacity:1; fill:none\" points=\"18396.8,1423.18 18396.8,1423.18 18506.3,1423.18 18396.8,1423.18 \"/>\n",
       "<path clip-path=\"url(#clip132)\" d=\"M18506.3 1423.18 L18506.3 1423.18 L18615.9 1423.18 L18615.9 1423.18 L18506.3 1423.18 L18506.3 1423.18  Z\" fill=\"#009af9\" fill-rule=\"evenodd\" fill-opacity=\"1\"/>\n",
       "<polyline clip-path=\"url(#clip132)\" style=\"stroke:#000000; stroke-linecap:round; stroke-linejoin:round; stroke-width:4; stroke-opacity:1; fill:none\" points=\"18506.3,1423.18 18506.3,1423.18 18615.9,1423.18 18506.3,1423.18 \"/>\n",
       "<path clip-path=\"url(#clip132)\" d=\"M18615.9 1423.18 L18615.9 1423.18 L18725.4 1423.18 L18725.4 1423.18 L18615.9 1423.18 L18615.9 1423.18  Z\" fill=\"#009af9\" fill-rule=\"evenodd\" fill-opacity=\"1\"/>\n",
       "<polyline clip-path=\"url(#clip132)\" style=\"stroke:#000000; stroke-linecap:round; stroke-linejoin:round; stroke-width:4; stroke-opacity:1; fill:none\" points=\"18615.9,1423.18 18615.9,1423.18 18725.4,1423.18 18615.9,1423.18 \"/>\n",
       "<path clip-path=\"url(#clip132)\" d=\"M18725.4 1423.18 L18725.4 1423.18 L18834.9 1423.18 L18834.9 1423.18 L18725.4 1423.18 L18725.4 1423.18  Z\" fill=\"#009af9\" fill-rule=\"evenodd\" fill-opacity=\"1\"/>\n",
       "<polyline clip-path=\"url(#clip132)\" style=\"stroke:#000000; stroke-linecap:round; stroke-linejoin:round; stroke-width:4; stroke-opacity:1; fill:none\" points=\"18725.4,1423.18 18725.4,1423.18 18834.9,1423.18 18725.4,1423.18 \"/>\n",
       "<path clip-path=\"url(#clip132)\" d=\"M18834.9 1423.18 L18834.9 1423.18 L18944.5 1423.18 L18944.5 1423.18 L18834.9 1423.18 L18834.9 1423.18  Z\" fill=\"#009af9\" fill-rule=\"evenodd\" fill-opacity=\"1\"/>\n",
       "<polyline clip-path=\"url(#clip132)\" style=\"stroke:#000000; stroke-linecap:round; stroke-linejoin:round; stroke-width:4; stroke-opacity:1; fill:none\" points=\"18834.9,1423.18 18834.9,1423.18 18944.5,1423.18 18834.9,1423.18 \"/>\n",
       "<path clip-path=\"url(#clip132)\" d=\"M18944.5 1423.18 L18944.5 1423.18 L19054 1423.18 L19054 1423.18 L18944.5 1423.18 L18944.5 1423.18  Z\" fill=\"#009af9\" fill-rule=\"evenodd\" fill-opacity=\"1\"/>\n",
       "<polyline clip-path=\"url(#clip132)\" style=\"stroke:#000000; stroke-linecap:round; stroke-linejoin:round; stroke-width:4; stroke-opacity:1; fill:none\" points=\"18944.5,1423.18 18944.5,1423.18 19054,1423.18 18944.5,1423.18 \"/>\n",
       "<path clip-path=\"url(#clip132)\" d=\"M19054 1423.18 L19054 1423.18 L19163.5 1423.18 L19163.5 1423.18 L19054 1423.18 L19054 1423.18  Z\" fill=\"#009af9\" fill-rule=\"evenodd\" fill-opacity=\"1\"/>\n",
       "<polyline clip-path=\"url(#clip132)\" style=\"stroke:#000000; stroke-linecap:round; stroke-linejoin:round; stroke-width:4; stroke-opacity:1; fill:none\" points=\"19054,1423.18 19054,1423.18 19163.5,1423.18 19054,1423.18 \"/>\n",
       "<path clip-path=\"url(#clip132)\" d=\"M19163.5 1423.18 L19163.5 1423.18 L19273.1 1423.18 L19273.1 1423.18 L19163.5 1423.18 L19163.5 1423.18  Z\" fill=\"#009af9\" fill-rule=\"evenodd\" fill-opacity=\"1\"/>\n",
       "<polyline clip-path=\"url(#clip132)\" style=\"stroke:#000000; stroke-linecap:round; stroke-linejoin:round; stroke-width:4; stroke-opacity:1; fill:none\" points=\"19163.5,1423.18 19163.5,1423.18 19273.1,1423.18 19163.5,1423.18 \"/>\n",
       "<path clip-path=\"url(#clip132)\" d=\"M19273.1 1423.18 L19273.1 1423.18 L19382.6 1423.18 L19382.6 1423.18 L19273.1 1423.18 L19273.1 1423.18  Z\" fill=\"#009af9\" fill-rule=\"evenodd\" fill-opacity=\"1\"/>\n",
       "<polyline clip-path=\"url(#clip132)\" style=\"stroke:#000000; stroke-linecap:round; stroke-linejoin:round; stroke-width:4; stroke-opacity:1; fill:none\" points=\"19273.1,1423.18 19273.1,1423.18 19382.6,1423.18 19273.1,1423.18 \"/>\n",
       "<path clip-path=\"url(#clip132)\" d=\"M19382.6 1423.18 L19382.6 1423.18 L19492.2 1423.18 L19492.2 1423.18 L19382.6 1423.18 L19382.6 1423.18  Z\" fill=\"#009af9\" fill-rule=\"evenodd\" fill-opacity=\"1\"/>\n",
       "<polyline clip-path=\"url(#clip132)\" style=\"stroke:#000000; stroke-linecap:round; stroke-linejoin:round; stroke-width:4; stroke-opacity:1; fill:none\" points=\"19382.6,1423.18 19382.6,1423.18 19492.2,1423.18 19382.6,1423.18 \"/>\n",
       "<path clip-path=\"url(#clip132)\" d=\"M19492.2 1423.18 L19492.2 1423.18 L19601.7 1423.18 L19601.7 1423.18 L19492.2 1423.18 L19492.2 1423.18  Z\" fill=\"#009af9\" fill-rule=\"evenodd\" fill-opacity=\"1\"/>\n",
       "<polyline clip-path=\"url(#clip132)\" style=\"stroke:#000000; stroke-linecap:round; stroke-linejoin:round; stroke-width:4; stroke-opacity:1; fill:none\" points=\"19492.2,1423.18 19492.2,1423.18 19601.7,1423.18 19492.2,1423.18 \"/>\n",
       "<path clip-path=\"url(#clip132)\" d=\"M19601.7 1423.18 L19601.7 1423.18 L19711.2 1423.18 L19711.2 1423.18 L19601.7 1423.18 L19601.7 1423.18  Z\" fill=\"#009af9\" fill-rule=\"evenodd\" fill-opacity=\"1\"/>\n",
       "<polyline clip-path=\"url(#clip132)\" style=\"stroke:#000000; stroke-linecap:round; stroke-linejoin:round; stroke-width:4; stroke-opacity:1; fill:none\" points=\"19601.7,1423.18 19601.7,1423.18 19711.2,1423.18 19601.7,1423.18 \"/>\n",
       "<path clip-path=\"url(#clip132)\" d=\"M19711.2 1423.18 L19711.2 1423.18 L19820.8 1423.18 L19820.8 1423.18 L19711.2 1423.18 L19711.2 1423.18  Z\" fill=\"#009af9\" fill-rule=\"evenodd\" fill-opacity=\"1\"/>\n",
       "<polyline clip-path=\"url(#clip132)\" style=\"stroke:#000000; stroke-linecap:round; stroke-linejoin:round; stroke-width:4; stroke-opacity:1; fill:none\" points=\"19711.2,1423.18 19711.2,1423.18 19820.8,1423.18 19711.2,1423.18 \"/>\n",
       "<path clip-path=\"url(#clip132)\" d=\"M19820.8 1423.18 L19820.8 1423.18 L19930.3 1423.18 L19930.3 1423.18 L19820.8 1423.18 L19820.8 1423.18  Z\" fill=\"#009af9\" fill-rule=\"evenodd\" fill-opacity=\"1\"/>\n",
       "<polyline clip-path=\"url(#clip132)\" style=\"stroke:#000000; stroke-linecap:round; stroke-linejoin:round; stroke-width:4; stroke-opacity:1; fill:none\" points=\"19820.8,1423.18 19820.8,1423.18 19930.3,1423.18 19820.8,1423.18 \"/>\n",
       "<path clip-path=\"url(#clip132)\" d=\"M19930.3 1423.18 L19930.3 1423.18 L20039.8 1423.18 L20039.8 1423.18 L19930.3 1423.18 L19930.3 1423.18  Z\" fill=\"#009af9\" fill-rule=\"evenodd\" fill-opacity=\"1\"/>\n",
       "<polyline clip-path=\"url(#clip132)\" style=\"stroke:#000000; stroke-linecap:round; stroke-linejoin:round; stroke-width:4; stroke-opacity:1; fill:none\" points=\"19930.3,1423.18 19930.3,1423.18 20039.8,1423.18 19930.3,1423.18 \"/>\n",
       "<path clip-path=\"url(#clip132)\" d=\"M20039.8 1423.18 L20039.8 1423.18 L20149.4 1423.18 L20149.4 1423.18 L20039.8 1423.18 L20039.8 1423.18  Z\" fill=\"#009af9\" fill-rule=\"evenodd\" fill-opacity=\"1\"/>\n",
       "<polyline clip-path=\"url(#clip132)\" style=\"stroke:#000000; stroke-linecap:round; stroke-linejoin:round; stroke-width:4; stroke-opacity:1; fill:none\" points=\"20039.8,1423.18 20039.8,1423.18 20149.4,1423.18 20039.8,1423.18 \"/>\n",
       "<path clip-path=\"url(#clip132)\" d=\"M20149.4 1423.18 L20149.4 1423.18 L20258.9 1423.18 L20258.9 1423.18 L20149.4 1423.18 L20149.4 1423.18  Z\" fill=\"#009af9\" fill-rule=\"evenodd\" fill-opacity=\"1\"/>\n",
       "<polyline clip-path=\"url(#clip132)\" style=\"stroke:#000000; stroke-linecap:round; stroke-linejoin:round; stroke-width:4; stroke-opacity:1; fill:none\" points=\"20149.4,1423.18 20149.4,1423.18 20258.9,1423.18 20149.4,1423.18 \"/>\n",
       "<path clip-path=\"url(#clip132)\" d=\"M20258.9 1423.18 L20258.9 1423.18 L20368.5 1423.18 L20368.5 1423.18 L20258.9 1423.18 L20258.9 1423.18  Z\" fill=\"#009af9\" fill-rule=\"evenodd\" fill-opacity=\"1\"/>\n",
       "<polyline clip-path=\"url(#clip132)\" style=\"stroke:#000000; stroke-linecap:round; stroke-linejoin:round; stroke-width:4; stroke-opacity:1; fill:none\" points=\"20258.9,1423.18 20258.9,1423.18 20368.5,1423.18 20258.9,1423.18 \"/>\n",
       "<path clip-path=\"url(#clip132)\" d=\"M20368.5 1423.18 L20368.5 1423.18 L20478 1423.18 L20478 1423.18 L20368.5 1423.18 L20368.5 1423.18  Z\" fill=\"#009af9\" fill-rule=\"evenodd\" fill-opacity=\"1\"/>\n",
       "<polyline clip-path=\"url(#clip132)\" style=\"stroke:#000000; stroke-linecap:round; stroke-linejoin:round; stroke-width:4; stroke-opacity:1; fill:none\" points=\"20368.5,1423.18 20368.5,1423.18 20478,1423.18 20368.5,1423.18 \"/>\n",
       "<path clip-path=\"url(#clip132)\" d=\"M20478 1423.18 L20478 1423.18 L20587.5 1423.18 L20587.5 1423.18 L20478 1423.18 L20478 1423.18  Z\" fill=\"#009af9\" fill-rule=\"evenodd\" fill-opacity=\"1\"/>\n",
       "<polyline clip-path=\"url(#clip132)\" style=\"stroke:#000000; stroke-linecap:round; stroke-linejoin:round; stroke-width:4; stroke-opacity:1; fill:none\" points=\"20478,1423.18 20478,1423.18 20587.5,1423.18 20478,1423.18 \"/>\n",
       "<path clip-path=\"url(#clip132)\" d=\"M20587.5 1423.18 L20587.5 1423.18 L20697.1 1423.18 L20697.1 1423.18 L20587.5 1423.18 L20587.5 1423.18  Z\" fill=\"#009af9\" fill-rule=\"evenodd\" fill-opacity=\"1\"/>\n",
       "<polyline clip-path=\"url(#clip132)\" style=\"stroke:#000000; stroke-linecap:round; stroke-linejoin:round; stroke-width:4; stroke-opacity:1; fill:none\" points=\"20587.5,1423.18 20587.5,1423.18 20697.1,1423.18 20587.5,1423.18 \"/>\n",
       "<path clip-path=\"url(#clip132)\" d=\"M20697.1 1423.18 L20697.1 1423.18 L20806.6 1423.18 L20806.6 1423.18 L20697.1 1423.18 L20697.1 1423.18  Z\" fill=\"#009af9\" fill-rule=\"evenodd\" fill-opacity=\"1\"/>\n",
       "<polyline clip-path=\"url(#clip132)\" style=\"stroke:#000000; stroke-linecap:round; stroke-linejoin:round; stroke-width:4; stroke-opacity:1; fill:none\" points=\"20697.1,1423.18 20697.1,1423.18 20806.6,1423.18 20697.1,1423.18 \"/>\n",
       "<path clip-path=\"url(#clip132)\" d=\"M20806.6 1423.18 L20806.6 1423.18 L20916.1 1423.18 L20916.1 1423.18 L20806.6 1423.18 L20806.6 1423.18  Z\" fill=\"#009af9\" fill-rule=\"evenodd\" fill-opacity=\"1\"/>\n",
       "<polyline clip-path=\"url(#clip132)\" style=\"stroke:#000000; stroke-linecap:round; stroke-linejoin:round; stroke-width:4; stroke-opacity:1; fill:none\" points=\"20806.6,1423.18 20806.6,1423.18 20916.1,1423.18 20806.6,1423.18 \"/>\n",
       "<path clip-path=\"url(#clip132)\" d=\"M20916.1 1423.18 L20916.1 1423.18 L21025.7 1423.18 L21025.7 1423.18 L20916.1 1423.18 L20916.1 1423.18  Z\" fill=\"#009af9\" fill-rule=\"evenodd\" fill-opacity=\"1\"/>\n",
       "<polyline clip-path=\"url(#clip132)\" style=\"stroke:#000000; stroke-linecap:round; stroke-linejoin:round; stroke-width:4; stroke-opacity:1; fill:none\" points=\"20916.1,1423.18 20916.1,1423.18 21025.7,1423.18 20916.1,1423.18 \"/>\n",
       "<path clip-path=\"url(#clip132)\" d=\"M21025.7 1423.18 L21025.7 1423.18 L21135.2 1423.18 L21135.2 1423.18 L21025.7 1423.18 L21025.7 1423.18  Z\" fill=\"#009af9\" fill-rule=\"evenodd\" fill-opacity=\"1\"/>\n",
       "<polyline clip-path=\"url(#clip132)\" style=\"stroke:#000000; stroke-linecap:round; stroke-linejoin:round; stroke-width:4; stroke-opacity:1; fill:none\" points=\"21025.7,1423.18 21025.7,1423.18 21135.2,1423.18 21025.7,1423.18 \"/>\n",
       "<path clip-path=\"url(#clip132)\" d=\"M21135.2 1423.18 L21135.2 1423.18 L21244.7 1423.18 L21244.7 1423.18 L21135.2 1423.18 L21135.2 1423.18  Z\" fill=\"#009af9\" fill-rule=\"evenodd\" fill-opacity=\"1\"/>\n",
       "<polyline clip-path=\"url(#clip132)\" style=\"stroke:#000000; stroke-linecap:round; stroke-linejoin:round; stroke-width:4; stroke-opacity:1; fill:none\" points=\"21135.2,1423.18 21135.2,1423.18 21244.7,1423.18 21135.2,1423.18 \"/>\n",
       "<path clip-path=\"url(#clip132)\" d=\"M21244.7 1423.18 L21244.7 1423.18 L21354.3 1423.18 L21354.3 1423.18 L21244.7 1423.18 L21244.7 1423.18  Z\" fill=\"#009af9\" fill-rule=\"evenodd\" fill-opacity=\"1\"/>\n",
       "<polyline clip-path=\"url(#clip132)\" style=\"stroke:#000000; stroke-linecap:round; stroke-linejoin:round; stroke-width:4; stroke-opacity:1; fill:none\" points=\"21244.7,1423.18 21244.7,1423.18 21354.3,1423.18 21244.7,1423.18 \"/>\n",
       "<path clip-path=\"url(#clip132)\" d=\"M21354.3 1423.18 L21354.3 1423.18 L21463.8 1423.18 L21463.8 1423.18 L21354.3 1423.18 L21354.3 1423.18  Z\" fill=\"#009af9\" fill-rule=\"evenodd\" fill-opacity=\"1\"/>\n",
       "<polyline clip-path=\"url(#clip132)\" style=\"stroke:#000000; stroke-linecap:round; stroke-linejoin:round; stroke-width:4; stroke-opacity:1; fill:none\" points=\"21354.3,1423.18 21354.3,1423.18 21463.8,1423.18 21354.3,1423.18 \"/>\n",
       "<path clip-path=\"url(#clip132)\" d=\"M21463.8 1423.18 L21463.8 1423.18 L21573.4 1423.18 L21573.4 1423.18 L21463.8 1423.18 L21463.8 1423.18  Z\" fill=\"#009af9\" fill-rule=\"evenodd\" fill-opacity=\"1\"/>\n",
       "<polyline clip-path=\"url(#clip132)\" style=\"stroke:#000000; stroke-linecap:round; stroke-linejoin:round; stroke-width:4; stroke-opacity:1; fill:none\" points=\"21463.8,1423.18 21463.8,1423.18 21573.4,1423.18 21463.8,1423.18 \"/>\n",
       "<path clip-path=\"url(#clip132)\" d=\"M21573.4 1423.18 L21573.4 1423.18 L21682.9 1423.18 L21682.9 1423.18 L21573.4 1423.18 L21573.4 1423.18  Z\" fill=\"#009af9\" fill-rule=\"evenodd\" fill-opacity=\"1\"/>\n",
       "<polyline clip-path=\"url(#clip132)\" style=\"stroke:#000000; stroke-linecap:round; stroke-linejoin:round; stroke-width:4; stroke-opacity:1; fill:none\" points=\"21573.4,1423.18 21573.4,1423.18 21682.9,1423.18 21573.4,1423.18 \"/>\n",
       "<path clip-path=\"url(#clip132)\" d=\"M21682.9 1423.18 L21682.9 1423.18 L21792.4 1423.18 L21792.4 1423.18 L21682.9 1423.18 L21682.9 1423.18  Z\" fill=\"#009af9\" fill-rule=\"evenodd\" fill-opacity=\"1\"/>\n",
       "<polyline clip-path=\"url(#clip132)\" style=\"stroke:#000000; stroke-linecap:round; stroke-linejoin:round; stroke-width:4; stroke-opacity:1; fill:none\" points=\"21682.9,1423.18 21682.9,1423.18 21792.4,1423.18 21682.9,1423.18 \"/>\n",
       "<path clip-path=\"url(#clip132)\" d=\"M21792.4 1423.18 L21792.4 1423.18 L21902 1423.18 L21902 1423.18 L21792.4 1423.18 L21792.4 1423.18  Z\" fill=\"#009af9\" fill-rule=\"evenodd\" fill-opacity=\"1\"/>\n",
       "<polyline clip-path=\"url(#clip132)\" style=\"stroke:#000000; stroke-linecap:round; stroke-linejoin:round; stroke-width:4; stroke-opacity:1; fill:none\" points=\"21792.4,1423.18 21792.4,1423.18 21902,1423.18 21792.4,1423.18 \"/>\n",
       "<path clip-path=\"url(#clip132)\" d=\"M21902 1423.18 L21902 1423.18 L22011.5 1423.18 L22011.5 1423.18 L21902 1423.18 L21902 1423.18  Z\" fill=\"#009af9\" fill-rule=\"evenodd\" fill-opacity=\"1\"/>\n",
       "<polyline clip-path=\"url(#clip132)\" style=\"stroke:#000000; stroke-linecap:round; stroke-linejoin:round; stroke-width:4; stroke-opacity:1; fill:none\" points=\"21902,1423.18 21902,1423.18 22011.5,1423.18 21902,1423.18 \"/>\n",
       "<path clip-path=\"url(#clip132)\" d=\"M22011.5 1423.18 L22011.5 1423.18 L22121 1423.18 L22121 1423.18 L22011.5 1423.18 L22011.5 1423.18  Z\" fill=\"#009af9\" fill-rule=\"evenodd\" fill-opacity=\"1\"/>\n",
       "<polyline clip-path=\"url(#clip132)\" style=\"stroke:#000000; stroke-linecap:round; stroke-linejoin:round; stroke-width:4; stroke-opacity:1; fill:none\" points=\"22011.5,1423.18 22011.5,1423.18 22121,1423.18 22011.5,1423.18 \"/>\n",
       "<path clip-path=\"url(#clip132)\" d=\"M22121 1423.18 L22121 1423.18 L22230.6 1423.18 L22230.6 1423.18 L22121 1423.18 L22121 1423.18  Z\" fill=\"#009af9\" fill-rule=\"evenodd\" fill-opacity=\"1\"/>\n",
       "<polyline clip-path=\"url(#clip132)\" style=\"stroke:#000000; stroke-linecap:round; stroke-linejoin:round; stroke-width:4; stroke-opacity:1; fill:none\" points=\"22121,1423.18 22121,1423.18 22230.6,1423.18 22121,1423.18 \"/>\n",
       "<path clip-path=\"url(#clip132)\" d=\"M22230.6 1423.18 L22230.6 1423.18 L22340.1 1423.18 L22340.1 1423.18 L22230.6 1423.18 L22230.6 1423.18  Z\" fill=\"#009af9\" fill-rule=\"evenodd\" fill-opacity=\"1\"/>\n",
       "<polyline clip-path=\"url(#clip132)\" style=\"stroke:#000000; stroke-linecap:round; stroke-linejoin:round; stroke-width:4; stroke-opacity:1; fill:none\" points=\"22230.6,1423.18 22230.6,1423.18 22340.1,1423.18 22230.6,1423.18 \"/>\n",
       "<path clip-path=\"url(#clip132)\" d=\"M22340.1 1423.18 L22340.1 1423.18 L22449.7 1423.18 L22449.7 1423.18 L22340.1 1423.18 L22340.1 1423.18  Z\" fill=\"#009af9\" fill-rule=\"evenodd\" fill-opacity=\"1\"/>\n",
       "<polyline clip-path=\"url(#clip132)\" style=\"stroke:#000000; stroke-linecap:round; stroke-linejoin:round; stroke-width:4; stroke-opacity:1; fill:none\" points=\"22340.1,1423.18 22340.1,1423.18 22449.7,1423.18 22340.1,1423.18 \"/>\n",
       "<path clip-path=\"url(#clip132)\" d=\"M22449.7 1423.18 L22449.7 1423.18 L22559.2 1423.18 L22559.2 1423.18 L22449.7 1423.18 L22449.7 1423.18  Z\" fill=\"#009af9\" fill-rule=\"evenodd\" fill-opacity=\"1\"/>\n",
       "<polyline clip-path=\"url(#clip132)\" style=\"stroke:#000000; stroke-linecap:round; stroke-linejoin:round; stroke-width:4; stroke-opacity:1; fill:none\" points=\"22449.7,1423.18 22449.7,1423.18 22559.2,1423.18 22449.7,1423.18 \"/>\n",
       "<path clip-path=\"url(#clip132)\" d=\"M22559.2 1423.18 L22559.2 1423.18 L22668.7 1423.18 L22668.7 1423.18 L22559.2 1423.18 L22559.2 1423.18  Z\" fill=\"#009af9\" fill-rule=\"evenodd\" fill-opacity=\"1\"/>\n",
       "<polyline clip-path=\"url(#clip132)\" style=\"stroke:#000000; stroke-linecap:round; stroke-linejoin:round; stroke-width:4; stroke-opacity:1; fill:none\" points=\"22559.2,1423.18 22559.2,1423.18 22668.7,1423.18 22559.2,1423.18 \"/>\n",
       "<path clip-path=\"url(#clip132)\" d=\"M22668.7 1423.18 L22668.7 1423.18 L22778.3 1423.18 L22778.3 1423.18 L22668.7 1423.18 L22668.7 1423.18  Z\" fill=\"#009af9\" fill-rule=\"evenodd\" fill-opacity=\"1\"/>\n",
       "<polyline clip-path=\"url(#clip132)\" style=\"stroke:#000000; stroke-linecap:round; stroke-linejoin:round; stroke-width:4; stroke-opacity:1; fill:none\" points=\"22668.7,1423.18 22668.7,1423.18 22778.3,1423.18 22668.7,1423.18 \"/>\n",
       "<path clip-path=\"url(#clip132)\" d=\"M22778.3 1423.18 L22778.3 1423.18 L22887.8 1423.18 L22887.8 1423.18 L22778.3 1423.18 L22778.3 1423.18  Z\" fill=\"#009af9\" fill-rule=\"evenodd\" fill-opacity=\"1\"/>\n",
       "<polyline clip-path=\"url(#clip132)\" style=\"stroke:#000000; stroke-linecap:round; stroke-linejoin:round; stroke-width:4; stroke-opacity:1; fill:none\" points=\"22778.3,1423.18 22778.3,1423.18 22887.8,1423.18 22778.3,1423.18 \"/>\n",
       "<path clip-path=\"url(#clip132)\" d=\"M22887.8 1423.18 L22887.8 1423.18 L22997.3 1423.18 L22997.3 1423.18 L22887.8 1423.18 L22887.8 1423.18  Z\" fill=\"#009af9\" fill-rule=\"evenodd\" fill-opacity=\"1\"/>\n",
       "<polyline clip-path=\"url(#clip132)\" style=\"stroke:#000000; stroke-linecap:round; stroke-linejoin:round; stroke-width:4; stroke-opacity:1; fill:none\" points=\"22887.8,1423.18 22887.8,1423.18 22997.3,1423.18 22887.8,1423.18 \"/>\n",
       "<path clip-path=\"url(#clip132)\" d=\"M22997.3 1423.18 L22997.3 1423.18 L23106.9 1423.18 L23106.9 1423.18 L22997.3 1423.18 L22997.3 1423.18  Z\" fill=\"#009af9\" fill-rule=\"evenodd\" fill-opacity=\"1\"/>\n",
       "<polyline clip-path=\"url(#clip132)\" style=\"stroke:#000000; stroke-linecap:round; stroke-linejoin:round; stroke-width:4; stroke-opacity:1; fill:none\" points=\"22997.3,1423.18 22997.3,1423.18 23106.9,1423.18 22997.3,1423.18 \"/>\n",
       "<path clip-path=\"url(#clip132)\" d=\"M23106.9 1423.18 L23106.9 1423.18 L23216.4 1423.18 L23216.4 1423.18 L23106.9 1423.18 L23106.9 1423.18  Z\" fill=\"#009af9\" fill-rule=\"evenodd\" fill-opacity=\"1\"/>\n",
       "<polyline clip-path=\"url(#clip132)\" style=\"stroke:#000000; stroke-linecap:round; stroke-linejoin:round; stroke-width:4; stroke-opacity:1; fill:none\" points=\"23106.9,1423.18 23106.9,1423.18 23216.4,1423.18 23106.9,1423.18 \"/>\n",
       "<path clip-path=\"url(#clip132)\" d=\"M23216.4 1423.18 L23216.4 1423.18 L23326 1423.18 L23326 1423.18 L23216.4 1423.18 L23216.4 1423.18  Z\" fill=\"#009af9\" fill-rule=\"evenodd\" fill-opacity=\"1\"/>\n",
       "<polyline clip-path=\"url(#clip132)\" style=\"stroke:#000000; stroke-linecap:round; stroke-linejoin:round; stroke-width:4; stroke-opacity:1; fill:none\" points=\"23216.4,1423.18 23216.4,1423.18 23326,1423.18 23216.4,1423.18 \"/>\n",
       "<path clip-path=\"url(#clip132)\" d=\"M23326 1423.18 L23326 1423.18 L23435.5 1423.18 L23435.5 1423.18 L23326 1423.18 L23326 1423.18  Z\" fill=\"#009af9\" fill-rule=\"evenodd\" fill-opacity=\"1\"/>\n",
       "<polyline clip-path=\"url(#clip132)\" style=\"stroke:#000000; stroke-linecap:round; stroke-linejoin:round; stroke-width:4; stroke-opacity:1; fill:none\" points=\"23326,1423.18 23326,1423.18 23435.5,1423.18 23326,1423.18 \"/>\n",
       "<path clip-path=\"url(#clip132)\" d=\"M23435.5 1423.18 L23435.5 1423.18 L23545 1423.18 L23545 1423.18 L23435.5 1423.18 L23435.5 1423.18  Z\" fill=\"#009af9\" fill-rule=\"evenodd\" fill-opacity=\"1\"/>\n",
       "<polyline clip-path=\"url(#clip132)\" style=\"stroke:#000000; stroke-linecap:round; stroke-linejoin:round; stroke-width:4; stroke-opacity:1; fill:none\" points=\"23435.5,1423.18 23435.5,1423.18 23545,1423.18 23435.5,1423.18 \"/>\n",
       "<path clip-path=\"url(#clip132)\" d=\"M23545 1423.18 L23545 1423.18 L23654.6 1423.18 L23654.6 1423.18 L23545 1423.18 L23545 1423.18  Z\" fill=\"#009af9\" fill-rule=\"evenodd\" fill-opacity=\"1\"/>\n",
       "<polyline clip-path=\"url(#clip132)\" style=\"stroke:#000000; stroke-linecap:round; stroke-linejoin:round; stroke-width:4; stroke-opacity:1; fill:none\" points=\"23545,1423.18 23545,1423.18 23654.6,1423.18 23545,1423.18 \"/>\n",
       "<path clip-path=\"url(#clip132)\" d=\"M23654.6 1423.18 L23654.6 1423.18 L23764.1 1423.18 L23764.1 1423.18 L23654.6 1423.18 L23654.6 1423.18  Z\" fill=\"#009af9\" fill-rule=\"evenodd\" fill-opacity=\"1\"/>\n",
       "<polyline clip-path=\"url(#clip132)\" style=\"stroke:#000000; stroke-linecap:round; stroke-linejoin:round; stroke-width:4; stroke-opacity:1; fill:none\" points=\"23654.6,1423.18 23654.6,1423.18 23764.1,1423.18 23654.6,1423.18 \"/>\n",
       "<path clip-path=\"url(#clip132)\" d=\"M23764.1 1423.18 L23764.1 1423.18 L23873.6 1423.18 L23873.6 1423.18 L23764.1 1423.18 L23764.1 1423.18  Z\" fill=\"#009af9\" fill-rule=\"evenodd\" fill-opacity=\"1\"/>\n",
       "<polyline clip-path=\"url(#clip132)\" style=\"stroke:#000000; stroke-linecap:round; stroke-linejoin:round; stroke-width:4; stroke-opacity:1; fill:none\" points=\"23764.1,1423.18 23764.1,1423.18 23873.6,1423.18 23764.1,1423.18 \"/>\n",
       "<path clip-path=\"url(#clip132)\" d=\"M23873.6 1423.18 L23873.6 1423.18 L23983.2 1423.18 L23983.2 1423.18 L23873.6 1423.18 L23873.6 1423.18  Z\" fill=\"#009af9\" fill-rule=\"evenodd\" fill-opacity=\"1\"/>\n",
       "<polyline clip-path=\"url(#clip132)\" style=\"stroke:#000000; stroke-linecap:round; stroke-linejoin:round; stroke-width:4; stroke-opacity:1; fill:none\" points=\"23873.6,1423.18 23873.6,1423.18 23983.2,1423.18 23873.6,1423.18 \"/>\n",
       "<path clip-path=\"url(#clip132)\" d=\"M23983.2 1423.18 L23983.2 1423.18 L24092.7 1423.18 L24092.7 1423.18 L23983.2 1423.18 L23983.2 1423.18  Z\" fill=\"#009af9\" fill-rule=\"evenodd\" fill-opacity=\"1\"/>\n",
       "<polyline clip-path=\"url(#clip132)\" style=\"stroke:#000000; stroke-linecap:round; stroke-linejoin:round; stroke-width:4; stroke-opacity:1; fill:none\" points=\"23983.2,1423.18 23983.2,1423.18 24092.7,1423.18 23983.2,1423.18 \"/>\n",
       "<path clip-path=\"url(#clip132)\" d=\"M24092.7 1423.18 L24092.7 1423.18 L24202.3 1423.18 L24202.3 1423.18 L24092.7 1423.18 L24092.7 1423.18  Z\" fill=\"#009af9\" fill-rule=\"evenodd\" fill-opacity=\"1\"/>\n",
       "<polyline clip-path=\"url(#clip132)\" style=\"stroke:#000000; stroke-linecap:round; stroke-linejoin:round; stroke-width:4; stroke-opacity:1; fill:none\" points=\"24092.7,1423.18 24092.7,1423.18 24202.3,1423.18 24092.7,1423.18 \"/>\n",
       "<path clip-path=\"url(#clip132)\" d=\"M24202.3 1423.18 L24202.3 1423.18 L24311.8 1423.18 L24311.8 1423.18 L24202.3 1423.18 L24202.3 1423.18  Z\" fill=\"#009af9\" fill-rule=\"evenodd\" fill-opacity=\"1\"/>\n",
       "<polyline clip-path=\"url(#clip132)\" style=\"stroke:#000000; stroke-linecap:round; stroke-linejoin:round; stroke-width:4; stroke-opacity:1; fill:none\" points=\"24202.3,1423.18 24202.3,1423.18 24311.8,1423.18 24202.3,1423.18 \"/>\n",
       "<path clip-path=\"url(#clip132)\" d=\"M24311.8 1423.18 L24311.8 1423.18 L24421.3 1423.18 L24421.3 1423.18 L24311.8 1423.18 L24311.8 1423.18  Z\" fill=\"#009af9\" fill-rule=\"evenodd\" fill-opacity=\"1\"/>\n",
       "<polyline clip-path=\"url(#clip132)\" style=\"stroke:#000000; stroke-linecap:round; stroke-linejoin:round; stroke-width:4; stroke-opacity:1; fill:none\" points=\"24311.8,1423.18 24311.8,1423.18 24421.3,1423.18 24311.8,1423.18 \"/>\n",
       "<path clip-path=\"url(#clip132)\" d=\"M24421.3 1423.18 L24421.3 1423.18 L24530.9 1423.18 L24530.9 1423.18 L24421.3 1423.18 L24421.3 1423.18  Z\" fill=\"#009af9\" fill-rule=\"evenodd\" fill-opacity=\"1\"/>\n",
       "<polyline clip-path=\"url(#clip132)\" style=\"stroke:#000000; stroke-linecap:round; stroke-linejoin:round; stroke-width:4; stroke-opacity:1; fill:none\" points=\"24421.3,1423.18 24421.3,1423.18 24530.9,1423.18 24421.3,1423.18 \"/>\n",
       "<path clip-path=\"url(#clip132)\" d=\"M24530.9 1423.18 L24530.9 1423.18 L24640.4 1423.18 L24640.4 1423.18 L24530.9 1423.18 L24530.9 1423.18  Z\" fill=\"#009af9\" fill-rule=\"evenodd\" fill-opacity=\"1\"/>\n",
       "<polyline clip-path=\"url(#clip132)\" style=\"stroke:#000000; stroke-linecap:round; stroke-linejoin:round; stroke-width:4; stroke-opacity:1; fill:none\" points=\"24530.9,1423.18 24530.9,1423.18 24640.4,1423.18 24530.9,1423.18 \"/>\n",
       "<path clip-path=\"url(#clip132)\" d=\"M24640.4 1423.18 L24640.4 1423.18 L24749.9 1423.18 L24749.9 1423.18 L24640.4 1423.18 L24640.4 1423.18  Z\" fill=\"#009af9\" fill-rule=\"evenodd\" fill-opacity=\"1\"/>\n",
       "<polyline clip-path=\"url(#clip132)\" style=\"stroke:#000000; stroke-linecap:round; stroke-linejoin:round; stroke-width:4; stroke-opacity:1; fill:none\" points=\"24640.4,1423.18 24640.4,1423.18 24749.9,1423.18 24640.4,1423.18 \"/>\n",
       "<path clip-path=\"url(#clip132)\" d=\"M24749.9 1423.18 L24749.9 1423.18 L24859.5 1423.18 L24859.5 1423.18 L24749.9 1423.18 L24749.9 1423.18  Z\" fill=\"#009af9\" fill-rule=\"evenodd\" fill-opacity=\"1\"/>\n",
       "<polyline clip-path=\"url(#clip132)\" style=\"stroke:#000000; stroke-linecap:round; stroke-linejoin:round; stroke-width:4; stroke-opacity:1; fill:none\" points=\"24749.9,1423.18 24749.9,1423.18 24859.5,1423.18 24749.9,1423.18 \"/>\n",
       "<path clip-path=\"url(#clip132)\" d=\"M24859.5 1423.18 L24859.5 1423.18 L24969 1423.18 L24969 1423.18 L24859.5 1423.18 L24859.5 1423.18  Z\" fill=\"#009af9\" fill-rule=\"evenodd\" fill-opacity=\"1\"/>\n",
       "<polyline clip-path=\"url(#clip132)\" style=\"stroke:#000000; stroke-linecap:round; stroke-linejoin:round; stroke-width:4; stroke-opacity:1; fill:none\" points=\"24859.5,1423.18 24859.5,1423.18 24969,1423.18 24859.5,1423.18 \"/>\n",
       "<path clip-path=\"url(#clip132)\" d=\"M24969 1423.18 L24969 1423.18 L25078.6 1423.18 L25078.6 1423.18 L24969 1423.18 L24969 1423.18  Z\" fill=\"#009af9\" fill-rule=\"evenodd\" fill-opacity=\"1\"/>\n",
       "<polyline clip-path=\"url(#clip132)\" style=\"stroke:#000000; stroke-linecap:round; stroke-linejoin:round; stroke-width:4; stroke-opacity:1; fill:none\" points=\"24969,1423.18 24969,1423.18 25078.6,1423.18 24969,1423.18 \"/>\n",
       "<path clip-path=\"url(#clip132)\" d=\"M25078.6 1423.18 L25078.6 1423.18 L25188.1 1423.18 L25188.1 1423.18 L25078.6 1423.18 L25078.6 1423.18  Z\" fill=\"#009af9\" fill-rule=\"evenodd\" fill-opacity=\"1\"/>\n",
       "<polyline clip-path=\"url(#clip132)\" style=\"stroke:#000000; stroke-linecap:round; stroke-linejoin:round; stroke-width:4; stroke-opacity:1; fill:none\" points=\"25078.6,1423.18 25078.6,1423.18 25188.1,1423.18 25078.6,1423.18 \"/>\n",
       "<path clip-path=\"url(#clip132)\" d=\"M25188.1 1423.18 L25188.1 1423.18 L25297.6 1423.18 L25297.6 1423.18 L25188.1 1423.18 L25188.1 1423.18  Z\" fill=\"#009af9\" fill-rule=\"evenodd\" fill-opacity=\"1\"/>\n",
       "<polyline clip-path=\"url(#clip132)\" style=\"stroke:#000000; stroke-linecap:round; stroke-linejoin:round; stroke-width:4; stroke-opacity:1; fill:none\" points=\"25188.1,1423.18 25188.1,1423.18 25297.6,1423.18 25188.1,1423.18 \"/>\n",
       "<path clip-path=\"url(#clip132)\" d=\"M25297.6 1423.18 L25297.6 1423.18 L25407.2 1423.18 L25407.2 1423.18 L25297.6 1423.18 L25297.6 1423.18  Z\" fill=\"#009af9\" fill-rule=\"evenodd\" fill-opacity=\"1\"/>\n",
       "<polyline clip-path=\"url(#clip132)\" style=\"stroke:#000000; stroke-linecap:round; stroke-linejoin:round; stroke-width:4; stroke-opacity:1; fill:none\" points=\"25297.6,1423.18 25297.6,1423.18 25407.2,1423.18 25297.6,1423.18 \"/>\n",
       "<path clip-path=\"url(#clip132)\" d=\"M25407.2 1423.18 L25407.2 1423.18 L25516.7 1423.18 L25516.7 1423.18 L25407.2 1423.18 L25407.2 1423.18  Z\" fill=\"#009af9\" fill-rule=\"evenodd\" fill-opacity=\"1\"/>\n",
       "<polyline clip-path=\"url(#clip132)\" style=\"stroke:#000000; stroke-linecap:round; stroke-linejoin:round; stroke-width:4; stroke-opacity:1; fill:none\" points=\"25407.2,1423.18 25407.2,1423.18 25516.7,1423.18 25407.2,1423.18 \"/>\n",
       "<path clip-path=\"url(#clip132)\" d=\"M25516.7 1423.18 L25516.7 1423.18 L25626.2 1423.18 L25626.2 1423.18 L25516.7 1423.18 L25516.7 1423.18  Z\" fill=\"#009af9\" fill-rule=\"evenodd\" fill-opacity=\"1\"/>\n",
       "<polyline clip-path=\"url(#clip132)\" style=\"stroke:#000000; stroke-linecap:round; stroke-linejoin:round; stroke-width:4; stroke-opacity:1; fill:none\" points=\"25516.7,1423.18 25516.7,1423.18 25626.2,1423.18 25516.7,1423.18 \"/>\n",
       "<path clip-path=\"url(#clip132)\" d=\"M25626.2 1423.18 L25626.2 1423.18 L25735.8 1423.18 L25735.8 1423.18 L25626.2 1423.18 L25626.2 1423.18  Z\" fill=\"#009af9\" fill-rule=\"evenodd\" fill-opacity=\"1\"/>\n",
       "<polyline clip-path=\"url(#clip132)\" style=\"stroke:#000000; stroke-linecap:round; stroke-linejoin:round; stroke-width:4; stroke-opacity:1; fill:none\" points=\"25626.2,1423.18 25626.2,1423.18 25735.8,1423.18 25626.2,1423.18 \"/>\n",
       "<path clip-path=\"url(#clip132)\" d=\"M25735.8 1423.18 L25735.8 1423.18 L25845.3 1423.18 L25845.3 1423.18 L25735.8 1423.18 L25735.8 1423.18  Z\" fill=\"#009af9\" fill-rule=\"evenodd\" fill-opacity=\"1\"/>\n",
       "<polyline clip-path=\"url(#clip132)\" style=\"stroke:#000000; stroke-linecap:round; stroke-linejoin:round; stroke-width:4; stroke-opacity:1; fill:none\" points=\"25735.8,1423.18 25735.8,1423.18 25845.3,1423.18 25735.8,1423.18 \"/>\n",
       "<path clip-path=\"url(#clip132)\" d=\"M25845.3 1423.18 L25845.3 1423.18 L25954.9 1423.18 L25954.9 1423.18 L25845.3 1423.18 L25845.3 1423.18  Z\" fill=\"#009af9\" fill-rule=\"evenodd\" fill-opacity=\"1\"/>\n",
       "<polyline clip-path=\"url(#clip132)\" style=\"stroke:#000000; stroke-linecap:round; stroke-linejoin:round; stroke-width:4; stroke-opacity:1; fill:none\" points=\"25845.3,1423.18 25845.3,1423.18 25954.9,1423.18 25845.3,1423.18 \"/>\n",
       "<path clip-path=\"url(#clip132)\" d=\"M25954.9 1423.18 L25954.9 1423.18 L26064.4 1423.18 L26064.4 1423.18 L25954.9 1423.18 L25954.9 1423.18  Z\" fill=\"#009af9\" fill-rule=\"evenodd\" fill-opacity=\"1\"/>\n",
       "<polyline clip-path=\"url(#clip132)\" style=\"stroke:#000000; stroke-linecap:round; stroke-linejoin:round; stroke-width:4; stroke-opacity:1; fill:none\" points=\"25954.9,1423.18 25954.9,1423.18 26064.4,1423.18 25954.9,1423.18 \"/>\n",
       "<path clip-path=\"url(#clip132)\" d=\"M26064.4 1423.18 L26064.4 1423.18 L26173.9 1423.18 L26173.9 1423.18 L26064.4 1423.18 L26064.4 1423.18  Z\" fill=\"#009af9\" fill-rule=\"evenodd\" fill-opacity=\"1\"/>\n",
       "<polyline clip-path=\"url(#clip132)\" style=\"stroke:#000000; stroke-linecap:round; stroke-linejoin:round; stroke-width:4; stroke-opacity:1; fill:none\" points=\"26064.4,1423.18 26064.4,1423.18 26173.9,1423.18 26064.4,1423.18 \"/>\n",
       "<path clip-path=\"url(#clip132)\" d=\"M26173.9 1423.18 L26173.9 1423.18 L26283.5 1423.18 L26283.5 1423.18 L26173.9 1423.18 L26173.9 1423.18  Z\" fill=\"#009af9\" fill-rule=\"evenodd\" fill-opacity=\"1\"/>\n",
       "<polyline clip-path=\"url(#clip132)\" style=\"stroke:#000000; stroke-linecap:round; stroke-linejoin:round; stroke-width:4; stroke-opacity:1; fill:none\" points=\"26173.9,1423.18 26173.9,1423.18 26283.5,1423.18 26173.9,1423.18 \"/>\n",
       "<path clip-path=\"url(#clip132)\" d=\"M26283.5 1423.18 L26283.5 1423.18 L26393 1423.18 L26393 1423.18 L26283.5 1423.18 L26283.5 1423.18  Z\" fill=\"#009af9\" fill-rule=\"evenodd\" fill-opacity=\"1\"/>\n",
       "<polyline clip-path=\"url(#clip132)\" style=\"stroke:#000000; stroke-linecap:round; stroke-linejoin:round; stroke-width:4; stroke-opacity:1; fill:none\" points=\"26283.5,1423.18 26283.5,1423.18 26393,1423.18 26283.5,1423.18 \"/>\n",
       "<path clip-path=\"url(#clip132)\" d=\"M26393 1423.18 L26393 1423.18 L26502.5 1423.18 L26502.5 1423.18 L26393 1423.18 L26393 1423.18  Z\" fill=\"#009af9\" fill-rule=\"evenodd\" fill-opacity=\"1\"/>\n",
       "<polyline clip-path=\"url(#clip132)\" style=\"stroke:#000000; stroke-linecap:round; stroke-linejoin:round; stroke-width:4; stroke-opacity:1; fill:none\" points=\"26393,1423.18 26393,1423.18 26502.5,1423.18 26393,1423.18 \"/>\n",
       "<path clip-path=\"url(#clip132)\" d=\"M26502.5 1423.18 L26502.5 1423.18 L26612.1 1423.18 L26612.1 1423.18 L26502.5 1423.18 L26502.5 1423.18  Z\" fill=\"#009af9\" fill-rule=\"evenodd\" fill-opacity=\"1\"/>\n",
       "<polyline clip-path=\"url(#clip132)\" style=\"stroke:#000000; stroke-linecap:round; stroke-linejoin:round; stroke-width:4; stroke-opacity:1; fill:none\" points=\"26502.5,1423.18 26502.5,1423.18 26612.1,1423.18 26502.5,1423.18 \"/>\n",
       "<path clip-path=\"url(#clip132)\" d=\"M26612.1 1423.18 L26612.1 1423.18 L26721.6 1423.18 L26721.6 1423.18 L26612.1 1423.18 L26612.1 1423.18  Z\" fill=\"#009af9\" fill-rule=\"evenodd\" fill-opacity=\"1\"/>\n",
       "<polyline clip-path=\"url(#clip132)\" style=\"stroke:#000000; stroke-linecap:round; stroke-linejoin:round; stroke-width:4; stroke-opacity:1; fill:none\" points=\"26612.1,1423.18 26612.1,1423.18 26721.6,1423.18 26612.1,1423.18 \"/>\n",
       "<path clip-path=\"url(#clip132)\" d=\"M26721.6 1423.18 L26721.6 1423.18 L26831.2 1423.18 L26831.2 1423.18 L26721.6 1423.18 L26721.6 1423.18  Z\" fill=\"#009af9\" fill-rule=\"evenodd\" fill-opacity=\"1\"/>\n",
       "<polyline clip-path=\"url(#clip132)\" style=\"stroke:#000000; stroke-linecap:round; stroke-linejoin:round; stroke-width:4; stroke-opacity:1; fill:none\" points=\"26721.6,1423.18 26721.6,1423.18 26831.2,1423.18 26721.6,1423.18 \"/>\n",
       "<path clip-path=\"url(#clip132)\" d=\"M26831.2 1423.18 L26831.2 1423.18 L26940.7 1423.18 L26940.7 1423.18 L26831.2 1423.18 L26831.2 1423.18  Z\" fill=\"#009af9\" fill-rule=\"evenodd\" fill-opacity=\"1\"/>\n",
       "<polyline clip-path=\"url(#clip132)\" style=\"stroke:#000000; stroke-linecap:round; stroke-linejoin:round; stroke-width:4; stroke-opacity:1; fill:none\" points=\"26831.2,1423.18 26831.2,1423.18 26940.7,1423.18 26831.2,1423.18 \"/>\n",
       "<path clip-path=\"url(#clip132)\" d=\"M26940.7 1423.18 L26940.7 1423.18 L27050.2 1423.18 L27050.2 1423.18 L26940.7 1423.18 L26940.7 1423.18  Z\" fill=\"#009af9\" fill-rule=\"evenodd\" fill-opacity=\"1\"/>\n",
       "<polyline clip-path=\"url(#clip132)\" style=\"stroke:#000000; stroke-linecap:round; stroke-linejoin:round; stroke-width:4; stroke-opacity:1; fill:none\" points=\"26940.7,1423.18 26940.7,1423.18 27050.2,1423.18 26940.7,1423.18 \"/>\n",
       "<path clip-path=\"url(#clip132)\" d=\"M27050.2 1423.18 L27050.2 1423.18 L27159.8 1423.18 L27159.8 1423.18 L27050.2 1423.18 L27050.2 1423.18  Z\" fill=\"#009af9\" fill-rule=\"evenodd\" fill-opacity=\"1\"/>\n",
       "<polyline clip-path=\"url(#clip132)\" style=\"stroke:#000000; stroke-linecap:round; stroke-linejoin:round; stroke-width:4; stroke-opacity:1; fill:none\" points=\"27050.2,1423.18 27050.2,1423.18 27159.8,1423.18 27050.2,1423.18 \"/>\n",
       "<path clip-path=\"url(#clip132)\" d=\"M27159.8 1423.18 L27159.8 1423.18 L27269.3 1423.18 L27269.3 1423.18 L27159.8 1423.18 L27159.8 1423.18  Z\" fill=\"#009af9\" fill-rule=\"evenodd\" fill-opacity=\"1\"/>\n",
       "<polyline clip-path=\"url(#clip132)\" style=\"stroke:#000000; stroke-linecap:round; stroke-linejoin:round; stroke-width:4; stroke-opacity:1; fill:none\" points=\"27159.8,1423.18 27159.8,1423.18 27269.3,1423.18 27159.8,1423.18 \"/>\n",
       "<path clip-path=\"url(#clip132)\" d=\"M27269.3 1423.18 L27269.3 1423.18 L27378.8 1423.18 L27378.8 1423.18 L27269.3 1423.18 L27269.3 1423.18  Z\" fill=\"#009af9\" fill-rule=\"evenodd\" fill-opacity=\"1\"/>\n",
       "<polyline clip-path=\"url(#clip132)\" style=\"stroke:#000000; stroke-linecap:round; stroke-linejoin:round; stroke-width:4; stroke-opacity:1; fill:none\" points=\"27269.3,1423.18 27269.3,1423.18 27378.8,1423.18 27269.3,1423.18 \"/>\n",
       "<path clip-path=\"url(#clip132)\" d=\"M27378.8 1423.18 L27378.8 1423.18 L27488.4 1423.18 L27488.4 1423.18 L27378.8 1423.18 L27378.8 1423.18  Z\" fill=\"#009af9\" fill-rule=\"evenodd\" fill-opacity=\"1\"/>\n",
       "<polyline clip-path=\"url(#clip132)\" style=\"stroke:#000000; stroke-linecap:round; stroke-linejoin:round; stroke-width:4; stroke-opacity:1; fill:none\" points=\"27378.8,1423.18 27378.8,1423.18 27488.4,1423.18 27378.8,1423.18 \"/>\n",
       "<path clip-path=\"url(#clip132)\" d=\"M27488.4 1423.18 L27488.4 1423.18 L27597.9 1423.18 L27597.9 1423.18 L27488.4 1423.18 L27488.4 1423.18  Z\" fill=\"#009af9\" fill-rule=\"evenodd\" fill-opacity=\"1\"/>\n",
       "<polyline clip-path=\"url(#clip132)\" style=\"stroke:#000000; stroke-linecap:round; stroke-linejoin:round; stroke-width:4; stroke-opacity:1; fill:none\" points=\"27488.4,1423.18 27488.4,1423.18 27597.9,1423.18 27488.4,1423.18 \"/>\n",
       "<path clip-path=\"url(#clip132)\" d=\"M27597.9 1423.18 L27597.9 1423.18 L27707.5 1423.18 L27707.5 1423.18 L27597.9 1423.18 L27597.9 1423.18  Z\" fill=\"#009af9\" fill-rule=\"evenodd\" fill-opacity=\"1\"/>\n",
       "<polyline clip-path=\"url(#clip132)\" style=\"stroke:#000000; stroke-linecap:round; stroke-linejoin:round; stroke-width:4; stroke-opacity:1; fill:none\" points=\"27597.9,1423.18 27597.9,1423.18 27707.5,1423.18 27597.9,1423.18 \"/>\n",
       "<path clip-path=\"url(#clip132)\" d=\"M27707.5 1423.18 L27707.5 1423.18 L27817 1423.18 L27817 1423.18 L27707.5 1423.18 L27707.5 1423.18  Z\" fill=\"#009af9\" fill-rule=\"evenodd\" fill-opacity=\"1\"/>\n",
       "<polyline clip-path=\"url(#clip132)\" style=\"stroke:#000000; stroke-linecap:round; stroke-linejoin:round; stroke-width:4; stroke-opacity:1; fill:none\" points=\"27707.5,1423.18 27707.5,1423.18 27817,1423.18 27707.5,1423.18 \"/>\n",
       "<path clip-path=\"url(#clip132)\" d=\"M27817 1423.18 L27817 1423.18 L27926.5 1423.18 L27926.5 1423.18 L27817 1423.18 L27817 1423.18  Z\" fill=\"#009af9\" fill-rule=\"evenodd\" fill-opacity=\"1\"/>\n",
       "<polyline clip-path=\"url(#clip132)\" style=\"stroke:#000000; stroke-linecap:round; stroke-linejoin:round; stroke-width:4; stroke-opacity:1; fill:none\" points=\"27817,1423.18 27817,1423.18 27926.5,1423.18 27817,1423.18 \"/>\n",
       "<path clip-path=\"url(#clip132)\" d=\"M27926.5 1423.18 L27926.5 1423.18 L28036.1 1423.18 L28036.1 1423.18 L27926.5 1423.18 L27926.5 1423.18  Z\" fill=\"#009af9\" fill-rule=\"evenodd\" fill-opacity=\"1\"/>\n",
       "<polyline clip-path=\"url(#clip132)\" style=\"stroke:#000000; stroke-linecap:round; stroke-linejoin:round; stroke-width:4; stroke-opacity:1; fill:none\" points=\"27926.5,1423.18 27926.5,1423.18 28036.1,1423.18 27926.5,1423.18 \"/>\n",
       "<path clip-path=\"url(#clip132)\" d=\"M28036.1 1423.18 L28036.1 1423.18 L28145.6 1423.18 L28145.6 1423.18 L28036.1 1423.18 L28036.1 1423.18  Z\" fill=\"#009af9\" fill-rule=\"evenodd\" fill-opacity=\"1\"/>\n",
       "<polyline clip-path=\"url(#clip132)\" style=\"stroke:#000000; stroke-linecap:round; stroke-linejoin:round; stroke-width:4; stroke-opacity:1; fill:none\" points=\"28036.1,1423.18 28036.1,1423.18 28145.6,1423.18 28036.1,1423.18 \"/>\n",
       "<path clip-path=\"url(#clip132)\" d=\"M28145.6 1423.18 L28145.6 1423.18 L28255.1 1423.18 L28255.1 1423.18 L28145.6 1423.18 L28145.6 1423.18  Z\" fill=\"#009af9\" fill-rule=\"evenodd\" fill-opacity=\"1\"/>\n",
       "<polyline clip-path=\"url(#clip132)\" style=\"stroke:#000000; stroke-linecap:round; stroke-linejoin:round; stroke-width:4; stroke-opacity:1; fill:none\" points=\"28145.6,1423.18 28145.6,1423.18 28255.1,1423.18 28145.6,1423.18 \"/>\n",
       "<path clip-path=\"url(#clip132)\" d=\"M28255.1 1423.18 L28255.1 1423.18 L28364.7 1423.18 L28364.7 1423.18 L28255.1 1423.18 L28255.1 1423.18  Z\" fill=\"#009af9\" fill-rule=\"evenodd\" fill-opacity=\"1\"/>\n",
       "<polyline clip-path=\"url(#clip132)\" style=\"stroke:#000000; stroke-linecap:round; stroke-linejoin:round; stroke-width:4; stroke-opacity:1; fill:none\" points=\"28255.1,1423.18 28255.1,1423.18 28364.7,1423.18 28255.1,1423.18 \"/>\n",
       "<path clip-path=\"url(#clip132)\" d=\"M28364.7 1423.18 L28364.7 1423.18 L28474.2 1423.18 L28474.2 1423.18 L28364.7 1423.18 L28364.7 1423.18  Z\" fill=\"#009af9\" fill-rule=\"evenodd\" fill-opacity=\"1\"/>\n",
       "<polyline clip-path=\"url(#clip132)\" style=\"stroke:#000000; stroke-linecap:round; stroke-linejoin:round; stroke-width:4; stroke-opacity:1; fill:none\" points=\"28364.7,1423.18 28364.7,1423.18 28474.2,1423.18 28364.7,1423.18 \"/>\n",
       "<path clip-path=\"url(#clip132)\" d=\"M28474.2 1423.18 L28474.2 1423.18 L28583.7 1423.18 L28583.7 1423.18 L28474.2 1423.18 L28474.2 1423.18  Z\" fill=\"#009af9\" fill-rule=\"evenodd\" fill-opacity=\"1\"/>\n",
       "<polyline clip-path=\"url(#clip132)\" style=\"stroke:#000000; stroke-linecap:round; stroke-linejoin:round; stroke-width:4; stroke-opacity:1; fill:none\" points=\"28474.2,1423.18 28474.2,1423.18 28583.7,1423.18 28474.2,1423.18 \"/>\n",
       "<path clip-path=\"url(#clip132)\" d=\"M28583.7 1423.18 L28583.7 1423.18 L28693.3 1423.18 L28693.3 1423.18 L28583.7 1423.18 L28583.7 1423.18  Z\" fill=\"#009af9\" fill-rule=\"evenodd\" fill-opacity=\"1\"/>\n",
       "<polyline clip-path=\"url(#clip132)\" style=\"stroke:#000000; stroke-linecap:round; stroke-linejoin:round; stroke-width:4; stroke-opacity:1; fill:none\" points=\"28583.7,1423.18 28583.7,1423.18 28693.3,1423.18 28583.7,1423.18 \"/>\n",
       "<path clip-path=\"url(#clip132)\" d=\"M28693.3 1423.18 L28693.3 1423.18 L28802.8 1423.18 L28802.8 1423.18 L28693.3 1423.18 L28693.3 1423.18  Z\" fill=\"#009af9\" fill-rule=\"evenodd\" fill-opacity=\"1\"/>\n",
       "<polyline clip-path=\"url(#clip132)\" style=\"stroke:#000000; stroke-linecap:round; stroke-linejoin:round; stroke-width:4; stroke-opacity:1; fill:none\" points=\"28693.3,1423.18 28693.3,1423.18 28802.8,1423.18 28693.3,1423.18 \"/>\n",
       "<path clip-path=\"url(#clip132)\" d=\"M28802.8 1423.18 L28802.8 1423.18 L28912.4 1423.18 L28912.4 1423.18 L28802.8 1423.18 L28802.8 1423.18  Z\" fill=\"#009af9\" fill-rule=\"evenodd\" fill-opacity=\"1\"/>\n",
       "<polyline clip-path=\"url(#clip132)\" style=\"stroke:#000000; stroke-linecap:round; stroke-linejoin:round; stroke-width:4; stroke-opacity:1; fill:none\" points=\"28802.8,1423.18 28802.8,1423.18 28912.4,1423.18 28802.8,1423.18 \"/>\n",
       "<path clip-path=\"url(#clip132)\" d=\"M28912.4 1423.18 L28912.4 1423.18 L29021.9 1423.18 L29021.9 1423.18 L28912.4 1423.18 L28912.4 1423.18  Z\" fill=\"#009af9\" fill-rule=\"evenodd\" fill-opacity=\"1\"/>\n",
       "<polyline clip-path=\"url(#clip132)\" style=\"stroke:#000000; stroke-linecap:round; stroke-linejoin:round; stroke-width:4; stroke-opacity:1; fill:none\" points=\"28912.4,1423.18 28912.4,1423.18 29021.9,1423.18 28912.4,1423.18 \"/>\n",
       "<path clip-path=\"url(#clip132)\" d=\"M29021.9 1423.18 L29021.9 1423.18 L29131.4 1423.18 L29131.4 1423.18 L29021.9 1423.18 L29021.9 1423.18  Z\" fill=\"#009af9\" fill-rule=\"evenodd\" fill-opacity=\"1\"/>\n",
       "<polyline clip-path=\"url(#clip132)\" style=\"stroke:#000000; stroke-linecap:round; stroke-linejoin:round; stroke-width:4; stroke-opacity:1; fill:none\" points=\"29021.9,1423.18 29021.9,1423.18 29131.4,1423.18 29021.9,1423.18 \"/>\n",
       "<path clip-path=\"url(#clip132)\" d=\"M29131.4 1423.18 L29131.4 1423.18 L29241 1423.18 L29241 1423.18 L29131.4 1423.18 L29131.4 1423.18  Z\" fill=\"#009af9\" fill-rule=\"evenodd\" fill-opacity=\"1\"/>\n",
       "<polyline clip-path=\"url(#clip132)\" style=\"stroke:#000000; stroke-linecap:round; stroke-linejoin:round; stroke-width:4; stroke-opacity:1; fill:none\" points=\"29131.4,1423.18 29131.4,1423.18 29241,1423.18 29131.4,1423.18 \"/>\n",
       "<path clip-path=\"url(#clip132)\" d=\"M29241 1423.18 L29241 1423.18 L29350.5 1423.18 L29350.5 1423.18 L29241 1423.18 L29241 1423.18  Z\" fill=\"#009af9\" fill-rule=\"evenodd\" fill-opacity=\"1\"/>\n",
       "<polyline clip-path=\"url(#clip132)\" style=\"stroke:#000000; stroke-linecap:round; stroke-linejoin:round; stroke-width:4; stroke-opacity:1; fill:none\" points=\"29241,1423.18 29241,1423.18 29350.5,1423.18 29241,1423.18 \"/>\n",
       "<path clip-path=\"url(#clip132)\" d=\"M29350.5 1423.18 L29350.5 1423.18 L29460 1423.18 L29460 1423.18 L29350.5 1423.18 L29350.5 1423.18  Z\" fill=\"#009af9\" fill-rule=\"evenodd\" fill-opacity=\"1\"/>\n",
       "<polyline clip-path=\"url(#clip132)\" style=\"stroke:#000000; stroke-linecap:round; stroke-linejoin:round; stroke-width:4; stroke-opacity:1; fill:none\" points=\"29350.5,1423.18 29350.5,1423.18 29460,1423.18 29350.5,1423.18 \"/>\n",
       "<path clip-path=\"url(#clip132)\" d=\"M29460 1423.18 L29460 1423.18 L29569.6 1423.18 L29569.6 1423.18 L29460 1423.18 L29460 1423.18  Z\" fill=\"#009af9\" fill-rule=\"evenodd\" fill-opacity=\"1\"/>\n",
       "<polyline clip-path=\"url(#clip132)\" style=\"stroke:#000000; stroke-linecap:round; stroke-linejoin:round; stroke-width:4; stroke-opacity:1; fill:none\" points=\"29460,1423.18 29460,1423.18 29569.6,1423.18 29460,1423.18 \"/>\n",
       "<path clip-path=\"url(#clip132)\" d=\"M29569.6 1423.18 L29569.6 1423.18 L29679.1 1423.18 L29679.1 1423.18 L29569.6 1423.18 L29569.6 1423.18  Z\" fill=\"#009af9\" fill-rule=\"evenodd\" fill-opacity=\"1\"/>\n",
       "<polyline clip-path=\"url(#clip132)\" style=\"stroke:#000000; stroke-linecap:round; stroke-linejoin:round; stroke-width:4; stroke-opacity:1; fill:none\" points=\"29569.6,1423.18 29569.6,1423.18 29679.1,1423.18 29569.6,1423.18 \"/>\n",
       "<path clip-path=\"url(#clip132)\" d=\"M29679.1 1423.18 L29679.1 1423.18 L29788.7 1423.18 L29788.7 1423.18 L29679.1 1423.18 L29679.1 1423.18  Z\" fill=\"#009af9\" fill-rule=\"evenodd\" fill-opacity=\"1\"/>\n",
       "<polyline clip-path=\"url(#clip132)\" style=\"stroke:#000000; stroke-linecap:round; stroke-linejoin:round; stroke-width:4; stroke-opacity:1; fill:none\" points=\"29679.1,1423.18 29679.1,1423.18 29788.7,1423.18 29679.1,1423.18 \"/>\n",
       "<path clip-path=\"url(#clip132)\" d=\"M29788.7 1423.18 L29788.7 1423.18 L29898.2 1423.18 L29898.2 1423.18 L29788.7 1423.18 L29788.7 1423.18  Z\" fill=\"#009af9\" fill-rule=\"evenodd\" fill-opacity=\"1\"/>\n",
       "<polyline clip-path=\"url(#clip132)\" style=\"stroke:#000000; stroke-linecap:round; stroke-linejoin:round; stroke-width:4; stroke-opacity:1; fill:none\" points=\"29788.7,1423.18 29788.7,1423.18 29898.2,1423.18 29788.7,1423.18 \"/>\n",
       "<path clip-path=\"url(#clip132)\" d=\"M29898.2 1423.18 L29898.2 1423.18 L30007.7 1423.18 L30007.7 1423.18 L29898.2 1423.18 L29898.2 1423.18  Z\" fill=\"#009af9\" fill-rule=\"evenodd\" fill-opacity=\"1\"/>\n",
       "<polyline clip-path=\"url(#clip132)\" style=\"stroke:#000000; stroke-linecap:round; stroke-linejoin:round; stroke-width:4; stroke-opacity:1; fill:none\" points=\"29898.2,1423.18 29898.2,1423.18 30007.7,1423.18 29898.2,1423.18 \"/>\n",
       "<path clip-path=\"url(#clip132)\" d=\"M30007.7 1423.18 L30007.7 1423.18 L30117.3 1423.18 L30117.3 1423.18 L30007.7 1423.18 L30007.7 1423.18  Z\" fill=\"#009af9\" fill-rule=\"evenodd\" fill-opacity=\"1\"/>\n",
       "<polyline clip-path=\"url(#clip132)\" style=\"stroke:#000000; stroke-linecap:round; stroke-linejoin:round; stroke-width:4; stroke-opacity:1; fill:none\" points=\"30007.7,1423.18 30007.7,1423.18 30117.3,1423.18 30007.7,1423.18 \"/>\n",
       "<path clip-path=\"url(#clip132)\" d=\"M30117.3 1423.18 L30117.3 1423.18 L30226.8 1423.18 L30226.8 1423.18 L30117.3 1423.18 L30117.3 1423.18  Z\" fill=\"#009af9\" fill-rule=\"evenodd\" fill-opacity=\"1\"/>\n",
       "<polyline clip-path=\"url(#clip132)\" style=\"stroke:#000000; stroke-linecap:round; stroke-linejoin:round; stroke-width:4; stroke-opacity:1; fill:none\" points=\"30117.3,1423.18 30117.3,1423.18 30226.8,1423.18 30117.3,1423.18 \"/>\n",
       "<path clip-path=\"url(#clip132)\" d=\"M30226.8 1423.18 L30226.8 1423.18 L30336.3 1423.18 L30336.3 1423.18 L30226.8 1423.18 L30226.8 1423.18  Z\" fill=\"#009af9\" fill-rule=\"evenodd\" fill-opacity=\"1\"/>\n",
       "<polyline clip-path=\"url(#clip132)\" style=\"stroke:#000000; stroke-linecap:round; stroke-linejoin:round; stroke-width:4; stroke-opacity:1; fill:none\" points=\"30226.8,1423.18 30226.8,1423.18 30336.3,1423.18 30226.8,1423.18 \"/>\n",
       "<path clip-path=\"url(#clip132)\" d=\"M30336.3 1423.18 L30336.3 1423.18 L30445.9 1423.18 L30445.9 1423.18 L30336.3 1423.18 L30336.3 1423.18  Z\" fill=\"#009af9\" fill-rule=\"evenodd\" fill-opacity=\"1\"/>\n",
       "<polyline clip-path=\"url(#clip132)\" style=\"stroke:#000000; stroke-linecap:round; stroke-linejoin:round; stroke-width:4; stroke-opacity:1; fill:none\" points=\"30336.3,1423.18 30336.3,1423.18 30445.9,1423.18 30336.3,1423.18 \"/>\n",
       "<path clip-path=\"url(#clip132)\" d=\"M30445.9 1423.18 L30445.9 1423.18 L30555.4 1423.18 L30555.4 1423.18 L30445.9 1423.18 L30445.9 1423.18  Z\" fill=\"#009af9\" fill-rule=\"evenodd\" fill-opacity=\"1\"/>\n",
       "<polyline clip-path=\"url(#clip132)\" style=\"stroke:#000000; stroke-linecap:round; stroke-linejoin:round; stroke-width:4; stroke-opacity:1; fill:none\" points=\"30445.9,1423.18 30445.9,1423.18 30555.4,1423.18 30445.9,1423.18 \"/>\n",
       "<path clip-path=\"url(#clip132)\" d=\"M30555.4 1423.18 L30555.4 1423.18 L30665 1423.18 L30665 1423.18 L30555.4 1423.18 L30555.4 1423.18  Z\" fill=\"#009af9\" fill-rule=\"evenodd\" fill-opacity=\"1\"/>\n",
       "<polyline clip-path=\"url(#clip132)\" style=\"stroke:#000000; stroke-linecap:round; stroke-linejoin:round; stroke-width:4; stroke-opacity:1; fill:none\" points=\"30555.4,1423.18 30555.4,1423.18 30665,1423.18 30555.4,1423.18 \"/>\n",
       "<path clip-path=\"url(#clip132)\" d=\"M30665 1423.18 L30665 1423.18 L30774.5 1423.18 L30774.5 1423.18 L30665 1423.18 L30665 1423.18  Z\" fill=\"#009af9\" fill-rule=\"evenodd\" fill-opacity=\"1\"/>\n",
       "<polyline clip-path=\"url(#clip132)\" style=\"stroke:#000000; stroke-linecap:round; stroke-linejoin:round; stroke-width:4; stroke-opacity:1; fill:none\" points=\"30665,1423.18 30665,1423.18 30774.5,1423.18 30665,1423.18 \"/>\n",
       "<path clip-path=\"url(#clip132)\" d=\"M30774.5 1423.18 L30774.5 1423.18 L30884 1423.18 L30884 1423.18 L30774.5 1423.18 L30774.5 1423.18  Z\" fill=\"#009af9\" fill-rule=\"evenodd\" fill-opacity=\"1\"/>\n",
       "<polyline clip-path=\"url(#clip132)\" style=\"stroke:#000000; stroke-linecap:round; stroke-linejoin:round; stroke-width:4; stroke-opacity:1; fill:none\" points=\"30774.5,1423.18 30774.5,1423.18 30884,1423.18 30774.5,1423.18 \"/>\n",
       "<path clip-path=\"url(#clip132)\" d=\"M30884 1423.18 L30884 1423.18 L30993.6 1423.18 L30993.6 1423.18 L30884 1423.18 L30884 1423.18  Z\" fill=\"#009af9\" fill-rule=\"evenodd\" fill-opacity=\"1\"/>\n",
       "<polyline clip-path=\"url(#clip132)\" style=\"stroke:#000000; stroke-linecap:round; stroke-linejoin:round; stroke-width:4; stroke-opacity:1; fill:none\" points=\"30884,1423.18 30884,1423.18 30993.6,1423.18 30884,1423.18 \"/>\n",
       "<path clip-path=\"url(#clip132)\" d=\"M30993.6 1423.18 L30993.6 1423.18 L31103.1 1423.18 L31103.1 1423.18 L30993.6 1423.18 L30993.6 1423.18  Z\" fill=\"#009af9\" fill-rule=\"evenodd\" fill-opacity=\"1\"/>\n",
       "<polyline clip-path=\"url(#clip132)\" style=\"stroke:#000000; stroke-linecap:round; stroke-linejoin:round; stroke-width:4; stroke-opacity:1; fill:none\" points=\"30993.6,1423.18 30993.6,1423.18 31103.1,1423.18 30993.6,1423.18 \"/>\n",
       "<path clip-path=\"url(#clip132)\" d=\"M31103.1 1423.18 L31103.1 1423.18 L31212.6 1423.18 L31212.6 1423.18 L31103.1 1423.18 L31103.1 1423.18  Z\" fill=\"#009af9\" fill-rule=\"evenodd\" fill-opacity=\"1\"/>\n",
       "<polyline clip-path=\"url(#clip132)\" style=\"stroke:#000000; stroke-linecap:round; stroke-linejoin:round; stroke-width:4; stroke-opacity:1; fill:none\" points=\"31103.1,1423.18 31103.1,1423.18 31212.6,1423.18 31103.1,1423.18 \"/>\n",
       "<path clip-path=\"url(#clip132)\" d=\"M31212.6 1423.18 L31212.6 1423.18 L31322.2 1423.18 L31322.2 1423.18 L31212.6 1423.18 L31212.6 1423.18  Z\" fill=\"#009af9\" fill-rule=\"evenodd\" fill-opacity=\"1\"/>\n",
       "<polyline clip-path=\"url(#clip132)\" style=\"stroke:#000000; stroke-linecap:round; stroke-linejoin:round; stroke-width:4; stroke-opacity:1; fill:none\" points=\"31212.6,1423.18 31212.6,1423.18 31322.2,1423.18 31212.6,1423.18 \"/>\n",
       "<path clip-path=\"url(#clip132)\" d=\"M31322.2 1423.18 L31322.2 1423.18 L31431.7 1423.18 L31431.7 1423.18 L31322.2 1423.18 L31322.2 1423.18  Z\" fill=\"#009af9\" fill-rule=\"evenodd\" fill-opacity=\"1\"/>\n",
       "<polyline clip-path=\"url(#clip132)\" style=\"stroke:#000000; stroke-linecap:round; stroke-linejoin:round; stroke-width:4; stroke-opacity:1; fill:none\" points=\"31322.2,1423.18 31322.2,1423.18 31431.7,1423.18 31322.2,1423.18 \"/>\n",
       "<path clip-path=\"url(#clip132)\" d=\"M31431.7 1423.18 L31431.7 1423.18 L31541.3 1423.18 L31541.3 1423.18 L31431.7 1423.18 L31431.7 1423.18  Z\" fill=\"#009af9\" fill-rule=\"evenodd\" fill-opacity=\"1\"/>\n",
       "<polyline clip-path=\"url(#clip132)\" style=\"stroke:#000000; stroke-linecap:round; stroke-linejoin:round; stroke-width:4; stroke-opacity:1; fill:none\" points=\"31431.7,1423.18 31431.7,1423.18 31541.3,1423.18 31431.7,1423.18 \"/>\n",
       "<path clip-path=\"url(#clip132)\" d=\"M31541.3 1423.18 L31541.3 1423.18 L31650.8 1423.18 L31650.8 1423.18 L31541.3 1423.18 L31541.3 1423.18  Z\" fill=\"#009af9\" fill-rule=\"evenodd\" fill-opacity=\"1\"/>\n",
       "<polyline clip-path=\"url(#clip132)\" style=\"stroke:#000000; stroke-linecap:round; stroke-linejoin:round; stroke-width:4; stroke-opacity:1; fill:none\" points=\"31541.3,1423.18 31541.3,1423.18 31650.8,1423.18 31541.3,1423.18 \"/>\n",
       "<path clip-path=\"url(#clip132)\" d=\"M31650.8 1423.18 L31650.8 1423.18 L31760.3 1423.18 L31760.3 1423.18 L31650.8 1423.18 L31650.8 1423.18  Z\" fill=\"#009af9\" fill-rule=\"evenodd\" fill-opacity=\"1\"/>\n",
       "<polyline clip-path=\"url(#clip132)\" style=\"stroke:#000000; stroke-linecap:round; stroke-linejoin:round; stroke-width:4; stroke-opacity:1; fill:none\" points=\"31650.8,1423.18 31650.8,1423.18 31760.3,1423.18 31650.8,1423.18 \"/>\n",
       "<path clip-path=\"url(#clip132)\" d=\"M31760.3 1423.18 L31760.3 1423.18 L31869.9 1423.18 L31869.9 1423.18 L31760.3 1423.18 L31760.3 1423.18  Z\" fill=\"#009af9\" fill-rule=\"evenodd\" fill-opacity=\"1\"/>\n",
       "<polyline clip-path=\"url(#clip132)\" style=\"stroke:#000000; stroke-linecap:round; stroke-linejoin:round; stroke-width:4; stroke-opacity:1; fill:none\" points=\"31760.3,1423.18 31760.3,1423.18 31869.9,1423.18 31760.3,1423.18 \"/>\n",
       "<path clip-path=\"url(#clip132)\" d=\"M31869.9 1423.18 L31869.9 1423.18 L31979.4 1423.18 L31979.4 1423.18 L31869.9 1423.18 L31869.9 1423.18  Z\" fill=\"#009af9\" fill-rule=\"evenodd\" fill-opacity=\"1\"/>\n",
       "<polyline clip-path=\"url(#clip132)\" style=\"stroke:#000000; stroke-linecap:round; stroke-linejoin:round; stroke-width:4; stroke-opacity:1; fill:none\" points=\"31869.9,1423.18 31869.9,1423.18 31979.4,1423.18 31869.9,1423.18 \"/>\n",
       "<path clip-path=\"url(#clip132)\" d=\"M31979.4 1423.18 L31979.4 1423.18 L32088.9 1423.18 L32088.9 1423.18 L31979.4 1423.18 L31979.4 1423.18  Z\" fill=\"#009af9\" fill-rule=\"evenodd\" fill-opacity=\"1\"/>\n",
       "<polyline clip-path=\"url(#clip132)\" style=\"stroke:#000000; stroke-linecap:round; stroke-linejoin:round; stroke-width:4; stroke-opacity:1; fill:none\" points=\"31979.4,1423.18 31979.4,1423.18 32088.9,1423.18 31979.4,1423.18 \"/>\n",
       "<path clip-path=\"url(#clip132)\" d=\"M32088.9 1423.18 L32088.9 1423.18 L32198.5 1423.18 L32198.5 1423.18 L32088.9 1423.18 L32088.9 1423.18  Z\" fill=\"#009af9\" fill-rule=\"evenodd\" fill-opacity=\"1\"/>\n",
       "<polyline clip-path=\"url(#clip132)\" style=\"stroke:#000000; stroke-linecap:round; stroke-linejoin:round; stroke-width:4; stroke-opacity:1; fill:none\" points=\"32088.9,1423.18 32088.9,1423.18 32198.5,1423.18 32088.9,1423.18 \"/>\n",
       "<path clip-path=\"url(#clip132)\" d=\"M32198.5 1423.18 L32198.5 1423.18 L32308 1423.18 L32308 1423.18 L32198.5 1423.18 L32198.5 1423.18  Z\" fill=\"#009af9\" fill-rule=\"evenodd\" fill-opacity=\"1\"/>\n",
       "<polyline clip-path=\"url(#clip132)\" style=\"stroke:#000000; stroke-linecap:round; stroke-linejoin:round; stroke-width:4; stroke-opacity:1; fill:none\" points=\"32198.5,1423.18 32198.5,1423.18 32308,1423.18 32198.5,1423.18 \"/>\n",
       "<path clip-path=\"url(#clip132)\" d=\"M32308 1423.18 L32308 1423.18 L32417.6 1423.18 L32417.6 1423.18 L32308 1423.18 L32308 1423.18  Z\" fill=\"#009af9\" fill-rule=\"evenodd\" fill-opacity=\"1\"/>\n",
       "<polyline clip-path=\"url(#clip132)\" style=\"stroke:#000000; stroke-linecap:round; stroke-linejoin:round; stroke-width:4; stroke-opacity:1; fill:none\" points=\"32308,1423.18 32308,1423.18 32417.6,1423.18 32308,1423.18 \"/>\n",
       "<path clip-path=\"url(#clip132)\" d=\"M32417.6 1423.18 L32417.6 1423.18 L32527.1 1423.18 L32527.1 1423.18 L32417.6 1423.18 L32417.6 1423.18  Z\" fill=\"#009af9\" fill-rule=\"evenodd\" fill-opacity=\"1\"/>\n",
       "<polyline clip-path=\"url(#clip132)\" style=\"stroke:#000000; stroke-linecap:round; stroke-linejoin:round; stroke-width:4; stroke-opacity:1; fill:none\" points=\"32417.6,1423.18 32417.6,1423.18 32527.1,1423.18 32417.6,1423.18 \"/>\n",
       "<path clip-path=\"url(#clip132)\" d=\"M32527.1 1423.18 L32527.1 1423.18 L32636.6 1423.18 L32636.6 1423.18 L32527.1 1423.18 L32527.1 1423.18  Z\" fill=\"#009af9\" fill-rule=\"evenodd\" fill-opacity=\"1\"/>\n",
       "<polyline clip-path=\"url(#clip132)\" style=\"stroke:#000000; stroke-linecap:round; stroke-linejoin:round; stroke-width:4; stroke-opacity:1; fill:none\" points=\"32527.1,1423.18 32527.1,1423.18 32636.6,1423.18 32527.1,1423.18 \"/>\n",
       "<path clip-path=\"url(#clip132)\" d=\"M32636.6 1423.18 L32636.6 1423.18 L32746.2 1423.18 L32746.2 1423.18 L32636.6 1423.18 L32636.6 1423.18  Z\" fill=\"#009af9\" fill-rule=\"evenodd\" fill-opacity=\"1\"/>\n",
       "<polyline clip-path=\"url(#clip132)\" style=\"stroke:#000000; stroke-linecap:round; stroke-linejoin:round; stroke-width:4; stroke-opacity:1; fill:none\" points=\"32636.6,1423.18 32636.6,1423.18 32746.2,1423.18 32636.6,1423.18 \"/>\n",
       "<path clip-path=\"url(#clip132)\" d=\"M32746.2 1423.18 L32746.2 1423.18 L32855.7 1423.18 L32855.7 1423.18 L32746.2 1423.18 L32746.2 1423.18  Z\" fill=\"#009af9\" fill-rule=\"evenodd\" fill-opacity=\"1\"/>\n",
       "<polyline clip-path=\"url(#clip132)\" style=\"stroke:#000000; stroke-linecap:round; stroke-linejoin:round; stroke-width:4; stroke-opacity:1; fill:none\" points=\"32746.2,1423.18 32746.2,1423.18 32855.7,1423.18 32746.2,1423.18 \"/>\n",
       "<path clip-path=\"url(#clip132)\" d=\"M32855.7 1423.18 L32855.7 1423.18 L32965.2 1423.18 L32965.2 1423.18 L32855.7 1423.18 L32855.7 1423.18  Z\" fill=\"#009af9\" fill-rule=\"evenodd\" fill-opacity=\"1\"/>\n",
       "<polyline clip-path=\"url(#clip132)\" style=\"stroke:#000000; stroke-linecap:round; stroke-linejoin:round; stroke-width:4; stroke-opacity:1; fill:none\" points=\"32855.7,1423.18 32855.7,1423.18 32965.2,1423.18 32855.7,1423.18 \"/>\n",
       "<path clip-path=\"url(#clip132)\" d=\"M32965.2 1423.18 L32965.2 1423.18 L33074.8 1423.18 L33074.8 1423.18 L32965.2 1423.18 L32965.2 1423.18  Z\" fill=\"#009af9\" fill-rule=\"evenodd\" fill-opacity=\"1\"/>\n",
       "<polyline clip-path=\"url(#clip132)\" style=\"stroke:#000000; stroke-linecap:round; stroke-linejoin:round; stroke-width:4; stroke-opacity:1; fill:none\" points=\"32965.2,1423.18 32965.2,1423.18 33074.8,1423.18 32965.2,1423.18 \"/>\n",
       "<path clip-path=\"url(#clip132)\" d=\"M33074.8 1423.18 L33074.8 1423.18 L33184.3 1423.18 L33184.3 1423.18 L33074.8 1423.18 L33074.8 1423.18  Z\" fill=\"#009af9\" fill-rule=\"evenodd\" fill-opacity=\"1\"/>\n",
       "<polyline clip-path=\"url(#clip132)\" style=\"stroke:#000000; stroke-linecap:round; stroke-linejoin:round; stroke-width:4; stroke-opacity:1; fill:none\" points=\"33074.8,1423.18 33074.8,1423.18 33184.3,1423.18 33074.8,1423.18 \"/>\n",
       "<path clip-path=\"url(#clip132)\" d=\"M33184.3 1423.18 L33184.3 1423.18 L33293.9 1423.18 L33293.9 1423.18 L33184.3 1423.18 L33184.3 1423.18  Z\" fill=\"#009af9\" fill-rule=\"evenodd\" fill-opacity=\"1\"/>\n",
       "<polyline clip-path=\"url(#clip132)\" style=\"stroke:#000000; stroke-linecap:round; stroke-linejoin:round; stroke-width:4; stroke-opacity:1; fill:none\" points=\"33184.3,1423.18 33184.3,1423.18 33293.9,1423.18 33184.3,1423.18 \"/>\n",
       "<path clip-path=\"url(#clip132)\" d=\"M33293.9 1423.18 L33293.9 1423.18 L33403.4 1423.18 L33403.4 1423.18 L33293.9 1423.18 L33293.9 1423.18  Z\" fill=\"#009af9\" fill-rule=\"evenodd\" fill-opacity=\"1\"/>\n",
       "<polyline clip-path=\"url(#clip132)\" style=\"stroke:#000000; stroke-linecap:round; stroke-linejoin:round; stroke-width:4; stroke-opacity:1; fill:none\" points=\"33293.9,1423.18 33293.9,1423.18 33403.4,1423.18 33293.9,1423.18 \"/>\n",
       "<path clip-path=\"url(#clip132)\" d=\"M33403.4 1423.18 L33403.4 1423.18 L33512.9 1423.18 L33512.9 1423.18 L33403.4 1423.18 L33403.4 1423.18  Z\" fill=\"#009af9\" fill-rule=\"evenodd\" fill-opacity=\"1\"/>\n",
       "<polyline clip-path=\"url(#clip132)\" style=\"stroke:#000000; stroke-linecap:round; stroke-linejoin:round; stroke-width:4; stroke-opacity:1; fill:none\" points=\"33403.4,1423.18 33403.4,1423.18 33512.9,1423.18 33403.4,1423.18 \"/>\n",
       "<path clip-path=\"url(#clip132)\" d=\"M33512.9 1423.18 L33512.9 1423.18 L33622.5 1423.18 L33622.5 1423.18 L33512.9 1423.18 L33512.9 1423.18  Z\" fill=\"#009af9\" fill-rule=\"evenodd\" fill-opacity=\"1\"/>\n",
       "<polyline clip-path=\"url(#clip132)\" style=\"stroke:#000000; stroke-linecap:round; stroke-linejoin:round; stroke-width:4; stroke-opacity:1; fill:none\" points=\"33512.9,1423.18 33512.9,1423.18 33622.5,1423.18 33512.9,1423.18 \"/>\n",
       "<path clip-path=\"url(#clip132)\" d=\"M33622.5 1423.18 L33622.5 1423.18 L33732 1423.18 L33732 1423.18 L33622.5 1423.18 L33622.5 1423.18  Z\" fill=\"#009af9\" fill-rule=\"evenodd\" fill-opacity=\"1\"/>\n",
       "<polyline clip-path=\"url(#clip132)\" style=\"stroke:#000000; stroke-linecap:round; stroke-linejoin:round; stroke-width:4; stroke-opacity:1; fill:none\" points=\"33622.5,1423.18 33622.5,1423.18 33732,1423.18 33622.5,1423.18 \"/>\n",
       "<path clip-path=\"url(#clip132)\" d=\"M33732 1423.18 L33732 1423.18 L33841.5 1423.18 L33841.5 1423.18 L33732 1423.18 L33732 1423.18  Z\" fill=\"#009af9\" fill-rule=\"evenodd\" fill-opacity=\"1\"/>\n",
       "<polyline clip-path=\"url(#clip132)\" style=\"stroke:#000000; stroke-linecap:round; stroke-linejoin:round; stroke-width:4; stroke-opacity:1; fill:none\" points=\"33732,1423.18 33732,1423.18 33841.5,1423.18 33732,1423.18 \"/>\n",
       "<path clip-path=\"url(#clip132)\" d=\"M33841.5 1423.18 L33841.5 1423.18 L33951.1 1423.18 L33951.1 1423.18 L33841.5 1423.18 L33841.5 1423.18  Z\" fill=\"#009af9\" fill-rule=\"evenodd\" fill-opacity=\"1\"/>\n",
       "<polyline clip-path=\"url(#clip132)\" style=\"stroke:#000000; stroke-linecap:round; stroke-linejoin:round; stroke-width:4; stroke-opacity:1; fill:none\" points=\"33841.5,1423.18 33841.5,1423.18 33951.1,1423.18 33841.5,1423.18 \"/>\n",
       "<path clip-path=\"url(#clip132)\" d=\"M33951.1 1423.18 L33951.1 1423.18 L34060.6 1423.18 L34060.6 1423.18 L33951.1 1423.18 L33951.1 1423.18  Z\" fill=\"#009af9\" fill-rule=\"evenodd\" fill-opacity=\"1\"/>\n",
       "<polyline clip-path=\"url(#clip132)\" style=\"stroke:#000000; stroke-linecap:round; stroke-linejoin:round; stroke-width:4; stroke-opacity:1; fill:none\" points=\"33951.1,1423.18 33951.1,1423.18 34060.6,1423.18 33951.1,1423.18 \"/>\n",
       "<path clip-path=\"url(#clip132)\" d=\"M34060.6 1423.18 L34060.6 1423.18 L34170.2 1423.18 L34170.2 1423.18 L34060.6 1423.18 L34060.6 1423.18  Z\" fill=\"#009af9\" fill-rule=\"evenodd\" fill-opacity=\"1\"/>\n",
       "<polyline clip-path=\"url(#clip132)\" style=\"stroke:#000000; stroke-linecap:round; stroke-linejoin:round; stroke-width:4; stroke-opacity:1; fill:none\" points=\"34060.6,1423.18 34060.6,1423.18 34170.2,1423.18 34060.6,1423.18 \"/>\n",
       "<path clip-path=\"url(#clip132)\" d=\"M34170.2 1423.18 L34170.2 1423.18 L34279.7 1423.18 L34279.7 1423.18 L34170.2 1423.18 L34170.2 1423.18  Z\" fill=\"#009af9\" fill-rule=\"evenodd\" fill-opacity=\"1\"/>\n",
       "<polyline clip-path=\"url(#clip132)\" style=\"stroke:#000000; stroke-linecap:round; stroke-linejoin:round; stroke-width:4; stroke-opacity:1; fill:none\" points=\"34170.2,1423.18 34170.2,1423.18 34279.7,1423.18 34170.2,1423.18 \"/>\n",
       "<path clip-path=\"url(#clip132)\" d=\"M34279.7 1423.18 L34279.7 1423.18 L34389.2 1423.18 L34389.2 1423.18 L34279.7 1423.18 L34279.7 1423.18  Z\" fill=\"#009af9\" fill-rule=\"evenodd\" fill-opacity=\"1\"/>\n",
       "<polyline clip-path=\"url(#clip132)\" style=\"stroke:#000000; stroke-linecap:round; stroke-linejoin:round; stroke-width:4; stroke-opacity:1; fill:none\" points=\"34279.7,1423.18 34279.7,1423.18 34389.2,1423.18 34279.7,1423.18 \"/>\n",
       "<path clip-path=\"url(#clip132)\" d=\"M34389.2 1423.18 L34389.2 1423.18 L34498.8 1423.18 L34498.8 1423.18 L34389.2 1423.18 L34389.2 1423.18  Z\" fill=\"#009af9\" fill-rule=\"evenodd\" fill-opacity=\"1\"/>\n",
       "<polyline clip-path=\"url(#clip132)\" style=\"stroke:#000000; stroke-linecap:round; stroke-linejoin:round; stroke-width:4; stroke-opacity:1; fill:none\" points=\"34389.2,1423.18 34389.2,1423.18 34498.8,1423.18 34389.2,1423.18 \"/>\n",
       "<path clip-path=\"url(#clip132)\" d=\"M34498.8 1423.18 L34498.8 1423.18 L34608.3 1423.18 L34608.3 1423.18 L34498.8 1423.18 L34498.8 1423.18  Z\" fill=\"#009af9\" fill-rule=\"evenodd\" fill-opacity=\"1\"/>\n",
       "<polyline clip-path=\"url(#clip132)\" style=\"stroke:#000000; stroke-linecap:round; stroke-linejoin:round; stroke-width:4; stroke-opacity:1; fill:none\" points=\"34498.8,1423.18 34498.8,1423.18 34608.3,1423.18 34498.8,1423.18 \"/>\n",
       "<path clip-path=\"url(#clip132)\" d=\"M34608.3 1423.18 L34608.3 1423.18 L34717.8 1423.18 L34717.8 1423.18 L34608.3 1423.18 L34608.3 1423.18  Z\" fill=\"#009af9\" fill-rule=\"evenodd\" fill-opacity=\"1\"/>\n",
       "<polyline clip-path=\"url(#clip132)\" style=\"stroke:#000000; stroke-linecap:round; stroke-linejoin:round; stroke-width:4; stroke-opacity:1; fill:none\" points=\"34608.3,1423.18 34608.3,1423.18 34717.8,1423.18 34608.3,1423.18 \"/>\n",
       "<path clip-path=\"url(#clip132)\" d=\"M34717.8 1423.18 L34717.8 1423.18 L34827.4 1423.18 L34827.4 1423.18 L34717.8 1423.18 L34717.8 1423.18  Z\" fill=\"#009af9\" fill-rule=\"evenodd\" fill-opacity=\"1\"/>\n",
       "<polyline clip-path=\"url(#clip132)\" style=\"stroke:#000000; stroke-linecap:round; stroke-linejoin:round; stroke-width:4; stroke-opacity:1; fill:none\" points=\"34717.8,1423.18 34717.8,1423.18 34827.4,1423.18 34717.8,1423.18 \"/>\n",
       "<path clip-path=\"url(#clip132)\" d=\"M34827.4 1423.18 L34827.4 1423.18 L34936.9 1423.18 L34936.9 1423.18 L34827.4 1423.18 L34827.4 1423.18  Z\" fill=\"#009af9\" fill-rule=\"evenodd\" fill-opacity=\"1\"/>\n",
       "<polyline clip-path=\"url(#clip132)\" style=\"stroke:#000000; stroke-linecap:round; stroke-linejoin:round; stroke-width:4; stroke-opacity:1; fill:none\" points=\"34827.4,1423.18 34827.4,1423.18 34936.9,1423.18 34827.4,1423.18 \"/>\n",
       "<path clip-path=\"url(#clip132)\" d=\"M34936.9 1423.18 L34936.9 1423.18 L35046.5 1423.18 L35046.5 1423.18 L34936.9 1423.18 L34936.9 1423.18  Z\" fill=\"#009af9\" fill-rule=\"evenodd\" fill-opacity=\"1\"/>\n",
       "<polyline clip-path=\"url(#clip132)\" style=\"stroke:#000000; stroke-linecap:round; stroke-linejoin:round; stroke-width:4; stroke-opacity:1; fill:none\" points=\"34936.9,1423.18 34936.9,1423.18 35046.5,1423.18 34936.9,1423.18 \"/>\n",
       "<path clip-path=\"url(#clip132)\" d=\"M35046.5 1423.18 L35046.5 1423.18 L35156 1423.18 L35156 1423.18 L35046.5 1423.18 L35046.5 1423.18  Z\" fill=\"#009af9\" fill-rule=\"evenodd\" fill-opacity=\"1\"/>\n",
       "<polyline clip-path=\"url(#clip132)\" style=\"stroke:#000000; stroke-linecap:round; stroke-linejoin:round; stroke-width:4; stroke-opacity:1; fill:none\" points=\"35046.5,1423.18 35046.5,1423.18 35156,1423.18 35046.5,1423.18 \"/>\n",
       "<path clip-path=\"url(#clip132)\" d=\"M35156 1423.18 L35156 1423.18 L35265.5 1423.18 L35265.5 1423.18 L35156 1423.18 L35156 1423.18  Z\" fill=\"#009af9\" fill-rule=\"evenodd\" fill-opacity=\"1\"/>\n",
       "<polyline clip-path=\"url(#clip132)\" style=\"stroke:#000000; stroke-linecap:round; stroke-linejoin:round; stroke-width:4; stroke-opacity:1; fill:none\" points=\"35156,1423.18 35156,1423.18 35265.5,1423.18 35156,1423.18 \"/>\n",
       "<path clip-path=\"url(#clip132)\" d=\"M35265.5 1423.18 L35265.5 1423.18 L35375.1 1423.18 L35375.1 1423.18 L35265.5 1423.18 L35265.5 1423.18  Z\" fill=\"#009af9\" fill-rule=\"evenodd\" fill-opacity=\"1\"/>\n",
       "<polyline clip-path=\"url(#clip132)\" style=\"stroke:#000000; stroke-linecap:round; stroke-linejoin:round; stroke-width:4; stroke-opacity:1; fill:none\" points=\"35265.5,1423.18 35265.5,1423.18 35375.1,1423.18 35265.5,1423.18 \"/>\n",
       "<path clip-path=\"url(#clip132)\" d=\"M35375.1 1423.18 L35375.1 1423.18 L35484.6 1423.18 L35484.6 1423.18 L35375.1 1423.18 L35375.1 1423.18  Z\" fill=\"#009af9\" fill-rule=\"evenodd\" fill-opacity=\"1\"/>\n",
       "<polyline clip-path=\"url(#clip132)\" style=\"stroke:#000000; stroke-linecap:round; stroke-linejoin:round; stroke-width:4; stroke-opacity:1; fill:none\" points=\"35375.1,1423.18 35375.1,1423.18 35484.6,1423.18 35375.1,1423.18 \"/>\n",
       "<path clip-path=\"url(#clip132)\" d=\"M35484.6 1423.18 L35484.6 1423.18 L35594.1 1423.18 L35594.1 1423.18 L35484.6 1423.18 L35484.6 1423.18  Z\" fill=\"#009af9\" fill-rule=\"evenodd\" fill-opacity=\"1\"/>\n",
       "<polyline clip-path=\"url(#clip132)\" style=\"stroke:#000000; stroke-linecap:round; stroke-linejoin:round; stroke-width:4; stroke-opacity:1; fill:none\" points=\"35484.6,1423.18 35484.6,1423.18 35594.1,1423.18 35484.6,1423.18 \"/>\n",
       "<path clip-path=\"url(#clip132)\" d=\"M35594.1 1423.18 L35594.1 1423.18 L35703.7 1423.18 L35703.7 1423.18 L35594.1 1423.18 L35594.1 1423.18  Z\" fill=\"#009af9\" fill-rule=\"evenodd\" fill-opacity=\"1\"/>\n",
       "<polyline clip-path=\"url(#clip132)\" style=\"stroke:#000000; stroke-linecap:round; stroke-linejoin:round; stroke-width:4; stroke-opacity:1; fill:none\" points=\"35594.1,1423.18 35594.1,1423.18 35703.7,1423.18 35594.1,1423.18 \"/>\n",
       "<path clip-path=\"url(#clip132)\" d=\"M35703.7 1423.18 L35703.7 1423.18 L35813.2 1423.18 L35813.2 1423.18 L35703.7 1423.18 L35703.7 1423.18  Z\" fill=\"#009af9\" fill-rule=\"evenodd\" fill-opacity=\"1\"/>\n",
       "<polyline clip-path=\"url(#clip132)\" style=\"stroke:#000000; stroke-linecap:round; stroke-linejoin:round; stroke-width:4; stroke-opacity:1; fill:none\" points=\"35703.7,1423.18 35703.7,1423.18 35813.2,1423.18 35703.7,1423.18 \"/>\n",
       "<path clip-path=\"url(#clip132)\" d=\"M35813.2 1423.18 L35813.2 1423.18 L35922.7 1423.18 L35922.7 1423.18 L35813.2 1423.18 L35813.2 1423.18  Z\" fill=\"#009af9\" fill-rule=\"evenodd\" fill-opacity=\"1\"/>\n",
       "<polyline clip-path=\"url(#clip132)\" style=\"stroke:#000000; stroke-linecap:round; stroke-linejoin:round; stroke-width:4; stroke-opacity:1; fill:none\" points=\"35813.2,1423.18 35813.2,1423.18 35922.7,1423.18 35813.2,1423.18 \"/>\n",
       "<path clip-path=\"url(#clip132)\" d=\"M35922.7 1423.18 L35922.7 1423.18 L36032.3 1423.18 L36032.3 1423.18 L35922.7 1423.18 L35922.7 1423.18  Z\" fill=\"#009af9\" fill-rule=\"evenodd\" fill-opacity=\"1\"/>\n",
       "<polyline clip-path=\"url(#clip132)\" style=\"stroke:#000000; stroke-linecap:round; stroke-linejoin:round; stroke-width:4; stroke-opacity:1; fill:none\" points=\"35922.7,1423.18 35922.7,1423.18 36032.3,1423.18 35922.7,1423.18 \"/>\n",
       "<path clip-path=\"url(#clip132)\" d=\"M36032.3 1423.18 L36032.3 1423.18 L36141.8 1423.18 L36141.8 1423.18 L36032.3 1423.18 L36032.3 1423.18  Z\" fill=\"#009af9\" fill-rule=\"evenodd\" fill-opacity=\"1\"/>\n",
       "<polyline clip-path=\"url(#clip132)\" style=\"stroke:#000000; stroke-linecap:round; stroke-linejoin:round; stroke-width:4; stroke-opacity:1; fill:none\" points=\"36032.3,1423.18 36032.3,1423.18 36141.8,1423.18 36032.3,1423.18 \"/>\n",
       "<path clip-path=\"url(#clip132)\" d=\"M36141.8 1423.18 L36141.8 1423.18 L36251.4 1423.18 L36251.4 1423.18 L36141.8 1423.18 L36141.8 1423.18  Z\" fill=\"#009af9\" fill-rule=\"evenodd\" fill-opacity=\"1\"/>\n",
       "<polyline clip-path=\"url(#clip132)\" style=\"stroke:#000000; stroke-linecap:round; stroke-linejoin:round; stroke-width:4; stroke-opacity:1; fill:none\" points=\"36141.8,1423.18 36141.8,1423.18 36251.4,1423.18 36141.8,1423.18 \"/>\n",
       "<path clip-path=\"url(#clip132)\" d=\"M36251.4 1423.18 L36251.4 1423.18 L36360.9 1423.18 L36360.9 1423.18 L36251.4 1423.18 L36251.4 1423.18  Z\" fill=\"#009af9\" fill-rule=\"evenodd\" fill-opacity=\"1\"/>\n",
       "<polyline clip-path=\"url(#clip132)\" style=\"stroke:#000000; stroke-linecap:round; stroke-linejoin:round; stroke-width:4; stroke-opacity:1; fill:none\" points=\"36251.4,1423.18 36251.4,1423.18 36360.9,1423.18 36251.4,1423.18 \"/>\n",
       "<path clip-path=\"url(#clip132)\" d=\"M36360.9 1423.18 L36360.9 1423.18 L36470.4 1423.18 L36470.4 1423.18 L36360.9 1423.18 L36360.9 1423.18  Z\" fill=\"#009af9\" fill-rule=\"evenodd\" fill-opacity=\"1\"/>\n",
       "<polyline clip-path=\"url(#clip132)\" style=\"stroke:#000000; stroke-linecap:round; stroke-linejoin:round; stroke-width:4; stroke-opacity:1; fill:none\" points=\"36360.9,1423.18 36360.9,1423.18 36470.4,1423.18 36360.9,1423.18 \"/>\n",
       "<path clip-path=\"url(#clip132)\" d=\"M36470.4 1423.18 L36470.4 1423.18 L36580 1423.18 L36580 1423.18 L36470.4 1423.18 L36470.4 1423.18  Z\" fill=\"#009af9\" fill-rule=\"evenodd\" fill-opacity=\"1\"/>\n",
       "<polyline clip-path=\"url(#clip132)\" style=\"stroke:#000000; stroke-linecap:round; stroke-linejoin:round; stroke-width:4; stroke-opacity:1; fill:none\" points=\"36470.4,1423.18 36470.4,1423.18 36580,1423.18 36470.4,1423.18 \"/>\n",
       "<path clip-path=\"url(#clip132)\" d=\"M36580 1423.18 L36580 1423.18 L36689.5 1423.18 L36689.5 1423.18 L36580 1423.18 L36580 1423.18  Z\" fill=\"#009af9\" fill-rule=\"evenodd\" fill-opacity=\"1\"/>\n",
       "<polyline clip-path=\"url(#clip132)\" style=\"stroke:#000000; stroke-linecap:round; stroke-linejoin:round; stroke-width:4; stroke-opacity:1; fill:none\" points=\"36580,1423.18 36580,1423.18 36689.5,1423.18 36580,1423.18 \"/>\n",
       "<path clip-path=\"url(#clip132)\" d=\"M36689.5 1423.18 L36689.5 1423.18 L36799 1423.18 L36799 1423.18 L36689.5 1423.18 L36689.5 1423.18  Z\" fill=\"#009af9\" fill-rule=\"evenodd\" fill-opacity=\"1\"/>\n",
       "<polyline clip-path=\"url(#clip132)\" style=\"stroke:#000000; stroke-linecap:round; stroke-linejoin:round; stroke-width:4; stroke-opacity:1; fill:none\" points=\"36689.5,1423.18 36689.5,1423.18 36799,1423.18 36689.5,1423.18 \"/>\n",
       "<path clip-path=\"url(#clip132)\" d=\"M36799 1423.18 L36799 1423.18 L36908.6 1423.18 L36908.6 1423.18 L36799 1423.18 L36799 1423.18  Z\" fill=\"#009af9\" fill-rule=\"evenodd\" fill-opacity=\"1\"/>\n",
       "<polyline clip-path=\"url(#clip132)\" style=\"stroke:#000000; stroke-linecap:round; stroke-linejoin:round; stroke-width:4; stroke-opacity:1; fill:none\" points=\"36799,1423.18 36799,1423.18 36908.6,1423.18 36799,1423.18 \"/>\n",
       "<path clip-path=\"url(#clip132)\" d=\"M36908.6 1423.18 L36908.6 1423.18 L37018.1 1423.18 L37018.1 1423.18 L36908.6 1423.18 L36908.6 1423.18  Z\" fill=\"#009af9\" fill-rule=\"evenodd\" fill-opacity=\"1\"/>\n",
       "<polyline clip-path=\"url(#clip132)\" style=\"stroke:#000000; stroke-linecap:round; stroke-linejoin:round; stroke-width:4; stroke-opacity:1; fill:none\" points=\"36908.6,1423.18 36908.6,1423.18 37018.1,1423.18 36908.6,1423.18 \"/>\n",
       "<path clip-path=\"url(#clip132)\" d=\"M37018.1 1423.18 L37018.1 1423.18 L37127.7 1423.18 L37127.7 1423.18 L37018.1 1423.18 L37018.1 1423.18  Z\" fill=\"#009af9\" fill-rule=\"evenodd\" fill-opacity=\"1\"/>\n",
       "<polyline clip-path=\"url(#clip132)\" style=\"stroke:#000000; stroke-linecap:round; stroke-linejoin:round; stroke-width:4; stroke-opacity:1; fill:none\" points=\"37018.1,1423.18 37018.1,1423.18 37127.7,1423.18 37018.1,1423.18 \"/>\n",
       "<path clip-path=\"url(#clip132)\" d=\"M37127.7 1423.18 L37127.7 1423.18 L37237.2 1423.18 L37237.2 1423.18 L37127.7 1423.18 L37127.7 1423.18  Z\" fill=\"#009af9\" fill-rule=\"evenodd\" fill-opacity=\"1\"/>\n",
       "<polyline clip-path=\"url(#clip132)\" style=\"stroke:#000000; stroke-linecap:round; stroke-linejoin:round; stroke-width:4; stroke-opacity:1; fill:none\" points=\"37127.7,1423.18 37127.7,1423.18 37237.2,1423.18 37127.7,1423.18 \"/>\n",
       "<path clip-path=\"url(#clip132)\" d=\"M37237.2 1423.18 L37237.2 1423.18 L37346.7 1423.18 L37346.7 1423.18 L37237.2 1423.18 L37237.2 1423.18  Z\" fill=\"#009af9\" fill-rule=\"evenodd\" fill-opacity=\"1\"/>\n",
       "<polyline clip-path=\"url(#clip132)\" style=\"stroke:#000000; stroke-linecap:round; stroke-linejoin:round; stroke-width:4; stroke-opacity:1; fill:none\" points=\"37237.2,1423.18 37237.2,1423.18 37346.7,1423.18 37237.2,1423.18 \"/>\n",
       "<path clip-path=\"url(#clip132)\" d=\"M37346.7 1423.18 L37346.7 1423.18 L37456.3 1423.18 L37456.3 1423.18 L37346.7 1423.18 L37346.7 1423.18  Z\" fill=\"#009af9\" fill-rule=\"evenodd\" fill-opacity=\"1\"/>\n",
       "<polyline clip-path=\"url(#clip132)\" style=\"stroke:#000000; stroke-linecap:round; stroke-linejoin:round; stroke-width:4; stroke-opacity:1; fill:none\" points=\"37346.7,1423.18 37346.7,1423.18 37456.3,1423.18 37346.7,1423.18 \"/>\n",
       "<path clip-path=\"url(#clip132)\" d=\"M37456.3 1423.18 L37456.3 1423.18 L37565.8 1423.18 L37565.8 1423.18 L37456.3 1423.18 L37456.3 1423.18  Z\" fill=\"#009af9\" fill-rule=\"evenodd\" fill-opacity=\"1\"/>\n",
       "<polyline clip-path=\"url(#clip132)\" style=\"stroke:#000000; stroke-linecap:round; stroke-linejoin:round; stroke-width:4; stroke-opacity:1; fill:none\" points=\"37456.3,1423.18 37456.3,1423.18 37565.8,1423.18 37456.3,1423.18 \"/>\n",
       "<path clip-path=\"url(#clip132)\" d=\"M37565.8 1423.18 L37565.8 1423.18 L37675.3 1423.18 L37675.3 1423.18 L37565.8 1423.18 L37565.8 1423.18  Z\" fill=\"#009af9\" fill-rule=\"evenodd\" fill-opacity=\"1\"/>\n",
       "<polyline clip-path=\"url(#clip132)\" style=\"stroke:#000000; stroke-linecap:round; stroke-linejoin:round; stroke-width:4; stroke-opacity:1; fill:none\" points=\"37565.8,1423.18 37565.8,1423.18 37675.3,1423.18 37565.8,1423.18 \"/>\n",
       "<path clip-path=\"url(#clip132)\" d=\"M37675.3 1423.18 L37675.3 1423.18 L37784.9 1423.18 L37784.9 1423.18 L37675.3 1423.18 L37675.3 1423.18  Z\" fill=\"#009af9\" fill-rule=\"evenodd\" fill-opacity=\"1\"/>\n",
       "<polyline clip-path=\"url(#clip132)\" style=\"stroke:#000000; stroke-linecap:round; stroke-linejoin:round; stroke-width:4; stroke-opacity:1; fill:none\" points=\"37675.3,1423.18 37675.3,1423.18 37784.9,1423.18 37675.3,1423.18 \"/>\n",
       "<path clip-path=\"url(#clip132)\" d=\"M37784.9 1423.18 L37784.9 1423.18 L37894.4 1423.18 L37894.4 1423.18 L37784.9 1423.18 L37784.9 1423.18  Z\" fill=\"#009af9\" fill-rule=\"evenodd\" fill-opacity=\"1\"/>\n",
       "<polyline clip-path=\"url(#clip132)\" style=\"stroke:#000000; stroke-linecap:round; stroke-linejoin:round; stroke-width:4; stroke-opacity:1; fill:none\" points=\"37784.9,1423.18 37784.9,1423.18 37894.4,1423.18 37784.9,1423.18 \"/>\n",
       "<path clip-path=\"url(#clip132)\" d=\"M37894.4 1423.18 L37894.4 1423.18 L38004 1423.18 L38004 1423.18 L37894.4 1423.18 L37894.4 1423.18  Z\" fill=\"#009af9\" fill-rule=\"evenodd\" fill-opacity=\"1\"/>\n",
       "<polyline clip-path=\"url(#clip132)\" style=\"stroke:#000000; stroke-linecap:round; stroke-linejoin:round; stroke-width:4; stroke-opacity:1; fill:none\" points=\"37894.4,1423.18 37894.4,1423.18 38004,1423.18 37894.4,1423.18 \"/>\n",
       "<path clip-path=\"url(#clip132)\" d=\"M38004 1423.18 L38004 1423.18 L38113.5 1423.18 L38113.5 1423.18 L38004 1423.18 L38004 1423.18  Z\" fill=\"#009af9\" fill-rule=\"evenodd\" fill-opacity=\"1\"/>\n",
       "<polyline clip-path=\"url(#clip132)\" style=\"stroke:#000000; stroke-linecap:round; stroke-linejoin:round; stroke-width:4; stroke-opacity:1; fill:none\" points=\"38004,1423.18 38004,1423.18 38113.5,1423.18 38004,1423.18 \"/>\n",
       "<path clip-path=\"url(#clip132)\" d=\"M38113.5 1423.18 L38113.5 1423.18 L38223 1423.18 L38223 1423.18 L38113.5 1423.18 L38113.5 1423.18  Z\" fill=\"#009af9\" fill-rule=\"evenodd\" fill-opacity=\"1\"/>\n",
       "<polyline clip-path=\"url(#clip132)\" style=\"stroke:#000000; stroke-linecap:round; stroke-linejoin:round; stroke-width:4; stroke-opacity:1; fill:none\" points=\"38113.5,1423.18 38113.5,1423.18 38223,1423.18 38113.5,1423.18 \"/>\n",
       "<path clip-path=\"url(#clip132)\" d=\"M38223 1423.18 L38223 1423.18 L38332.6 1423.18 L38332.6 1423.18 L38223 1423.18 L38223 1423.18  Z\" fill=\"#009af9\" fill-rule=\"evenodd\" fill-opacity=\"1\"/>\n",
       "<polyline clip-path=\"url(#clip132)\" style=\"stroke:#000000; stroke-linecap:round; stroke-linejoin:round; stroke-width:4; stroke-opacity:1; fill:none\" points=\"38223,1423.18 38223,1423.18 38332.6,1423.18 38223,1423.18 \"/>\n",
       "<path clip-path=\"url(#clip132)\" d=\"M38332.6 1423.18 L38332.6 1423.18 L38442.1 1423.18 L38442.1 1423.18 L38332.6 1423.18 L38332.6 1423.18  Z\" fill=\"#009af9\" fill-rule=\"evenodd\" fill-opacity=\"1\"/>\n",
       "<polyline clip-path=\"url(#clip132)\" style=\"stroke:#000000; stroke-linecap:round; stroke-linejoin:round; stroke-width:4; stroke-opacity:1; fill:none\" points=\"38332.6,1423.18 38332.6,1423.18 38442.1,1423.18 38332.6,1423.18 \"/>\n",
       "<path clip-path=\"url(#clip132)\" d=\"M38442.1 1423.18 L38442.1 1423.18 L38551.6 1423.18 L38551.6 1423.18 L38442.1 1423.18 L38442.1 1423.18  Z\" fill=\"#009af9\" fill-rule=\"evenodd\" fill-opacity=\"1\"/>\n",
       "<polyline clip-path=\"url(#clip132)\" style=\"stroke:#000000; stroke-linecap:round; stroke-linejoin:round; stroke-width:4; stroke-opacity:1; fill:none\" points=\"38442.1,1423.18 38442.1,1423.18 38551.6,1423.18 38442.1,1423.18 \"/>\n",
       "<path clip-path=\"url(#clip132)\" d=\"M38551.6 1423.18 L38551.6 1423.18 L38661.2 1423.18 L38661.2 1423.18 L38551.6 1423.18 L38551.6 1423.18  Z\" fill=\"#009af9\" fill-rule=\"evenodd\" fill-opacity=\"1\"/>\n",
       "<polyline clip-path=\"url(#clip132)\" style=\"stroke:#000000; stroke-linecap:round; stroke-linejoin:round; stroke-width:4; stroke-opacity:1; fill:none\" points=\"38551.6,1423.18 38551.6,1423.18 38661.2,1423.18 38551.6,1423.18 \"/>\n",
       "<path clip-path=\"url(#clip132)\" d=\"M38661.2 1423.18 L38661.2 1423.18 L38770.7 1423.18 L38770.7 1423.18 L38661.2 1423.18 L38661.2 1423.18  Z\" fill=\"#009af9\" fill-rule=\"evenodd\" fill-opacity=\"1\"/>\n",
       "<polyline clip-path=\"url(#clip132)\" style=\"stroke:#000000; stroke-linecap:round; stroke-linejoin:round; stroke-width:4; stroke-opacity:1; fill:none\" points=\"38661.2,1423.18 38661.2,1423.18 38770.7,1423.18 38661.2,1423.18 \"/>\n",
       "<path clip-path=\"url(#clip132)\" d=\"M38770.7 1423.18 L38770.7 1423.18 L38880.3 1423.18 L38880.3 1423.18 L38770.7 1423.18 L38770.7 1423.18  Z\" fill=\"#009af9\" fill-rule=\"evenodd\" fill-opacity=\"1\"/>\n",
       "<polyline clip-path=\"url(#clip132)\" style=\"stroke:#000000; stroke-linecap:round; stroke-linejoin:round; stroke-width:4; stroke-opacity:1; fill:none\" points=\"38770.7,1423.18 38770.7,1423.18 38880.3,1423.18 38770.7,1423.18 \"/>\n",
       "<path clip-path=\"url(#clip132)\" d=\"M38880.3 1423.18 L38880.3 1423.18 L38989.8 1423.18 L38989.8 1423.18 L38880.3 1423.18 L38880.3 1423.18  Z\" fill=\"#009af9\" fill-rule=\"evenodd\" fill-opacity=\"1\"/>\n",
       "<polyline clip-path=\"url(#clip132)\" style=\"stroke:#000000; stroke-linecap:round; stroke-linejoin:round; stroke-width:4; stroke-opacity:1; fill:none\" points=\"38880.3,1423.18 38880.3,1423.18 38989.8,1423.18 38880.3,1423.18 \"/>\n",
       "<path clip-path=\"url(#clip132)\" d=\"M38989.8 1423.18 L38989.8 1423.18 L39099.3 1423.18 L39099.3 1423.18 L38989.8 1423.18 L38989.8 1423.18  Z\" fill=\"#009af9\" fill-rule=\"evenodd\" fill-opacity=\"1\"/>\n",
       "<polyline clip-path=\"url(#clip132)\" style=\"stroke:#000000; stroke-linecap:round; stroke-linejoin:round; stroke-width:4; stroke-opacity:1; fill:none\" points=\"38989.8,1423.18 38989.8,1423.18 39099.3,1423.18 38989.8,1423.18 \"/>\n",
       "<path clip-path=\"url(#clip132)\" d=\"M39099.3 1423.18 L39099.3 1423.18 L39208.9 1423.18 L39208.9 1423.18 L39099.3 1423.18 L39099.3 1423.18  Z\" fill=\"#009af9\" fill-rule=\"evenodd\" fill-opacity=\"1\"/>\n",
       "<polyline clip-path=\"url(#clip132)\" style=\"stroke:#000000; stroke-linecap:round; stroke-linejoin:round; stroke-width:4; stroke-opacity:1; fill:none\" points=\"39099.3,1423.18 39099.3,1423.18 39208.9,1423.18 39099.3,1423.18 \"/>\n",
       "<path clip-path=\"url(#clip132)\" d=\"M39208.9 1423.18 L39208.9 1423.18 L39318.4 1423.18 L39318.4 1423.18 L39208.9 1423.18 L39208.9 1423.18  Z\" fill=\"#009af9\" fill-rule=\"evenodd\" fill-opacity=\"1\"/>\n",
       "<polyline clip-path=\"url(#clip132)\" style=\"stroke:#000000; stroke-linecap:round; stroke-linejoin:round; stroke-width:4; stroke-opacity:1; fill:none\" points=\"39208.9,1423.18 39208.9,1423.18 39318.4,1423.18 39208.9,1423.18 \"/>\n",
       "<path clip-path=\"url(#clip132)\" d=\"M39318.4 1423.18 L39318.4 1423.18 L39427.9 1423.18 L39427.9 1423.18 L39318.4 1423.18 L39318.4 1423.18  Z\" fill=\"#009af9\" fill-rule=\"evenodd\" fill-opacity=\"1\"/>\n",
       "<polyline clip-path=\"url(#clip132)\" style=\"stroke:#000000; stroke-linecap:round; stroke-linejoin:round; stroke-width:4; stroke-opacity:1; fill:none\" points=\"39318.4,1423.18 39318.4,1423.18 39427.9,1423.18 39318.4,1423.18 \"/>\n",
       "<path clip-path=\"url(#clip132)\" d=\"M39427.9 1423.18 L39427.9 1423.18 L39537.5 1423.18 L39537.5 1423.18 L39427.9 1423.18 L39427.9 1423.18  Z\" fill=\"#009af9\" fill-rule=\"evenodd\" fill-opacity=\"1\"/>\n",
       "<polyline clip-path=\"url(#clip132)\" style=\"stroke:#000000; stroke-linecap:round; stroke-linejoin:round; stroke-width:4; stroke-opacity:1; fill:none\" points=\"39427.9,1423.18 39427.9,1423.18 39537.5,1423.18 39427.9,1423.18 \"/>\n",
       "<path clip-path=\"url(#clip132)\" d=\"M39537.5 1423.18 L39537.5 1423.18 L39647 1423.18 L39647 1423.18 L39537.5 1423.18 L39537.5 1423.18  Z\" fill=\"#009af9\" fill-rule=\"evenodd\" fill-opacity=\"1\"/>\n",
       "<polyline clip-path=\"url(#clip132)\" style=\"stroke:#000000; stroke-linecap:round; stroke-linejoin:round; stroke-width:4; stroke-opacity:1; fill:none\" points=\"39537.5,1423.18 39537.5,1423.18 39647,1423.18 39537.5,1423.18 \"/>\n",
       "<path clip-path=\"url(#clip132)\" d=\"M39647 1423.18 L39647 1423.18 L39756.6 1423.18 L39756.6 1423.18 L39647 1423.18 L39647 1423.18  Z\" fill=\"#009af9\" fill-rule=\"evenodd\" fill-opacity=\"1\"/>\n",
       "<polyline clip-path=\"url(#clip132)\" style=\"stroke:#000000; stroke-linecap:round; stroke-linejoin:round; stroke-width:4; stroke-opacity:1; fill:none\" points=\"39647,1423.18 39647,1423.18 39756.6,1423.18 39647,1423.18 \"/>\n",
       "<path clip-path=\"url(#clip132)\" d=\"M39756.6 1423.18 L39756.6 1423.18 L39866.1 1423.18 L39866.1 1423.18 L39756.6 1423.18 L39756.6 1423.18  Z\" fill=\"#009af9\" fill-rule=\"evenodd\" fill-opacity=\"1\"/>\n",
       "<polyline clip-path=\"url(#clip132)\" style=\"stroke:#000000; stroke-linecap:round; stroke-linejoin:round; stroke-width:4; stroke-opacity:1; fill:none\" points=\"39756.6,1423.18 39756.6,1423.18 39866.1,1423.18 39756.6,1423.18 \"/>\n",
       "<path clip-path=\"url(#clip132)\" d=\"M39866.1 1423.18 L39866.1 1423.18 L39975.6 1423.18 L39975.6 1423.18 L39866.1 1423.18 L39866.1 1423.18  Z\" fill=\"#009af9\" fill-rule=\"evenodd\" fill-opacity=\"1\"/>\n",
       "<polyline clip-path=\"url(#clip132)\" style=\"stroke:#000000; stroke-linecap:round; stroke-linejoin:round; stroke-width:4; stroke-opacity:1; fill:none\" points=\"39866.1,1423.18 39866.1,1423.18 39975.6,1423.18 39866.1,1423.18 \"/>\n",
       "<path clip-path=\"url(#clip132)\" d=\"M39975.6 1423.18 L39975.6 1423.18 L40085.2 1423.18 L40085.2 1423.18 L39975.6 1423.18 L39975.6 1423.18  Z\" fill=\"#009af9\" fill-rule=\"evenodd\" fill-opacity=\"1\"/>\n",
       "<polyline clip-path=\"url(#clip132)\" style=\"stroke:#000000; stroke-linecap:round; stroke-linejoin:round; stroke-width:4; stroke-opacity:1; fill:none\" points=\"39975.6,1423.18 39975.6,1423.18 40085.2,1423.18 39975.6,1423.18 \"/>\n",
       "<path clip-path=\"url(#clip132)\" d=\"M40085.2 1423.18 L40085.2 1423.18 L40194.7 1423.18 L40194.7 1423.18 L40085.2 1423.18 L40085.2 1423.18  Z\" fill=\"#009af9\" fill-rule=\"evenodd\" fill-opacity=\"1\"/>\n",
       "<polyline clip-path=\"url(#clip132)\" style=\"stroke:#000000; stroke-linecap:round; stroke-linejoin:round; stroke-width:4; stroke-opacity:1; fill:none\" points=\"40085.2,1423.18 40085.2,1423.18 40194.7,1423.18 40085.2,1423.18 \"/>\n",
       "<path clip-path=\"url(#clip132)\" d=\"M40194.7 1423.18 L40194.7 1423.18 L40304.2 1423.18 L40304.2 1423.18 L40194.7 1423.18 L40194.7 1423.18  Z\" fill=\"#009af9\" fill-rule=\"evenodd\" fill-opacity=\"1\"/>\n",
       "<polyline clip-path=\"url(#clip132)\" style=\"stroke:#000000; stroke-linecap:round; stroke-linejoin:round; stroke-width:4; stroke-opacity:1; fill:none\" points=\"40194.7,1423.18 40194.7,1423.18 40304.2,1423.18 40194.7,1423.18 \"/>\n",
       "<path clip-path=\"url(#clip132)\" d=\"M40304.2 1423.18 L40304.2 1423.18 L40413.8 1423.18 L40413.8 1423.18 L40304.2 1423.18 L40304.2 1423.18  Z\" fill=\"#009af9\" fill-rule=\"evenodd\" fill-opacity=\"1\"/>\n",
       "<polyline clip-path=\"url(#clip132)\" style=\"stroke:#000000; stroke-linecap:round; stroke-linejoin:round; stroke-width:4; stroke-opacity:1; fill:none\" points=\"40304.2,1423.18 40304.2,1423.18 40413.8,1423.18 40304.2,1423.18 \"/>\n",
       "<path clip-path=\"url(#clip132)\" d=\"M40413.8 1423.18 L40413.8 1423.18 L40523.3 1423.18 L40523.3 1423.18 L40413.8 1423.18 L40413.8 1423.18  Z\" fill=\"#009af9\" fill-rule=\"evenodd\" fill-opacity=\"1\"/>\n",
       "<polyline clip-path=\"url(#clip132)\" style=\"stroke:#000000; stroke-linecap:round; stroke-linejoin:round; stroke-width:4; stroke-opacity:1; fill:none\" points=\"40413.8,1423.18 40413.8,1423.18 40523.3,1423.18 40413.8,1423.18 \"/>\n",
       "<path clip-path=\"url(#clip132)\" d=\"M40523.3 1423.18 L40523.3 1423.18 L40632.9 1423.18 L40632.9 1423.18 L40523.3 1423.18 L40523.3 1423.18  Z\" fill=\"#009af9\" fill-rule=\"evenodd\" fill-opacity=\"1\"/>\n",
       "<polyline clip-path=\"url(#clip132)\" style=\"stroke:#000000; stroke-linecap:round; stroke-linejoin:round; stroke-width:4; stroke-opacity:1; fill:none\" points=\"40523.3,1423.18 40523.3,1423.18 40632.9,1423.18 40523.3,1423.18 \"/>\n",
       "<path clip-path=\"url(#clip132)\" d=\"M40632.9 1423.18 L40632.9 1423.18 L40742.4 1423.18 L40742.4 1423.18 L40632.9 1423.18 L40632.9 1423.18  Z\" fill=\"#009af9\" fill-rule=\"evenodd\" fill-opacity=\"1\"/>\n",
       "<polyline clip-path=\"url(#clip132)\" style=\"stroke:#000000; stroke-linecap:round; stroke-linejoin:round; stroke-width:4; stroke-opacity:1; fill:none\" points=\"40632.9,1423.18 40632.9,1423.18 40742.4,1423.18 40632.9,1423.18 \"/>\n",
       "<path clip-path=\"url(#clip132)\" d=\"M40742.4 1423.18 L40742.4 1423.18 L40851.9 1423.18 L40851.9 1423.18 L40742.4 1423.18 L40742.4 1423.18  Z\" fill=\"#009af9\" fill-rule=\"evenodd\" fill-opacity=\"1\"/>\n",
       "<polyline clip-path=\"url(#clip132)\" style=\"stroke:#000000; stroke-linecap:round; stroke-linejoin:round; stroke-width:4; stroke-opacity:1; fill:none\" points=\"40742.4,1423.18 40742.4,1423.18 40851.9,1423.18 40742.4,1423.18 \"/>\n",
       "<path clip-path=\"url(#clip132)\" d=\"M40851.9 1423.18 L40851.9 1423.18 L40961.5 1423.18 L40961.5 1423.18 L40851.9 1423.18 L40851.9 1423.18  Z\" fill=\"#009af9\" fill-rule=\"evenodd\" fill-opacity=\"1\"/>\n",
       "<polyline clip-path=\"url(#clip132)\" style=\"stroke:#000000; stroke-linecap:round; stroke-linejoin:round; stroke-width:4; stroke-opacity:1; fill:none\" points=\"40851.9,1423.18 40851.9,1423.18 40961.5,1423.18 40851.9,1423.18 \"/>\n",
       "<path clip-path=\"url(#clip132)\" d=\"M40961.5 1423.18 L40961.5 1423.18 L41071 1423.18 L41071 1423.18 L40961.5 1423.18 L40961.5 1423.18  Z\" fill=\"#009af9\" fill-rule=\"evenodd\" fill-opacity=\"1\"/>\n",
       "<polyline clip-path=\"url(#clip132)\" style=\"stroke:#000000; stroke-linecap:round; stroke-linejoin:round; stroke-width:4; stroke-opacity:1; fill:none\" points=\"40961.5,1423.18 40961.5,1423.18 41071,1423.18 40961.5,1423.18 \"/>\n",
       "<path clip-path=\"url(#clip132)\" d=\"M41071 1423.18 L41071 1423.18 L41180.5 1423.18 L41180.5 1423.18 L41071 1423.18 L41071 1423.18  Z\" fill=\"#009af9\" fill-rule=\"evenodd\" fill-opacity=\"1\"/>\n",
       "<polyline clip-path=\"url(#clip132)\" style=\"stroke:#000000; stroke-linecap:round; stroke-linejoin:round; stroke-width:4; stroke-opacity:1; fill:none\" points=\"41071,1423.18 41071,1423.18 41180.5,1423.18 41071,1423.18 \"/>\n",
       "<path clip-path=\"url(#clip132)\" d=\"M41180.5 1423.18 L41180.5 1423.18 L41290.1 1423.18 L41290.1 1423.18 L41180.5 1423.18 L41180.5 1423.18  Z\" fill=\"#009af9\" fill-rule=\"evenodd\" fill-opacity=\"1\"/>\n",
       "<polyline clip-path=\"url(#clip132)\" style=\"stroke:#000000; stroke-linecap:round; stroke-linejoin:round; stroke-width:4; stroke-opacity:1; fill:none\" points=\"41180.5,1423.18 41180.5,1423.18 41290.1,1423.18 41180.5,1423.18 \"/>\n",
       "<path clip-path=\"url(#clip132)\" d=\"M41290.1 1423.18 L41290.1 1423.18 L41399.6 1423.18 L41399.6 1423.18 L41290.1 1423.18 L41290.1 1423.18  Z\" fill=\"#009af9\" fill-rule=\"evenodd\" fill-opacity=\"1\"/>\n",
       "<polyline clip-path=\"url(#clip132)\" style=\"stroke:#000000; stroke-linecap:round; stroke-linejoin:round; stroke-width:4; stroke-opacity:1; fill:none\" points=\"41290.1,1423.18 41290.1,1423.18 41399.6,1423.18 41290.1,1423.18 \"/>\n",
       "<path clip-path=\"url(#clip132)\" d=\"M41399.6 1423.18 L41399.6 1423.18 L41509.2 1423.18 L41509.2 1423.18 L41399.6 1423.18 L41399.6 1423.18  Z\" fill=\"#009af9\" fill-rule=\"evenodd\" fill-opacity=\"1\"/>\n",
       "<polyline clip-path=\"url(#clip132)\" style=\"stroke:#000000; stroke-linecap:round; stroke-linejoin:round; stroke-width:4; stroke-opacity:1; fill:none\" points=\"41399.6,1423.18 41399.6,1423.18 41509.2,1423.18 41399.6,1423.18 \"/>\n",
       "<path clip-path=\"url(#clip132)\" d=\"M41509.2 1423.18 L41509.2 1423.18 L41618.7 1423.18 L41618.7 1423.18 L41509.2 1423.18 L41509.2 1423.18  Z\" fill=\"#009af9\" fill-rule=\"evenodd\" fill-opacity=\"1\"/>\n",
       "<polyline clip-path=\"url(#clip132)\" style=\"stroke:#000000; stroke-linecap:round; stroke-linejoin:round; stroke-width:4; stroke-opacity:1; fill:none\" points=\"41509.2,1423.18 41509.2,1423.18 41618.7,1423.18 41509.2,1423.18 \"/>\n",
       "<path clip-path=\"url(#clip132)\" d=\"M41618.7 1423.18 L41618.7 1423.18 L41728.2 1423.18 L41728.2 1423.18 L41618.7 1423.18 L41618.7 1423.18  Z\" fill=\"#009af9\" fill-rule=\"evenodd\" fill-opacity=\"1\"/>\n",
       "<polyline clip-path=\"url(#clip132)\" style=\"stroke:#000000; stroke-linecap:round; stroke-linejoin:round; stroke-width:4; stroke-opacity:1; fill:none\" points=\"41618.7,1423.18 41618.7,1423.18 41728.2,1423.18 41618.7,1423.18 \"/>\n",
       "<path clip-path=\"url(#clip132)\" d=\"M41728.2 1423.18 L41728.2 1423.18 L41837.8 1423.18 L41837.8 1423.18 L41728.2 1423.18 L41728.2 1423.18  Z\" fill=\"#009af9\" fill-rule=\"evenodd\" fill-opacity=\"1\"/>\n",
       "<polyline clip-path=\"url(#clip132)\" style=\"stroke:#000000; stroke-linecap:round; stroke-linejoin:round; stroke-width:4; stroke-opacity:1; fill:none\" points=\"41728.2,1423.18 41728.2,1423.18 41837.8,1423.18 41728.2,1423.18 \"/>\n",
       "<path clip-path=\"url(#clip132)\" d=\"M41837.8 1423.18 L41837.8 1423.18 L41947.3 1423.18 L41947.3 1423.18 L41837.8 1423.18 L41837.8 1423.18  Z\" fill=\"#009af9\" fill-rule=\"evenodd\" fill-opacity=\"1\"/>\n",
       "<polyline clip-path=\"url(#clip132)\" style=\"stroke:#000000; stroke-linecap:round; stroke-linejoin:round; stroke-width:4; stroke-opacity:1; fill:none\" points=\"41837.8,1423.18 41837.8,1423.18 41947.3,1423.18 41837.8,1423.18 \"/>\n",
       "<path clip-path=\"url(#clip132)\" d=\"M41947.3 1423.18 L41947.3 1423.18 L42056.8 1423.18 L42056.8 1423.18 L41947.3 1423.18 L41947.3 1423.18  Z\" fill=\"#009af9\" fill-rule=\"evenodd\" fill-opacity=\"1\"/>\n",
       "<polyline clip-path=\"url(#clip132)\" style=\"stroke:#000000; stroke-linecap:round; stroke-linejoin:round; stroke-width:4; stroke-opacity:1; fill:none\" points=\"41947.3,1423.18 41947.3,1423.18 42056.8,1423.18 41947.3,1423.18 \"/>\n",
       "<path clip-path=\"url(#clip132)\" d=\"M42056.8 1423.18 L42056.8 1423.18 L42166.4 1423.18 L42166.4 1423.18 L42056.8 1423.18 L42056.8 1423.18  Z\" fill=\"#009af9\" fill-rule=\"evenodd\" fill-opacity=\"1\"/>\n",
       "<polyline clip-path=\"url(#clip132)\" style=\"stroke:#000000; stroke-linecap:round; stroke-linejoin:round; stroke-width:4; stroke-opacity:1; fill:none\" points=\"42056.8,1423.18 42056.8,1423.18 42166.4,1423.18 42056.8,1423.18 \"/>\n",
       "<path clip-path=\"url(#clip132)\" d=\"M42166.4 1423.18 L42166.4 1423.18 L42275.9 1423.18 L42275.9 1423.18 L42166.4 1423.18 L42166.4 1423.18  Z\" fill=\"#009af9\" fill-rule=\"evenodd\" fill-opacity=\"1\"/>\n",
       "<polyline clip-path=\"url(#clip132)\" style=\"stroke:#000000; stroke-linecap:round; stroke-linejoin:round; stroke-width:4; stroke-opacity:1; fill:none\" points=\"42166.4,1423.18 42166.4,1423.18 42275.9,1423.18 42166.4,1423.18 \"/>\n",
       "<path clip-path=\"url(#clip132)\" d=\"M42275.9 1423.18 L42275.9 1423.18 L42385.5 1423.18 L42385.5 1423.18 L42275.9 1423.18 L42275.9 1423.18  Z\" fill=\"#009af9\" fill-rule=\"evenodd\" fill-opacity=\"1\"/>\n",
       "<polyline clip-path=\"url(#clip132)\" style=\"stroke:#000000; stroke-linecap:round; stroke-linejoin:round; stroke-width:4; stroke-opacity:1; fill:none\" points=\"42275.9,1423.18 42275.9,1423.18 42385.5,1423.18 42275.9,1423.18 \"/>\n",
       "<path clip-path=\"url(#clip132)\" d=\"M42385.5 1423.18 L42385.5 1423.18 L42495 1423.18 L42495 1423.18 L42385.5 1423.18 L42385.5 1423.18  Z\" fill=\"#009af9\" fill-rule=\"evenodd\" fill-opacity=\"1\"/>\n",
       "<polyline clip-path=\"url(#clip132)\" style=\"stroke:#000000; stroke-linecap:round; stroke-linejoin:round; stroke-width:4; stroke-opacity:1; fill:none\" points=\"42385.5,1423.18 42385.5,1423.18 42495,1423.18 42385.5,1423.18 \"/>\n",
       "<path clip-path=\"url(#clip132)\" d=\"M42495 1423.18 L42495 1423.18 L42604.5 1423.18 L42604.5 1423.18 L42495 1423.18 L42495 1423.18  Z\" fill=\"#009af9\" fill-rule=\"evenodd\" fill-opacity=\"1\"/>\n",
       "<polyline clip-path=\"url(#clip132)\" style=\"stroke:#000000; stroke-linecap:round; stroke-linejoin:round; stroke-width:4; stroke-opacity:1; fill:none\" points=\"42495,1423.18 42495,1423.18 42604.5,1423.18 42495,1423.18 \"/>\n",
       "<path clip-path=\"url(#clip132)\" d=\"M42604.5 1423.18 L42604.5 1423.18 L42714.1 1423.18 L42714.1 1423.18 L42604.5 1423.18 L42604.5 1423.18  Z\" fill=\"#009af9\" fill-rule=\"evenodd\" fill-opacity=\"1\"/>\n",
       "<polyline clip-path=\"url(#clip132)\" style=\"stroke:#000000; stroke-linecap:round; stroke-linejoin:round; stroke-width:4; stroke-opacity:1; fill:none\" points=\"42604.5,1423.18 42604.5,1423.18 42714.1,1423.18 42604.5,1423.18 \"/>\n",
       "<path clip-path=\"url(#clip132)\" d=\"M42714.1 1423.18 L42714.1 1423.18 L42823.6 1423.18 L42823.6 1423.18 L42714.1 1423.18 L42714.1 1423.18  Z\" fill=\"#009af9\" fill-rule=\"evenodd\" fill-opacity=\"1\"/>\n",
       "<polyline clip-path=\"url(#clip132)\" style=\"stroke:#000000; stroke-linecap:round; stroke-linejoin:round; stroke-width:4; stroke-opacity:1; fill:none\" points=\"42714.1,1423.18 42714.1,1423.18 42823.6,1423.18 42714.1,1423.18 \"/>\n",
       "<path clip-path=\"url(#clip132)\" d=\"M42823.6 1423.18 L42823.6 1423.18 L42933.1 1423.18 L42933.1 1423.18 L42823.6 1423.18 L42823.6 1423.18  Z\" fill=\"#009af9\" fill-rule=\"evenodd\" fill-opacity=\"1\"/>\n",
       "<polyline clip-path=\"url(#clip132)\" style=\"stroke:#000000; stroke-linecap:round; stroke-linejoin:round; stroke-width:4; stroke-opacity:1; fill:none\" points=\"42823.6,1423.18 42823.6,1423.18 42933.1,1423.18 42823.6,1423.18 \"/>\n",
       "<path clip-path=\"url(#clip132)\" d=\"M42933.1 1423.18 L42933.1 1423.18 L43042.7 1423.18 L43042.7 1423.18 L42933.1 1423.18 L42933.1 1423.18  Z\" fill=\"#009af9\" fill-rule=\"evenodd\" fill-opacity=\"1\"/>\n",
       "<polyline clip-path=\"url(#clip132)\" style=\"stroke:#000000; stroke-linecap:round; stroke-linejoin:round; stroke-width:4; stroke-opacity:1; fill:none\" points=\"42933.1,1423.18 42933.1,1423.18 43042.7,1423.18 42933.1,1423.18 \"/>\n",
       "<path clip-path=\"url(#clip132)\" d=\"M43042.7 1423.18 L43042.7 1423.18 L43152.2 1423.18 L43152.2 1423.18 L43042.7 1423.18 L43042.7 1423.18  Z\" fill=\"#009af9\" fill-rule=\"evenodd\" fill-opacity=\"1\"/>\n",
       "<polyline clip-path=\"url(#clip132)\" style=\"stroke:#000000; stroke-linecap:round; stroke-linejoin:round; stroke-width:4; stroke-opacity:1; fill:none\" points=\"43042.7,1423.18 43042.7,1423.18 43152.2,1423.18 43042.7,1423.18 \"/>\n",
       "<path clip-path=\"url(#clip132)\" d=\"M43152.2 1423.18 L43152.2 1423.18 L43261.7 1423.18 L43261.7 1423.18 L43152.2 1423.18 L43152.2 1423.18  Z\" fill=\"#009af9\" fill-rule=\"evenodd\" fill-opacity=\"1\"/>\n",
       "<polyline clip-path=\"url(#clip132)\" style=\"stroke:#000000; stroke-linecap:round; stroke-linejoin:round; stroke-width:4; stroke-opacity:1; fill:none\" points=\"43152.2,1423.18 43152.2,1423.18 43261.7,1423.18 43152.2,1423.18 \"/>\n",
       "<path clip-path=\"url(#clip132)\" d=\"M43261.7 1423.18 L43261.7 1423.18 L43371.3 1423.18 L43371.3 1423.18 L43261.7 1423.18 L43261.7 1423.18  Z\" fill=\"#009af9\" fill-rule=\"evenodd\" fill-opacity=\"1\"/>\n",
       "<polyline clip-path=\"url(#clip132)\" style=\"stroke:#000000; stroke-linecap:round; stroke-linejoin:round; stroke-width:4; stroke-opacity:1; fill:none\" points=\"43261.7,1423.18 43261.7,1423.18 43371.3,1423.18 43261.7,1423.18 \"/>\n",
       "<path clip-path=\"url(#clip132)\" d=\"M43371.3 1423.18 L43371.3 1423.18 L43480.8 1423.18 L43480.8 1423.18 L43371.3 1423.18 L43371.3 1423.18  Z\" fill=\"#009af9\" fill-rule=\"evenodd\" fill-opacity=\"1\"/>\n",
       "<polyline clip-path=\"url(#clip132)\" style=\"stroke:#000000; stroke-linecap:round; stroke-linejoin:round; stroke-width:4; stroke-opacity:1; fill:none\" points=\"43371.3,1423.18 43371.3,1423.18 43480.8,1423.18 43371.3,1423.18 \"/>\n",
       "<path clip-path=\"url(#clip132)\" d=\"M43480.8 1423.18 L43480.8 1423.18 L43590.4 1423.18 L43590.4 1423.18 L43480.8 1423.18 L43480.8 1423.18  Z\" fill=\"#009af9\" fill-rule=\"evenodd\" fill-opacity=\"1\"/>\n",
       "<polyline clip-path=\"url(#clip132)\" style=\"stroke:#000000; stroke-linecap:round; stroke-linejoin:round; stroke-width:4; stroke-opacity:1; fill:none\" points=\"43480.8,1423.18 43480.8,1423.18 43590.4,1423.18 43480.8,1423.18 \"/>\n",
       "<path clip-path=\"url(#clip132)\" d=\"M43590.4 1423.18 L43590.4 1423.18 L43699.9 1423.18 L43699.9 1423.18 L43590.4 1423.18 L43590.4 1423.18  Z\" fill=\"#009af9\" fill-rule=\"evenodd\" fill-opacity=\"1\"/>\n",
       "<polyline clip-path=\"url(#clip132)\" style=\"stroke:#000000; stroke-linecap:round; stroke-linejoin:round; stroke-width:4; stroke-opacity:1; fill:none\" points=\"43590.4,1423.18 43590.4,1423.18 43699.9,1423.18 43590.4,1423.18 \"/>\n",
       "<path clip-path=\"url(#clip132)\" d=\"M43699.9 1423.18 L43699.9 1423.18 L43809.4 1423.18 L43809.4 1423.18 L43699.9 1423.18 L43699.9 1423.18  Z\" fill=\"#009af9\" fill-rule=\"evenodd\" fill-opacity=\"1\"/>\n",
       "<polyline clip-path=\"url(#clip132)\" style=\"stroke:#000000; stroke-linecap:round; stroke-linejoin:round; stroke-width:4; stroke-opacity:1; fill:none\" points=\"43699.9,1423.18 43699.9,1423.18 43809.4,1423.18 43699.9,1423.18 \"/>\n",
       "<path clip-path=\"url(#clip132)\" d=\"M43809.4 1423.18 L43809.4 1423.18 L43919 1423.18 L43919 1423.18 L43809.4 1423.18 L43809.4 1423.18  Z\" fill=\"#009af9\" fill-rule=\"evenodd\" fill-opacity=\"1\"/>\n",
       "<polyline clip-path=\"url(#clip132)\" style=\"stroke:#000000; stroke-linecap:round; stroke-linejoin:round; stroke-width:4; stroke-opacity:1; fill:none\" points=\"43809.4,1423.18 43809.4,1423.18 43919,1423.18 43809.4,1423.18 \"/>\n",
       "<path clip-path=\"url(#clip132)\" d=\"M43919 1423.18 L43919 1423.18 L44028.5 1423.18 L44028.5 1423.18 L43919 1423.18 L43919 1423.18  Z\" fill=\"#009af9\" fill-rule=\"evenodd\" fill-opacity=\"1\"/>\n",
       "<polyline clip-path=\"url(#clip132)\" style=\"stroke:#000000; stroke-linecap:round; stroke-linejoin:round; stroke-width:4; stroke-opacity:1; fill:none\" points=\"43919,1423.18 43919,1423.18 44028.5,1423.18 43919,1423.18 \"/>\n",
       "<path clip-path=\"url(#clip132)\" d=\"M44028.5 1423.18 L44028.5 1423.18 L44138 1423.18 L44138 1423.18 L44028.5 1423.18 L44028.5 1423.18  Z\" fill=\"#009af9\" fill-rule=\"evenodd\" fill-opacity=\"1\"/>\n",
       "<polyline clip-path=\"url(#clip132)\" style=\"stroke:#000000; stroke-linecap:round; stroke-linejoin:round; stroke-width:4; stroke-opacity:1; fill:none\" points=\"44028.5,1423.18 44028.5,1423.18 44138,1423.18 44028.5,1423.18 \"/>\n",
       "<path clip-path=\"url(#clip132)\" d=\"M44138 1423.18 L44138 1423.18 L44247.6 1423.18 L44247.6 1423.18 L44138 1423.18 L44138 1423.18  Z\" fill=\"#009af9\" fill-rule=\"evenodd\" fill-opacity=\"1\"/>\n",
       "<polyline clip-path=\"url(#clip132)\" style=\"stroke:#000000; stroke-linecap:round; stroke-linejoin:round; stroke-width:4; stroke-opacity:1; fill:none\" points=\"44138,1423.18 44138,1423.18 44247.6,1423.18 44138,1423.18 \"/>\n",
       "<path clip-path=\"url(#clip132)\" d=\"M44247.6 1423.18 L44247.6 1423.18 L44357.1 1423.18 L44357.1 1423.18 L44247.6 1423.18 L44247.6 1423.18  Z\" fill=\"#009af9\" fill-rule=\"evenodd\" fill-opacity=\"1\"/>\n",
       "<polyline clip-path=\"url(#clip132)\" style=\"stroke:#000000; stroke-linecap:round; stroke-linejoin:round; stroke-width:4; stroke-opacity:1; fill:none\" points=\"44247.6,1423.18 44247.6,1423.18 44357.1,1423.18 44247.6,1423.18 \"/>\n",
       "<path clip-path=\"url(#clip132)\" d=\"M44357.1 1423.18 L44357.1 1423.18 L44466.7 1423.18 L44466.7 1423.18 L44357.1 1423.18 L44357.1 1423.18  Z\" fill=\"#009af9\" fill-rule=\"evenodd\" fill-opacity=\"1\"/>\n",
       "<polyline clip-path=\"url(#clip132)\" style=\"stroke:#000000; stroke-linecap:round; stroke-linejoin:round; stroke-width:4; stroke-opacity:1; fill:none\" points=\"44357.1,1423.18 44357.1,1423.18 44466.7,1423.18 44357.1,1423.18 \"/>\n",
       "<path clip-path=\"url(#clip132)\" d=\"M44466.7 1423.18 L44466.7 1423.18 L44576.2 1423.18 L44576.2 1423.18 L44466.7 1423.18 L44466.7 1423.18  Z\" fill=\"#009af9\" fill-rule=\"evenodd\" fill-opacity=\"1\"/>\n",
       "<polyline clip-path=\"url(#clip132)\" style=\"stroke:#000000; stroke-linecap:round; stroke-linejoin:round; stroke-width:4; stroke-opacity:1; fill:none\" points=\"44466.7,1423.18 44466.7,1423.18 44576.2,1423.18 44466.7,1423.18 \"/>\n",
       "<path clip-path=\"url(#clip132)\" d=\"M44576.2 1423.18 L44576.2 1423.18 L44685.7 1423.18 L44685.7 1423.18 L44576.2 1423.18 L44576.2 1423.18  Z\" fill=\"#009af9\" fill-rule=\"evenodd\" fill-opacity=\"1\"/>\n",
       "<polyline clip-path=\"url(#clip132)\" style=\"stroke:#000000; stroke-linecap:round; stroke-linejoin:round; stroke-width:4; stroke-opacity:1; fill:none\" points=\"44576.2,1423.18 44576.2,1423.18 44685.7,1423.18 44576.2,1423.18 \"/>\n",
       "<path clip-path=\"url(#clip132)\" d=\"M44685.7 1423.18 L44685.7 1423.18 L44795.3 1423.18 L44795.3 1423.18 L44685.7 1423.18 L44685.7 1423.18  Z\" fill=\"#009af9\" fill-rule=\"evenodd\" fill-opacity=\"1\"/>\n",
       "<polyline clip-path=\"url(#clip132)\" style=\"stroke:#000000; stroke-linecap:round; stroke-linejoin:round; stroke-width:4; stroke-opacity:1; fill:none\" points=\"44685.7,1423.18 44685.7,1423.18 44795.3,1423.18 44685.7,1423.18 \"/>\n",
       "<path clip-path=\"url(#clip132)\" d=\"M44795.3 1423.18 L44795.3 1423.18 L44904.8 1423.18 L44904.8 1423.18 L44795.3 1423.18 L44795.3 1423.18  Z\" fill=\"#009af9\" fill-rule=\"evenodd\" fill-opacity=\"1\"/>\n",
       "<polyline clip-path=\"url(#clip132)\" style=\"stroke:#000000; stroke-linecap:round; stroke-linejoin:round; stroke-width:4; stroke-opacity:1; fill:none\" points=\"44795.3,1423.18 44795.3,1423.18 44904.8,1423.18 44795.3,1423.18 \"/>\n",
       "<path clip-path=\"url(#clip132)\" d=\"M44904.8 1423.18 L44904.8 1423.18 L45014.3 1423.18 L45014.3 1423.18 L44904.8 1423.18 L44904.8 1423.18  Z\" fill=\"#009af9\" fill-rule=\"evenodd\" fill-opacity=\"1\"/>\n",
       "<polyline clip-path=\"url(#clip132)\" style=\"stroke:#000000; stroke-linecap:round; stroke-linejoin:round; stroke-width:4; stroke-opacity:1; fill:none\" points=\"44904.8,1423.18 44904.8,1423.18 45014.3,1423.18 44904.8,1423.18 \"/>\n",
       "<path clip-path=\"url(#clip132)\" d=\"M45014.3 1423.18 L45014.3 1423.18 L45123.9 1423.18 L45123.9 1423.18 L45014.3 1423.18 L45014.3 1423.18  Z\" fill=\"#009af9\" fill-rule=\"evenodd\" fill-opacity=\"1\"/>\n",
       "<polyline clip-path=\"url(#clip132)\" style=\"stroke:#000000; stroke-linecap:round; stroke-linejoin:round; stroke-width:4; stroke-opacity:1; fill:none\" points=\"45014.3,1423.18 45014.3,1423.18 45123.9,1423.18 45014.3,1423.18 \"/>\n",
       "<path clip-path=\"url(#clip132)\" d=\"M45123.9 1423.18 L45123.9 1423.18 L45233.4 1423.18 L45233.4 1423.18 L45123.9 1423.18 L45123.9 1423.18  Z\" fill=\"#009af9\" fill-rule=\"evenodd\" fill-opacity=\"1\"/>\n",
       "<polyline clip-path=\"url(#clip132)\" style=\"stroke:#000000; stroke-linecap:round; stroke-linejoin:round; stroke-width:4; stroke-opacity:1; fill:none\" points=\"45123.9,1423.18 45123.9,1423.18 45233.4,1423.18 45123.9,1423.18 \"/>\n",
       "<path clip-path=\"url(#clip132)\" d=\"M45233.4 1415.18 L45233.4 1423.18 L45343 1423.18 L45343 1415.18 L45233.4 1415.18 L45233.4 1415.18  Z\" fill=\"#009af9\" fill-rule=\"evenodd\" fill-opacity=\"1\"/>\n",
       "<polyline clip-path=\"url(#clip132)\" style=\"stroke:#000000; stroke-linecap:round; stroke-linejoin:round; stroke-width:4; stroke-opacity:1; fill:none\" points=\"45233.4,1415.18 45233.4,1423.18 45343,1423.18 45343,1415.18 45233.4,1415.18 \"/>\n",
       "<circle clip-path=\"url(#clip132)\" style=\"fill:#009af9; stroke:none; fill-opacity:0\" cx=\"268.355\" cy=\"1223.19\" r=\"2\"/>\n",
       "<circle clip-path=\"url(#clip132)\" style=\"fill:#009af9; stroke:none; fill-opacity:0\" cx=\"377.892\" cy=\"559.22\" r=\"2\"/>\n",
       "<circle clip-path=\"url(#clip132)\" style=\"fill:#009af9; stroke:none; fill-opacity:0\" cx=\"487.429\" cy=\"47.2441\" r=\"2\"/>\n",
       "<circle clip-path=\"url(#clip132)\" style=\"fill:#009af9; stroke:none; fill-opacity:0\" cx=\"596.967\" cy=\"455.225\" r=\"2\"/>\n",
       "<circle clip-path=\"url(#clip132)\" style=\"fill:#009af9; stroke:none; fill-opacity:0\" cx=\"706.504\" cy=\"1143.19\" r=\"2\"/>\n",
       "<circle clip-path=\"url(#clip132)\" style=\"fill:#009af9; stroke:none; fill-opacity:0\" cx=\"816.041\" cy=\"1247.19\" r=\"2\"/>\n",
       "<circle clip-path=\"url(#clip132)\" style=\"fill:#009af9; stroke:none; fill-opacity:0\" cx=\"925.579\" cy=\"1183.19\" r=\"2\"/>\n",
       "<circle clip-path=\"url(#clip132)\" style=\"fill:#009af9; stroke:none; fill-opacity:0\" cx=\"1035.12\" cy=\"1263.19\" r=\"2\"/>\n",
       "<circle clip-path=\"url(#clip132)\" style=\"fill:#009af9; stroke:none; fill-opacity:0\" cx=\"1144.65\" cy=\"1383.18\" r=\"2\"/>\n",
       "<circle clip-path=\"url(#clip132)\" style=\"fill:#009af9; stroke:none; fill-opacity:0\" cx=\"1254.19\" cy=\"1367.18\" r=\"2\"/>\n",
       "<circle clip-path=\"url(#clip132)\" style=\"fill:#009af9; stroke:none; fill-opacity:0\" cx=\"1363.73\" cy=\"1399.18\" r=\"2\"/>\n",
       "<circle clip-path=\"url(#clip132)\" style=\"fill:#009af9; stroke:none; fill-opacity:0\" cx=\"1473.27\" cy=\"1391.18\" r=\"2\"/>\n",
       "<circle clip-path=\"url(#clip132)\" style=\"fill:#009af9; stroke:none; fill-opacity:0\" cx=\"1582.8\" cy=\"1407.18\" r=\"2\"/>\n",
       "<circle clip-path=\"url(#clip132)\" style=\"fill:#009af9; stroke:none; fill-opacity:0\" cx=\"1692.34\" cy=\"1423.18\" r=\"2\"/>\n",
       "<circle clip-path=\"url(#clip132)\" style=\"fill:#009af9; stroke:none; fill-opacity:0\" cx=\"1801.88\" cy=\"1399.18\" r=\"2\"/>\n",
       "<circle clip-path=\"url(#clip132)\" style=\"fill:#009af9; stroke:none; fill-opacity:0\" cx=\"1911.41\" cy=\"1423.18\" r=\"2\"/>\n",
       "<circle clip-path=\"url(#clip132)\" style=\"fill:#009af9; stroke:none; fill-opacity:0\" cx=\"2020.95\" cy=\"1423.18\" r=\"2\"/>\n",
       "<circle clip-path=\"url(#clip132)\" style=\"fill:#009af9; stroke:none; fill-opacity:0\" cx=\"2130.49\" cy=\"1423.18\" r=\"2\"/>\n",
       "<circle clip-path=\"url(#clip132)\" style=\"fill:#009af9; stroke:none; fill-opacity:0\" cx=\"2240.03\" cy=\"1423.18\" r=\"2\"/>\n",
       "<circle clip-path=\"url(#clip132)\" style=\"fill:#009af9; stroke:none; fill-opacity:0\" cx=\"2349.56\" cy=\"1415.18\" r=\"2\"/>\n",
       "</svg>\n"
      ]
     },
     "metadata": {},
     "output_type": "display_data"
    }
   ],
   "source": [
    "using Statistics # bring in statistical support for standard deviations\n",
    "t = c_bench.times / 1e6 # times in milliseconds\n",
    "m, σ = minimum(t), std(t)\n",
    "\n",
    "histogram(t, bins=500,\n",
    "    xlim=(m - 0.01, m + σ),\n",
    "    xlabel=\"milliseconds\", ylabel=\"count\", label=\"\")"
   ]
  },
  {
   "cell_type": "markdown",
   "metadata": {},
   "source": [
    "# 2. C with -ffast-math\n",
    "\n",
    "If we allow C to re-arrange the floating point operations, then it'll vectorize with SIMD (single instruction, multiple data) instructions."
   ]
  },
  {
   "cell_type": "code",
   "execution_count": 27,
   "metadata": {},
   "outputs": [
    {
     "name": "stderr",
     "output_type": "stream",
     "text": [
      "WARNING: redefinition of constant Main.Clib_fastmath. This may fail, cause incorrect answers, or produce other errors.\n"
     ]
    },
    {
     "data": {
      "text/plain": [
       "c_sum_fastmath (generic function with 1 method)"
      ]
     },
     "metadata": {},
     "output_type": "display_data"
    }
   ],
   "source": [
    "const Clib_fastmath = tempname()   # make a temporary file\n",
    "\n",
    "# The same as above but with a -ffast-math flag added\n",
    "# deleted -msse3\n",
    "open(`gcc -fPIC -O3 -xc -shared -ffast-math -o $(Clib_fastmath * \".\" * Libdl.dlext) -`, \"w\") do f\n",
    "    print(f, C_code) \n",
    "end\n",
    "\n",
    "# define a Julia function that calls the C function:\n",
    "c_sum_fastmath(X::Array{Float64}) = ccall((\"c_sum\", Clib_fastmath), Float64, (Csize_t, Ptr{Float64}), length(X), X)"
   ]
  },
  {
   "cell_type": "code",
   "execution_count": 28,
   "metadata": {},
   "outputs": [
    {
     "data": {
      "text/plain": [
       "BenchmarkTools.Trial: 3694 samples with 1 evaluation per sample.\n",
       " Range \u001b[90m(\u001b[39m\u001b[36m\u001b[1mmin\u001b[22m\u001b[39m … \u001b[35mmax\u001b[39m\u001b[90m):  \u001b[39m\u001b[36m\u001b[1m1.246 ms\u001b[22m\u001b[39m … \u001b[35m  2.644 ms\u001b[39m  \u001b[90m┊\u001b[39m GC \u001b[90m(\u001b[39mmin … max\u001b[90m): \u001b[39m0.00% … 0.00%\n",
       " Time  \u001b[90m(\u001b[39m\u001b[34m\u001b[1mmedian\u001b[22m\u001b[39m\u001b[90m):     \u001b[39m\u001b[34m\u001b[1m1.308 ms               \u001b[22m\u001b[39m\u001b[90m┊\u001b[39m GC \u001b[90m(\u001b[39mmedian\u001b[90m):    \u001b[39m0.00%\n",
       " Time  \u001b[90m(\u001b[39m\u001b[32m\u001b[1mmean\u001b[22m\u001b[39m ± \u001b[32mσ\u001b[39m\u001b[90m):   \u001b[39m\u001b[32m\u001b[1m1.348 ms\u001b[22m\u001b[39m ± \u001b[32m100.184 μs\u001b[39m  \u001b[90m┊\u001b[39m GC \u001b[90m(\u001b[39mmean ± σ\u001b[90m):  \u001b[39m0.00% ± 0.00%\n",
       "\n",
       "  \u001b[39m \u001b[39m \u001b[39m \u001b[39m \u001b[39m▆\u001b[39m█\u001b[39m▄\u001b[39m▁\u001b[34m \u001b[39m\u001b[39m \u001b[39m \u001b[39m \u001b[32m \u001b[39m\u001b[39m \u001b[39m \u001b[39m \u001b[39m \u001b[39m \u001b[39m \u001b[39m \u001b[39m \u001b[39m \u001b[39m \u001b[39m \u001b[39m \u001b[39m \u001b[39m \u001b[39m \u001b[39m \u001b[39m \u001b[39m \u001b[39m \u001b[39m \u001b[39m \u001b[39m \u001b[39m \u001b[39m \u001b[39m \u001b[39m \u001b[39m \u001b[39m \u001b[39m \u001b[39m \u001b[39m \u001b[39m \u001b[39m \u001b[39m \u001b[39m \u001b[39m \u001b[39m \u001b[39m \u001b[39m \u001b[39m \u001b[39m \u001b[39m \u001b[39m \u001b[39m \u001b[39m \u001b[39m \u001b[39m \u001b[39m \n",
       "  \u001b[39m▁\u001b[39m▂\u001b[39m▃\u001b[39m▆\u001b[39m█\u001b[39m█\u001b[39m█\u001b[39m█\u001b[34m▆\u001b[39m\u001b[39m▅\u001b[39m▅\u001b[39m▄\u001b[32m▃\u001b[39m\u001b[39m▄\u001b[39m▃\u001b[39m▃\u001b[39m▃\u001b[39m▂\u001b[39m▂\u001b[39m▂\u001b[39m▂\u001b[39m▂\u001b[39m▂\u001b[39m▂\u001b[39m▂\u001b[39m▂\u001b[39m▂\u001b[39m▂\u001b[39m▂\u001b[39m▂\u001b[39m▂\u001b[39m▂\u001b[39m▁\u001b[39m▂\u001b[39m▂\u001b[39m▁\u001b[39m▁\u001b[39m▁\u001b[39m▁\u001b[39m▁\u001b[39m▁\u001b[39m▁\u001b[39m▁\u001b[39m▁\u001b[39m▁\u001b[39m▁\u001b[39m▁\u001b[39m▁\u001b[39m▁\u001b[39m▁\u001b[39m▁\u001b[39m▁\u001b[39m▁\u001b[39m▁\u001b[39m▁\u001b[39m▁\u001b[39m▁\u001b[39m▁\u001b[39m▁\u001b[39m \u001b[39m▂\n",
       "  1.25 ms\u001b[90m         Histogram: frequency by time\u001b[39m        1.73 ms \u001b[0m\u001b[1m<\u001b[22m\n",
       "\n",
       " Memory estimate\u001b[90m: \u001b[39m\u001b[33m0 bytes\u001b[39m, allocs estimate\u001b[90m: \u001b[39m\u001b[33m0\u001b[39m."
      ]
     },
     "metadata": {},
     "output_type": "display_data"
    }
   ],
   "source": [
    "c_fastmath_bench = @benchmark $c_sum_fastmath($a)"
   ]
  },
  {
   "cell_type": "code",
   "execution_count": 29,
   "metadata": {},
   "outputs": [
    {
     "data": {
      "text/plain": [
       "1.245583"
      ]
     },
     "metadata": {},
     "output_type": "display_data"
    }
   ],
   "source": [
    "d[\"C -ffast-math\"] = minimum(c_fastmath_bench.times) / 1e6  # in milliseconds"
   ]
  },
  {
   "cell_type": "markdown",
   "metadata": {},
   "source": [
    "# 3. Python's built in `sum` "
   ]
  },
  {
   "cell_type": "markdown",
   "metadata": {},
   "source": [
    "The `PyCall` package provides a Julia interface to Python:"
   ]
  },
  {
   "cell_type": "code",
   "execution_count": 30,
   "metadata": {
    "scrolled": true
   },
   "outputs": [
    {
     "name": "stderr",
     "output_type": "stream",
     "text": [
      "\u001b[32m\u001b[1m   Resolving\u001b[22m\u001b[39m package versions...\n",
      "\u001b[32m\u001b[1m   Installed\u001b[22m\u001b[39m PyCall ─ v1.96.4\n",
      "\u001b[32m\u001b[1m    Updating\u001b[22m\u001b[39m `~/.julia/environments/v1.11/Project.toml`\n",
      "  \u001b[90m[438e738f] \u001b[39m\u001b[92m+ PyCall v1.96.4\u001b[39m\n",
      "\u001b[32m\u001b[1m    Updating\u001b[22m\u001b[39m `~/.julia/environments/v1.11/Manifest.toml`\n",
      "  \u001b[90m[8f4d0f93] \u001b[39m\u001b[92m+ Conda v1.10.2\u001b[39m\n",
      "  \u001b[90m[438e738f] \u001b[39m\u001b[92m+ PyCall v1.96.4\u001b[39m\n",
      "  \u001b[90m[81def892] \u001b[39m\u001b[92m+ VersionParsing v1.3.0\u001b[39m\n",
      "\u001b[32m\u001b[1m    Building\u001b[22m\u001b[39m PyCall → `~/.julia/scratchspaces/44cfe95a-1eb2-52ea-b672-e2afdf69b78f/9816a3826b0ebf49ab4926e2b18842ad8b5c8f04/build.log`\n",
      "\u001b[92m\u001b[1mPrecompiling\u001b[22m\u001b[39m project...\n",
      "    343.1 ms\u001b[32m  ✓ \u001b[39m\u001b[90mVersionParsing\u001b[39m\n",
      "    696.5 ms\u001b[32m  ✓ \u001b[39m\u001b[90mConda\u001b[39m\n",
      "   5475.5 ms\u001b[32m  ✓ \u001b[39mPyCall\n",
      "  3 dependencies successfully precompiled in 7 seconds. 221 already precompiled.\n"
     ]
    }
   ],
   "source": [
    "using Pkg; Pkg.add(\"PyCall\")\n",
    "using PyCall"
   ]
  },
  {
   "cell_type": "code",
   "execution_count": 31,
   "metadata": {},
   "outputs": [
    {
     "data": {
      "text/plain": [
       "PyObject <built-in function sum>"
      ]
     },
     "metadata": {},
     "output_type": "display_data"
    }
   ],
   "source": [
    "# get the Python built-in \"sum\" function:\n",
    "pysum = pybuiltin(\"sum\")"
   ]
  },
  {
   "cell_type": "code",
   "execution_count": 32,
   "metadata": {},
   "outputs": [
    {
     "data": {
      "text/plain": [
       "5.001585375763377e6"
      ]
     },
     "metadata": {},
     "output_type": "display_data"
    }
   ],
   "source": [
    "pysum(a)"
   ]
  },
  {
   "cell_type": "code",
   "execution_count": 33,
   "metadata": {},
   "outputs": [
    {
     "data": {
      "text/plain": [
       "true"
      ]
     },
     "metadata": {},
     "output_type": "display_data"
    }
   ],
   "source": [
    "pysum(a) ≈ sum(a)"
   ]
  },
  {
   "cell_type": "code",
   "execution_count": 34,
   "metadata": {},
   "outputs": [
    {
     "data": {
      "text/plain": [
       "BenchmarkTools.Trial: 12 samples with 1 evaluation per sample.\n",
       " Range \u001b[90m(\u001b[39m\u001b[36m\u001b[1mmin\u001b[22m\u001b[39m … \u001b[35mmax\u001b[39m\u001b[90m):  \u001b[39m\u001b[36m\u001b[1m416.256 ms\u001b[22m\u001b[39m … \u001b[35m479.693 ms\u001b[39m  \u001b[90m┊\u001b[39m GC \u001b[90m(\u001b[39mmin … max\u001b[90m): \u001b[39m0.00% … 0.00%\n",
       " Time  \u001b[90m(\u001b[39m\u001b[34m\u001b[1mmedian\u001b[22m\u001b[39m\u001b[90m):     \u001b[39m\u001b[34m\u001b[1m416.950 ms               \u001b[22m\u001b[39m\u001b[90m┊\u001b[39m GC \u001b[90m(\u001b[39mmedian\u001b[90m):    \u001b[39m0.00%\n",
       " Time  \u001b[90m(\u001b[39m\u001b[32m\u001b[1mmean\u001b[22m\u001b[39m ± \u001b[32mσ\u001b[39m\u001b[90m):   \u001b[39m\u001b[32m\u001b[1m430.477 ms\u001b[22m\u001b[39m ± \u001b[32m 23.287 ms\u001b[39m  \u001b[90m┊\u001b[39m GC \u001b[90m(\u001b[39mmean ± σ\u001b[90m):  \u001b[39m0.00% ± 0.00%\n",
       "\n",
       "  \u001b[39m█\u001b[34m \u001b[39m\u001b[39m \u001b[39m \u001b[39m \u001b[39m \u001b[39m \u001b[39m \u001b[39m \u001b[39m \u001b[39m \u001b[39m \u001b[39m \u001b[39m \u001b[32m \u001b[39m\u001b[39m \u001b[39m \u001b[39m \u001b[39m \u001b[39m \u001b[39m \u001b[39m \u001b[39m \u001b[39m \u001b[39m \u001b[39m \u001b[39m \u001b[39m \u001b[39m \u001b[39m \u001b[39m \u001b[39m \u001b[39m \u001b[39m \u001b[39m \u001b[39m \u001b[39m \u001b[39m \u001b[39m \u001b[39m \u001b[39m \u001b[39m \u001b[39m \u001b[39m \u001b[39m \u001b[39m \u001b[39m \u001b[39m \u001b[39m \u001b[39m \u001b[39m \u001b[39m \u001b[39m \u001b[39m \u001b[39m \u001b[39m \u001b[39m \u001b[39m \u001b[39m \u001b[39m \u001b[39m \u001b[39m \u001b[39m \n",
       "  \u001b[39m█\u001b[34m▁\u001b[39m\u001b[39m▁\u001b[39m▁\u001b[39m▁\u001b[39m▁\u001b[39m▁\u001b[39m▁\u001b[39m▁\u001b[39m▁\u001b[39m▁\u001b[39m▄\u001b[39m▁\u001b[39m▁\u001b[32m▁\u001b[39m\u001b[39m▁\u001b[39m▁\u001b[39m▁\u001b[39m▁\u001b[39m▁\u001b[39m▁\u001b[39m▁\u001b[39m▁\u001b[39m▁\u001b[39m▁\u001b[39m▁\u001b[39m▁\u001b[39m▁\u001b[39m▁\u001b[39m▁\u001b[39m▁\u001b[39m▁\u001b[39m▁\u001b[39m▁\u001b[39m▁\u001b[39m▁\u001b[39m▁\u001b[39m▁\u001b[39m▁\u001b[39m▁\u001b[39m▁\u001b[39m▁\u001b[39m▄\u001b[39m▁\u001b[39m▁\u001b[39m▄\u001b[39m▁\u001b[39m▁\u001b[39m▁\u001b[39m▁\u001b[39m▁\u001b[39m▁\u001b[39m▁\u001b[39m▁\u001b[39m▁\u001b[39m▁\u001b[39m▁\u001b[39m▁\u001b[39m▁\u001b[39m▁\u001b[39m▄\u001b[39m \u001b[39m▁\n",
       "  416 ms\u001b[90m           Histogram: frequency by time\u001b[39m          480 ms \u001b[0m\u001b[1m<\u001b[22m\n",
       "\n",
       " Memory estimate\u001b[90m: \u001b[39m\u001b[33m208 bytes\u001b[39m, allocs estimate\u001b[90m: \u001b[39m\u001b[33m8\u001b[39m."
      ]
     },
     "metadata": {},
     "output_type": "display_data"
    }
   ],
   "source": [
    "py_list_bench = @benchmark $pysum($a)"
   ]
  },
  {
   "cell_type": "code",
   "execution_count": 35,
   "metadata": {},
   "outputs": [
    {
     "data": {
      "text/plain": [
       "Dict{Any, Any} with 3 entries:\n",
       "  \"C\"               => 8.56858\n",
       "  \"Python built-in\" => 416.256\n",
       "  \"C -ffast-math\"   => 1.24558"
      ]
     },
     "metadata": {},
     "output_type": "display_data"
    }
   ],
   "source": [
    "d[\"Python built-in\"] = minimum(py_list_bench.times) / 1e6\n",
    "d"
   ]
  },
  {
   "cell_type": "markdown",
   "metadata": {},
   "source": [
    "# 4. Python: `numpy` \n",
    "\n",
    "## Takes advantage of hardware \"SIMD\", but only works when it works.\n",
    "\n",
    "`numpy` is an optimized C library, callable from Python.\n",
    "It may be installed within Julia as follows:"
   ]
  },
  {
   "cell_type": "code",
   "execution_count": 36,
   "metadata": {},
   "outputs": [
    {
     "name": "stderr",
     "output_type": "stream",
     "text": [
      "\u001b[32m\u001b[1m   Resolving\u001b[22m\u001b[39m package versions...\n",
      "\u001b[32m\u001b[1m    Updating\u001b[22m\u001b[39m `~/.julia/environments/v1.11/Project.toml`\n",
      "  \u001b[90m[8f4d0f93] \u001b[39m\u001b[92m+ Conda v1.10.2\u001b[39m\n",
      "\u001b[32m\u001b[1m  No Changes\u001b[22m\u001b[39m to `~/.julia/environments/v1.11/Manifest.toml`\n"
     ]
    }
   ],
   "source": [
    "using Pkg; Pkg.add(\"Conda\")\n",
    "using Conda"
   ]
  },
  {
   "cell_type": "code",
   "execution_count": 37,
   "metadata": {},
   "outputs": [
    {
     "name": "stderr",
     "output_type": "stream",
     "text": [
      "┌ Info: Running `conda install -y numpy` in root environment\n",
      "└ @ Conda /Users/junchichen/.julia/packages/Conda/zReqD/src/Conda.jl:181\n"
     ]
    },
    {
     "name": "stdout",
     "output_type": "stream",
     "text": [
      "Channels:\n",
      " - conda-forge\n",
      "Platform: osx-arm64\n",
      "Collecting package metadata (repodata.json): ...working... done\n",
      "Solving environment: ...working... done\n",
      "\n",
      "# All requested packages already installed.\n",
      "\n"
     ]
    },
    {
     "name": "stderr",
     "output_type": "stream",
     "text": [
      "\n",
      "\n",
      "==> WARNING: A newer version of conda exists. <==\n",
      "    current version: 25.3.0\n",
      "    latest version: 25.5.1\n",
      "\n",
      "Please update conda by running\n",
      "\n",
      "    $ conda update -n base -c conda-forge conda\n",
      "\n",
      "\n"
     ]
    }
   ],
   "source": [
    "Conda.add(\"numpy\")"
   ]
  },
  {
   "cell_type": "code",
   "execution_count": 38,
   "metadata": {},
   "outputs": [
    {
     "data": {
      "text/plain": [
       "BenchmarkTools.Trial: 2519 samples with 1 evaluation per sample.\n",
       " Range \u001b[90m(\u001b[39m\u001b[36m\u001b[1mmin\u001b[22m\u001b[39m … \u001b[35mmax\u001b[39m\u001b[90m):  \u001b[39m\u001b[36m\u001b[1m1.896 ms\u001b[22m\u001b[39m … \u001b[35m  2.961 ms\u001b[39m  \u001b[90m┊\u001b[39m GC \u001b[90m(\u001b[39mmin … max\u001b[90m): \u001b[39m0.00% … 0.00%\n",
       " Time  \u001b[90m(\u001b[39m\u001b[34m\u001b[1mmedian\u001b[22m\u001b[39m\u001b[90m):     \u001b[39m\u001b[34m\u001b[1m1.943 ms               \u001b[22m\u001b[39m\u001b[90m┊\u001b[39m GC \u001b[90m(\u001b[39mmedian\u001b[90m):    \u001b[39m0.00%\n",
       " Time  \u001b[90m(\u001b[39m\u001b[32m\u001b[1mmean\u001b[22m\u001b[39m ± \u001b[32mσ\u001b[39m\u001b[90m):   \u001b[39m\u001b[32m\u001b[1m1.980 ms\u001b[22m\u001b[39m ± \u001b[32m122.896 μs\u001b[39m  \u001b[90m┊\u001b[39m GC \u001b[90m(\u001b[39mmean ± σ\u001b[90m):  \u001b[39m0.00% ± 0.00%\n",
       "\n",
       "  \u001b[39m▂\u001b[39m█\u001b[39m▅\u001b[39m▃\u001b[34m \u001b[39m\u001b[39m \u001b[39m \u001b[32m \u001b[39m\u001b[39m \u001b[39m \u001b[39m \u001b[39m \u001b[39m \u001b[39m \u001b[39m \u001b[39m \u001b[39m \u001b[39m \u001b[39m \u001b[39m \u001b[39m \u001b[39m \u001b[39m \u001b[39m \u001b[39m \u001b[39m \u001b[39m \u001b[39m \u001b[39m \u001b[39m \u001b[39m \u001b[39m \u001b[39m \u001b[39m \u001b[39m \u001b[39m \u001b[39m \u001b[39m \u001b[39m \u001b[39m \u001b[39m \u001b[39m \u001b[39m \u001b[39m \u001b[39m \u001b[39m \u001b[39m \u001b[39m \u001b[39m \u001b[39m \u001b[39m \u001b[39m \u001b[39m \u001b[39m \u001b[39m \u001b[39m \u001b[39m \u001b[39m \u001b[39m \u001b[39m \u001b[39m \n",
       "  \u001b[39m█\u001b[39m█\u001b[39m█\u001b[39m█\u001b[34m█\u001b[39m\u001b[39m█\u001b[39m▆\u001b[32m▆\u001b[39m\u001b[39m▄\u001b[39m▃\u001b[39m▃\u001b[39m▂\u001b[39m▂\u001b[39m▂\u001b[39m▂\u001b[39m▂\u001b[39m▁\u001b[39m▁\u001b[39m▁\u001b[39m▁\u001b[39m▁\u001b[39m▁\u001b[39m▁\u001b[39m▁\u001b[39m▁\u001b[39m▁\u001b[39m▁\u001b[39m▁\u001b[39m▁\u001b[39m▁\u001b[39m▁\u001b[39m▁\u001b[39m▁\u001b[39m▁\u001b[39m▁\u001b[39m▁\u001b[39m▁\u001b[39m▁\u001b[39m▁\u001b[39m▁\u001b[39m▁\u001b[39m▁\u001b[39m▁\u001b[39m▁\u001b[39m▁\u001b[39m▁\u001b[39m▁\u001b[39m▁\u001b[39m▁\u001b[39m▁\u001b[39m▁\u001b[39m▁\u001b[39m▁\u001b[39m▁\u001b[39m▁\u001b[39m▁\u001b[39m▁\u001b[39m▁\u001b[39m▁\u001b[39m \u001b[39m▂\n",
       "  1.9 ms\u001b[90m          Histogram: frequency by time\u001b[39m        2.61 ms \u001b[0m\u001b[1m<\u001b[22m\n",
       "\n",
       " Memory estimate\u001b[90m: \u001b[39m\u001b[33m208 bytes\u001b[39m, allocs estimate\u001b[90m: \u001b[39m\u001b[33m8\u001b[39m."
      ]
     },
     "metadata": {},
     "output_type": "display_data"
    }
   ],
   "source": [
    "numpy_sum = pyimport(\"numpy\")[\"sum\"]\n",
    "\n",
    "py_numpy_bench = @benchmark $numpy_sum($a)"
   ]
  },
  {
   "cell_type": "code",
   "execution_count": 39,
   "metadata": {},
   "outputs": [
    {
     "data": {
      "text/plain": [
       "5.001585375763136e6"
      ]
     },
     "metadata": {},
     "output_type": "display_data"
    }
   ],
   "source": [
    "numpy_sum(a)"
   ]
  },
  {
   "cell_type": "code",
   "execution_count": 40,
   "metadata": {},
   "outputs": [
    {
     "data": {
      "text/plain": [
       "true"
      ]
     },
     "metadata": {},
     "output_type": "display_data"
    }
   ],
   "source": [
    "numpy_sum(a) ≈ sum(a)"
   ]
  },
  {
   "cell_type": "code",
   "execution_count": 41,
   "metadata": {
    "scrolled": true
   },
   "outputs": [
    {
     "data": {
      "text/plain": [
       "Dict{Any, Any} with 4 entries:\n",
       "  \"C\"               => 8.56858\n",
       "  \"Python numpy\"    => 1.89592\n",
       "  \"Python built-in\" => 416.256\n",
       "  \"C -ffast-math\"   => 1.24558"
      ]
     },
     "metadata": {},
     "output_type": "display_data"
    }
   ],
   "source": [
    "d[\"Python numpy\"] = minimum(py_numpy_bench.times) / 1e6\n",
    "d"
   ]
  },
  {
   "cell_type": "markdown",
   "metadata": {},
   "source": [
    "# 5. Python, hand-written "
   ]
  },
  {
   "cell_type": "code",
   "execution_count": 42,
   "metadata": {},
   "outputs": [
    {
     "data": {
      "text/plain": [
       "PyObject <function py_sum at 0x322dd9080>"
      ]
     },
     "metadata": {},
     "output_type": "display_data"
    }
   ],
   "source": [
    "py\"\"\"\n",
    "def py_sum(A):\n",
    "    s = 0.0\n",
    "    for a in A:\n",
    "        s += a\n",
    "    return s\n",
    "\"\"\"\n",
    "\n",
    "sum_py = py\"py_sum\""
   ]
  },
  {
   "cell_type": "code",
   "execution_count": 43,
   "metadata": {},
   "outputs": [
    {
     "data": {
      "text/plain": [
       "BenchmarkTools.Trial: 11 samples with 1 evaluation per sample.\n",
       " Range \u001b[90m(\u001b[39m\u001b[36m\u001b[1mmin\u001b[22m\u001b[39m … \u001b[35mmax\u001b[39m\u001b[90m):  \u001b[39m\u001b[36m\u001b[1m463.886 ms\u001b[22m\u001b[39m … \u001b[35m487.461 ms\u001b[39m  \u001b[90m┊\u001b[39m GC \u001b[90m(\u001b[39mmin … max\u001b[90m): \u001b[39m0.00% … 0.00%\n",
       " Time  \u001b[90m(\u001b[39m\u001b[34m\u001b[1mmedian\u001b[22m\u001b[39m\u001b[90m):     \u001b[39m\u001b[34m\u001b[1m480.127 ms               \u001b[22m\u001b[39m\u001b[90m┊\u001b[39m GC \u001b[90m(\u001b[39mmedian\u001b[90m):    \u001b[39m0.00%\n",
       " Time  \u001b[90m(\u001b[39m\u001b[32m\u001b[1mmean\u001b[22m\u001b[39m ± \u001b[32mσ\u001b[39m\u001b[90m):   \u001b[39m\u001b[32m\u001b[1m478.409 ms\u001b[22m\u001b[39m ± \u001b[32m  7.565 ms\u001b[39m  \u001b[90m┊\u001b[39m GC \u001b[90m(\u001b[39mmean ± σ\u001b[90m):  \u001b[39m0.00% ± 0.00%\n",
       "\n",
       "  \u001b[39m \u001b[39m \u001b[39m \u001b[39m \u001b[39m \u001b[39m \u001b[39m \u001b[39m \u001b[39m \u001b[39m \u001b[39m \u001b[39m \u001b[39m \u001b[39m \u001b[39m \u001b[39m \u001b[39m \u001b[39m \u001b[39m \u001b[39m \u001b[39m \u001b[39m \u001b[39m \u001b[39m \u001b[39m \u001b[39m \u001b[39m \u001b[39m \u001b[39m \u001b[39m \u001b[39m \u001b[39m \u001b[39m \u001b[39m \u001b[39m \u001b[39m \u001b[39m \u001b[39m \u001b[32m \u001b[39m\u001b[39m \u001b[39m \u001b[34m \u001b[39m\u001b[39m█\u001b[39m \u001b[39m \u001b[39m \u001b[39m \u001b[39m \u001b[39m \u001b[39m \u001b[39m \u001b[39m \u001b[39m \u001b[39m \u001b[39m \u001b[39m \u001b[39m \u001b[39m \u001b[39m \u001b[39m \u001b[39m \u001b[39m \u001b[39m \n",
       "  \u001b[39m▇\u001b[39m▁\u001b[39m▇\u001b[39m▁\u001b[39m▁\u001b[39m▁\u001b[39m▁\u001b[39m▁\u001b[39m▁\u001b[39m▁\u001b[39m▁\u001b[39m▁\u001b[39m▁\u001b[39m▁\u001b[39m▁\u001b[39m▁\u001b[39m▁\u001b[39m▁\u001b[39m▁\u001b[39m▁\u001b[39m▁\u001b[39m▁\u001b[39m▁\u001b[39m▁\u001b[39m▁\u001b[39m▁\u001b[39m▁\u001b[39m▁\u001b[39m▁\u001b[39m▁\u001b[39m▁\u001b[39m▁\u001b[39m▁\u001b[39m▁\u001b[39m▁\u001b[39m▁\u001b[39m▁\u001b[39m▁\u001b[32m▇\u001b[39m\u001b[39m▁\u001b[39m▇\u001b[34m▇\u001b[39m\u001b[39m█\u001b[39m▇\u001b[39m▁\u001b[39m▁\u001b[39m▁\u001b[39m▁\u001b[39m▁\u001b[39m▁\u001b[39m▁\u001b[39m▁\u001b[39m▁\u001b[39m▁\u001b[39m▁\u001b[39m▁\u001b[39m▁\u001b[39m▁\u001b[39m▁\u001b[39m▇\u001b[39m▇\u001b[39m \u001b[39m▁\n",
       "  464 ms\u001b[90m           Histogram: frequency by time\u001b[39m          487 ms \u001b[0m\u001b[1m<\u001b[22m\n",
       "\n",
       " Memory estimate\u001b[90m: \u001b[39m\u001b[33m208 bytes\u001b[39m, allocs estimate\u001b[90m: \u001b[39m\u001b[33m8\u001b[39m."
      ]
     },
     "metadata": {},
     "output_type": "display_data"
    }
   ],
   "source": [
    "py_hand = @benchmark $sum_py($a)"
   ]
  },
  {
   "cell_type": "code",
   "execution_count": 44,
   "metadata": {},
   "outputs": [
    {
     "data": {
      "text/plain": [
       "5.001585375763377e6"
      ]
     },
     "metadata": {},
     "output_type": "display_data"
    }
   ],
   "source": [
    "sum_py(a)"
   ]
  },
  {
   "cell_type": "code",
   "execution_count": 45,
   "metadata": {},
   "outputs": [
    {
     "data": {
      "text/plain": [
       "true"
      ]
     },
     "metadata": {},
     "output_type": "display_data"
    }
   ],
   "source": [
    "sum_py(a) ≈ sum(a)"
   ]
  },
  {
   "cell_type": "code",
   "execution_count": 46,
   "metadata": {
    "scrolled": true
   },
   "outputs": [
    {
     "data": {
      "text/plain": [
       "Dict{Any, Any} with 5 entries:\n",
       "  \"C\"                   => 8.56858\n",
       "  \"Python numpy\"        => 1.89592\n",
       "  \"Python hand-written\" => 463.886\n",
       "  \"Python built-in\"     => 416.256\n",
       "  \"C -ffast-math\"       => 1.24558"
      ]
     },
     "metadata": {},
     "output_type": "display_data"
    }
   ],
   "source": [
    "d[\"Python hand-written\"] = minimum(py_hand.times) / 1e6\n",
    "d"
   ]
  },
  {
   "cell_type": "markdown",
   "metadata": {},
   "source": [
    "# 6. Julia (built-in) \n",
    "\n",
    "## Written directly in Julia, not in C!"
   ]
  },
  {
   "cell_type": "code",
   "execution_count": 47,
   "metadata": {},
   "outputs": [
    {
     "data": {
      "text/html": [
       "sum(a::<b>AbstractArray</b>; <i>dims, kw...</i>) in Base at <a href=\"https://github.com/JuliaLang/julia/tree/760b2e5b7396f9cc0da5efce0cadd5d1974c4069/base/reducedim.jl#L982\" target=\"_blank\">reducedim.jl:982</a>"
      ],
      "text/plain": [
       "sum(\u001b[90ma\u001b[39m::\u001b[1mAbstractArray\u001b[22m; dims, kw...)\n",
       "\u001b[90m     @\u001b[39m \u001b[90mBase\u001b[39m \u001b[90m\u001b[4mreducedim.jl:982\u001b[24m\u001b[39m"
      ]
     },
     "metadata": {},
     "output_type": "display_data"
    }
   ],
   "source": [
    "@which sum(a)"
   ]
  },
  {
   "cell_type": "code",
   "execution_count": 48,
   "metadata": {},
   "outputs": [
    {
     "data": {
      "text/plain": [
       "BenchmarkTools.Trial: 3763 samples with 1 evaluation per sample.\n",
       " Range \u001b[90m(\u001b[39m\u001b[36m\u001b[1mmin\u001b[22m\u001b[39m … \u001b[35mmax\u001b[39m\u001b[90m):  \u001b[39m\u001b[36m\u001b[1m1.247 ms\u001b[22m\u001b[39m … \u001b[35m 1.683 ms\u001b[39m  \u001b[90m┊\u001b[39m GC \u001b[90m(\u001b[39mmin … max\u001b[90m): \u001b[39m0.00% … 0.00%\n",
       " Time  \u001b[90m(\u001b[39m\u001b[34m\u001b[1mmedian\u001b[22m\u001b[39m\u001b[90m):     \u001b[39m\u001b[34m\u001b[1m1.298 ms              \u001b[22m\u001b[39m\u001b[90m┊\u001b[39m GC \u001b[90m(\u001b[39mmedian\u001b[90m):    \u001b[39m0.00%\n",
       " Time  \u001b[90m(\u001b[39m\u001b[32m\u001b[1mmean\u001b[22m\u001b[39m ± \u001b[32mσ\u001b[39m\u001b[90m):   \u001b[39m\u001b[32m\u001b[1m1.323 ms\u001b[22m\u001b[39m ± \u001b[32m63.846 μs\u001b[39m  \u001b[90m┊\u001b[39m GC \u001b[90m(\u001b[39mmean ± σ\u001b[90m):  \u001b[39m0.00% ± 0.00%\n",
       "\n",
       "  \u001b[39m \u001b[39m \u001b[39m \u001b[39m \u001b[39m \u001b[39m▂\u001b[39m▇\u001b[39m█\u001b[39m▇\u001b[39m▄\u001b[34m▁\u001b[39m\u001b[39m▁\u001b[39m \u001b[39m \u001b[39m \u001b[32m \u001b[39m\u001b[39m \u001b[39m \u001b[39m \u001b[39m \u001b[39m \u001b[39m \u001b[39m \u001b[39m \u001b[39m \u001b[39m \u001b[39m \u001b[39m \u001b[39m \u001b[39m \u001b[39m \u001b[39m \u001b[39m \u001b[39m \u001b[39m \u001b[39m \u001b[39m \u001b[39m \u001b[39m \u001b[39m \u001b[39m \u001b[39m \u001b[39m \u001b[39m \u001b[39m \u001b[39m \u001b[39m \u001b[39m \u001b[39m \u001b[39m \u001b[39m \u001b[39m \u001b[39m \u001b[39m \u001b[39m \u001b[39m \u001b[39m \u001b[39m \u001b[39m \u001b[39m \n",
       "  \u001b[39m▂\u001b[39m▄\u001b[39m▄\u001b[39m▅\u001b[39m▇\u001b[39m█\u001b[39m█\u001b[39m█\u001b[39m█\u001b[39m█\u001b[34m█\u001b[39m\u001b[39m█\u001b[39m█\u001b[39m▆\u001b[39m▅\u001b[32m▄\u001b[39m\u001b[39m▄\u001b[39m▄\u001b[39m▄\u001b[39m▃\u001b[39m▃\u001b[39m▃\u001b[39m▃\u001b[39m▃\u001b[39m▃\u001b[39m▂\u001b[39m▃\u001b[39m▃\u001b[39m▂\u001b[39m▂\u001b[39m▂\u001b[39m▂\u001b[39m▂\u001b[39m▂\u001b[39m▂\u001b[39m▂\u001b[39m▂\u001b[39m▂\u001b[39m▂\u001b[39m▂\u001b[39m▂\u001b[39m▂\u001b[39m▂\u001b[39m▂\u001b[39m▂\u001b[39m▂\u001b[39m▂\u001b[39m▂\u001b[39m▂\u001b[39m▂\u001b[39m▁\u001b[39m▂\u001b[39m▂\u001b[39m▁\u001b[39m▁\u001b[39m▁\u001b[39m▁\u001b[39m▁\u001b[39m \u001b[39m▃\n",
       "  1.25 ms\u001b[90m        Histogram: frequency by time\u001b[39m        1.54 ms \u001b[0m\u001b[1m<\u001b[22m\n",
       "\n",
       " Memory estimate\u001b[90m: \u001b[39m\u001b[33m0 bytes\u001b[39m, allocs estimate\u001b[90m: \u001b[39m\u001b[33m0\u001b[39m."
      ]
     },
     "metadata": {},
     "output_type": "display_data"
    }
   ],
   "source": [
    "j_bench = @benchmark sum($a)"
   ]
  },
  {
   "cell_type": "code",
   "execution_count": 49,
   "metadata": {
    "scrolled": true
   },
   "outputs": [
    {
     "data": {
      "text/plain": [
       "Dict{Any, Any} with 6 entries:\n",
       "  \"C\"                   => 8.56858\n",
       "  \"Python numpy\"        => 1.89592\n",
       "  \"Python hand-written\" => 463.886\n",
       "  \"Python built-in\"     => 416.256\n",
       "  \"Julia built-in\"      => 1.24704\n",
       "  \"C -ffast-math\"       => 1.24558"
      ]
     },
     "metadata": {},
     "output_type": "display_data"
    }
   ],
   "source": [
    "d[\"Julia built-in\"] = minimum(j_bench.times) / 1e6\n",
    "d"
   ]
  },
  {
   "cell_type": "markdown",
   "metadata": {},
   "source": [
    "# 7. Julia (hand-written) "
   ]
  },
  {
   "cell_type": "code",
   "execution_count": 50,
   "metadata": {
    "scrolled": true
   },
   "outputs": [
    {
     "data": {
      "text/plain": [
       "mysum (generic function with 1 method)"
      ]
     },
     "metadata": {},
     "output_type": "display_data"
    }
   ],
   "source": [
    "function mysum(A)   \n",
    "    s = 0.0 # s = zero(eltype(a))\n",
    "    for a in A\n",
    "        s += a\n",
    "    end\n",
    "    s\n",
    "end"
   ]
  },
  {
   "cell_type": "code",
   "execution_count": 51,
   "metadata": {},
   "outputs": [
    {
     "data": {
      "text/plain": [
       "BenchmarkTools.Trial: 556 samples with 1 evaluation per sample.\n",
       " Range \u001b[90m(\u001b[39m\u001b[36m\u001b[1mmin\u001b[22m\u001b[39m … \u001b[35mmax\u001b[39m\u001b[90m):  \u001b[39m\u001b[36m\u001b[1m8.571 ms\u001b[22m\u001b[39m … \u001b[35m32.097 ms\u001b[39m  \u001b[90m┊\u001b[39m GC \u001b[90m(\u001b[39mmin … max\u001b[90m): \u001b[39m0.00% … 0.00%\n",
       " Time  \u001b[90m(\u001b[39m\u001b[34m\u001b[1mmedian\u001b[22m\u001b[39m\u001b[90m):     \u001b[39m\u001b[34m\u001b[1m8.786 ms              \u001b[22m\u001b[39m\u001b[90m┊\u001b[39m GC \u001b[90m(\u001b[39mmedian\u001b[90m):    \u001b[39m0.00%\n",
       " Time  \u001b[90m(\u001b[39m\u001b[32m\u001b[1mmean\u001b[22m\u001b[39m ± \u001b[32mσ\u001b[39m\u001b[90m):   \u001b[39m\u001b[32m\u001b[1m8.987 ms\u001b[22m\u001b[39m ± \u001b[32m 1.422 ms\u001b[39m  \u001b[90m┊\u001b[39m GC \u001b[90m(\u001b[39mmean ± σ\u001b[90m):  \u001b[39m0.00% ± 0.00%\n",
       "\n",
       "  \u001b[39m \u001b[39m \u001b[39m▆\u001b[39m█\u001b[39m█\u001b[39m▆\u001b[34m▂\u001b[39m\u001b[39m▁\u001b[39m \u001b[39m \u001b[39m \u001b[39m \u001b[32m \u001b[39m\u001b[39m \u001b[39m \u001b[39m \u001b[39m \u001b[39m \u001b[39m \u001b[39m \u001b[39m \u001b[39m \u001b[39m \u001b[39m \u001b[39m \u001b[39m \u001b[39m \u001b[39m \u001b[39m \u001b[39m \u001b[39m \u001b[39m \u001b[39m \u001b[39m \u001b[39m \u001b[39m \u001b[39m \u001b[39m \u001b[39m \u001b[39m \u001b[39m \u001b[39m \u001b[39m \u001b[39m \u001b[39m \u001b[39m \u001b[39m \u001b[39m \u001b[39m \u001b[39m \u001b[39m \u001b[39m \u001b[39m \u001b[39m \u001b[39m \u001b[39m \u001b[39m \u001b[39m \u001b[39m \u001b[39m \n",
       "  \u001b[39m▆\u001b[39m█\u001b[39m█\u001b[39m█\u001b[39m█\u001b[39m█\u001b[34m█\u001b[39m\u001b[39m█\u001b[39m█\u001b[39m█\u001b[39m▆\u001b[39m▆\u001b[32m▄\u001b[39m\u001b[39m▄\u001b[39m▄\u001b[39m▄\u001b[39m▃\u001b[39m▃\u001b[39m▅\u001b[39m▃\u001b[39m▃\u001b[39m▂\u001b[39m▄\u001b[39m▃\u001b[39m▄\u001b[39m▃\u001b[39m▃\u001b[39m▃\u001b[39m▂\u001b[39m▂\u001b[39m▁\u001b[39m▁\u001b[39m▂\u001b[39m▂\u001b[39m▂\u001b[39m▂\u001b[39m▂\u001b[39m▂\u001b[39m▂\u001b[39m▂\u001b[39m▁\u001b[39m▁\u001b[39m▁\u001b[39m▁\u001b[39m▂\u001b[39m▁\u001b[39m▁\u001b[39m▁\u001b[39m▂\u001b[39m▁\u001b[39m▁\u001b[39m▁\u001b[39m▁\u001b[39m▁\u001b[39m▁\u001b[39m▁\u001b[39m▁\u001b[39m▂\u001b[39m \u001b[39m▃\n",
       "  8.57 ms\u001b[90m        Histogram: frequency by time\u001b[39m        10.6 ms \u001b[0m\u001b[1m<\u001b[22m\n",
       "\n",
       " Memory estimate\u001b[90m: \u001b[39m\u001b[33m0 bytes\u001b[39m, allocs estimate\u001b[90m: \u001b[39m\u001b[33m0\u001b[39m."
      ]
     },
     "metadata": {},
     "output_type": "display_data"
    }
   ],
   "source": [
    "j_bench_hand = @benchmark mysum($a)"
   ]
  },
  {
   "cell_type": "code",
   "execution_count": 52,
   "metadata": {
    "scrolled": true
   },
   "outputs": [
    {
     "data": {
      "text/plain": [
       "Dict{Any, Any} with 7 entries:\n",
       "  \"C\"                   => 8.56858\n",
       "  \"Python numpy\"        => 1.89592\n",
       "  \"Julia hand-written\"  => 8.57062\n",
       "  \"Python hand-written\" => 463.886\n",
       "  \"Python built-in\"     => 416.256\n",
       "  \"Julia built-in\"      => 1.24704\n",
       "  \"C -ffast-math\"       => 1.24558"
      ]
     },
     "metadata": {},
     "output_type": "display_data"
    }
   ],
   "source": [
    "d[\"Julia hand-written\"] = minimum(j_bench_hand.times) / 1e6\n",
    "d"
   ]
  },
  {
   "cell_type": "markdown",
   "metadata": {},
   "source": [
    "# 8. Julia (hand-written w. simd) "
   ]
  },
  {
   "cell_type": "code",
   "execution_count": 53,
   "metadata": {},
   "outputs": [
    {
     "data": {
      "text/plain": [
       "mysum_simd (generic function with 1 method)"
      ]
     },
     "metadata": {},
     "output_type": "display_data"
    }
   ],
   "source": [
    "function mysum_simd(A)   \n",
    "    s = 0.0 # s = zero(eltype(A))\n",
    "    @simd for a in A\n",
    "        s += a\n",
    "    end\n",
    "    s\n",
    "end"
   ]
  },
  {
   "cell_type": "code",
   "execution_count": 54,
   "metadata": {},
   "outputs": [
    {
     "data": {
      "text/plain": [
       "BenchmarkTools.Trial: 3680 samples with 1 evaluation per sample.\n",
       " Range \u001b[90m(\u001b[39m\u001b[36m\u001b[1mmin\u001b[22m\u001b[39m … \u001b[35mmax\u001b[39m\u001b[90m):  \u001b[39m\u001b[36m\u001b[1m1.246 ms\u001b[22m\u001b[39m … \u001b[35m  7.766 ms\u001b[39m  \u001b[90m┊\u001b[39m GC \u001b[90m(\u001b[39mmin … max\u001b[90m): \u001b[39m0.00% … 0.00%\n",
       " Time  \u001b[90m(\u001b[39m\u001b[34m\u001b[1mmedian\u001b[22m\u001b[39m\u001b[90m):     \u001b[39m\u001b[34m\u001b[1m1.327 ms               \u001b[22m\u001b[39m\u001b[90m┊\u001b[39m GC \u001b[90m(\u001b[39mmedian\u001b[90m):    \u001b[39m0.00%\n",
       " Time  \u001b[90m(\u001b[39m\u001b[32m\u001b[1mmean\u001b[22m\u001b[39m ± \u001b[32mσ\u001b[39m\u001b[90m):   \u001b[39m\u001b[32m\u001b[1m1.352 ms\u001b[22m\u001b[39m ± \u001b[32m164.682 μs\u001b[39m  \u001b[90m┊\u001b[39m GC \u001b[90m(\u001b[39mmean ± σ\u001b[90m):  \u001b[39m0.00% ± 0.00%\n",
       "\n",
       "  \u001b[39m \u001b[39m▁\u001b[39m \u001b[39m \u001b[39m \u001b[39m▁\u001b[39m▁\u001b[39m▂\u001b[39m▁\u001b[39m▄\u001b[39m▇\u001b[39m█\u001b[34m█\u001b[39m\u001b[39m▇\u001b[39m▃\u001b[39m \u001b[32m \u001b[39m\u001b[39m \u001b[39m \u001b[39m \u001b[39m \u001b[39m \u001b[39m \u001b[39m \u001b[39m \u001b[39m \u001b[39m \u001b[39m \u001b[39m \u001b[39m \u001b[39m \u001b[39m \u001b[39m \u001b[39m \u001b[39m \u001b[39m \u001b[39m \u001b[39m \u001b[39m \u001b[39m \u001b[39m \u001b[39m \u001b[39m \u001b[39m \u001b[39m \u001b[39m \u001b[39m \u001b[39m \u001b[39m \u001b[39m \u001b[39m \u001b[39m \u001b[39m \u001b[39m \u001b[39m \u001b[39m \u001b[39m \u001b[39m \u001b[39m \u001b[39m \u001b[39m \n",
       "  \u001b[39m▆\u001b[39m█\u001b[39m▅\u001b[39m▇\u001b[39m▅\u001b[39m█\u001b[39m█\u001b[39m█\u001b[39m█\u001b[39m█\u001b[39m█\u001b[39m█\u001b[34m█\u001b[39m\u001b[39m█\u001b[39m█\u001b[39m█\u001b[32m▇\u001b[39m\u001b[39m▆\u001b[39m▆\u001b[39m▆\u001b[39m▅\u001b[39m▄\u001b[39m▄\u001b[39m▄\u001b[39m▄\u001b[39m▄\u001b[39m▄\u001b[39m▃\u001b[39m▃\u001b[39m▃\u001b[39m▃\u001b[39m▃\u001b[39m▃\u001b[39m▃\u001b[39m▃\u001b[39m▃\u001b[39m▃\u001b[39m▃\u001b[39m▃\u001b[39m▃\u001b[39m▃\u001b[39m▃\u001b[39m▃\u001b[39m▃\u001b[39m▃\u001b[39m▃\u001b[39m▃\u001b[39m▃\u001b[39m▂\u001b[39m▂\u001b[39m▂\u001b[39m▂\u001b[39m▂\u001b[39m▂\u001b[39m▂\u001b[39m▂\u001b[39m▂\u001b[39m▁\u001b[39m▂\u001b[39m \u001b[39m▄\n",
       "  1.25 ms\u001b[90m         Histogram: frequency by time\u001b[39m        1.64 ms \u001b[0m\u001b[1m<\u001b[22m\n",
       "\n",
       " Memory estimate\u001b[90m: \u001b[39m\u001b[33m0 bytes\u001b[39m, allocs estimate\u001b[90m: \u001b[39m\u001b[33m0\u001b[39m."
      ]
     },
     "metadata": {},
     "output_type": "display_data"
    }
   ],
   "source": [
    "j_bench_hand_simd = @benchmark mysum_simd($a)"
   ]
  },
  {
   "cell_type": "code",
   "execution_count": 55,
   "metadata": {},
   "outputs": [
    {
     "data": {
      "text/plain": [
       "5.001585375763154e6"
      ]
     },
     "metadata": {},
     "output_type": "display_data"
    }
   ],
   "source": [
    "mysum_simd(a)"
   ]
  },
  {
   "cell_type": "code",
   "execution_count": 56,
   "metadata": {
    "scrolled": true
   },
   "outputs": [
    {
     "data": {
      "text/plain": [
       "Dict{Any, Any} with 8 entries:\n",
       "  \"Julia hand-written simd\" => 1.24625\n",
       "  \"C\"                       => 8.56858\n",
       "  \"Python numpy\"            => 1.89592\n",
       "  \"Julia hand-written\"      => 8.57062\n",
       "  \"Python hand-written\"     => 463.886\n",
       "  \"Python built-in\"         => 416.256\n",
       "  \"Julia built-in\"          => 1.24704\n",
       "  \"C -ffast-math\"           => 1.24558"
      ]
     },
     "metadata": {},
     "output_type": "display_data"
    }
   ],
   "source": [
    "d[\"Julia hand-written simd\"] = minimum(j_bench_hand_simd.times) / 1e6\n",
    "d"
   ]
  },
  {
   "cell_type": "markdown",
   "metadata": {},
   "source": [
    "# Summary"
   ]
  },
  {
   "cell_type": "code",
   "execution_count": 57,
   "metadata": {
    "scrolled": true
   },
   "outputs": [
    {
     "name": "stdout",
     "output_type": "stream",
     "text": [
      "C -ffast-math...............1.2\n",
      "Julia hand-written simd.....1.2\n",
      "Julia built-in..............1.2\n",
      "Python numpy................1.9\n",
      "C...........................8.6\n",
      "Julia hand-written..........8.6\n",
      "Python built-in...........416.3\n",
      "Python hand-written.......463.9\n"
     ]
    }
   ],
   "source": [
    "for (key, value) in sort(collect(d), by=last)\n",
    "    println(rpad(key, 25, \".\"), lpad(round(value; digits=1), 6, \".\"))\n",
    "end"
   ]
  },
  {
   "cell_type": "code",
   "execution_count": null,
   "metadata": {},
   "outputs": [],
   "source": []
  }
 ],
 "metadata": {
  "anaconda-cloud": {},
  "kernelspec": {
   "display_name": "Julia 1.11.5",
   "language": "julia",
   "name": "julia-1.11"
  },
  "language_info": {
   "file_extension": ".jl",
   "mimetype": "application/julia",
   "name": "julia",
   "version": "1.11.5"
  },
  "toc": {
   "colors": {
    "hover_highlight": "#DAA520",
    "running_highlight": "#FF0000",
    "selected_highlight": "#FFD700"
   },
   "moveMenuLeft": true,
   "nav_menu": {
    "height": "212px",
    "width": "252px"
   },
   "navigate_menu": true,
   "number_sections": true,
   "sideBar": true,
   "threshold": "2",
   "toc_cell": false,
   "toc_section_display": "block",
   "toc_window_display": false
  }
 },
 "nbformat": 4,
 "nbformat_minor": 4
}
